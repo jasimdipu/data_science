{
 "cells": [
  {
   "cell_type": "code",
   "execution_count": 2,
   "metadata": {},
   "outputs": [],
   "source": [
    "import pandas as pd\n",
    "import numpy as np\n",
    "import seaborn as sns\n",
    "import matplotlib.pyplot as plt\n",
    "%matplotlib inline"
   ]
  },
  {
   "cell_type": "code",
   "execution_count": 5,
   "metadata": {},
   "outputs": [
    {
     "data": {
      "text/html": [
       "        <script type=\"text/javascript\">\n",
       "        window.PlotlyConfig = {MathJaxConfig: 'local'};\n",
       "        if (window.MathJax) {MathJax.Hub.Config({SVG: {font: \"STIX-Web\"}});}\n",
       "        if (typeof require !== 'undefined') {\n",
       "        require.undef(\"plotly\");\n",
       "        requirejs.config({\n",
       "            paths: {\n",
       "                'plotly': ['https://cdn.plot.ly/plotly-latest.min']\n",
       "            }\n",
       "        });\n",
       "        require(['plotly'], function(Plotly) {\n",
       "            window._Plotly = Plotly;\n",
       "        });\n",
       "        }\n",
       "        </script>\n",
       "        "
      ]
     },
     "metadata": {},
     "output_type": "display_data"
    }
   ],
   "source": [
    "from collections import Counter\n",
    "from plotly.offline import init_notebook_mode, iplot\n",
    "init_notebook_mode(connected=True)"
   ]
  },
  {
   "cell_type": "markdown",
   "metadata": {},
   "source": [
    "# Collect the data into a DataFrame"
   ]
  },
  {
   "cell_type": "code",
   "execution_count": 3,
   "metadata": {},
   "outputs": [],
   "source": [
    "df = pd.read_csv(\"athlete_events.csv\")"
   ]
  },
  {
   "cell_type": "code",
   "execution_count": 4,
   "metadata": {},
   "outputs": [
    {
     "data": {
      "text/html": [
       "<div>\n",
       "<style scoped>\n",
       "    .dataframe tbody tr th:only-of-type {\n",
       "        vertical-align: middle;\n",
       "    }\n",
       "\n",
       "    .dataframe tbody tr th {\n",
       "        vertical-align: top;\n",
       "    }\n",
       "\n",
       "    .dataframe thead th {\n",
       "        text-align: right;\n",
       "    }\n",
       "</style>\n",
       "<table border=\"1\" class=\"dataframe\">\n",
       "  <thead>\n",
       "    <tr style=\"text-align: right;\">\n",
       "      <th></th>\n",
       "      <th>ID</th>\n",
       "      <th>Name</th>\n",
       "      <th>Sex</th>\n",
       "      <th>Age</th>\n",
       "      <th>Height</th>\n",
       "      <th>Weight</th>\n",
       "      <th>Team</th>\n",
       "      <th>NOC</th>\n",
       "      <th>Games</th>\n",
       "      <th>Year</th>\n",
       "      <th>Season</th>\n",
       "      <th>City</th>\n",
       "      <th>Sport</th>\n",
       "      <th>Event</th>\n",
       "      <th>Medal</th>\n",
       "    </tr>\n",
       "  </thead>\n",
       "  <tbody>\n",
       "    <tr>\n",
       "      <th>0</th>\n",
       "      <td>1</td>\n",
       "      <td>A Dijiang</td>\n",
       "      <td>M</td>\n",
       "      <td>24.0</td>\n",
       "      <td>180.0</td>\n",
       "      <td>80.0</td>\n",
       "      <td>China</td>\n",
       "      <td>CHN</td>\n",
       "      <td>1992 Summer</td>\n",
       "      <td>1992</td>\n",
       "      <td>Summer</td>\n",
       "      <td>Barcelona</td>\n",
       "      <td>Basketball</td>\n",
       "      <td>Basketball Men's Basketball</td>\n",
       "      <td>NaN</td>\n",
       "    </tr>\n",
       "    <tr>\n",
       "      <th>1</th>\n",
       "      <td>2</td>\n",
       "      <td>A Lamusi</td>\n",
       "      <td>M</td>\n",
       "      <td>23.0</td>\n",
       "      <td>170.0</td>\n",
       "      <td>60.0</td>\n",
       "      <td>China</td>\n",
       "      <td>CHN</td>\n",
       "      <td>2012 Summer</td>\n",
       "      <td>2012</td>\n",
       "      <td>Summer</td>\n",
       "      <td>London</td>\n",
       "      <td>Judo</td>\n",
       "      <td>Judo Men's Extra-Lightweight</td>\n",
       "      <td>NaN</td>\n",
       "    </tr>\n",
       "    <tr>\n",
       "      <th>2</th>\n",
       "      <td>3</td>\n",
       "      <td>Gunnar Nielsen Aaby</td>\n",
       "      <td>M</td>\n",
       "      <td>24.0</td>\n",
       "      <td>NaN</td>\n",
       "      <td>NaN</td>\n",
       "      <td>Denmark</td>\n",
       "      <td>DEN</td>\n",
       "      <td>1920 Summer</td>\n",
       "      <td>1920</td>\n",
       "      <td>Summer</td>\n",
       "      <td>Antwerpen</td>\n",
       "      <td>Football</td>\n",
       "      <td>Football Men's Football</td>\n",
       "      <td>NaN</td>\n",
       "    </tr>\n",
       "    <tr>\n",
       "      <th>3</th>\n",
       "      <td>4</td>\n",
       "      <td>Edgar Lindenau Aabye</td>\n",
       "      <td>M</td>\n",
       "      <td>34.0</td>\n",
       "      <td>NaN</td>\n",
       "      <td>NaN</td>\n",
       "      <td>Denmark/Sweden</td>\n",
       "      <td>DEN</td>\n",
       "      <td>1900 Summer</td>\n",
       "      <td>1900</td>\n",
       "      <td>Summer</td>\n",
       "      <td>Paris</td>\n",
       "      <td>Tug-Of-War</td>\n",
       "      <td>Tug-Of-War Men's Tug-Of-War</td>\n",
       "      <td>Gold</td>\n",
       "    </tr>\n",
       "    <tr>\n",
       "      <th>4</th>\n",
       "      <td>5</td>\n",
       "      <td>Christine Jacoba Aaftink</td>\n",
       "      <td>F</td>\n",
       "      <td>21.0</td>\n",
       "      <td>185.0</td>\n",
       "      <td>82.0</td>\n",
       "      <td>Netherlands</td>\n",
       "      <td>NED</td>\n",
       "      <td>1988 Winter</td>\n",
       "      <td>1988</td>\n",
       "      <td>Winter</td>\n",
       "      <td>Calgary</td>\n",
       "      <td>Speed Skating</td>\n",
       "      <td>Speed Skating Women's 500 metres</td>\n",
       "      <td>NaN</td>\n",
       "    </tr>\n",
       "    <tr>\n",
       "      <th>5</th>\n",
       "      <td>5</td>\n",
       "      <td>Christine Jacoba Aaftink</td>\n",
       "      <td>F</td>\n",
       "      <td>21.0</td>\n",
       "      <td>185.0</td>\n",
       "      <td>82.0</td>\n",
       "      <td>Netherlands</td>\n",
       "      <td>NED</td>\n",
       "      <td>1988 Winter</td>\n",
       "      <td>1988</td>\n",
       "      <td>Winter</td>\n",
       "      <td>Calgary</td>\n",
       "      <td>Speed Skating</td>\n",
       "      <td>Speed Skating Women's 1,000 metres</td>\n",
       "      <td>NaN</td>\n",
       "    </tr>\n",
       "    <tr>\n",
       "      <th>6</th>\n",
       "      <td>5</td>\n",
       "      <td>Christine Jacoba Aaftink</td>\n",
       "      <td>F</td>\n",
       "      <td>25.0</td>\n",
       "      <td>185.0</td>\n",
       "      <td>82.0</td>\n",
       "      <td>Netherlands</td>\n",
       "      <td>NED</td>\n",
       "      <td>1992 Winter</td>\n",
       "      <td>1992</td>\n",
       "      <td>Winter</td>\n",
       "      <td>Albertville</td>\n",
       "      <td>Speed Skating</td>\n",
       "      <td>Speed Skating Women's 500 metres</td>\n",
       "      <td>NaN</td>\n",
       "    </tr>\n",
       "    <tr>\n",
       "      <th>7</th>\n",
       "      <td>5</td>\n",
       "      <td>Christine Jacoba Aaftink</td>\n",
       "      <td>F</td>\n",
       "      <td>25.0</td>\n",
       "      <td>185.0</td>\n",
       "      <td>82.0</td>\n",
       "      <td>Netherlands</td>\n",
       "      <td>NED</td>\n",
       "      <td>1992 Winter</td>\n",
       "      <td>1992</td>\n",
       "      <td>Winter</td>\n",
       "      <td>Albertville</td>\n",
       "      <td>Speed Skating</td>\n",
       "      <td>Speed Skating Women's 1,000 metres</td>\n",
       "      <td>NaN</td>\n",
       "    </tr>\n",
       "    <tr>\n",
       "      <th>8</th>\n",
       "      <td>5</td>\n",
       "      <td>Christine Jacoba Aaftink</td>\n",
       "      <td>F</td>\n",
       "      <td>27.0</td>\n",
       "      <td>185.0</td>\n",
       "      <td>82.0</td>\n",
       "      <td>Netherlands</td>\n",
       "      <td>NED</td>\n",
       "      <td>1994 Winter</td>\n",
       "      <td>1994</td>\n",
       "      <td>Winter</td>\n",
       "      <td>Lillehammer</td>\n",
       "      <td>Speed Skating</td>\n",
       "      <td>Speed Skating Women's 500 metres</td>\n",
       "      <td>NaN</td>\n",
       "    </tr>\n",
       "    <tr>\n",
       "      <th>9</th>\n",
       "      <td>5</td>\n",
       "      <td>Christine Jacoba Aaftink</td>\n",
       "      <td>F</td>\n",
       "      <td>27.0</td>\n",
       "      <td>185.0</td>\n",
       "      <td>82.0</td>\n",
       "      <td>Netherlands</td>\n",
       "      <td>NED</td>\n",
       "      <td>1994 Winter</td>\n",
       "      <td>1994</td>\n",
       "      <td>Winter</td>\n",
       "      <td>Lillehammer</td>\n",
       "      <td>Speed Skating</td>\n",
       "      <td>Speed Skating Women's 1,000 metres</td>\n",
       "      <td>NaN</td>\n",
       "    </tr>\n",
       "  </tbody>\n",
       "</table>\n",
       "</div>"
      ],
      "text/plain": [
       "   ID                      Name Sex   Age  Height  Weight            Team  \\\n",
       "0   1                 A Dijiang   M  24.0   180.0    80.0           China   \n",
       "1   2                  A Lamusi   M  23.0   170.0    60.0           China   \n",
       "2   3       Gunnar Nielsen Aaby   M  24.0     NaN     NaN         Denmark   \n",
       "3   4      Edgar Lindenau Aabye   M  34.0     NaN     NaN  Denmark/Sweden   \n",
       "4   5  Christine Jacoba Aaftink   F  21.0   185.0    82.0     Netherlands   \n",
       "5   5  Christine Jacoba Aaftink   F  21.0   185.0    82.0     Netherlands   \n",
       "6   5  Christine Jacoba Aaftink   F  25.0   185.0    82.0     Netherlands   \n",
       "7   5  Christine Jacoba Aaftink   F  25.0   185.0    82.0     Netherlands   \n",
       "8   5  Christine Jacoba Aaftink   F  27.0   185.0    82.0     Netherlands   \n",
       "9   5  Christine Jacoba Aaftink   F  27.0   185.0    82.0     Netherlands   \n",
       "\n",
       "   NOC        Games  Year  Season         City          Sport  \\\n",
       "0  CHN  1992 Summer  1992  Summer    Barcelona     Basketball   \n",
       "1  CHN  2012 Summer  2012  Summer       London           Judo   \n",
       "2  DEN  1920 Summer  1920  Summer    Antwerpen       Football   \n",
       "3  DEN  1900 Summer  1900  Summer        Paris     Tug-Of-War   \n",
       "4  NED  1988 Winter  1988  Winter      Calgary  Speed Skating   \n",
       "5  NED  1988 Winter  1988  Winter      Calgary  Speed Skating   \n",
       "6  NED  1992 Winter  1992  Winter  Albertville  Speed Skating   \n",
       "7  NED  1992 Winter  1992  Winter  Albertville  Speed Skating   \n",
       "8  NED  1994 Winter  1994  Winter  Lillehammer  Speed Skating   \n",
       "9  NED  1994 Winter  1994  Winter  Lillehammer  Speed Skating   \n",
       "\n",
       "                                Event Medal  \n",
       "0         Basketball Men's Basketball   NaN  \n",
       "1        Judo Men's Extra-Lightweight   NaN  \n",
       "2             Football Men's Football   NaN  \n",
       "3         Tug-Of-War Men's Tug-Of-War  Gold  \n",
       "4    Speed Skating Women's 500 metres   NaN  \n",
       "5  Speed Skating Women's 1,000 metres   NaN  \n",
       "6    Speed Skating Women's 500 metres   NaN  \n",
       "7  Speed Skating Women's 1,000 metres   NaN  \n",
       "8    Speed Skating Women's 500 metres   NaN  \n",
       "9  Speed Skating Women's 1,000 metres   NaN  "
      ]
     },
     "execution_count": 4,
     "metadata": {},
     "output_type": "execute_result"
    }
   ],
   "source": [
    "df.head(10)"
   ]
  },
  {
   "cell_type": "code",
   "execution_count": 7,
   "metadata": {},
   "outputs": [
    {
     "data": {
      "text/plain": [
       "(271116, 15)"
      ]
     },
     "execution_count": 7,
     "metadata": {},
     "output_type": "execute_result"
    }
   ],
   "source": [
    "df.shape"
   ]
  },
  {
   "cell_type": "code",
   "execution_count": 6,
   "metadata": {},
   "outputs": [
    {
     "data": {
      "text/html": [
       "<div>\n",
       "<style scoped>\n",
       "    .dataframe tbody tr th:only-of-type {\n",
       "        vertical-align: middle;\n",
       "    }\n",
       "\n",
       "    .dataframe tbody tr th {\n",
       "        vertical-align: top;\n",
       "    }\n",
       "\n",
       "    .dataframe thead th {\n",
       "        text-align: right;\n",
       "    }\n",
       "</style>\n",
       "<table border=\"1\" class=\"dataframe\">\n",
       "  <thead>\n",
       "    <tr style=\"text-align: right;\">\n",
       "      <th></th>\n",
       "      <th>count</th>\n",
       "      <th>mean</th>\n",
       "      <th>std</th>\n",
       "      <th>min</th>\n",
       "      <th>25%</th>\n",
       "      <th>50%</th>\n",
       "      <th>75%</th>\n",
       "      <th>max</th>\n",
       "    </tr>\n",
       "  </thead>\n",
       "  <tbody>\n",
       "    <tr>\n",
       "      <th>ID</th>\n",
       "      <td>271116.0</td>\n",
       "      <td>68248.954396</td>\n",
       "      <td>39022.286345</td>\n",
       "      <td>1.0</td>\n",
       "      <td>34643.0</td>\n",
       "      <td>68205.0</td>\n",
       "      <td>102097.25</td>\n",
       "      <td>135571.0</td>\n",
       "    </tr>\n",
       "    <tr>\n",
       "      <th>Age</th>\n",
       "      <td>261642.0</td>\n",
       "      <td>25.556898</td>\n",
       "      <td>6.393561</td>\n",
       "      <td>10.0</td>\n",
       "      <td>21.0</td>\n",
       "      <td>24.0</td>\n",
       "      <td>28.00</td>\n",
       "      <td>97.0</td>\n",
       "    </tr>\n",
       "    <tr>\n",
       "      <th>Height</th>\n",
       "      <td>210945.0</td>\n",
       "      <td>175.338970</td>\n",
       "      <td>10.518462</td>\n",
       "      <td>127.0</td>\n",
       "      <td>168.0</td>\n",
       "      <td>175.0</td>\n",
       "      <td>183.00</td>\n",
       "      <td>226.0</td>\n",
       "    </tr>\n",
       "    <tr>\n",
       "      <th>Weight</th>\n",
       "      <td>208241.0</td>\n",
       "      <td>70.702393</td>\n",
       "      <td>14.348020</td>\n",
       "      <td>25.0</td>\n",
       "      <td>60.0</td>\n",
       "      <td>70.0</td>\n",
       "      <td>79.00</td>\n",
       "      <td>214.0</td>\n",
       "    </tr>\n",
       "    <tr>\n",
       "      <th>Year</th>\n",
       "      <td>271116.0</td>\n",
       "      <td>1978.378480</td>\n",
       "      <td>29.877632</td>\n",
       "      <td>1896.0</td>\n",
       "      <td>1960.0</td>\n",
       "      <td>1988.0</td>\n",
       "      <td>2002.00</td>\n",
       "      <td>2016.0</td>\n",
       "    </tr>\n",
       "  </tbody>\n",
       "</table>\n",
       "</div>"
      ],
      "text/plain": [
       "           count          mean           std     min      25%      50%  \\\n",
       "ID      271116.0  68248.954396  39022.286345     1.0  34643.0  68205.0   \n",
       "Age     261642.0     25.556898      6.393561    10.0     21.0     24.0   \n",
       "Height  210945.0    175.338970     10.518462   127.0    168.0    175.0   \n",
       "Weight  208241.0     70.702393     14.348020    25.0     60.0     70.0   \n",
       "Year    271116.0   1978.378480     29.877632  1896.0   1960.0   1988.0   \n",
       "\n",
       "              75%       max  \n",
       "ID      102097.25  135571.0  \n",
       "Age         28.00      97.0  \n",
       "Height     183.00     226.0  \n",
       "Weight      79.00     214.0  \n",
       "Year      2002.00    2016.0  "
      ]
     },
     "execution_count": 6,
     "metadata": {},
     "output_type": "execute_result"
    }
   ],
   "source": [
    "df.describe().T"
   ]
  },
  {
   "cell_type": "code",
   "execution_count": 10,
   "metadata": {},
   "outputs": [
    {
     "name": "stdout",
     "output_type": "stream",
     "text": [
      "<class 'pandas.core.frame.DataFrame'>\n",
      "RangeIndex: 271116 entries, 0 to 271115\n",
      "Data columns (total 15 columns):\n",
      " #   Column  Non-Null Count   Dtype  \n",
      "---  ------  --------------   -----  \n",
      " 0   ID      271116 non-null  int64  \n",
      " 1   Name    271116 non-null  object \n",
      " 2   Sex     271116 non-null  object \n",
      " 3   Age     261642 non-null  float64\n",
      " 4   Height  210945 non-null  float64\n",
      " 5   Weight  208241 non-null  float64\n",
      " 6   Team    271116 non-null  object \n",
      " 7   NOC     271116 non-null  object \n",
      " 8   Games   271116 non-null  object \n",
      " 9   Year    271116 non-null  int64  \n",
      " 10  Season  271116 non-null  object \n",
      " 11  City    271116 non-null  object \n",
      " 12  Sport   271116 non-null  object \n",
      " 13  Event   271116 non-null  object \n",
      " 14  Medal   39783 non-null   object \n",
      "dtypes: float64(3), int64(2), object(10)\n",
      "memory usage: 31.0+ MB\n"
     ]
    }
   ],
   "source": [
    "df.info()"
   ]
  },
  {
   "cell_type": "markdown",
   "metadata": {},
   "source": [
    "This dataset contains athletes information in Olympic games from 1896 to 2016. There are 271116 rows and 15 columns which contaings informatoin about athletes."
   ]
  },
  {
   "cell_type": "code",
   "execution_count": 8,
   "metadata": {},
   "outputs": [
    {
     "data": {
      "text/plain": [
       "Index(['ID', 'Name', 'Sex', 'Age', 'Height', 'Weight', 'Team', 'NOC', 'Games',\n",
       "       'Year', 'Season', 'City', 'Sport', 'Event', 'Medal'],\n",
       "      dtype='object')"
      ]
     },
     "execution_count": 8,
     "metadata": {},
     "output_type": "execute_result"
    }
   ],
   "source": [
    "#let's find out the only column name\n",
    "df.columns"
   ]
  },
  {
   "cell_type": "markdown",
   "metadata": {},
   "source": [
    "# Corelation of the datasets"
   ]
  },
  {
   "cell_type": "code",
   "execution_count": 12,
   "metadata": {},
   "outputs": [
    {
     "data": {
      "text/html": [
       "<div>\n",
       "<style scoped>\n",
       "    .dataframe tbody tr th:only-of-type {\n",
       "        vertical-align: middle;\n",
       "    }\n",
       "\n",
       "    .dataframe tbody tr th {\n",
       "        vertical-align: top;\n",
       "    }\n",
       "\n",
       "    .dataframe thead th {\n",
       "        text-align: right;\n",
       "    }\n",
       "</style>\n",
       "<table border=\"1\" class=\"dataframe\">\n",
       "  <thead>\n",
       "    <tr style=\"text-align: right;\">\n",
       "      <th></th>\n",
       "      <th>ID</th>\n",
       "      <th>Age</th>\n",
       "      <th>Height</th>\n",
       "      <th>Weight</th>\n",
       "      <th>Year</th>\n",
       "    </tr>\n",
       "  </thead>\n",
       "  <tbody>\n",
       "    <tr>\n",
       "      <th>ID</th>\n",
       "      <td>1.000000</td>\n",
       "      <td>-0.003631</td>\n",
       "      <td>-0.011141</td>\n",
       "      <td>-0.009176</td>\n",
       "      <td>0.011885</td>\n",
       "    </tr>\n",
       "    <tr>\n",
       "      <th>Age</th>\n",
       "      <td>-0.003631</td>\n",
       "      <td>1.000000</td>\n",
       "      <td>0.138246</td>\n",
       "      <td>0.212069</td>\n",
       "      <td>-0.115137</td>\n",
       "    </tr>\n",
       "    <tr>\n",
       "      <th>Height</th>\n",
       "      <td>-0.011141</td>\n",
       "      <td>0.138246</td>\n",
       "      <td>1.000000</td>\n",
       "      <td>0.796213</td>\n",
       "      <td>0.047578</td>\n",
       "    </tr>\n",
       "    <tr>\n",
       "      <th>Weight</th>\n",
       "      <td>-0.009176</td>\n",
       "      <td>0.212069</td>\n",
       "      <td>0.796213</td>\n",
       "      <td>1.000000</td>\n",
       "      <td>0.019095</td>\n",
       "    </tr>\n",
       "    <tr>\n",
       "      <th>Year</th>\n",
       "      <td>0.011885</td>\n",
       "      <td>-0.115137</td>\n",
       "      <td>0.047578</td>\n",
       "      <td>0.019095</td>\n",
       "      <td>1.000000</td>\n",
       "    </tr>\n",
       "  </tbody>\n",
       "</table>\n",
       "</div>"
      ],
      "text/plain": [
       "              ID       Age    Height    Weight      Year\n",
       "ID      1.000000 -0.003631 -0.011141 -0.009176  0.011885\n",
       "Age    -0.003631  1.000000  0.138246  0.212069 -0.115137\n",
       "Height -0.011141  0.138246  1.000000  0.796213  0.047578\n",
       "Weight -0.009176  0.212069  0.796213  1.000000  0.019095\n",
       "Year    0.011885 -0.115137  0.047578  0.019095  1.000000"
      ]
     },
     "execution_count": 12,
     "metadata": {},
     "output_type": "execute_result"
    }
   ],
   "source": [
    "#.corr() shows correlations between features in data. To see it clearly, we will use heatmap\n",
    "df.corr()"
   ]
  },
  {
   "cell_type": "markdown",
   "metadata": {},
   "source": [
    "# let's show the corelation on heatmap"
   ]
  },
  {
   "cell_type": "code",
   "execution_count": 15,
   "metadata": {},
   "outputs": [
    {
     "data": {
      "text/plain": [
       "<matplotlib.axes._subplots.AxesSubplot at 0x1bbce93be80>"
      ]
     },
     "execution_count": 15,
     "metadata": {},
     "output_type": "execute_result"
    },
    {
     "data": {
      "image/png": "[encoded data removed]",
      "text/plain": [
       "<Figure size 432x288 with 2 Axes>"
      ]
     },
     "metadata": {
      "needs_background": "light"
     },
     "output_type": "display_data"
    }
   ],
   "source": [
    "sns.heatmap(df.corr(),annot=True,fmt=\".5f\") "
   ]
  },
  {
   "cell_type": "markdown",
   "metadata": {},
   "source": [
    "### There is one obvious correlation which is between height and weight."
   ]
  },
  {
   "cell_type": "code",
   "execution_count": null,
   "metadata": {},
   "outputs": [],
   "source": [
    "# this is variety of games increased by the time. we will use horizantal barplot for this."
   ]
  },
  {
   "cell_type": "code",
   "execution_count": 16,
   "metadata": {},
   "outputs": [
    {
     "data": {
      "image/png": "[encoded data removed]",
      "text/plain": [
       "<Figure size 1080x1080 with 1 Axes>"
      ]
     },
     "metadata": {
      "needs_background": "light"
     },
     "output_type": "display_data"
    }
   ],
   "source": [
    "df_copy=df[[\"Year\",\"Sport\"]]\n",
    "years=df[\"Year\"].unique()\n",
    "sports=[]\n",
    "for y in years:\n",
    "    sports.append(len(df[df[\"Year\"]==y][\"Sport\"].unique()))\n",
    "sports_and_year=pd.DataFrame({\"Year\":years,\"Number of Sport\":sports})\n",
    "sorted_data=sports_and_year.sort_values(by=\"Year\",ascending=True).reset_index(drop=True)\n",
    "\n",
    "#Visualizing\n",
    "sorted_data.plot(kind=\"barh\",x=\"Year\",y=\"Number of Sport\",figsize=(15,15),cmap=\"viridis\",legend=False)\n",
    "plt.xlabel(\"Number of Sports\")\n",
    "plt.title(\"Variety of Sports with Respect to Year\")\n",
    "plt.show()\n",
    "# We can see there is an dramatic increate till 1992 after that there is an olympic competiton in every two year"
   ]
  },
  {
   "cell_type": "code",
   "execution_count": null,
   "metadata": {},
   "outputs": [],
   "source": []
  },
  {
   "cell_type": "markdown",
   "metadata": {},
   "source": [
    "# Number of Males and Females in Each Year"
   ]
  },
  {
   "cell_type": "code",
   "execution_count": 17,
   "metadata": {},
   "outputs": [
    {
     "data": {
      "image/png": "[encoded data removed]",
      "text/plain": [
       "<Figure size 1440x1440 with 1 Axes>"
      ]
     },
     "metadata": {
      "needs_background": "light"
     },
     "output_type": "display_data"
    }
   ],
   "source": [
    "year_sex=df[[\"Year\",\"Sex\"]]\n",
    "sex_counter={\"Year\":[],\"Gender\":[],\"Number\":[]}\n",
    "for i in years:\n",
    "    males=year_sex[(year_sex[\"Year\"]==i)&(year_sex[\"Sex\"]==\"M\")].Sex.count()\n",
    "    sex_counter[\"Gender\"].append(\"Male\")\n",
    "    sex_counter[\"Number\"].append(males)\n",
    "    sex_counter[\"Year\"].append(i)\n",
    "    females=year_sex[(year_sex[\"Year\"]==i)&(year_sex[\"Sex\"]==\"F\")].Sex.count()\n",
    "    sex_counter[\"Gender\"].append(\"Female\")\n",
    "    sex_counter[\"Number\"].append(females)\n",
    "    sex_counter[\"Year\"].append(i)\n",
    "sex_data=pd.DataFrame(sex_counter)\n",
    "\n",
    "\n",
    "#Visualizing Data\n",
    "\n",
    "plt.figure(figsize=(20,20))\n",
    "sns.barplot(data=sex_data,x=\"Year\",y=\"Number\",hue=\"Gender\")\n",
    "plt.legend(fontsize=20,loc=\"upper left\")\n",
    "\n",
    "plt.xlabel(\"Year\",color=\"c\",size=15)\n",
    "plt.ylabel(\"Number\",color=\"c\",size=15)\n",
    "plt.xticks(rotation=90)\n",
    "plt.grid()\n",
    "plt.title(\"Number of Athletes in each Year with respect to Sex\",color=\"c\",size=15)\n",
    "plt.show()"
   ]
  },
  {
   "cell_type": "markdown",
   "metadata": {},
   "source": [
    "#### We can see that number of females are increased till 1992. After that,olympics are made in every 2 years.\n",
    "#### In 1994-1998-2002-2006-2010-2014 olympics, there is a clear trend that shows increase in number of females.In 1992-1996-2000-2004-2008-1012-2012 olympics which are more crowded, number of females is mostly increased"
   ]
  },
  {
   "cell_type": "code",
   "execution_count": null,
   "metadata": {},
   "outputs": [],
   "source": []
  },
  {
   "cell_type": "markdown",
   "metadata": {},
   "source": [
    "# Number of Medals that Countries Have Each Year"
   ]
  },
  {
   "cell_type": "code",
   "execution_count": 22,
   "metadata": {},
   "outputs": [
    {
     "name": "stderr",
     "output_type": "stream",
     "text": [
      "<ipython-input-22-2e21348467d5>:4: SettingWithCopyWarning:\n",
      "\n",
      "\n",
      "A value is trying to be set on a copy of a slice from a DataFrame.\n",
      "Try using .loc[row_indexer,col_indexer] = value instead\n",
      "\n",
      "See the caveats in the documentation: https://pandas.pydata.org/pandas-docs/stable/user_guide/indexing.html#returning-a-view-versus-a-copy\n",
      "\n"
     ]
    }
   ],
   "source": [
    "#Preparing Data\n",
    "df[\"Medal\"]=df[\"Medal\"].fillna(value=0,axis=0)#Filling Nan values in medals as 0\n",
    "df_copy=df[[\"Year\",\"Team\",\"Medal\"]]\n",
    "df_copy[\"Medal\"]=[1 if (i==\"Gold\" or i==\"Silver\" or i==\"Bronze\" )else 0 for i in df_copy[\"Medal\"]]\n",
    "\n",
    "date=[]\n",
    "teams=[]\n",
    "medals=[]\n",
    "for i in years:\n",
    "    countries=list(df_copy[df_copy[\"Year\"]==i][\"Team\"].unique())\n",
    "    for c in  countries:\n",
    "        total=df_copy[(df_copy[\"Team\"]==c)&(df_copy[\"Year\"]==i)].Medal.sum()\n",
    "        medals.append(total)\n",
    "        date.append(i)\n",
    "        teams.append(c)"
   ]
  },
  {
   "cell_type": "code",
   "execution_count": 23,
   "metadata": {},
   "outputs": [
    {
     "data": {
      "application/vnd.plotly.v1+json": {
       "config": {
        "plotlyServerURL": "https://plot.ly"
       },
       "data": [
        {
         "alignmentgroup": "True",
         "hovertemplate": "Year=2016<br>Team=%{x}<br>Medals=%{marker.color}<extra></extra>",
         "ids": [
          "United States",
          "Germany",
          "Great Britain",
          "Russia",
          "China",
          "France",
          "Australia",
          "Italy",
          "Canada",
          "Japan",
          "Serbia",
          "Brazil",
          "Netherlands",
          "Spain",
          "Denmark",
          "New Zealand",
          "Jamaica",
          "Sweden",
          "South Korea",
          "Croatia",
          "South Africa",
          "Argentina",
          "Hungary",
          "Belgium",
          "Norway",
          "Azerbaijan",
          "Kazakhstan",
          "Nigeria",
          "Romania",
          "Poland",
          "Ukraine",
          "Uzbekistan",
          "Kenya",
          "Czech Republic",
          "Fiji",
          "Belarus",
          "Switzerland",
          "Cuba",
          "Iran",
          "Ethiopia",
          "Colombia",
          "Turkey",
          "Malaysia",
          "Slovakia",
          "Georgia",
          "Lithuania",
          "Greece",
          "Bulgaria",
          "North Korea",
          "Bahamas",
          "Thailand",
          "Mexico",
          "Chinese Taipei",
          "Armenia",
          "Brazil-1",
          "Estonia",
          "United States-1",
          "Slovenia",
          "United States-2",
          "China-1",
          "Ireland",
          "Egypt",
          "Venezuela",
          "Tunisia",
          "Algeria",
          "Bahrain",
          "India",
          "Mongolia",
          "Indonesia",
          "Indonesia-1",
          "Cote d'Ivoire",
          "Individual Olympic Athletes",
          "Austria",
          "Israel",
          "Russia-2",
          "Netherlands-1",
          "Vietnam",
          "Germany-1",
          "South Korea-1",
          "Spain-2",
          "Italy-1",
          "Czech Republic-1",
          "Tajikistan",
          "Portugal",
          "Jordan",
          "Puerto Rico",
          "Trinidad and Tobago",
          "Singapore",
          "Morocco",
          "Qatar",
          "United Arab Emirates",
          "Niger",
          "Philippines",
          "Dominican Republic",
          "Finland",
          "Grenada",
          "Burundi",
          "Kosovo"
         ],
         "legendgroup": "",
         "marker": {
          "color": [
           256,
           157,
           145,
           113,
           109,
           96,
           82,
           70,
           69,
           64,
           54,
           46,
           45,
           43,
           41,
           36,
           30,
           28,
           24,
           24,
           23,
           22,
           22,
           21,
           19,
           18,
           18,
           18,
           16,
           16,
           15,
           13,
           13,
           13,
           13,
           12,
           11,
           11,
           8,
           8,
           8,
           8,
           8,
           8,
           7,
           7,
           7,
           7,
           7,
           6,
           6,
           5,
           5,
           4,
           4,
           4,
           4,
           4,
           4,
           4,
           3,
           3,
           3,
           3,
           2,
           2,
           2,
           2,
           2,
           2,
           2,
           2,
           2,
           2,
           2,
           2,
           2,
           2,
           2,
           2,
           2,
           2,
           1,
           1,
           1,
           1,
           1,
           1,
           1,
           1,
           1,
           1,
           1,
           1,
           1,
           1,
           1,
           1
          ],
          "coloraxis": "coloraxis"
         },
         "name": "",
         "offsetgroup": "",
         "orientation": "v",
         "showlegend": false,
         "textposition": "auto",
         "type": "bar",
         "x": [
          "United States",
          "Germany",
          "Great Britain",
          "Russia",
          "China",
          "France",
          "Australia",
          "Italy",
          "Canada",
          "Japan",
          "Serbia",
          "Brazil",
          "Netherlands",
          "Spain",
          "Denmark",
          "New Zealand",
          "Jamaica",
          "Sweden",
          "South Korea",
          "Croatia",
          "South Africa",
          "Argentina",
          "Hungary",
          "Belgium",
          "Norway",
          "Azerbaijan",
          "Kazakhstan",
          "Nigeria",
          "Romania",
          "Poland",
          "Ukraine",
          "Uzbekistan",
          "Kenya",
          "Czech Republic",
          "Fiji",
          "Belarus",
          "Switzerland",
          "Cuba",
          "Iran",
          "Ethiopia",
          "Colombia",
          "Turkey",
          "Malaysia",
          "Slovakia",
          "Georgia",
          "Lithuania",
          "Greece",
          "Bulgaria",
          "North Korea",
          "Bahamas",
          "Thailand",
          "Mexico",
          "Chinese Taipei",
          "Armenia",
          "Brazil-1",
          "Estonia",
          "United States-1",
          "Slovenia",
          "United States-2",
          "China-1",
          "Ireland",
          "Egypt",
          "Venezuela",
          "Tunisia",
          "Algeria",
          "Bahrain",
          "India",
          "Mongolia",
          "Indonesia",
          "Indonesia-1",
          "Cote d'Ivoire",
          "Individual Olympic Athletes",
          "Austria",
          "Israel",
          "Russia-2",
          "Netherlands-1",
          "Vietnam",
          "Germany-1",
          "South Korea-1",
          "Spain-2",
          "Italy-1",
          "Czech Republic-1",
          "Tajikistan",
          "Portugal",
          "Jordan",
          "Puerto Rico",
          "Trinidad and Tobago",
          "Singapore",
          "Morocco",
          "Qatar",
          "United Arab Emirates",
          "Niger",
          "Philippines",
          "Dominican Republic",
          "Finland",
          "Grenada",
          "Burundi",
          "Kosovo"
         ],
         "xaxis": "x",
         "y": [
          256,
          157,
          145,
          113,
          109,
          96,
          82,
          70,
          69,
          64,
          54,
          46,
          45,
          43,
          41,
          36,
          30,
          28,
          24,
          24,
          23,
          22,
          22,
          21,
          19,
          18,
          18,
          18,
          16,
          16,
          15,
          13,
          13,
          13,
          13,
          12,
          11,
          11,
          8,
          8,
          8,
          8,
          8,
          8,
          7,
          7,
          7,
          7,
          7,
          6,
          6,
          5,
          5,
          4,
          4,
          4,
          4,
          4,
          4,
          4,
          3,
          3,
          3,
          3,
          2,
          2,
          2,
          2,
          2,
          2,
          2,
          2,
          2,
          2,
          2,
          2,
          2,
          2,
          2,
          2,
          2,
          2,
          1,
          1,
          1,
          1,
          1,
          1,
          1,
          1,
          1,
          1,
          1,
          1,
          1,
          1,
          1,
          1
         ],
         "yaxis": "y"
        }
       ],
       "frames": [
        {
         "data": [
          {
           "alignmentgroup": "True",
           "hovertemplate": "Year=2016<br>Team=%{x}<br>Medals=%{marker.color}<extra></extra>",
           "ids": [
            "United States",
            "Germany",
            "Great Britain",
            "Russia",
            "China",
            "France",
            "Australia",
            "Italy",
            "Canada",
            "Japan",
            "Serbia",
            "Brazil",
            "Netherlands",
            "Spain",
            "Denmark",
            "New Zealand",
            "Jamaica",
            "Sweden",
            "South Korea",
            "Croatia",
            "South Africa",
            "Argentina",
            "Hungary",
            "Belgium",
            "Norway",
            "Azerbaijan",
            "Kazakhstan",
            "Nigeria",
            "Romania",
            "Poland",
            "Ukraine",
            "Uzbekistan",
            "Kenya",
            "Czech Republic",
            "Fiji",
            "Belarus",
            "Switzerland",
            "Cuba",
            "Iran",
            "Ethiopia",
            "Colombia",
            "Turkey",
            "Malaysia",
            "Slovakia",
            "Georgia",
            "Lithuania",
            "Greece",
            "Bulgaria",
            "North Korea",
            "Bahamas",
            "Thailand",
            "Mexico",
            "Chinese Taipei",
            "Armenia",
            "Brazil-1",
            "Estonia",
            "United States-1",
            "Slovenia",
            "United States-2",
            "China-1",
            "Ireland",
            "Egypt",
            "Venezuela",
            "Tunisia",
            "Algeria",
            "Bahrain",
            "India",
            "Mongolia",
            "Indonesia",
            "Indonesia-1",
            "Cote d'Ivoire",
            "Individual Olympic Athletes",
            "Austria",
            "Israel",
            "Russia-2",
            "Netherlands-1",
            "Vietnam",
            "Germany-1",
            "South Korea-1",
            "Spain-2",
            "Italy-1",
            "Czech Republic-1",
            "Tajikistan",
            "Portugal",
            "Jordan",
            "Puerto Rico",
            "Trinidad and Tobago",
            "Singapore",
            "Morocco",
            "Qatar",
            "United Arab Emirates",
            "Niger",
            "Philippines",
            "Dominican Republic",
            "Finland",
            "Grenada",
            "Burundi",
            "Kosovo"
           ],
           "legendgroup": "",
           "marker": {
            "color": [
             256,
             157,
             145,
             113,
             109,
             96,
             82,
             70,
             69,
             64,
             54,
             46,
             45,
             43,
             41,
             36,
             30,
             28,
             24,
             24,
             23,
             22,
             22,
             21,
             19,
             18,
             18,
             18,
             16,
             16,
             15,
             13,
             13,
             13,
             13,
             12,
             11,
             11,
             8,
             8,
             8,
             8,
             8,
             8,
             7,
             7,
             7,
             7,
             7,
             6,
             6,
             5,
             5,
             4,
             4,
             4,
             4,
             4,
             4,
             4,
             3,
             3,
             3,
             3,
             2,
             2,
             2,
             2,
             2,
             2,
             2,
             2,
             2,
             2,
             2,
             2,
             2,
             2,
             2,
             2,
             2,
             2,
             1,
             1,
             1,
             1,
             1,
             1,
             1,
             1,
             1,
             1,
             1,
             1,
             1,
             1,
             1,
             1
            ],
            "coloraxis": "coloraxis"
           },
           "name": "",
           "offsetgroup": "",
           "orientation": "v",
           "showlegend": false,
           "textposition": "auto",
           "type": "bar",
           "x": [
            "United States",
            "Germany",
            "Great Britain",
            "Russia",
            "China",
            "France",
            "Australia",
            "Italy",
            "Canada",
            "Japan",
            "Serbia",
            "Brazil",
            "Netherlands",
            "Spain",
            "Denmark",
            "New Zealand",
            "Jamaica",
            "Sweden",
            "South Korea",
            "Croatia",
            "South Africa",
            "Argentina",
            "Hungary",
            "Belgium",
            "Norway",
            "Azerbaijan",
            "Kazakhstan",
            "Nigeria",
            "Romania",
            "Poland",
            "Ukraine",
            "Uzbekistan",
            "Kenya",
            "Czech Republic",
            "Fiji",
            "Belarus",
            "Switzerland",
            "Cuba",
            "Iran",
            "Ethiopia",
            "Colombia",
            "Turkey",
            "Malaysia",
            "Slovakia",
            "Georgia",
            "Lithuania",
            "Greece",
            "Bulgaria",
            "North Korea",
            "Bahamas",
            "Thailand",
            "Mexico",
            "Chinese Taipei",
            "Armenia",
            "Brazil-1",
            "Estonia",
            "United States-1",
            "Slovenia",
            "United States-2",
            "China-1",
            "Ireland",
            "Egypt",
            "Venezuela",
            "Tunisia",
            "Algeria",
            "Bahrain",
            "India",
            "Mongolia",
            "Indonesia",
            "Indonesia-1",
            "Cote d'Ivoire",
            "Individual Olympic Athletes",
            "Austria",
            "Israel",
            "Russia-2",
            "Netherlands-1",
            "Vietnam",
            "Germany-1",
            "South Korea-1",
            "Spain-2",
            "Italy-1",
            "Czech Republic-1",
            "Tajikistan",
            "Portugal",
            "Jordan",
            "Puerto Rico",
            "Trinidad and Tobago",
            "Singapore",
            "Morocco",
            "Qatar",
            "United Arab Emirates",
            "Niger",
            "Philippines",
            "Dominican Republic",
            "Finland",
            "Grenada",
            "Burundi",
            "Kosovo"
           ],
           "xaxis": "x",
           "y": [
            256,
            157,
            145,
            113,
            109,
            96,
            82,
            70,
            69,
            64,
            54,
            46,
            45,
            43,
            41,
            36,
            30,
            28,
            24,
            24,
            23,
            22,
            22,
            21,
            19,
            18,
            18,
            18,
            16,
            16,
            15,
            13,
            13,
            13,
            13,
            12,
            11,
            11,
            8,
            8,
            8,
            8,
            8,
            8,
            7,
            7,
            7,
            7,
            7,
            6,
            6,
            5,
            5,
            4,
            4,
            4,
            4,
            4,
            4,
            4,
            3,
            3,
            3,
            3,
            2,
            2,
            2,
            2,
            2,
            2,
            2,
            2,
            2,
            2,
            2,
            2,
            2,
            2,
            2,
            2,
            2,
            2,
            1,
            1,
            1,
            1,
            1,
            1,
            1,
            1,
            1,
            1,
            1,
            1,
            1,
            1,
            1,
            1
           ],
           "yaxis": "y"
          }
         ],
         "name": "2016"
        },
        {
         "data": [
          {
           "alignmentgroup": "True",
           "hovertemplate": "Year=2014<br>Team=%{x}<br>Medals=%{marker.color}<extra></extra>",
           "ids": [
            "Canada",
            "Russia",
            "United States",
            "Sweden",
            "Norway",
            "Finland",
            "Germany",
            "Netherlands",
            "Switzerland",
            "Austria",
            "France",
            "Italy",
            "South Korea",
            "China",
            "Japan",
            "Poland",
            "Czech Republic",
            "Great Britain",
            "Russia-1",
            "United States-1",
            "Slovenia",
            "Belarus",
            "Latvia-1",
            "Latvia",
            "Ukraine",
            "Germany-1",
            "Canada-1",
            "Australia",
            "United States-2",
            "Switzerland-1",
            "Russia-2",
            "Austria-1",
            "Kazakhstan",
            "Slovakia",
            "Croatia"
           ],
           "legendgroup": "",
           "marker": {
            "color": [
             82,
             56,
             52,
             51,
             36,
             33,
             32,
             29,
             28,
             25,
             18,
             14,
             14,
             12,
             11,
             11,
             11,
             10,
             10,
             10,
             8,
             6,
             6,
             5,
             5,
             4,
             4,
             3,
             2,
             2,
             2,
             2,
             1,
             1,
             1
            ],
            "coloraxis": "coloraxis"
           },
           "name": "",
           "offsetgroup": "",
           "orientation": "v",
           "showlegend": false,
           "textposition": "auto",
           "type": "bar",
           "x": [
            "Canada",
            "Russia",
            "United States",
            "Sweden",
            "Norway",
            "Finland",
            "Germany",
            "Netherlands",
            "Switzerland",
            "Austria",
            "France",
            "Italy",
            "South Korea",
            "China",
            "Japan",
            "Poland",
            "Czech Republic",
            "Great Britain",
            "Russia-1",
            "United States-1",
            "Slovenia",
            "Belarus",
            "Latvia-1",
            "Latvia",
            "Ukraine",
            "Germany-1",
            "Canada-1",
            "Australia",
            "United States-2",
            "Switzerland-1",
            "Russia-2",
            "Austria-1",
            "Kazakhstan",
            "Slovakia",
            "Croatia"
           ],
           "xaxis": "x",
           "y": [
            82,
            56,
            52,
            51,
            36,
            33,
            32,
            29,
            28,
            25,
            18,
            14,
            14,
            12,
            11,
            11,
            11,
            10,
            10,
            10,
            8,
            6,
            6,
            5,
            5,
            4,
            4,
            3,
            2,
            2,
            2,
            2,
            1,
            1,
            1
           ],
           "yaxis": "y"
          }
         ],
         "name": "2014"
        },
        {
         "data": [
          {
           "alignmentgroup": "True",
           "hovertemplate": "Year=2012<br>Team=%{x}<br>Medals=%{marker.color}<extra></extra>",
           "ids": [
            "United States",
            "Russia",
            "Great Britain",
            "China",
            "Australia",
            "Germany",
            "Japan",
            "France",
            "Netherlands",
            "Italy",
            "Spain",
            "South Korea",
            "Canada",
            "Brazil",
            "Croatia",
            "New Zealand",
            "Ukraine",
            "Hungary",
            "Jamaica",
            "Mexico",
            "Belarus",
            "Sweden",
            "Argentina",
            "Norway",
            "Romania",
            "Serbia",
            "Cuba",
            "Denmark",
            "Montenegro",
            "Kazakhstan",
            "Iran",
            "Poland",
            "Czech Republic",
            "Kenya",
            "Azerbaijan",
            "Trinidad and Tobago",
            "South Africa",
            "Colombia",
            "United States-1",
            "Ethiopia",
            "Georgia",
            "North Korea",
            "India",
            "China-1",
            "Lithuania",
            "Turkey",
            "Finland",
            "Ireland",
            "Mongolia",
            "Slovenia",
            "Slovakia",
            "Switzerland",
            "Saudi Arabia",
            "Brazil-1",
            "Bahamas",
            "Singapore",
            "Uzbekistan",
            "Tunisia",
            "Belgium",
            "Greece",
            "Armenia",
            "Thailand",
            "Egypt",
            "Portugal",
            "Malaysia",
            "Indonesia",
            "Estonia",
            "Qatar",
            "Puerto Rico",
            "Bulgaria",
            "Dominican Republic",
            "Moldova",
            "Great Britain-1",
            "France-2",
            "Germany-1",
            "United States-2",
            "China-2",
            "Chinese Taipei",
            "Great Britain-2",
            "Japan-1",
            "Czech Republic-1",
            "South Korea-1",
            "Russia-1",
            "France-1",
            "Denmark-1",
            "Latvia-1",
            "Morocco",
            "Algeria",
            "Tajikistan",
            "Uganda",
            "Venezuela",
            "Cyprus",
            "Kuwait",
            "Bahrain",
            "Guatemala",
            "Latvia",
            "Botswana",
            "Hong Kong",
            "Gabon",
            "Afghanistan",
            "Grenada"
           ],
           "legendgroup": "",
           "marker": {
            "color": [
             238,
             138,
             122,
             117,
             114,
             92,
             82,
             78,
             69,
             68,
             63,
             59,
             55,
             55,
             35,
             27,
             26,
             26,
             25,
             24,
             23,
             22,
             19,
             17,
             16,
             16,
             14,
             14,
             14,
             13,
             12,
             12,
             12,
             11,
             10,
             10,
             9,
             8,
             8,
             7,
             7,
             6,
             6,
             6,
             5,
             5,
             5,
             5,
             5,
             5,
             5,
             4,
             4,
             4,
             4,
             4,
             3,
             3,
             3,
             3,
             3,
             3,
             2,
             2,
             2,
             2,
             2,
             2,
             2,
             2,
             2,
             2,
             2,
             2,
             2,
             2,
             2,
             2,
             2,
             2,
             2,
             2,
             2,
             2,
             2,
             2,
             1,
             1,
             1,
             1,
             1,
             1,
             1,
             1,
             1,
             1,
             1,
             1,
             1,
             1,
             1
            ],
            "coloraxis": "coloraxis"
           },
           "name": "",
           "offsetgroup": "",
           "orientation": "v",
           "showlegend": false,
           "textposition": "auto",
           "type": "bar",
           "x": [
            "United States",
            "Russia",
            "Great Britain",
            "China",
            "Australia",
            "Germany",
            "Japan",
            "France",
            "Netherlands",
            "Italy",
            "Spain",
            "South Korea",
            "Canada",
            "Brazil",
            "Croatia",
            "New Zealand",
            "Ukraine",
            "Hungary",
            "Jamaica",
            "Mexico",
            "Belarus",
            "Sweden",
            "Argentina",
            "Norway",
            "Romania",
            "Serbia",
            "Cuba",
            "Denmark",
            "Montenegro",
            "Kazakhstan",
            "Iran",
            "Poland",
            "Czech Republic",
            "Kenya",
            "Azerbaijan",
            "Trinidad and Tobago",
            "South Africa",
            "Colombia",
            "United States-1",
            "Ethiopia",
            "Georgia",
            "North Korea",
            "India",
            "China-1",
            "Lithuania",
            "Turkey",
            "Finland",
            "Ireland",
            "Mongolia",
            "Slovenia",
            "Slovakia",
            "Switzerland",
            "Saudi Arabia",
            "Brazil-1",
            "Bahamas",
            "Singapore",
            "Uzbekistan",
            "Tunisia",
            "Belgium",
            "Greece",
            "Armenia",
            "Thailand",
            "Egypt",
            "Portugal",
            "Malaysia",
            "Indonesia",
            "Estonia",
            "Qatar",
            "Puerto Rico",
            "Bulgaria",
            "Dominican Republic",
            "Moldova",
            "Great Britain-1",
            "France-2",
            "Germany-1",
            "United States-2",
            "China-2",
            "Chinese Taipei",
            "Great Britain-2",
            "Japan-1",
            "Czech Republic-1",
            "South Korea-1",
            "Russia-1",
            "France-1",
            "Denmark-1",
            "Latvia-1",
            "Morocco",
            "Algeria",
            "Tajikistan",
            "Uganda",
            "Venezuela",
            "Cyprus",
            "Kuwait",
            "Bahrain",
            "Guatemala",
            "Latvia",
            "Botswana",
            "Hong Kong",
            "Gabon",
            "Afghanistan",
            "Grenada"
           ],
           "xaxis": "x",
           "y": [
            238,
            138,
            122,
            117,
            114,
            92,
            82,
            78,
            69,
            68,
            63,
            59,
            55,
            55,
            35,
            27,
            26,
            26,
            25,
            24,
            23,
            22,
            19,
            17,
            16,
            16,
            14,
            14,
            14,
            13,
            12,
            12,
            12,
            11,
            10,
            10,
            9,
            8,
            8,
            7,
            7,
            6,
            6,
            6,
            5,
            5,
            5,
            5,
            5,
            5,
            5,
            4,
            4,
            4,
            4,
            4,
            3,
            3,
            3,
            3,
            3,
            3,
            2,
            2,
            2,
            2,
            2,
            2,
            2,
            2,
            2,
            2,
            2,
            2,
            2,
            2,
            2,
            2,
            2,
            2,
            2,
            2,
            2,
            2,
            2,
            2,
            1,
            1,
            1,
            1,
            1,
            1,
            1,
            1,
            1,
            1,
            1,
            1,
            1,
            1,
            1
           ],
           "yaxis": "y"
          }
         ],
         "name": "2012"
        },
        {
         "data": [
          {
           "alignmentgroup": "True",
           "hovertemplate": "Year=2010<br>Team=%{x}<br>Medals=%{marker.color}<extra></extra>",
           "ids": [
            "United States",
            "Canada",
            "Finland",
            "Germany",
            "Norway",
            "Austria",
            "Russia",
            "Sweden",
            "South Korea",
            "China",
            "France",
            "Switzerland",
            "Netherlands",
            "Czech Republic",
            "Poland",
            "Canada-1",
            "Germany-1",
            "Japan",
            "United States-1",
            "Italy",
            "Russia-1",
            "Germany-2",
            "Belarus",
            "Australia",
            "Slovakia",
            "Slovenia",
            "Croatia",
            "United States-2",
            "Canada-2",
            "Austria-1",
            "China-2",
            "China-1",
            "Latvia-1",
            "Great Britain",
            "Latvia",
            "Kazakhstan",
            "Estonia"
           ],
           "legendgroup": "",
           "marker": {
            "color": [
             89,
             80,
             47,
             42,
             39,
             24,
             21,
             18,
             18,
             15,
             14,
             12,
             11,
             9,
             8,
             8,
             8,
             7,
             6,
             5,
             4,
             4,
             3,
             3,
             3,
             3,
             3,
             2,
             2,
             2,
             2,
             2,
             2,
             1,
             1,
             1,
             1
            ],
            "coloraxis": "coloraxis"
           },
           "name": "",
           "offsetgroup": "",
           "orientation": "v",
           "showlegend": false,
           "textposition": "auto",
           "type": "bar",
           "x": [
            "United States",
            "Canada",
            "Finland",
            "Germany",
            "Norway",
            "Austria",
            "Russia",
            "Sweden",
            "South Korea",
            "China",
            "France",
            "Switzerland",
            "Netherlands",
            "Czech Republic",
            "Poland",
            "Canada-1",
            "Germany-1",
            "Japan",
            "United States-1",
            "Italy",
            "Russia-1",
            "Germany-2",
            "Belarus",
            "Australia",
            "Slovakia",
            "Slovenia",
            "Croatia",
            "United States-2",
            "Canada-2",
            "Austria-1",
            "China-2",
            "China-1",
            "Latvia-1",
            "Great Britain",
            "Latvia",
            "Kazakhstan",
            "Estonia"
           ],
           "xaxis": "x",
           "y": [
            89,
            80,
            47,
            42,
            39,
            24,
            21,
            18,
            18,
            15,
            14,
            12,
            11,
            9,
            8,
            8,
            8,
            7,
            6,
            5,
            4,
            4,
            3,
            3,
            3,
            3,
            3,
            2,
            2,
            2,
            2,
            2,
            2,
            1,
            1,
            1,
            1
           ],
           "yaxis": "y"
          }
         ],
         "name": "2010"
        },
        {
         "data": [
          {
           "alignmentgroup": "True",
           "hovertemplate": "Year=2008<br>Team=%{x}<br>Medals=%{marker.color}<extra></extra>",
           "ids": [
            "United States",
            "China",
            "Australia",
            "Russia",
            "Germany",
            "Great Britain",
            "France",
            "Brazil",
            "South Korea",
            "Spain",
            "Netherlands",
            "Japan",
            "Argentina",
            "Cuba",
            "Italy",
            "Canada",
            "Ukraine",
            "Belarus",
            "Hungary",
            "Nigeria",
            "Norway",
            "Romania",
            "Poland",
            "Denmark",
            "New Zealand",
            "Kenya",
            "Serbia",
            "Jamaica",
            "Iceland",
            "Kazakhstan",
            "Switzerland",
            "Slovakia",
            "China-1",
            "Azerbaijan",
            "Turkey",
            "Ethiopia",
            "Greece",
            "Bahamas",
            "Czech Republic",
            "Armenia",
            "Uzbekistan",
            "North Korea",
            "Trinidad and Tobago",
            "Georgia",
            "United States-1",
            "South Korea-1",
            "Sweden",
            "Belgium",
            "Finland",
            "Lithuania",
            "Bulgaria",
            "Croatia",
            "Slovenia",
            "Mexico",
            "Thailand",
            "Mongolia",
            "Zimbabwe",
            "Chinese Taipei",
            "China-2",
            "Indonesia-1",
            "Estonia",
            "India",
            "Austria",
            "Latvia",
            "Ireland",
            "Singapore",
            "Indonesia",
            "Morocco",
            "Algeria",
            "Kyrgyzstan",
            "Tajikistan",
            "Portugal",
            "Iran",
            "Dominican Republic",
            "Colombia",
            "Brazil-2",
            "Sweden-2",
            "United States-2",
            "Brazil-1",
            "Spain-1",
            "South Africa",
            "Egypt",
            "Sudan",
            "Venezuela",
            "Tunisia",
            "Mauritius",
            "Cameroon",
            "Chile",
            "Malaysia",
            "Israel",
            "Afghanistan",
            "Ecuador",
            "Panama",
            "Togo",
            "Moldova",
            "Elvis Va",
            "Vietnam",
            "Don Schufro",
            "Clearwater",
            "Bonaparte",
            "Nadine",
            "Sunrise",
            "Salinero",
            "Satchmo",
            "Digby"
           ],
           "legendgroup": "",
           "marker": {
            "color": [
             309,
             170,
             149,
             142,
             96,
             81,
             77,
             74,
             72,
             68,
             58,
             51,
             51,
             47,
             42,
             35,
             31,
             29,
             27,
             23,
             22,
             22,
             20,
             16,
             15,
             15,
             15,
             14,
             14,
             13,
             11,
             10,
             10,
             7,
             7,
             7,
             7,
             7,
             7,
             6,
             6,
             6,
             6,
             6,
             6,
             6,
             5,
             5,
             5,
             5,
             5,
             5,
             5,
             4,
             4,
             4,
             4,
             4,
             4,
             4,
             3,
             3,
             3,
             3,
             3,
             3,
             3,
             2,
             2,
             2,
             2,
             2,
             2,
             2,
             2,
             2,
             2,
             2,
             2,
             2,
             1,
             1,
             1,
             1,
             1,
             1,
             1,
             1,
             1,
             1,
             1,
             1,
             1,
             1,
             1,
             1,
             1,
             1,
             1,
             1,
             1,
             1,
             1,
             1,
             1
            ],
            "coloraxis": "coloraxis"
           },
           "name": "",
           "offsetgroup": "",
           "orientation": "v",
           "showlegend": false,
           "textposition": "auto",
           "type": "bar",
           "x": [
            "United States",
            "China",
            "Australia",
            "Russia",
            "Germany",
            "Great Britain",
            "France",
            "Brazil",
            "South Korea",
            "Spain",
            "Netherlands",
            "Japan",
            "Argentina",
            "Cuba",
            "Italy",
            "Canada",
            "Ukraine",
            "Belarus",
            "Hungary",
            "Nigeria",
            "Norway",
            "Romania",
            "Poland",
            "Denmark",
            "New Zealand",
            "Kenya",
            "Serbia",
            "Jamaica",
            "Iceland",
            "Kazakhstan",
            "Switzerland",
            "Slovakia",
            "China-1",
            "Azerbaijan",
            "Turkey",
            "Ethiopia",
            "Greece",
            "Bahamas",
            "Czech Republic",
            "Armenia",
            "Uzbekistan",
            "North Korea",
            "Trinidad and Tobago",
            "Georgia",
            "United States-1",
            "South Korea-1",
            "Sweden",
            "Belgium",
            "Finland",
            "Lithuania",
            "Bulgaria",
            "Croatia",
            "Slovenia",
            "Mexico",
            "Thailand",
            "Mongolia",
            "Zimbabwe",
            "Chinese Taipei",
            "China-2",
            "Indonesia-1",
            "Estonia",
            "India",
            "Austria",
            "Latvia",
            "Ireland",
            "Singapore",
            "Indonesia",
            "Morocco",
            "Algeria",
            "Kyrgyzstan",
            "Tajikistan",
            "Portugal",
            "Iran",
            "Dominican Republic",
            "Colombia",
            "Brazil-2",
            "Sweden-2",
            "United States-2",
            "Brazil-1",
            "Spain-1",
            "South Africa",
            "Egypt",
            "Sudan",
            "Venezuela",
            "Tunisia",
            "Mauritius",
            "Cameroon",
            "Chile",
            "Malaysia",
            "Israel",
            "Afghanistan",
            "Ecuador",
            "Panama",
            "Togo",
            "Moldova",
            "Elvis Va",
            "Vietnam",
            "Don Schufro",
            "Clearwater",
            "Bonaparte",
            "Nadine",
            "Sunrise",
            "Salinero",
            "Satchmo",
            "Digby"
           ],
           "xaxis": "x",
           "y": [
            309,
            170,
            149,
            142,
            96,
            81,
            77,
            74,
            72,
            68,
            58,
            51,
            51,
            47,
            42,
            35,
            31,
            29,
            27,
            23,
            22,
            22,
            20,
            16,
            15,
            15,
            15,
            14,
            14,
            13,
            11,
            10,
            10,
            7,
            7,
            7,
            7,
            7,
            7,
            6,
            6,
            6,
            6,
            6,
            6,
            6,
            5,
            5,
            5,
            5,
            5,
            5,
            5,
            4,
            4,
            4,
            4,
            4,
            4,
            4,
            3,
            3,
            3,
            3,
            3,
            3,
            3,
            2,
            2,
            2,
            2,
            2,
            2,
            2,
            2,
            2,
            2,
            2,
            2,
            2,
            1,
            1,
            1,
            1,
            1,
            1,
            1,
            1,
            1,
            1,
            1,
            1,
            1,
            1,
            1,
            1,
            1,
            1,
            1,
            1,
            1,
            1,
            1,
            1,
            1
           ],
           "yaxis": "y"
          }
         ],
         "name": "2008"
        },
        {
         "data": [
          {
           "alignmentgroup": "True",
           "hovertemplate": "Year=2006<br>Team=%{x}<br>Medals=%{marker.color}<extra></extra>",
           "ids": [
            "Canada",
            "Sweden",
            "United States",
            "Germany",
            "Finland",
            "Russia",
            "Austria",
            "Czech Republic",
            "Norway",
            "Italy",
            "South Korea",
            "Switzerland",
            "France",
            "Netherlands",
            "Germany-1",
            "China",
            "Russia-1",
            "Switzerland-1",
            "United States-1",
            "Italy-1",
            "Croatia",
            "Estonia",
            "Canada-1",
            "Australia",
            "Poland",
            "Ukraine-1",
            "Austria-1",
            "China-3",
            "China-1",
            "Ukraine",
            "Great Britain",
            "Belarus",
            "Japan",
            "Latvia",
            "Slovakia",
            "Bulgaria"
           ],
           "legendgroup": "",
           "marker": {
            "color": [
             67,
             64,
             48,
             44,
             41,
             33,
             28,
             27,
             23,
             21,
             19,
             15,
             15,
             13,
             10,
             9,
             8,
             6,
             4,
             4,
             3,
             3,
             2,
             2,
             2,
             2,
             2,
             2,
             2,
             1,
             1,
             1,
             1,
             1,
             1,
             1
            ],
            "coloraxis": "coloraxis"
           },
           "name": "",
           "offsetgroup": "",
           "orientation": "v",
           "showlegend": false,
           "textposition": "auto",
           "type": "bar",
           "x": [
            "Canada",
            "Sweden",
            "United States",
            "Germany",
            "Finland",
            "Russia",
            "Austria",
            "Czech Republic",
            "Norway",
            "Italy",
            "South Korea",
            "Switzerland",
            "France",
            "Netherlands",
            "Germany-1",
            "China",
            "Russia-1",
            "Switzerland-1",
            "United States-1",
            "Italy-1",
            "Croatia",
            "Estonia",
            "Canada-1",
            "Australia",
            "Poland",
            "Ukraine-1",
            "Austria-1",
            "China-3",
            "China-1",
            "Ukraine",
            "Great Britain",
            "Belarus",
            "Japan",
            "Latvia",
            "Slovakia",
            "Bulgaria"
           ],
           "xaxis": "x",
           "y": [
            67,
            64,
            48,
            44,
            41,
            33,
            28,
            27,
            23,
            21,
            19,
            15,
            15,
            13,
            10,
            9,
            8,
            6,
            4,
            4,
            3,
            3,
            2,
            2,
            2,
            2,
            2,
            2,
            2,
            1,
            1,
            1,
            1,
            1,
            1,
            1
           ],
           "yaxis": "y"
          }
         ],
         "name": "2006"
        },
        {
         "data": [
          {
           "alignmentgroup": "True",
           "hovertemplate": "Year=2004<br>Team=%{x}<br>Medals=%{marker.color}<extra></extra>",
           "ids": [
            "United States",
            "Russia",
            "Australia",
            "Germany",
            "Italy",
            "Japan",
            "China",
            "Netherlands",
            "Cuba",
            "Great Britain",
            "France",
            "Argentina",
            "Ukraine",
            "South Korea",
            "Hungary",
            "Romania",
            "Brazil",
            "Greece",
            "Spain",
            "Denmark",
            "Croatia",
            "Bulgaria",
            "Canada",
            "Paraguay",
            "Belarus",
            "Jamaica",
            "Serbia and Montenegro",
            "Sweden",
            "Poland",
            "Turkey",
            "Czech Republic",
            "Slovakia",
            "South Africa",
            "Chinese Taipei",
            "Kazakhstan",
            "Nigeria",
            "Austria",
            "Thailand",
            "China-1",
            "Norway",
            "Ethiopia",
            "Kenya",
            "New Zealand",
            "Iran",
            "Egypt",
            "Azerbaijan",
            "Uzbekistan",
            "Switzerland",
            "Slovenia",
            "North Korea",
            "Mexico",
            "Chile",
            "Georgia",
            "Brazil-1",
            "China-2",
            "Latvia",
            "South Korea-1",
            "Estonia",
            "Indonesia",
            "Lithuania",
            "Morocco",
            "Portugal",
            "Zimbabwe",
            "Belgium",
            "Finland",
            "Venezuela",
            "Bahamas",
            "Colombia",
            "Israel",
            "United States-2",
            "Germany-1",
            "United States-1",
            "Czech Republic-1",
            "Great Britain-1",
            "Indonesia-1",
            "Denmark-2",
            "South Korea-2",
            "Switzerland-2",
            "Hong Kong-2",
            "Spain-2",
            "India",
            "Syria",
            "United Arab Emirates",
            "Trinidad and Tobago",
            "Mongolia",
            "Dominican Republic",
            "Cameroon",
            "Eritrea"
           ],
           "legendgroup": "",
           "marker": {
            "color": [
             259,
             189,
             157,
             147,
             104,
             93,
             82,
             77,
             62,
             55,
             53,
             49,
             47,
             46,
             40,
             39,
             36,
             31,
             28,
             27,
             21,
             17,
             17,
             17,
             15,
             13,
             13,
             12,
             12,
             11,
             11,
             10,
             10,
             9,
             8,
             8,
             8,
             8,
             8,
             7,
             7,
             7,
             6,
             6,
             5,
             5,
             5,
             5,
             5,
             5,
             4,
             4,
             4,
             4,
             4,
             4,
             4,
             3,
             3,
             3,
             3,
             3,
             3,
             3,
             2,
             2,
             2,
             2,
             2,
             2,
             2,
             2,
             2,
             2,
             2,
             2,
             2,
             2,
             2,
             2,
             1,
             1,
             1,
             1,
             1,
             1,
             1,
             1
            ],
            "coloraxis": "coloraxis"
           },
           "name": "",
           "offsetgroup": "",
           "orientation": "v",
           "showlegend": false,
           "textposition": "auto",
           "type": "bar",
           "x": [
            "United States",
            "Russia",
            "Australia",
            "Germany",
            "Italy",
            "Japan",
            "China",
            "Netherlands",
            "Cuba",
            "Great Britain",
            "France",
            "Argentina",
            "Ukraine",
            "South Korea",
            "Hungary",
            "Romania",
            "Brazil",
            "Greece",
            "Spain",
            "Denmark",
            "Croatia",
            "Bulgaria",
            "Canada",
            "Paraguay",
            "Belarus",
            "Jamaica",
            "Serbia and Montenegro",
            "Sweden",
            "Poland",
            "Turkey",
            "Czech Republic",
            "Slovakia",
            "South Africa",
            "Chinese Taipei",
            "Kazakhstan",
            "Nigeria",
            "Austria",
            "Thailand",
            "China-1",
            "Norway",
            "Ethiopia",
            "Kenya",
            "New Zealand",
            "Iran",
            "Egypt",
            "Azerbaijan",
            "Uzbekistan",
            "Switzerland",
            "Slovenia",
            "North Korea",
            "Mexico",
            "Chile",
            "Georgia",
            "Brazil-1",
            "China-2",
            "Latvia",
            "South Korea-1",
            "Estonia",
            "Indonesia",
            "Lithuania",
            "Morocco",
            "Portugal",
            "Zimbabwe",
            "Belgium",
            "Finland",
            "Venezuela",
            "Bahamas",
            "Colombia",
            "Israel",
            "United States-2",
            "Germany-1",
            "United States-1",
            "Czech Republic-1",
            "Great Britain-1",
            "Indonesia-1",
            "Denmark-2",
            "South Korea-2",
            "Switzerland-2",
            "Hong Kong-2",
            "Spain-2",
            "India",
            "Syria",
            "United Arab Emirates",
            "Trinidad and Tobago",
            "Mongolia",
            "Dominican Republic",
            "Cameroon",
            "Eritrea"
           ],
           "xaxis": "x",
           "y": [
            259,
            189,
            157,
            147,
            104,
            93,
            82,
            77,
            62,
            55,
            53,
            49,
            47,
            46,
            40,
            39,
            36,
            31,
            28,
            27,
            21,
            17,
            17,
            17,
            15,
            13,
            13,
            12,
            12,
            11,
            11,
            10,
            10,
            9,
            8,
            8,
            8,
            8,
            8,
            7,
            7,
            7,
            6,
            6,
            5,
            5,
            5,
            5,
            5,
            5,
            4,
            4,
            4,
            4,
            4,
            4,
            4,
            3,
            3,
            3,
            3,
            3,
            3,
            3,
            2,
            2,
            2,
            2,
            2,
            2,
            2,
            2,
            2,
            2,
            2,
            2,
            2,
            2,
            2,
            2,
            1,
            1,
            1,
            1,
            1,
            1,
            1,
            1
           ],
           "yaxis": "y"
          }
         ],
         "name": "2004"
        },
        {
         "data": [
          {
           "alignmentgroup": "True",
           "hovertemplate": "Year=2002<br>Team=%{x}<br>Medals=%{marker.color}<extra></extra>",
           "ids": [
            "Canada",
            "United States",
            "Germany",
            "Norway",
            "Russia",
            "Sweden",
            "Switzerland",
            "Austria",
            "Italy",
            "China",
            "Finland",
            "France",
            "United States-2",
            "Netherlands",
            "Germany-2",
            "South Korea",
            "Great Britain",
            "United States-1",
            "Russia-1",
            "Germany-1",
            "Slovenia",
            "Croatia",
            "Estonia",
            "Czech Republic",
            "Bulgaria",
            "Poland",
            "Switzerland-2",
            "Switzerland-1",
            "France-1",
            "Japan",
            "Australia",
            "Canada-1",
            "Italy-1",
            "China-1",
            "Belarus"
           ],
           "legendgroup": "",
           "marker": {
            "color": [
             72,
             70,
             49,
             41,
             34,
             26,
             20,
             20,
             19,
             14,
             13,
             13,
             8,
             8,
             8,
             7,
             6,
             6,
             4,
             4,
             4,
             4,
             3,
             3,
             3,
             2,
             2,
             2,
             2,
             2,
             2,
             2,
             2,
             2,
             1
            ],
            "coloraxis": "coloraxis"
           },
           "name": "",
           "offsetgroup": "",
           "orientation": "v",
           "showlegend": false,
           "textposition": "auto",
           "type": "bar",
           "x": [
            "Canada",
            "United States",
            "Germany",
            "Norway",
            "Russia",
            "Sweden",
            "Switzerland",
            "Austria",
            "Italy",
            "China",
            "Finland",
            "France",
            "United States-2",
            "Netherlands",
            "Germany-2",
            "South Korea",
            "Great Britain",
            "United States-1",
            "Russia-1",
            "Germany-1",
            "Slovenia",
            "Croatia",
            "Estonia",
            "Czech Republic",
            "Bulgaria",
            "Poland",
            "Switzerland-2",
            "Switzerland-1",
            "France-1",
            "Japan",
            "Australia",
            "Canada-1",
            "Italy-1",
            "China-1",
            "Belarus"
           ],
           "xaxis": "x",
           "y": [
            72,
            70,
            49,
            41,
            34,
            26,
            20,
            20,
            19,
            14,
            13,
            13,
            8,
            8,
            8,
            7,
            6,
            6,
            4,
            4,
            4,
            4,
            3,
            3,
            3,
            2,
            2,
            2,
            2,
            2,
            2,
            2,
            2,
            2,
            1
           ],
           "yaxis": "y"
          }
         ],
         "name": "2002"
        },
        {
         "data": [
          {
           "alignmentgroup": "True",
           "hovertemplate": "Year=2000<br>Team=%{x}<br>Medals=%{marker.color}<extra></extra>",
           "ids": [
            "United States",
            "Russia",
            "Australia",
            "Germany",
            "Netherlands",
            "South Korea",
            "Cuba",
            "Italy",
            "China",
            "France",
            "Hungary",
            "Great Britain",
            "Romania",
            "Japan",
            "Norway",
            "Spain",
            "Brazil",
            "Ukraine",
            "Sweden",
            "Canada",
            "Denmark",
            "Serbia and Montenegro",
            "Jamaica",
            "Belarus",
            "Poland",
            "Argentina",
            "Cameroon",
            "Greece",
            "Lithuania",
            "Chile",
            "Switzerland",
            "Bulgaria",
            "Bahamas",
            "Croatia",
            "Ethiopia",
            "Nigeria",
            "China-2",
            "Kazakhstan",
            "Czech Republic",
            "Belgium",
            "Kenya",
            "Mexico",
            "Slovakia",
            "Indonesia",
            "Georgia",
            "China-1",
            "Finland",
            "Morocco",
            "Turkey",
            "South Africa",
            "Algeria",
            "Chinese Taipei",
            "Uzbekistan",
            "Iran",
            "New Zealand",
            "Austria",
            "Brazil-1",
            "North Korea",
            "South Korea-1",
            "Azerbaijan",
            "Slovenia",
            "Estonia",
            "Latvia",
            "Thailand",
            "Germany-1",
            "Saudi Arabia",
            "Trinidad and Tobago",
            "Portugal",
            "Great Britain-2",
            "Australia-1",
            "Moldova",
            "Costa Rica",
            "United States-1",
            "Czech Republic-1",
            "France-1",
            "Brazil-2",
            "Indonesia-1",
            "South Korea-2",
            "Poland-1",
            "Kuwait",
            "Sri Lanka",
            "Kyrgyzstan",
            "Qatar",
            "Iceland",
            "Barbados",
            "Mozambique",
            "India",
            "Israel",
            "Armenia",
            "Uruguay",
            "Colombia",
            "Macedonia",
            "Ireland",
            "Vietnam"
           ],
           "legendgroup": "",
           "marker": {
            "color": [
             240,
             187,
             181,
             116,
             79,
             67,
             65,
             65,
             65,
             64,
             53,
             52,
             46,
             44,
             43,
             42,
             42,
             35,
             32,
             31,
             25,
             25,
             23,
             22,
             22,
             20,
             18,
             18,
             17,
             17,
             14,
             13,
             11,
             10,
             8,
             8,
             8,
             7,
             7,
             7,
             7,
             6,
             6,
             6,
             6,
             6,
             5,
             5,
             5,
             5,
             5,
             5,
             4,
             4,
             4,
             4,
             4,
             4,
             4,
             3,
             3,
             3,
             3,
             3,
             2,
             2,
             2,
             2,
             2,
             2,
             2,
             2,
             2,
             2,
             2,
             2,
             2,
             2,
             2,
             1,
             1,
             1,
             1,
             1,
             1,
             1,
             1,
             1,
             1,
             1,
             1,
             1,
             1,
             1
            ],
            "coloraxis": "coloraxis"
           },
           "name": "",
           "offsetgroup": "",
           "orientation": "v",
           "showlegend": false,
           "textposition": "auto",
           "type": "bar",
           "x": [
            "United States",
            "Russia",
            "Australia",
            "Germany",
            "Netherlands",
            "South Korea",
            "Cuba",
            "Italy",
            "China",
            "France",
            "Hungary",
            "Great Britain",
            "Romania",
            "Japan",
            "Norway",
            "Spain",
            "Brazil",
            "Ukraine",
            "Sweden",
            "Canada",
            "Denmark",
            "Serbia and Montenegro",
            "Jamaica",
            "Belarus",
            "Poland",
            "Argentina",
            "Cameroon",
            "Greece",
            "Lithuania",
            "Chile",
            "Switzerland",
            "Bulgaria",
            "Bahamas",
            "Croatia",
            "Ethiopia",
            "Nigeria",
            "China-2",
            "Kazakhstan",
            "Czech Republic",
            "Belgium",
            "Kenya",
            "Mexico",
            "Slovakia",
            "Indonesia",
            "Georgia",
            "China-1",
            "Finland",
            "Morocco",
            "Turkey",
            "South Africa",
            "Algeria",
            "Chinese Taipei",
            "Uzbekistan",
            "Iran",
            "New Zealand",
            "Austria",
            "Brazil-1",
            "North Korea",
            "South Korea-1",
            "Azerbaijan",
            "Slovenia",
            "Estonia",
            "Latvia",
            "Thailand",
            "Germany-1",
            "Saudi Arabia",
            "Trinidad and Tobago",
            "Portugal",
            "Great Britain-2",
            "Australia-1",
            "Moldova",
            "Costa Rica",
            "United States-1",
            "Czech Republic-1",
            "France-1",
            "Brazil-2",
            "Indonesia-1",
            "South Korea-2",
            "Poland-1",
            "Kuwait",
            "Sri Lanka",
            "Kyrgyzstan",
            "Qatar",
            "Iceland",
            "Barbados",
            "Mozambique",
            "India",
            "Israel",
            "Armenia",
            "Uruguay",
            "Colombia",
            "Macedonia",
            "Ireland",
            "Vietnam"
           ],
           "xaxis": "x",
           "y": [
            240,
            187,
            181,
            116,
            79,
            67,
            65,
            65,
            65,
            64,
            53,
            52,
            46,
            44,
            43,
            42,
            42,
            35,
            32,
            31,
            25,
            25,
            23,
            22,
            22,
            20,
            18,
            18,
            17,
            17,
            14,
            13,
            11,
            10,
            8,
            8,
            8,
            7,
            7,
            7,
            7,
            6,
            6,
            6,
            6,
            6,
            5,
            5,
            5,
            5,
            5,
            5,
            4,
            4,
            4,
            4,
            4,
            4,
            4,
            3,
            3,
            3,
            3,
            3,
            2,
            2,
            2,
            2,
            2,
            2,
            2,
            2,
            2,
            2,
            2,
            2,
            2,
            2,
            2,
            1,
            1,
            1,
            1,
            1,
            1,
            1,
            1,
            1,
            1,
            1,
            1,
            1,
            1,
            1
           ],
           "yaxis": "y"
          }
         ],
         "name": "2000"
        },
        {
         "data": [
          {
           "alignmentgroup": "True",
           "hovertemplate": "Year=1998<br>Team=%{x}<br>Medals=%{marker.color}<extra></extra>",
           "ids": [
            "Finland",
            "Canada",
            "Russia",
            "Norway",
            "Germany",
            "United States",
            "Czech Republic",
            "Austria",
            "Italy",
            "China",
            "France",
            "Japan",
            "South Korea",
            "Netherlands",
            "Switzerland",
            "Sweden",
            "Germany-1",
            "Denmark",
            "Switzerland-1",
            "Great Britain",
            "Russia-2",
            "Russia-1",
            "Germany-2",
            "France-1",
            "Belarus",
            "Kazakhstan",
            "Canada-1",
            "Italy-1",
            "United States-2",
            "United States-1",
            "Ukraine",
            "Australia",
            "Bulgaria",
            "Belgium"
           ],
           "legendgroup": "",
           "marker": {
            "color": [
             58,
             47,
             44,
             40,
             34,
             30,
             23,
             20,
             15,
             14,
             13,
             13,
             12,
             11,
             10,
             7,
             6,
             5,
             4,
             4,
             4,
             4,
             4,
             2,
             2,
             2,
             2,
             2,
             2,
             2,
             1,
             1,
             1,
             1
            ],
            "coloraxis": "coloraxis"
           },
           "name": "",
           "offsetgroup": "",
           "orientation": "v",
           "showlegend": false,
           "textposition": "auto",
           "type": "bar",
           "x": [
            "Finland",
            "Canada",
            "Russia",
            "Norway",
            "Germany",
            "United States",
            "Czech Republic",
            "Austria",
            "Italy",
            "China",
            "France",
            "Japan",
            "South Korea",
            "Netherlands",
            "Switzerland",
            "Sweden",
            "Germany-1",
            "Denmark",
            "Switzerland-1",
            "Great Britain",
            "Russia-2",
            "Russia-1",
            "Germany-2",
            "France-1",
            "Belarus",
            "Kazakhstan",
            "Canada-1",
            "Italy-1",
            "United States-2",
            "United States-1",
            "Ukraine",
            "Australia",
            "Bulgaria",
            "Belgium"
           ],
           "xaxis": "x",
           "y": [
            58,
            47,
            44,
            40,
            34,
            30,
            23,
            20,
            15,
            14,
            13,
            13,
            12,
            11,
            10,
            7,
            6,
            5,
            4,
            4,
            4,
            4,
            4,
            2,
            2,
            2,
            2,
            2,
            2,
            2,
            1,
            1,
            1,
            1
           ],
           "yaxis": "y"
          }
         ],
         "name": "1998"
        },
        {
         "data": [
          {
           "alignmentgroup": "True",
           "hovertemplate": "Year=1996<br>Team=%{x}<br>Medals=%{marker.color}<extra></extra>",
           "ids": [
            "United States",
            "Australia",
            "Germany",
            "Russia",
            "China",
            "Netherlands",
            "Italy",
            "Spain",
            "Brazil",
            "South Korea",
            "Cuba",
            "France",
            "Canada",
            "Hungary",
            "Japan",
            "Romania",
            "Ukraine",
            "Sweden",
            "Croatia",
            "Great Britain",
            "Serbia and Montenegro",
            "Nigeria",
            "Norway",
            "Belarus",
            "Denmark",
            "Poland",
            "Bulgaria",
            "Argentina",
            "Jamaica",
            "Kazakhstan",
            "Lithuania",
            "Switzerland",
            "Czech Republic",
            "New Zealand",
            "Greece",
            "Kenya",
            "China-2",
            "Turkey",
            "Belgium",
            "South Korea-2",
            "South Africa",
            "North Korea",
            "Bahamas",
            "Finland",
            "Ireland",
            "Indonesia",
            "China-1",
            "South Korea-1",
            "Algeria",
            "Portugal",
            "Ethiopia",
            "Moldova",
            "Slovakia",
            "Austria",
            "Iran",
            "Uzbekistan",
            "Georgia",
            "Slovenia",
            "Morocco",
            "France-1",
            "Trinidad and Tobago",
            "Indonesia-1",
            "Armenia",
            "Namibia",
            "Thailand",
            "Malaysia-1",
            "Canada-1",
            "Australia-1",
            "United States-2",
            "Germany-1",
            "Brazil-2",
            "United States-1",
            "Brazil-1",
            "Czech Republic-1",
            "Malaysia",
            "Azerbaijan",
            "India",
            "Mexico",
            "Uganda",
            "Syria",
            "Puerto Rico",
            "Tunisia",
            "Israel",
            "Mongolia",
            "Latvia",
            "Costa Rica",
            "Philippines",
            "Ecuador",
            "Hong Kong",
            "Chinese Taipei",
            "Zambia",
            "Burundi",
            "Tonga",
            "Mozambique"
           ],
           "legendgroup": "",
           "marker": {
            "color": [
             255,
             130,
             122,
             115,
             94,
             73,
             71,
             66,
             59,
             56,
             55,
             49,
             48,
             43,
             42,
             38,
             34,
             31,
             28,
             26,
             26,
             24,
             23,
             23,
             23,
             22,
             21,
             20,
             16,
             11,
             11,
             11,
             11,
             9,
             8,
             8,
             8,
             6,
             6,
             6,
             5,
             5,
             5,
             4,
             4,
             4,
             4,
             4,
             3,
             3,
             3,
             3,
             3,
             3,
             3,
             2,
             2,
             2,
             2,
             2,
             2,
             2,
             2,
             2,
             2,
             2,
             2,
             2,
             2,
             2,
             2,
             2,
             2,
             2,
             1,
             1,
             1,
             1,
             1,
             1,
             1,
             1,
             1,
             1,
             1,
             1,
             1,
             1,
             1,
             1,
             1,
             1,
             1,
             1
            ],
            "coloraxis": "coloraxis"
           },
           "name": "",
           "offsetgroup": "",
           "orientation": "v",
           "showlegend": false,
           "textposition": "auto",
           "type": "bar",
           "x": [
            "United States",
            "Australia",
            "Germany",
            "Russia",
            "China",
            "Netherlands",
            "Italy",
            "Spain",
            "Brazil",
            "South Korea",
            "Cuba",
            "France",
            "Canada",
            "Hungary",
            "Japan",
            "Romania",
            "Ukraine",
            "Sweden",
            "Croatia",
            "Great Britain",
            "Serbia and Montenegro",
            "Nigeria",
            "Norway",
            "Belarus",
            "Denmark",
            "Poland",
            "Bulgaria",
            "Argentina",
            "Jamaica",
            "Kazakhstan",
            "Lithuania",
            "Switzerland",
            "Czech Republic",
            "New Zealand",
            "Greece",
            "Kenya",
            "China-2",
            "Turkey",
            "Belgium",
            "South Korea-2",
            "South Africa",
            "North Korea",
            "Bahamas",
            "Finland",
            "Ireland",
            "Indonesia",
            "China-1",
            "South Korea-1",
            "Algeria",
            "Portugal",
            "Ethiopia",
            "Moldova",
            "Slovakia",
            "Austria",
            "Iran",
            "Uzbekistan",
            "Georgia",
            "Slovenia",
            "Morocco",
            "France-1",
            "Trinidad and Tobago",
            "Indonesia-1",
            "Armenia",
            "Namibia",
            "Thailand",
            "Malaysia-1",
            "Canada-1",
            "Australia-1",
            "United States-2",
            "Germany-1",
            "Brazil-2",
            "United States-1",
            "Brazil-1",
            "Czech Republic-1",
            "Malaysia",
            "Azerbaijan",
            "India",
            "Mexico",
            "Uganda",
            "Syria",
            "Puerto Rico",
            "Tunisia",
            "Israel",
            "Mongolia",
            "Latvia",
            "Costa Rica",
            "Philippines",
            "Ecuador",
            "Hong Kong",
            "Chinese Taipei",
            "Zambia",
            "Burundi",
            "Tonga",
            "Mozambique"
           ],
           "xaxis": "x",
           "y": [
            255,
            130,
            122,
            115,
            94,
            73,
            71,
            66,
            59,
            56,
            55,
            49,
            48,
            43,
            42,
            38,
            34,
            31,
            28,
            26,
            26,
            24,
            23,
            23,
            23,
            22,
            21,
            20,
            16,
            11,
            11,
            11,
            11,
            9,
            8,
            8,
            8,
            6,
            6,
            6,
            5,
            5,
            5,
            4,
            4,
            4,
            4,
            4,
            3,
            3,
            3,
            3,
            3,
            3,
            3,
            2,
            2,
            2,
            2,
            2,
            2,
            2,
            2,
            2,
            2,
            2,
            2,
            2,
            2,
            2,
            2,
            2,
            2,
            2,
            1,
            1,
            1,
            1,
            1,
            1,
            1,
            1,
            1,
            1,
            1,
            1,
            1,
            1,
            1,
            1,
            1,
            1,
            1,
            1
           ],
           "yaxis": "y"
          }
         ],
         "name": "1996"
        },
        {
         "data": [
          {
           "alignmentgroup": "True",
           "hovertemplate": "Year=1994<br>Team=%{x}<br>Medals=%{marker.color}<extra></extra>",
           "ids": [
            "Canada",
            "Finland",
            "Norway",
            "Germany",
            "Russia",
            "Italy",
            "Sweden",
            "United States",
            "Austria",
            "France",
            "Japan",
            "South Korea",
            "Switzerland",
            "Switzerland-1",
            "Germany-1",
            "Netherlands",
            "Australia",
            "Russia-2",
            "Germany-2",
            "Italy-1",
            "Russia-1",
            "Kazakhstan",
            "Great Britain",
            "China",
            "Slovenia",
            "Switzerland-2",
            "Ukraine",
            "Canada-1",
            "Belarus",
            "Italy-2",
            "Uzbekistan"
           ],
           "legendgroup": "",
           "marker": {
            "color": [
             35,
             30,
             30,
             30,
             28,
             26,
             24,
             19,
             12,
             11,
             10,
             9,
             8,
             6,
             6,
             4,
             4,
             4,
             4,
             4,
             4,
             3,
             3,
             3,
             3,
             2,
             2,
             2,
             2,
             2,
             1
            ],
            "coloraxis": "coloraxis"
           },
           "name": "",
           "offsetgroup": "",
           "orientation": "v",
           "showlegend": false,
           "textposition": "auto",
           "type": "bar",
           "x": [
            "Canada",
            "Finland",
            "Norway",
            "Germany",
            "Russia",
            "Italy",
            "Sweden",
            "United States",
            "Austria",
            "France",
            "Japan",
            "South Korea",
            "Switzerland",
            "Switzerland-1",
            "Germany-1",
            "Netherlands",
            "Australia",
            "Russia-2",
            "Germany-2",
            "Italy-1",
            "Russia-1",
            "Kazakhstan",
            "Great Britain",
            "China",
            "Slovenia",
            "Switzerland-2",
            "Ukraine",
            "Canada-1",
            "Belarus",
            "Italy-2",
            "Uzbekistan"
           ],
           "xaxis": "x",
           "y": [
            35,
            30,
            30,
            30,
            28,
            26,
            24,
            19,
            12,
            11,
            10,
            9,
            8,
            6,
            6,
            4,
            4,
            4,
            4,
            4,
            4,
            3,
            3,
            3,
            3,
            2,
            2,
            2,
            2,
            2,
            1
           ],
           "yaxis": "y"
          }
         ],
         "name": "1994"
        },
        {
         "data": [
          {
           "alignmentgroup": "True",
           "hovertemplate": "Year=1992<br>Team=%{x}<br>Medals=%{marker.color}<extra></extra>",
           "ids": [
            "Unified Team",
            "United States",
            "Germany",
            "Canada",
            "China",
            "Spain",
            "Cuba",
            "France",
            "Italy",
            "Japan",
            "Australia",
            "Romania",
            "Great Britain",
            "Norway",
            "Poland",
            "Hungary",
            "South Korea",
            "Sweden",
            "Netherlands",
            "Czechoslovakia",
            "Austria",
            "Finland",
            "Ghana",
            "Chinese Taipei",
            "Bulgaria",
            "Pakistan",
            "New Zealand",
            "Croatia",
            "Brazil",
            "Denmark",
            "Lithuania",
            "Nigeria",
            "North Korea",
            "Kenya",
            "Germany-1",
            "South Korea-1",
            "Switzerland-1",
            "Turkey",
            "Slovenia",
            "China-1",
            "China-2",
            "France-1",
            "Indonesia",
            "Austria-1",
            "Unified Team-2",
            "Jamaica",
            "Germany-2",
            "Unified Team-1",
            "South Korea-2",
            "Estonia",
            "Ethiopia",
            "Morocco",
            "South Africa",
            "Iran",
            "Individual Olympic Athletes",
            "Latvia",
            "Belgium",
            "Algeria",
            "Switzerland",
            "Argentina",
            "Mongolia",
            "Israel",
            "Greece",
            "Ireland",
            "Canada-1",
            "Italy-1",
            "North Korea-1",
            "Luxembourg",
            "United States-1",
            "Namibia",
            "Czechoslovakia-1",
            "Indonesia-1",
            "Malaysia-2",
            "Qatar",
            "Puerto Rico",
            "Colombia",
            "Mexico",
            "Philippines",
            "Peru",
            "Suriname",
            "Thailand",
            "Bahamas"
           ],
           "legendgroup": "",
           "marker": {
            "color": [
             271,
             236,
             224,
             78,
             73,
             70,
             69,
             65,
             64,
             59,
             57,
             53,
             50,
             47,
             46,
             45,
             44,
             42,
             37,
             33,
             31,
             20,
             20,
             20,
             17,
             16,
             16,
             15,
             14,
             14,
             13,
             11,
             9,
             8,
             8,
             8,
             6,
             6,
             6,
             6,
             6,
             4,
             4,
             4,
             4,
             4,
             4,
             4,
             4,
             3,
             3,
             3,
             3,
             3,
             3,
             3,
             3,
             2,
             2,
             2,
             2,
             2,
             2,
             2,
             2,
             2,
             2,
             2,
             2,
             2,
             2,
             2,
             2,
             1,
             1,
             1,
             1,
             1,
             1,
             1,
             1,
             1
            ],
            "coloraxis": "coloraxis"
           },
           "name": "",
           "offsetgroup": "",
           "orientation": "v",
           "showlegend": false,
           "textposition": "auto",
           "type": "bar",
           "x": [
            "Unified Team",
            "United States",
            "Germany",
            "Canada",
            "China",
            "Spain",
            "Cuba",
            "France",
            "Italy",
            "Japan",
            "Australia",
            "Romania",
            "Great Britain",
            "Norway",
            "Poland",
            "Hungary",
            "South Korea",
            "Sweden",
            "Netherlands",
            "Czechoslovakia",
            "Austria",
            "Finland",
            "Ghana",
            "Chinese Taipei",
            "Bulgaria",
            "Pakistan",
            "New Zealand",
            "Croatia",
            "Brazil",
            "Denmark",
            "Lithuania",
            "Nigeria",
            "North Korea",
            "Kenya",
            "Germany-1",
            "South Korea-1",
            "Switzerland-1",
            "Turkey",
            "Slovenia",
            "China-1",
            "China-2",
            "France-1",
            "Indonesia",
            "Austria-1",
            "Unified Team-2",
            "Jamaica",
            "Germany-2",
            "Unified Team-1",
            "South Korea-2",
            "Estonia",
            "Ethiopia",
            "Morocco",
            "South Africa",
            "Iran",
            "Individual Olympic Athletes",
            "Latvia",
            "Belgium",
            "Algeria",
            "Switzerland",
            "Argentina",
            "Mongolia",
            "Israel",
            "Greece",
            "Ireland",
            "Canada-1",
            "Italy-1",
            "North Korea-1",
            "Luxembourg",
            "United States-1",
            "Namibia",
            "Czechoslovakia-1",
            "Indonesia-1",
            "Malaysia-2",
            "Qatar",
            "Puerto Rico",
            "Colombia",
            "Mexico",
            "Philippines",
            "Peru",
            "Suriname",
            "Thailand",
            "Bahamas"
           ],
           "xaxis": "x",
           "y": [
            271,
            236,
            224,
            78,
            73,
            70,
            69,
            65,
            64,
            59,
            57,
            53,
            50,
            47,
            46,
            45,
            44,
            42,
            37,
            33,
            31,
            20,
            20,
            20,
            17,
            16,
            16,
            15,
            14,
            14,
            13,
            11,
            9,
            8,
            8,
            8,
            6,
            6,
            6,
            6,
            6,
            4,
            4,
            4,
            4,
            4,
            4,
            4,
            4,
            3,
            3,
            3,
            3,
            3,
            3,
            3,
            3,
            2,
            2,
            2,
            2,
            2,
            2,
            2,
            2,
            2,
            2,
            2,
            2,
            2,
            2,
            2,
            2,
            1,
            1,
            1,
            1,
            1,
            1,
            1,
            1,
            1
           ],
           "yaxis": "y"
          }
         ],
         "name": "1992"
        },
        {
         "data": [
          {
           "alignmentgroup": "True",
           "hovertemplate": "Year=1988<br>Team=%{x}<br>Medals=%{marker.color}<extra></extra>",
           "ids": [
            "Soviet Union",
            "United States",
            "East Germany",
            "West Germany",
            "South Korea",
            "Yugoslavia",
            "Romania",
            "Great Britain",
            "Netherlands",
            "China",
            "Sweden",
            "Hungary",
            "Bulgaria",
            "Finland",
            "Italy",
            "Australia",
            "Norway",
            "France",
            "Canada",
            "Switzerland",
            "New Zealand",
            "Brazil",
            "Japan",
            "Poland",
            "Czechoslovakia",
            "Argentina",
            "Austria",
            "Peru",
            "Kenya",
            "Soviet Union-2",
            "East Germany-1",
            "Jamaica",
            "Denmark",
            "Soviet Union-1",
            "Spain",
            "East Germany-2",
            "Switzerland-1",
            "Morocco",
            "Indonesia",
            "Mexico",
            "Turkey",
            "United States-1",
            "South Korea-2",
            "Belgium",
            "Canada-1",
            "West Germany-1",
            "China-1",
            "Djibouti",
            "United States Virgin Islands",
            "Portugal",
            "Philippines",
            "Iran",
            "Pakistan",
            "Costa Rica",
            "Chile",
            "Colombia",
            "Greece",
            "Suriname",
            "Senegal",
            "Mongolia",
            "Liechtenstein",
            "Netherlands Antilles",
            "Thailand"
           ],
           "legendgroup": "",
           "marker": {
            "color": [
             352,
             212,
             201,
             127,
             75,
             69,
             58,
             54,
             52,
             50,
             46,
             44,
             41,
             38,
             37,
             35,
             33,
             31,
             27,
             24,
             24,
             23,
             21,
             21,
             16,
             13,
             13,
             12,
             9,
             8,
             8,
             7,
             7,
             6,
             5,
             4,
             4,
             3,
             3,
             2,
             2,
             2,
             2,
             2,
             2,
             2,
             2,
             1,
             1,
             1,
             1,
             1,
             1,
             1,
             1,
             1,
             1,
             1,
             1,
             1,
             1,
             1,
             1
            ],
            "coloraxis": "coloraxis"
           },
           "name": "",
           "offsetgroup": "",
           "orientation": "v",
           "showlegend": false,
           "textposition": "auto",
           "type": "bar",
           "x": [
            "Soviet Union",
            "United States",
            "East Germany",
            "West Germany",
            "South Korea",
            "Yugoslavia",
            "Romania",
            "Great Britain",
            "Netherlands",
            "China",
            "Sweden",
            "Hungary",
            "Bulgaria",
            "Finland",
            "Italy",
            "Australia",
            "Norway",
            "France",
            "Canada",
            "Switzerland",
            "New Zealand",
            "Brazil",
            "Japan",
            "Poland",
            "Czechoslovakia",
            "Argentina",
            "Austria",
            "Peru",
            "Kenya",
            "Soviet Union-2",
            "East Germany-1",
            "Jamaica",
            "Denmark",
            "Soviet Union-1",
            "Spain",
            "East Germany-2",
            "Switzerland-1",
            "Morocco",
            "Indonesia",
            "Mexico",
            "Turkey",
            "United States-1",
            "South Korea-2",
            "Belgium",
            "Canada-1",
            "West Germany-1",
            "China-1",
            "Djibouti",
            "United States Virgin Islands",
            "Portugal",
            "Philippines",
            "Iran",
            "Pakistan",
            "Costa Rica",
            "Chile",
            "Colombia",
            "Greece",
            "Suriname",
            "Senegal",
            "Mongolia",
            "Liechtenstein",
            "Netherlands Antilles",
            "Thailand"
           ],
           "xaxis": "x",
           "y": [
            352,
            212,
            201,
            127,
            75,
            69,
            58,
            54,
            52,
            50,
            46,
            44,
            41,
            38,
            37,
            35,
            33,
            31,
            27,
            24,
            24,
            23,
            21,
            21,
            16,
            13,
            13,
            12,
            9,
            8,
            8,
            7,
            7,
            6,
            5,
            4,
            4,
            3,
            3,
            2,
            2,
            2,
            2,
            2,
            2,
            2,
            2,
            1,
            1,
            1,
            1,
            1,
            1,
            1,
            1,
            1,
            1,
            1,
            1,
            1,
            1,
            1,
            1
           ],
           "yaxis": "y"
          }
         ],
         "name": "1988"
        },
        {
         "data": [
          {
           "alignmentgroup": "True",
           "hovertemplate": "Year=1984<br>Team=%{x}<br>Medals=%{marker.color}<extra></extra>",
           "ids": [
            "United States",
            "West Germany",
            "Romania",
            "Canada",
            "Yugoslavia",
            "China",
            "Great Britain",
            "France",
            "Italy",
            "Sweden",
            "Australia",
            "Japan",
            "Soviet Union",
            "Netherlands",
            "South Korea",
            "Brazil",
            "Finland",
            "Czechoslovakia",
            "New Zealand",
            "Norway",
            "Spain",
            "East Germany",
            "Switzerland",
            "Pakistan",
            "Denmark",
            "East Germany-1",
            "Jamaica",
            "Mexico",
            "Soviet Union-2",
            "Soviet Union-1",
            "East Germany-2",
            "Nigeria",
            "Belgium",
            "Austria",
            "Switzerland-1",
            "Kenya",
            "Turkey",
            "Venezuela",
            "Portugal",
            "Algeria",
            "Morocco",
            "Puerto Rico",
            "Greece",
            "United States-1",
            "Great Britain-1",
            "Liechtenstein",
            "West Germany-1",
            "Egypt",
            "Cameroon",
            "Dominican Republic",
            "Cote d'Ivoire",
            "Iceland",
            "Syria",
            "Peru",
            "Thailand",
            "Colombia",
            "Ireland",
            "Chinese Taipei",
            "Zambia"
           ],
           "legendgroup": "",
           "marker": {
            "color": [
             359,
             164,
             106,
             91,
             88,
             74,
             71,
             70,
             65,
             64,
             52,
             50,
             44,
             41,
             41,
             36,
             31,
             28,
             23,
             19,
             19,
             19,
             17,
             16,
             13,
             8,
             7,
             6,
             6,
             6,
             6,
             5,
             5,
             4,
             4,
             3,
             3,
             3,
             3,
             2,
             2,
             2,
             2,
             2,
             2,
             2,
             2,
             1,
             1,
             1,
             1,
             1,
             1,
             1,
             1,
             1,
             1,
             1,
             1
            ],
            "coloraxis": "coloraxis"
           },
           "name": "",
           "offsetgroup": "",
           "orientation": "v",
           "showlegend": false,
           "textposition": "auto",
           "type": "bar",
           "x": [
            "United States",
            "West Germany",
            "Romania",
            "Canada",
            "Yugoslavia",
            "China",
            "Great Britain",
            "France",
            "Italy",
            "Sweden",
            "Australia",
            "Japan",
            "Soviet Union",
            "Netherlands",
            "South Korea",
            "Brazil",
            "Finland",
            "Czechoslovakia",
            "New Zealand",
            "Norway",
            "Spain",
            "East Germany",
            "Switzerland",
            "Pakistan",
            "Denmark",
            "East Germany-1",
            "Jamaica",
            "Mexico",
            "Soviet Union-2",
            "Soviet Union-1",
            "East Germany-2",
            "Nigeria",
            "Belgium",
            "Austria",
            "Switzerland-1",
            "Kenya",
            "Turkey",
            "Venezuela",
            "Portugal",
            "Algeria",
            "Morocco",
            "Puerto Rico",
            "Greece",
            "United States-1",
            "Great Britain-1",
            "Liechtenstein",
            "West Germany-1",
            "Egypt",
            "Cameroon",
            "Dominican Republic",
            "Cote d'Ivoire",
            "Iceland",
            "Syria",
            "Peru",
            "Thailand",
            "Colombia",
            "Ireland",
            "Chinese Taipei",
            "Zambia"
           ],
           "xaxis": "x",
           "y": [
            359,
            164,
            106,
            91,
            88,
            74,
            71,
            70,
            65,
            64,
            52,
            50,
            44,
            41,
            41,
            36,
            31,
            28,
            23,
            19,
            19,
            19,
            17,
            16,
            13,
            8,
            7,
            6,
            6,
            6,
            6,
            5,
            5,
            4,
            4,
            3,
            3,
            3,
            3,
            2,
            2,
            2,
            2,
            2,
            2,
            2,
            2,
            1,
            1,
            1,
            1,
            1,
            1,
            1,
            1,
            1,
            1,
            1,
            1
           ],
           "yaxis": "y"
          }
         ],
         "name": "1984"
        },
        {
         "data": [
          {
           "alignmentgroup": "True",
           "hovertemplate": "Year=1980<br>Team=%{x}<br>Medals=%{marker.color}<extra></extra>",
           "ids": [
            "Soviet Union",
            "East Germany",
            "Bulgaria",
            "Romania",
            "Hungary",
            "Yugoslavia",
            "Czechoslovakia",
            "Poland",
            "Great Britain",
            "Sweden",
            "Italy",
            "United States",
            "France",
            "Spain",
            "Finland",
            "Cuba",
            "India",
            "Norway",
            "Zimbabwe",
            "Australia",
            "Austria",
            "Netherlands",
            "Mexico",
            "East Germany-1",
            "Brazil",
            "West Germany",
            "Denmark",
            "East Germany-2",
            "Switzerland",
            "Greece",
            "North Korea",
            "Mongolia",
            "Ethiopia",
            "Switzerland-1",
            "Soviet Union-1",
            "Soviet Union-2",
            "Liechtenstein",
            "Jamaica",
            "Ireland",
            "Tanzania",
            "Canada",
            "Switzerland-2",
            "Austria-1",
            "Italy-1",
            "Venezuela",
            "Japan",
            "Uganda",
            "Lebanon",
            "Belgium",
            "Guyana"
           ],
           "legendgroup": "",
           "marker": {
            "color": [
             488,
             287,
             91,
             68,
             63,
             57,
             52,
             50,
             48,
             43,
             38,
             30,
             30,
             24,
             21,
             20,
             16,
             15,
             15,
             13,
             11,
             10,
             10,
             10,
             9,
             8,
             8,
             6,
             5,
             5,
             5,
             4,
             4,
             4,
             4,
             4,
             4,
             3,
             3,
             2,
             2,
             2,
             2,
             2,
             1,
             1,
             1,
             1,
             1,
             1
            ],
            "coloraxis": "coloraxis"
           },
           "name": "",
           "offsetgroup": "",
           "orientation": "v",
           "showlegend": false,
           "textposition": "auto",
           "type": "bar",
           "x": [
            "Soviet Union",
            "East Germany",
            "Bulgaria",
            "Romania",
            "Hungary",
            "Yugoslavia",
            "Czechoslovakia",
            "Poland",
            "Great Britain",
            "Sweden",
            "Italy",
            "United States",
            "France",
            "Spain",
            "Finland",
            "Cuba",
            "India",
            "Norway",
            "Zimbabwe",
            "Australia",
            "Austria",
            "Netherlands",
            "Mexico",
            "East Germany-1",
            "Brazil",
            "West Germany",
            "Denmark",
            "East Germany-2",
            "Switzerland",
            "Greece",
            "North Korea",
            "Mongolia",
            "Ethiopia",
            "Switzerland-1",
            "Soviet Union-1",
            "Soviet Union-2",
            "Liechtenstein",
            "Jamaica",
            "Ireland",
            "Tanzania",
            "Canada",
            "Switzerland-2",
            "Austria-1",
            "Italy-1",
            "Venezuela",
            "Japan",
            "Uganda",
            "Lebanon",
            "Belgium",
            "Guyana"
           ],
           "xaxis": "x",
           "y": [
            488,
            287,
            91,
            68,
            63,
            57,
            52,
            50,
            48,
            43,
            38,
            30,
            30,
            24,
            21,
            20,
            16,
            15,
            15,
            13,
            11,
            10,
            10,
            10,
            9,
            8,
            8,
            6,
            5,
            5,
            5,
            4,
            4,
            4,
            4,
            4,
            4,
            3,
            3,
            2,
            2,
            2,
            2,
            2,
            1,
            1,
            1,
            1,
            1,
            1
           ],
           "yaxis": "y"
          }
         ],
         "name": "1980"
        },
        {
         "data": [
          {
           "alignmentgroup": "True",
           "hovertemplate": "Year=1976<br>Team=%{x}<br>Medals=%{marker.color}<extra></extra>",
           "ids": [
            "Soviet Union",
            "East Germany",
            "United States",
            "West Germany",
            "Poland",
            "Romania",
            "Hungary",
            "Japan",
            "Bulgaria",
            "Italy",
            "Czechoslovakia",
            "Great Britain",
            "Canada",
            "New Zealand",
            "Cuba",
            "Australia",
            "Finland",
            "France",
            "Netherlands",
            "Yugoslavia",
            "South Korea",
            "Pakistan",
            "Norway",
            "Switzerland",
            "Sweden",
            "Belgium",
            "Denmark",
            "East Germany-1",
            "West Germany-1",
            "Spain",
            "Austria",
            "Switzerland-2",
            "East Germany-2",
            "Soviet Union-1",
            "Brazil",
            "Iran",
            "Portugal",
            "Mexico",
            "Jamaica",
            "North Korea",
            "United States-1",
            "Liechtenstein",
            "Switzerland-1",
            "Austria-1",
            "Soviet Union-2",
            "Trinidad and Tobago",
            "Puerto Rico",
            "Venezuela",
            "Thailand",
            "Mongolia",
            "Bermuda"
           ],
           "legendgroup": "",
           "marker": {
            "color": [
             336,
             215,
             173,
             102,
             73,
             55,
             55,
             41,
             39,
             35,
             34,
             33,
             26,
             25,
             24,
             23,
             22,
             21,
             20,
             19,
             17,
             16,
             16,
             13,
             12,
             9,
             8,
             8,
             8,
             6,
             6,
             4,
             4,
             4,
             3,
             2,
             2,
             2,
             2,
             2,
             2,
             2,
             2,
             2,
             2,
             1,
             1,
             1,
             1,
             1,
             1
            ],
            "coloraxis": "coloraxis"
           },
           "name": "",
           "offsetgroup": "",
           "orientation": "v",
           "showlegend": false,
           "textposition": "auto",
           "type": "bar",
           "x": [
            "Soviet Union",
            "East Germany",
            "United States",
            "West Germany",
            "Poland",
            "Romania",
            "Hungary",
            "Japan",
            "Bulgaria",
            "Italy",
            "Czechoslovakia",
            "Great Britain",
            "Canada",
            "New Zealand",
            "Cuba",
            "Australia",
            "Finland",
            "France",
            "Netherlands",
            "Yugoslavia",
            "South Korea",
            "Pakistan",
            "Norway",
            "Switzerland",
            "Sweden",
            "Belgium",
            "Denmark",
            "East Germany-1",
            "West Germany-1",
            "Spain",
            "Austria",
            "Switzerland-2",
            "East Germany-2",
            "Soviet Union-1",
            "Brazil",
            "Iran",
            "Portugal",
            "Mexico",
            "Jamaica",
            "North Korea",
            "United States-1",
            "Liechtenstein",
            "Switzerland-1",
            "Austria-1",
            "Soviet Union-2",
            "Trinidad and Tobago",
            "Puerto Rico",
            "Venezuela",
            "Thailand",
            "Mongolia",
            "Bermuda"
           ],
           "xaxis": "x",
           "y": [
            336,
            215,
            173,
            102,
            73,
            55,
            55,
            41,
            39,
            35,
            34,
            33,
            26,
            25,
            24,
            23,
            22,
            21,
            20,
            19,
            17,
            16,
            16,
            13,
            12,
            9,
            8,
            8,
            8,
            6,
            6,
            4,
            4,
            4,
            3,
            2,
            2,
            2,
            2,
            2,
            2,
            2,
            2,
            2,
            2,
            1,
            1,
            1,
            1,
            1,
            1
           ],
           "yaxis": "y"
          }
         ],
         "name": "1976"
        },
        {
         "data": [
          {
           "alignmentgroup": "True",
           "hovertemplate": "Year=1972<br>Team=%{x}<br>Medals=%{marker.color}<extra></extra>",
           "ids": [
            "Soviet Union",
            "United States",
            "East Germany",
            "West Germany",
            "Hungary",
            "Japan",
            "Czechoslovakia",
            "Poland",
            "Romania",
            "Great Britain",
            "Italy",
            "Sweden",
            "Norway",
            "France",
            "Cuba",
            "Bulgaria",
            "Finland",
            "Australia",
            "Switzerland",
            "Yugoslavia",
            "Netherlands",
            "Pakistan",
            "North Korea",
            "New Zealand",
            "India",
            "Canada",
            "Kenya",
            "Austria",
            "West Germany-1",
            "East Germany-1",
            "Italy-1",
            "Switzerland-1",
            "Colombia",
            "Iran",
            "Ethiopia",
            "Brazil",
            "Uganda",
            "Greece",
            "Spain",
            "West Germany-2",
            "Belgium",
            "East Germany-2",
            "Soviet Union-2",
            "Soviet Union-1",
            "Nigeria",
            "Argentina",
            "Lebanon",
            "Ghana",
            "Mexico",
            "Denmark",
            "Turkey",
            "Jamaica",
            "South Korea",
            "Mongolia",
            "Tunisia",
            "Niger"
           ],
           "legendgroup": "",
           "marker": {
            "color": [
             255,
             195,
             163,
             102,
             81,
             59,
             49,
             47,
             40,
             29,
             28,
             26,
             25,
             25,
             22,
             22,
             20,
             20,
             19,
             18,
             15,
             15,
             15,
             14,
             14,
             12,
             12,
             8,
             8,
             6,
             6,
             6,
             3,
             3,
             2,
             2,
             2,
             2,
             2,
             2,
             2,
             2,
             2,
             2,
             1,
             1,
             1,
             1,
             1,
             1,
             1,
             1,
             1,
             1,
             1,
             1
            ],
            "coloraxis": "coloraxis"
           },
           "name": "",
           "offsetgroup": "",
           "orientation": "v",
           "showlegend": false,
           "textposition": "auto",
           "type": "bar",
           "x": [
            "Soviet Union",
            "United States",
            "East Germany",
            "West Germany",
            "Hungary",
            "Japan",
            "Czechoslovakia",
            "Poland",
            "Romania",
            "Great Britain",
            "Italy",
            "Sweden",
            "Norway",
            "France",
            "Cuba",
            "Bulgaria",
            "Finland",
            "Australia",
            "Switzerland",
            "Yugoslavia",
            "Netherlands",
            "Pakistan",
            "North Korea",
            "New Zealand",
            "India",
            "Canada",
            "Kenya",
            "Austria",
            "West Germany-1",
            "East Germany-1",
            "Italy-1",
            "Switzerland-1",
            "Colombia",
            "Iran",
            "Ethiopia",
            "Brazil",
            "Uganda",
            "Greece",
            "Spain",
            "West Germany-2",
            "Belgium",
            "East Germany-2",
            "Soviet Union-2",
            "Soviet Union-1",
            "Nigeria",
            "Argentina",
            "Lebanon",
            "Ghana",
            "Mexico",
            "Denmark",
            "Turkey",
            "Jamaica",
            "South Korea",
            "Mongolia",
            "Tunisia",
            "Niger"
           ],
           "xaxis": "x",
           "y": [
            255,
            195,
            163,
            102,
            81,
            59,
            49,
            47,
            40,
            29,
            28,
            26,
            25,
            25,
            22,
            22,
            20,
            20,
            19,
            18,
            15,
            15,
            15,
            14,
            14,
            12,
            12,
            8,
            8,
            6,
            6,
            6,
            3,
            3,
            2,
            2,
            2,
            2,
            2,
            2,
            2,
            2,
            2,
            2,
            1,
            1,
            1,
            1,
            1,
            1,
            1,
            1,
            1,
            1,
            1,
            1
           ],
           "yaxis": "y"
          }
         ],
         "name": "1972"
        },
        {
         "data": [
          {
           "alignmentgroup": "True",
           "hovertemplate": "Year=1968<br>Team=%{x}<br>Medals=%{marker.color}<extra></extra>",
           "ids": [
            "Soviet Union",
            "United States",
            "Hungary",
            "Japan",
            "East Germany",
            "West Germany",
            "Australia",
            "Czechoslovakia",
            "Poland",
            "France",
            "Italy",
            "Canada",
            "Yugoslavia",
            "Norway",
            "Bulgaria",
            "Sweden",
            "Netherlands",
            "Romania",
            "Great Britain",
            "Switzerland",
            "Denmark",
            "India",
            "Austria",
            "Pakistan",
            "Finland",
            "Kenya",
            "Cuba",
            "Mexico",
            "New Zealand",
            "Italy-1",
            "West Germany-1",
            "Austria-1",
            "Iran",
            "Brazil",
            "Mongolia",
            "Switzerland-1",
            "Belgium",
            "Argentina",
            "Turkey",
            "Ethiopia",
            "South Korea",
            "Tunisia",
            "Soviet Union-1",
            "East Germany-1",
            "Uganda",
            "Soviet Union-2",
            "Romania-1",
            "Cameroon",
            "Greece",
            "Venezuela",
            "Jamaica",
            "Chinese Taipei"
           ],
           "legendgroup": "",
           "marker": {
            "color": [
             225,
             173,
             81,
             63,
             56,
             55,
             51,
             50,
             37,
             36,
             35,
             30,
             29,
             28,
             26,
             25,
             23,
             23,
             19,
             18,
             17,
             16,
             14,
             13,
             12,
             12,
             10,
             9,
             7,
             6,
             6,
             6,
             5,
             4,
             4,
             4,
             3,
             2,
             2,
             2,
             2,
             2,
             2,
             2,
             2,
             2,
             2,
             1,
             1,
             1,
             1,
             1
            ],
            "coloraxis": "coloraxis"
           },
           "name": "",
           "offsetgroup": "",
           "orientation": "v",
           "showlegend": false,
           "textposition": "auto",
           "type": "bar",
           "x": [
            "Soviet Union",
            "United States",
            "Hungary",
            "Japan",
            "East Germany",
            "West Germany",
            "Australia",
            "Czechoslovakia",
            "Poland",
            "France",
            "Italy",
            "Canada",
            "Yugoslavia",
            "Norway",
            "Bulgaria",
            "Sweden",
            "Netherlands",
            "Romania",
            "Great Britain",
            "Switzerland",
            "Denmark",
            "India",
            "Austria",
            "Pakistan",
            "Finland",
            "Kenya",
            "Cuba",
            "Mexico",
            "New Zealand",
            "Italy-1",
            "West Germany-1",
            "Austria-1",
            "Iran",
            "Brazil",
            "Mongolia",
            "Switzerland-1",
            "Belgium",
            "Argentina",
            "Turkey",
            "Ethiopia",
            "South Korea",
            "Tunisia",
            "Soviet Union-1",
            "East Germany-1",
            "Uganda",
            "Soviet Union-2",
            "Romania-1",
            "Cameroon",
            "Greece",
            "Venezuela",
            "Jamaica",
            "Chinese Taipei"
           ],
           "xaxis": "x",
           "y": [
            225,
            173,
            81,
            63,
            56,
            55,
            51,
            50,
            37,
            36,
            35,
            30,
            29,
            28,
            26,
            25,
            23,
            23,
            19,
            18,
            17,
            16,
            14,
            13,
            12,
            12,
            10,
            9,
            7,
            6,
            6,
            6,
            5,
            4,
            4,
            4,
            3,
            2,
            2,
            2,
            2,
            2,
            2,
            2,
            2,
            2,
            2,
            1,
            1,
            1,
            1,
            1
           ],
           "yaxis": "y"
          }
         ],
         "name": "1968"
        },
        {
         "data": [
          {
           "alignmentgroup": "True",
           "hovertemplate": "Year=1964<br>Team=%{x}<br>Medals=%{marker.color}<extra></extra>",
           "ids": [
            "Soviet Union",
            "United States",
            "Germany",
            "Czechoslovakia",
            "Japan",
            "Hungary",
            "Italy",
            "Poland",
            "Australia",
            "Sweden",
            "France",
            "Netherlands",
            "Great Britain",
            "Finland",
            "Pakistan",
            "Romania",
            "Norway",
            "India",
            "Yugoslavia",
            "Brazil",
            "Bulgaria",
            "Austria",
            "Denmark",
            "Switzerland",
            "Turkey",
            "Canada",
            "Italy-2",
            "Canada-1",
            "Trinidad and Tobago",
            "Austria-1",
            "New Zealand",
            "Italy-1",
            "Mutafo",
            "Belgium",
            "South Korea",
            "Bingo",
            "White Lady",
            "Aphrodite",
            "Rush VII",
            "Barrenjoey",
            "Iran",
            "Austria-2",
            "Tunisia",
            "Germany-1",
            "Soviet Union-1",
            "United States-1",
            "Widgeon",
            "Gem",
            "Great Britain-1",
            "Lady C",
            "Pandora",
            "Humbug V",
            "Glider",
            "Ghana",
            "Argentina",
            "Kenya",
            "Nigeria",
            "Mexico",
            "Ethiopia",
            "Philippines",
            "Uruguay",
            "North Korea",
            "Ireland",
            "Cuba"
           ],
           "legendgroup": "",
           "marker": {
            "color": [
             219,
             165,
             121,
             71,
             62,
             56,
             51,
             46,
             41,
             38,
             38,
             33,
             26,
             20,
             16,
             16,
             15,
             15,
             15,
             12,
             10,
             9,
             9,
             6,
             6,
             6,
             6,
             6,
             6,
             6,
             4,
             4,
             3,
             3,
             3,
             3,
             3,
             3,
             3,
             3,
             2,
             2,
             2,
             2,
             2,
             2,
             2,
             2,
             2,
             2,
             2,
             2,
             2,
             1,
             1,
             1,
             1,
             1,
             1,
             1,
             1,
             1,
             1,
             1
            ],
            "coloraxis": "coloraxis"
           },
           "name": "",
           "offsetgroup": "",
           "orientation": "v",
           "showlegend": false,
           "textposition": "auto",
           "type": "bar",
           "x": [
            "Soviet Union",
            "United States",
            "Germany",
            "Czechoslovakia",
            "Japan",
            "Hungary",
            "Italy",
            "Poland",
            "Australia",
            "Sweden",
            "France",
            "Netherlands",
            "Great Britain",
            "Finland",
            "Pakistan",
            "Romania",
            "Norway",
            "India",
            "Yugoslavia",
            "Brazil",
            "Bulgaria",
            "Austria",
            "Denmark",
            "Switzerland",
            "Turkey",
            "Canada",
            "Italy-2",
            "Canada-1",
            "Trinidad and Tobago",
            "Austria-1",
            "New Zealand",
            "Italy-1",
            "Mutafo",
            "Belgium",
            "South Korea",
            "Bingo",
            "White Lady",
            "Aphrodite",
            "Rush VII",
            "Barrenjoey",
            "Iran",
            "Austria-2",
            "Tunisia",
            "Germany-1",
            "Soviet Union-1",
            "United States-1",
            "Widgeon",
            "Gem",
            "Great Britain-1",
            "Lady C",
            "Pandora",
            "Humbug V",
            "Glider",
            "Ghana",
            "Argentina",
            "Kenya",
            "Nigeria",
            "Mexico",
            "Ethiopia",
            "Philippines",
            "Uruguay",
            "North Korea",
            "Ireland",
            "Cuba"
           ],
           "xaxis": "x",
           "y": [
            219,
            165,
            121,
            71,
            62,
            56,
            51,
            46,
            41,
            38,
            38,
            33,
            26,
            20,
            16,
            16,
            15,
            15,
            15,
            12,
            10,
            9,
            9,
            6,
            6,
            6,
            6,
            6,
            6,
            6,
            4,
            4,
            3,
            3,
            3,
            3,
            3,
            3,
            3,
            3,
            2,
            2,
            2,
            2,
            2,
            2,
            2,
            2,
            2,
            2,
            2,
            2,
            2,
            1,
            1,
            1,
            1,
            1,
            1,
            1,
            1,
            1,
            1,
            1
           ],
           "yaxis": "y"
          }
         ],
         "name": "1964"
        },
        {
         "data": [
          {
           "alignmentgroup": "True",
           "hovertemplate": "Year=1960<br>Team=%{x}<br>Medals=%{marker.color}<extra></extra>",
           "ids": [
            "Soviet Union",
            "United States",
            "Germany",
            "Italy",
            "Hungary",
            "Australia",
            "Poland",
            "Japan",
            "Canada",
            "Great Britain",
            "Czechoslovakia",
            "Finland",
            "Denmark",
            "Yugoslavia",
            "Sweden",
            "France",
            "Romania",
            "Pakistan",
            "Spain",
            "Brazil",
            "India",
            "Switzerland",
            "Norway",
            "Turkey",
            "Austria",
            "Bulgaria",
            "Netherlands",
            "West Indies Federation",
            "Belgium",
            "Iran",
            "New Zealand",
            "South Africa",
            "Web II",
            "Tango",
            "Venilia",
            "Ballerina IV",
            "Nirefs",
            "Minotaur",
            "Macky VI",
            "United Arab Republic",
            "Germany-1",
            "Sirene",
            "Skum",
            "Shrew II",
            "United States-1",
            "Canada-1",
            "Tornado",
            "Ma'Lindo",
            "Iraq",
            "Argentina",
            "Mexico",
            "Ghana",
            "Ethiopia",
            "Morocco",
            "Venezuela",
            "Chinese Taipei",
            "Singapore"
           ],
           "legendgroup": "",
           "marker": {
            "color": [
             209,
             145,
             93,
             86,
             66,
             46,
             32,
             31,
             28,
             28,
             23,
             19,
             18,
             17,
             16,
             15,
             15,
             14,
             14,
             13,
             13,
             11,
             9,
             9,
             9,
             7,
             5,
             5,
             4,
             4,
             3,
             3,
             3,
             3,
             3,
             3,
             3,
             3,
             3,
             2,
             2,
             2,
             2,
             2,
             2,
             2,
             2,
             2,
             1,
             1,
             1,
             1,
             1,
             1,
             1,
             1,
             1
            ],
            "coloraxis": "coloraxis"
           },
           "name": "",
           "offsetgroup": "",
           "orientation": "v",
           "showlegend": false,
           "textposition": "auto",
           "type": "bar",
           "x": [
            "Soviet Union",
            "United States",
            "Germany",
            "Italy",
            "Hungary",
            "Australia",
            "Poland",
            "Japan",
            "Canada",
            "Great Britain",
            "Czechoslovakia",
            "Finland",
            "Denmark",
            "Yugoslavia",
            "Sweden",
            "France",
            "Romania",
            "Pakistan",
            "Spain",
            "Brazil",
            "India",
            "Switzerland",
            "Norway",
            "Turkey",
            "Austria",
            "Bulgaria",
            "Netherlands",
            "West Indies Federation",
            "Belgium",
            "Iran",
            "New Zealand",
            "South Africa",
            "Web II",
            "Tango",
            "Venilia",
            "Ballerina IV",
            "Nirefs",
            "Minotaur",
            "Macky VI",
            "United Arab Republic",
            "Germany-1",
            "Sirene",
            "Skum",
            "Shrew II",
            "United States-1",
            "Canada-1",
            "Tornado",
            "Ma'Lindo",
            "Iraq",
            "Argentina",
            "Mexico",
            "Ghana",
            "Ethiopia",
            "Morocco",
            "Venezuela",
            "Chinese Taipei",
            "Singapore"
           ],
           "xaxis": "x",
           "y": [
            209,
            145,
            93,
            86,
            66,
            46,
            32,
            31,
            28,
            28,
            23,
            19,
            18,
            17,
            16,
            15,
            15,
            14,
            14,
            13,
            13,
            11,
            9,
            9,
            9,
            7,
            5,
            5,
            4,
            4,
            3,
            3,
            3,
            3,
            3,
            3,
            3,
            3,
            3,
            2,
            2,
            2,
            2,
            2,
            2,
            2,
            2,
            2,
            1,
            1,
            1,
            1,
            1,
            1,
            1,
            1,
            1
           ],
           "yaxis": "y"
          }
         ],
         "name": "1960"
        },
        {
         "data": [
          {
           "alignmentgroup": "True",
           "hovertemplate": "Year=1956<br>Team=%{x}<br>Medals=%{marker.color}<extra></extra>",
           "ids": [
            "Soviet Union",
            "United States",
            "Hungary",
            "Australia",
            "Germany",
            "Italy",
            "Sweden",
            "Finland",
            "Great Britain",
            "Canada",
            "France",
            "Japan",
            "Yugoslavia",
            "Poland",
            "Romania",
            "Bulgaria",
            "India",
            "Pakistan",
            "Austria",
            "Uruguay",
            "Norway",
            "South Africa",
            "Turkey",
            "Czechoslovakia",
            "Switzerland",
            "Switzerland-1",
            "Italy-2",
            "Iran",
            "Ireland",
            "Chile",
            "United States-1",
            "Vision",
            "Denmark",
            "Tip",
            "Bluebottle",
            "Slaghoken II",
            "Buraddoo",
            "Rush V",
            "Belgium",
            "Mexico",
            "South Korea",
            "Austria-1",
            "Argentina",
            "Chuckles",
            "Canada-1",
            "Italy-1",
            "Jest",
            "Gem IV",
            "Kathleen",
            "Merope III",
            "Falcon IV",
            "New Zealand",
            "Brazil",
            "Greece",
            "Iceland"
           ],
           "legendgroup": "",
           "marker": {
            "color": [
             206,
             143,
             66,
             62,
             54,
             45,
             43,
             38,
             37,
             37,
             33,
             25,
             23,
             20,
             19,
             18,
             17,
             14,
             14,
             12,
             7,
             7,
             7,
             7,
             7,
             6,
             6,
             5,
             5,
             4,
             4,
             4,
             3,
             3,
             3,
             3,
             3,
             3,
             2,
             2,
             2,
             2,
             2,
             2,
             2,
             2,
             2,
             2,
             2,
             2,
             2,
             1,
             1,
             1,
             1
            ],
            "coloraxis": "coloraxis"
           },
           "name": "",
           "offsetgroup": "",
           "orientation": "v",
           "showlegend": false,
           "textposition": "auto",
           "type": "bar",
           "x": [
            "Soviet Union",
            "United States",
            "Hungary",
            "Australia",
            "Germany",
            "Italy",
            "Sweden",
            "Finland",
            "Great Britain",
            "Canada",
            "France",
            "Japan",
            "Yugoslavia",
            "Poland",
            "Romania",
            "Bulgaria",
            "India",
            "Pakistan",
            "Austria",
            "Uruguay",
            "Norway",
            "South Africa",
            "Turkey",
            "Czechoslovakia",
            "Switzerland",
            "Switzerland-1",
            "Italy-2",
            "Iran",
            "Ireland",
            "Chile",
            "United States-1",
            "Vision",
            "Denmark",
            "Tip",
            "Bluebottle",
            "Slaghoken II",
            "Buraddoo",
            "Rush V",
            "Belgium",
            "Mexico",
            "South Korea",
            "Austria-1",
            "Argentina",
            "Chuckles",
            "Canada-1",
            "Italy-1",
            "Jest",
            "Gem IV",
            "Kathleen",
            "Merope III",
            "Falcon IV",
            "New Zealand",
            "Brazil",
            "Greece",
            "Iceland"
           ],
           "xaxis": "x",
           "y": [
            206,
            143,
            66,
            62,
            54,
            45,
            43,
            38,
            37,
            37,
            33,
            25,
            23,
            20,
            19,
            18,
            17,
            14,
            14,
            12,
            7,
            7,
            7,
            7,
            7,
            6,
            6,
            5,
            5,
            4,
            4,
            4,
            3,
            3,
            3,
            3,
            3,
            3,
            2,
            2,
            2,
            2,
            2,
            2,
            2,
            2,
            2,
            2,
            2,
            2,
            2,
            1,
            1,
            1,
            1
           ],
           "yaxis": "y"
          }
         ],
         "name": "1956"
        },
        {
         "data": [
          {
           "alignmentgroup": "True",
           "hovertemplate": "Year=1952<br>Team=%{x}<br>Medals=%{marker.color}<extra></extra>",
           "ids": [
            "United States",
            "Soviet Union",
            "Hungary",
            "Sweden",
            "Italy",
            "Finland",
            "Germany",
            "France",
            "Switzerland",
            "Great Britain",
            "Czechoslovakia",
            "Yugoslavia",
            "Norway",
            "Canada",
            "Netherlands",
            "Australia",
            "India",
            "Uruguay",
            "South Africa",
            "Japan",
            "Austria",
            "Denmark",
            "Belgium",
            "United States-1",
            "Jamaica",
            "Iran",
            "Argentina",
            "Llanoria",
            "Switzerland-1",
            "Elisabeth X",
            "Ralia",
            "Romania",
            "Poland",
            "Chile",
            "Complex II",
            "Germany-1",
            "Turkey",
            "Brazil",
            "Tornado",
            "New Zealand",
            "Pan",
            "Encore",
            "Gustel X",
            "Hojwa",
            "Lebanon",
            "South Korea",
            "Espadarte",
            "Trinidad and Tobago",
            "Hungary-1",
            "Comanche",
            "Merope",
            "Egypt",
            "Spain",
            "Mexico",
            "Venezuela",
            "Luxembourg",
            "Bulgaria",
            "Ireland"
           ],
           "legendgroup": "",
           "marker": {
            "color": [
             144,
             117,
             102,
             87,
             54,
             47,
             45,
             41,
             33,
             32,
             25,
             24,
             21,
             21,
             21,
             20,
             15,
             14,
             14,
             12,
             11,
             9,
             8,
             8,
             8,
             7,
             6,
             6,
             6,
             5,
             5,
             4,
             4,
             4,
             4,
             4,
             3,
             3,
             3,
             3,
             3,
             3,
             3,
             3,
             2,
             2,
             2,
             2,
             2,
             2,
             2,
             1,
             1,
             1,
             1,
             1,
             1,
             1
            ],
            "coloraxis": "coloraxis"
           },
           "name": "",
           "offsetgroup": "",
           "orientation": "v",
           "showlegend": false,
           "textposition": "auto",
           "type": "bar",
           "x": [
            "United States",
            "Soviet Union",
            "Hungary",
            "Sweden",
            "Italy",
            "Finland",
            "Germany",
            "France",
            "Switzerland",
            "Great Britain",
            "Czechoslovakia",
            "Yugoslavia",
            "Norway",
            "Canada",
            "Netherlands",
            "Australia",
            "India",
            "Uruguay",
            "South Africa",
            "Japan",
            "Austria",
            "Denmark",
            "Belgium",
            "United States-1",
            "Jamaica",
            "Iran",
            "Argentina",
            "Llanoria",
            "Switzerland-1",
            "Elisabeth X",
            "Ralia",
            "Romania",
            "Poland",
            "Chile",
            "Complex II",
            "Germany-1",
            "Turkey",
            "Brazil",
            "Tornado",
            "New Zealand",
            "Pan",
            "Encore",
            "Gustel X",
            "Hojwa",
            "Lebanon",
            "South Korea",
            "Espadarte",
            "Trinidad and Tobago",
            "Hungary-1",
            "Comanche",
            "Merope",
            "Egypt",
            "Spain",
            "Mexico",
            "Venezuela",
            "Luxembourg",
            "Bulgaria",
            "Ireland"
           ],
           "xaxis": "x",
           "y": [
            144,
            117,
            102,
            87,
            54,
            47,
            45,
            41,
            33,
            32,
            25,
            24,
            21,
            21,
            21,
            20,
            15,
            14,
            14,
            12,
            11,
            9,
            8,
            8,
            8,
            7,
            6,
            6,
            6,
            5,
            5,
            4,
            4,
            4,
            4,
            4,
            3,
            3,
            3,
            3,
            3,
            3,
            3,
            3,
            2,
            2,
            2,
            2,
            2,
            2,
            2,
            1,
            1,
            1,
            1,
            1,
            1,
            1
           ],
           "yaxis": "y"
          }
         ],
         "name": "1952"
        },
        {
         "data": [
          {
           "alignmentgroup": "True",
           "hovertemplate": "Year=1948<br>Team=%{x}<br>Medals=%{marker.color}<extra></extra>",
           "ids": [
            "United States",
            "Sweden",
            "France",
            "Italy",
            "Hungary",
            "Great Britain",
            "Switzerland",
            "Denmark",
            "Finland",
            "Netherlands",
            "Czechoslovakia",
            "Norway",
            "Canada",
            "Belgium",
            "India",
            "Australia",
            "Yugoslavia",
            "Austria",
            "Turkey",
            "Brazil",
            "Mexico",
            "Argentina",
            "South Africa",
            "United States-2",
            "Egypt",
            "Ali-Baba II",
            "Djinn",
            "Llanoria",
            "United States-1",
            "Uruguay",
            "Spain",
            "Snap",
            "Pan",
            "Portugal",
            "Jamaica",
            "Slaghoken",
            "Poland",
            "South Korea",
            "Switzerland-1",
            "Symphony",
            "Swift",
            "Kurush II",
            "Switzerland-2",
            "Hungary-1",
            "Panama",
            "Starita",
            "Margaret",
            "Hilarius",
            "Iran",
            "Ireland",
            "Peru",
            "Puerto Rico",
            "Sri Lanka",
            "Trinidad and Tobago"
           ],
           "legendgroup": "",
           "marker": {
            "color": [
             149,
             80,
             77,
             68,
             62,
             61,
             60,
             48,
             42,
             40,
             37,
             28,
             22,
             21,
             20,
             16,
             16,
             16,
             12,
             10,
             9,
             6,
             6,
             6,
             5,
             5,
             5,
             5,
             4,
             3,
             3,
             3,
             3,
             3,
             3,
             3,
             2,
             2,
             2,
             2,
             2,
             2,
             2,
             2,
             2,
             2,
             2,
             2,
             1,
             1,
             1,
             1,
             1,
             1
            ],
            "coloraxis": "coloraxis"
           },
           "name": "",
           "offsetgroup": "",
           "orientation": "v",
           "showlegend": false,
           "textposition": "auto",
           "type": "bar",
           "x": [
            "United States",
            "Sweden",
            "France",
            "Italy",
            "Hungary",
            "Great Britain",
            "Switzerland",
            "Denmark",
            "Finland",
            "Netherlands",
            "Czechoslovakia",
            "Norway",
            "Canada",
            "Belgium",
            "India",
            "Australia",
            "Yugoslavia",
            "Austria",
            "Turkey",
            "Brazil",
            "Mexico",
            "Argentina",
            "South Africa",
            "United States-2",
            "Egypt",
            "Ali-Baba II",
            "Djinn",
            "Llanoria",
            "United States-1",
            "Uruguay",
            "Spain",
            "Snap",
            "Pan",
            "Portugal",
            "Jamaica",
            "Slaghoken",
            "Poland",
            "South Korea",
            "Switzerland-1",
            "Symphony",
            "Swift",
            "Kurush II",
            "Switzerland-2",
            "Hungary-1",
            "Panama",
            "Starita",
            "Margaret",
            "Hilarius",
            "Iran",
            "Ireland",
            "Peru",
            "Puerto Rico",
            "Sri Lanka",
            "Trinidad and Tobago"
           ],
           "xaxis": "x",
           "y": [
            149,
            80,
            77,
            68,
            62,
            61,
            60,
            48,
            42,
            40,
            37,
            28,
            22,
            21,
            20,
            16,
            16,
            16,
            12,
            10,
            9,
            6,
            6,
            6,
            5,
            5,
            5,
            5,
            4,
            3,
            3,
            3,
            3,
            3,
            3,
            3,
            2,
            2,
            2,
            2,
            2,
            2,
            2,
            2,
            2,
            2,
            2,
            2,
            1,
            1,
            1,
            1,
            1,
            1
           ],
           "yaxis": "y"
          }
         ],
         "name": "1948"
        },
        {
         "data": [
          {
           "alignmentgroup": "True",
           "hovertemplate": "Year=1936<br>Team=%{x}<br>Medals=%{marker.color}<extra></extra>",
           "ids": [
            "Germany",
            "United States",
            "Italy",
            "Austria",
            "Switzerland",
            "Great Britain",
            "France",
            "Hungary",
            "Sweden",
            "Finland",
            "Norway",
            "Canada",
            "Netherlands",
            "Japan",
            "India",
            "Czechoslovakia",
            "Mexico",
            "Belgium",
            "Poland",
            "Argentina",
            "Estonia",
            "Denmark",
            "Switzerland-2",
            "Italia",
            "Germania II",
            "Silja",
            "Egypt",
            "Lalage",
            "May Be",
            "Lully II",
            "Switzerland-1",
            "Portugal",
            "Turkey",
            "Latvia",
            "Germany-1",
            "United States-2",
            "Wannsee",
            "United States-1",
            "Bem II",
            "Austria-1",
            "Sunshine",
            "Hungary-1",
            "Romania",
            "Philippines",
            "New Zealand",
            "Australia",
            "Yugoslavia",
            "South Africa",
            "Nrnberg",
            "Rostock",
            "Potsdam"
           ],
           "legendgroup": "",
           "marker": {
            "color": [
             220,
             108,
             70,
             58,
             52,
             47,
             45,
             41,
             38,
             36,
             35,
             35,
             34,
             23,
             19,
             18,
             16,
             14,
             12,
             11,
             7,
             6,
             6,
             6,
             6,
             6,
             5,
             5,
             5,
             5,
             4,
             3,
             2,
             2,
             2,
             2,
             2,
             2,
             2,
             2,
             2,
             2,
             1,
             1,
             1,
             1,
             1,
             1,
             1,
             1,
             1
            ],
            "coloraxis": "coloraxis"
           },
           "name": "",
           "offsetgroup": "",
           "orientation": "v",
           "showlegend": false,
           "textposition": "auto",
           "type": "bar",
           "x": [
            "Germany",
            "United States",
            "Italy",
            "Austria",
            "Switzerland",
            "Great Britain",
            "France",
            "Hungary",
            "Sweden",
            "Finland",
            "Norway",
            "Canada",
            "Netherlands",
            "Japan",
            "India",
            "Czechoslovakia",
            "Mexico",
            "Belgium",
            "Poland",
            "Argentina",
            "Estonia",
            "Denmark",
            "Switzerland-2",
            "Italia",
            "Germania II",
            "Silja",
            "Egypt",
            "Lalage",
            "May Be",
            "Lully II",
            "Switzerland-1",
            "Portugal",
            "Turkey",
            "Latvia",
            "Germany-1",
            "United States-2",
            "Wannsee",
            "United States-1",
            "Bem II",
            "Austria-1",
            "Sunshine",
            "Hungary-1",
            "Romania",
            "Philippines",
            "New Zealand",
            "Australia",
            "Yugoslavia",
            "South Africa",
            "Nrnberg",
            "Rostock",
            "Potsdam"
           ],
           "xaxis": "x",
           "y": [
            220,
            108,
            70,
            58,
            52,
            47,
            45,
            41,
            38,
            36,
            35,
            35,
            34,
            23,
            19,
            18,
            16,
            14,
            12,
            11,
            7,
            6,
            6,
            6,
            6,
            6,
            5,
            5,
            5,
            5,
            4,
            3,
            2,
            2,
            2,
            2,
            2,
            2,
            2,
            2,
            2,
            2,
            1,
            1,
            1,
            1,
            1,
            1,
            1,
            1,
            1
           ],
           "yaxis": "y"
          }
         ],
         "name": "1936"
        },
        {
         "data": [
          {
           "alignmentgroup": "True",
           "hovertemplate": "Year=1932<br>Team=%{x}<br>Medals=%{marker.color}<extra></extra>",
           "ids": [
            "United States",
            "Italy",
            "Germany",
            "Canada",
            "France",
            "Great Britain",
            "Hungary",
            "Finland",
            "Japan",
            "Sweden",
            "Poland",
            "India",
            "Netherlands",
            "Angelita",
            "Denmark",
            "Norway",
            "United States-1",
            "Austria",
            "Czechoslovakia",
            "United States-2",
            "Santa Maria",
            "Gallant",
            "South Africa",
            "Australia",
            "Bissbi",
            "Argentina",
            "Caprice",
            "Germany-1",
            "Philippines",
            "Mexico",
            "Swedish Star",
            "New Zealand",
            "Switzerland-2",
            "Ireland",
            "Jupiter",
            "Joy",
            "Hungary-1",
            "Belgium",
            "Spain",
            "Latvia",
            "Switzerland",
            "Uruguay"
           ],
           "legendgroup": "",
           "marker": {
            "color": [
             190,
             77,
             53,
             49,
             42,
             33,
             33,
             32,
             31,
             29,
             21,
             15,
             13,
             12,
             11,
             10,
             8,
             7,
             6,
             6,
             6,
             5,
             5,
             5,
             4,
             4,
             4,
             4,
             3,
             2,
             2,
             2,
             2,
             2,
             2,
             2,
             2,
             1,
             1,
             1,
             1,
             1
            ],
            "coloraxis": "coloraxis"
           },
           "name": "",
           "offsetgroup": "",
           "orientation": "v",
           "showlegend": false,
           "textposition": "auto",
           "type": "bar",
           "x": [
            "United States",
            "Italy",
            "Germany",
            "Canada",
            "France",
            "Great Britain",
            "Hungary",
            "Finland",
            "Japan",
            "Sweden",
            "Poland",
            "India",
            "Netherlands",
            "Angelita",
            "Denmark",
            "Norway",
            "United States-1",
            "Austria",
            "Czechoslovakia",
            "United States-2",
            "Santa Maria",
            "Gallant",
            "South Africa",
            "Australia",
            "Bissbi",
            "Argentina",
            "Caprice",
            "Germany-1",
            "Philippines",
            "Mexico",
            "Swedish Star",
            "New Zealand",
            "Switzerland-2",
            "Ireland",
            "Jupiter",
            "Joy",
            "Hungary-1",
            "Belgium",
            "Spain",
            "Latvia",
            "Switzerland",
            "Uruguay"
           ],
           "xaxis": "x",
           "y": [
            190,
            77,
            53,
            49,
            42,
            33,
            33,
            32,
            31,
            29,
            21,
            15,
            13,
            12,
            11,
            10,
            8,
            7,
            6,
            6,
            6,
            5,
            5,
            5,
            4,
            4,
            4,
            4,
            3,
            2,
            2,
            2,
            2,
            2,
            2,
            2,
            2,
            1,
            1,
            1,
            1,
            1
           ],
           "yaxis": "y"
          }
         ],
         "name": "1932"
        },
        {
         "data": [
          {
           "alignmentgroup": "True",
           "hovertemplate": "Year=1928<br>Team=%{x}<br>Medals=%{marker.color}<extra></extra>",
           "ids": [
            "United States",
            "Germany",
            "Italy",
            "Great Britain",
            "Netherlands",
            "Sweden",
            "France",
            "Canada",
            "Switzerland",
            "Finland",
            "Argentina",
            "Hungary",
            "Norway",
            "Poland",
            "Uruguay",
            "Czechoslovakia",
            "India",
            "Yugoslavia",
            "Denmark",
            "Japan",
            "Austria",
            "Belgium",
            "Portugal",
            "South Africa",
            "L'Aile VI",
            "Hollandia",
            "Sylvia",
            "United States-1",
            "Tutti V",
            "United States-2",
            "Germany-2",
            "Egypt",
            "Norna",
            "Australia",
            "Estonia",
            "Hi-Hi",
            "Spain",
            "Austria-2",
            "Austria-1",
            "Chile",
            "Luxembourg",
            "Ireland",
            "Haiti",
            "New Zealand",
            "Philippines"
           ],
           "legendgroup": "",
           "marker": {
            "color": [
             92,
             77,
             72,
             59,
             51,
             47,
             46,
             45,
             42,
             29,
             26,
             21,
             20,
             20,
             17,
             17,
             14,
             12,
             11,
             9,
             7,
             6,
             6,
             6,
             6,
             6,
             6,
             5,
             5,
             5,
             5,
             4,
             4,
             4,
             4,
             4,
             3,
             2,
             2,
             1,
             1,
             1,
             1,
             1,
             1
            ],
            "coloraxis": "coloraxis"
           },
           "name": "",
           "offsetgroup": "",
           "orientation": "v",
           "showlegend": false,
           "textposition": "auto",
           "type": "bar",
           "x": [
            "United States",
            "Germany",
            "Italy",
            "Great Britain",
            "Netherlands",
            "Sweden",
            "France",
            "Canada",
            "Switzerland",
            "Finland",
            "Argentina",
            "Hungary",
            "Norway",
            "Poland",
            "Uruguay",
            "Czechoslovakia",
            "India",
            "Yugoslavia",
            "Denmark",
            "Japan",
            "Austria",
            "Belgium",
            "Portugal",
            "South Africa",
            "L'Aile VI",
            "Hollandia",
            "Sylvia",
            "United States-1",
            "Tutti V",
            "United States-2",
            "Germany-2",
            "Egypt",
            "Norna",
            "Australia",
            "Estonia",
            "Hi-Hi",
            "Spain",
            "Austria-2",
            "Austria-1",
            "Chile",
            "Luxembourg",
            "Ireland",
            "Haiti",
            "New Zealand",
            "Philippines"
           ],
           "xaxis": "x",
           "y": [
            92,
            77,
            72,
            59,
            51,
            47,
            46,
            45,
            42,
            29,
            26,
            21,
            20,
            20,
            17,
            17,
            14,
            12,
            11,
            9,
            7,
            6,
            6,
            6,
            6,
            6,
            6,
            5,
            5,
            5,
            5,
            4,
            4,
            4,
            4,
            4,
            3,
            2,
            2,
            1,
            1,
            1,
            1,
            1,
            1
           ],
           "yaxis": "y"
          }
         ],
         "name": "1928"
        },
        {
         "data": [
          {
           "alignmentgroup": "True",
           "hovertemplate": "Year=1924<br>Team=%{x}<br>Medals=%{marker.color}<extra></extra>",
           "ids": [
            "United States",
            "France",
            "Great Britain",
            "Sweden",
            "Finland",
            "Switzerland",
            "Italy",
            "Belgium",
            "Norway",
            "Canada",
            "Netherlands",
            "Hungary",
            "Romania",
            "Uruguay",
            "Denmark",
            "Australia",
            "Czechoslovakia",
            "Argentina",
            "Austria",
            "India",
            "Estonia",
            "Great Britain-1",
            "Poland",
            "Haiti",
            "Bera",
            "Namoussa",
            "Belgium-1",
            "Emily",
            "Switzerland-1",
            "France-1",
            "Portugal",
            "United States-2",
            "United States-1",
            "South Africa",
            "Willem-Six",
            "Elisabeth V",
            "Bonzo",
            "Luxembourg",
            "Yugoslavia",
            "Ireland",
            "France-2",
            "Great Britain-2",
            "Monaco",
            "Greece",
            "Nepal",
            "Japan",
            "New Zealand"
           ],
           "legendgroup": "",
           "marker": {
            "color": [
             186,
             109,
             82,
             81,
             67,
             65,
             51,
             39,
             31,
             29,
             24,
             22,
             16,
             14,
             11,
             11,
             10,
             10,
             8,
             7,
             6,
             6,
             5,
             5,
             5,
             5,
             5,
             5,
             4,
             4,
             4,
             4,
             4,
             3,
             3,
             3,
             3,
             2,
             2,
             2,
             2,
             2,
             1,
             1,
             1,
             1,
             1
            ],
            "coloraxis": "coloraxis"
           },
           "name": "",
           "offsetgroup": "",
           "orientation": "v",
           "showlegend": false,
           "textposition": "auto",
           "type": "bar",
           "x": [
            "United States",
            "France",
            "Great Britain",
            "Sweden",
            "Finland",
            "Switzerland",
            "Italy",
            "Belgium",
            "Norway",
            "Canada",
            "Netherlands",
            "Hungary",
            "Romania",
            "Uruguay",
            "Denmark",
            "Australia",
            "Czechoslovakia",
            "Argentina",
            "Austria",
            "India",
            "Estonia",
            "Great Britain-1",
            "Poland",
            "Haiti",
            "Bera",
            "Namoussa",
            "Belgium-1",
            "Emily",
            "Switzerland-1",
            "France-1",
            "Portugal",
            "United States-2",
            "United States-1",
            "South Africa",
            "Willem-Six",
            "Elisabeth V",
            "Bonzo",
            "Luxembourg",
            "Yugoslavia",
            "Ireland",
            "France-2",
            "Great Britain-2",
            "Monaco",
            "Greece",
            "Nepal",
            "Japan",
            "New Zealand"
           ],
           "xaxis": "x",
           "y": [
            186,
            109,
            82,
            81,
            67,
            65,
            51,
            39,
            31,
            29,
            24,
            22,
            16,
            14,
            11,
            11,
            10,
            10,
            8,
            7,
            6,
            6,
            5,
            5,
            5,
            5,
            5,
            5,
            4,
            4,
            4,
            4,
            4,
            3,
            3,
            3,
            3,
            2,
            2,
            2,
            2,
            2,
            1,
            1,
            1,
            1,
            1
           ],
           "yaxis": "y"
          }
         ],
         "name": "1924"
        },
        {
         "data": [
          {
           "alignmentgroup": "True",
           "hovertemplate": "Year=1920<br>Team=%{x}<br>Medals=%{marker.color}<extra></extra>",
           "ids": [
            "United States",
            "Belgium",
            "Sweden",
            "France",
            "Great Britain",
            "Italy",
            "Norway",
            "Denmark",
            "Finland",
            "Netherlands",
            "Switzerland",
            "Spain",
            "South Africa",
            "Canada",
            "Czechoslovakia",
            "Heira II",
            "Atlanta",
            "Brazil",
            "Mosk II",
            "Australia",
            "Eleda",
            "Greece",
            "Antwerpia V",
            "Irene",
            "Lyn-2",
            "Fornebo",
            "France-3",
            "Elsie",
            "Ancora",
            "Sif",
            "Sildra-1",
            "Stella-2",
            "Kullan",
            "Jo",
            "Edelweiss II-1",
            "Oranje",
            "Marmi II-1",
            "Japan",
            "Estonia",
            "Beatrijs III-1",
            "Tan-Fe-Pah",
            "Rose Pompon",
            "Great Britain-2",
            "Great Britain-1",
            "Great Britain-3",
            "Boreas-2",
            "Luxembourg",
            "New Zealand"
           ],
           "legendgroup": "",
           "marker": {
            "color": [
             194,
             177,
             143,
             134,
             101,
             84,
             78,
             71,
             52,
             42,
             29,
             23,
             21,
             16,
             10,
             9,
             9,
             7,
             7,
             7,
             7,
             5,
             5,
             5,
             5,
             4,
             4,
             4,
             4,
             4,
             4,
             3,
             3,
             3,
             3,
             3,
             3,
             3,
             3,
             3,
             3,
             3,
             2,
             2,
             2,
             2,
             1,
             1
            ],
            "coloraxis": "coloraxis"
           },
           "name": "",
           "offsetgroup": "",
           "orientation": "v",
           "showlegend": false,
           "textposition": "auto",
           "type": "bar",
           "x": [
            "United States",
            "Belgium",
            "Sweden",
            "France",
            "Great Britain",
            "Italy",
            "Norway",
            "Denmark",
            "Finland",
            "Netherlands",
            "Switzerland",
            "Spain",
            "South Africa",
            "Canada",
            "Czechoslovakia",
            "Heira II",
            "Atlanta",
            "Brazil",
            "Mosk II",
            "Australia",
            "Eleda",
            "Greece",
            "Antwerpia V",
            "Irene",
            "Lyn-2",
            "Fornebo",
            "France-3",
            "Elsie",
            "Ancora",
            "Sif",
            "Sildra-1",
            "Stella-2",
            "Kullan",
            "Jo",
            "Edelweiss II-1",
            "Oranje",
            "Marmi II-1",
            "Japan",
            "Estonia",
            "Beatrijs III-1",
            "Tan-Fe-Pah",
            "Rose Pompon",
            "Great Britain-2",
            "Great Britain-1",
            "Great Britain-3",
            "Boreas-2",
            "Luxembourg",
            "New Zealand"
           ],
           "xaxis": "x",
           "y": [
            194,
            177,
            143,
            134,
            101,
            84,
            78,
            71,
            52,
            42,
            29,
            23,
            21,
            16,
            10,
            9,
            9,
            7,
            7,
            7,
            7,
            5,
            5,
            5,
            5,
            4,
            4,
            4,
            4,
            4,
            4,
            3,
            3,
            3,
            3,
            3,
            3,
            3,
            3,
            3,
            3,
            3,
            2,
            2,
            2,
            2,
            1,
            1
           ],
           "yaxis": "y"
          }
         ],
         "name": "1920"
        },
        {
         "data": [
          {
           "alignmentgroup": "True",
           "hovertemplate": "Year=1912<br>Team=%{x}<br>Medals=%{marker.color}<extra></extra>",
           "ids": [
            "Sweden",
            "Great Britain",
            "United States",
            "Denmark",
            "Norway",
            "Finland",
            "Germany",
            "Hungary",
            "Netherlands",
            "Italy",
            "France",
            "Belgium",
            "Austria",
            "England-1",
            "Magda IX",
            "Erna Signe",
            "Australasia",
            "Berliner Ruderverein von 1876-2",
            "New College, Oxford-2",
            "Leander Club-1",
            "Canada",
            "Kitty-1",
            "Russia",
            "Heatherbell",
            "Gallia II",
            "Nina",
            "South Africa",
            "Taifun",
            "Lucky Girl-1",
            "Nykjbings paa Falster",
            "Ludwigshafener Ruderverein",
            "Thames Rowing Club",
            "Polyteknisk Roklub-1",
            "Kristiania Roklub-1",
            "Ormsund Roklub-2",
            "Roddklubben af 1912-1",
            "Sans Atout-1",
            "Great Britain-2",
            "Kerstin-1",
            "Nurdug II",
            "Mac Miche",
            "Great Britain-1",
            "Greece",
            "Sweden-3",
            "Sweden-1",
            "Sweden-2",
            "Switzerland",
            "England"
           ],
           "legendgroup": "",
           "marker": {
            "color": [
             153,
             128,
             107,
             74,
             55,
             52,
             39,
             30,
             26,
             25,
             23,
             19,
             14,
             12,
             10,
             10,
             10,
             9,
             9,
             9,
             8,
             8,
             7,
             7,
             7,
             7,
             7,
             5,
             5,
             5,
             5,
             5,
             5,
             5,
             5,
             5,
             5,
             4,
             3,
             3,
             3,
             2,
             2,
             2,
             2,
             2,
             2,
             1
            ],
            "coloraxis": "coloraxis"
           },
           "name": "",
           "offsetgroup": "",
           "orientation": "v",
           "showlegend": false,
           "textposition": "auto",
           "type": "bar",
           "x": [
            "Sweden",
            "Great Britain",
            "United States",
            "Denmark",
            "Norway",
            "Finland",
            "Germany",
            "Hungary",
            "Netherlands",
            "Italy",
            "France",
            "Belgium",
            "Austria",
            "England-1",
            "Magda IX",
            "Erna Signe",
            "Australasia",
            "Berliner Ruderverein von 1876-2",
            "New College, Oxford-2",
            "Leander Club-1",
            "Canada",
            "Kitty-1",
            "Russia",
            "Heatherbell",
            "Gallia II",
            "Nina",
            "South Africa",
            "Taifun",
            "Lucky Girl-1",
            "Nykjbings paa Falster",
            "Ludwigshafener Ruderverein",
            "Thames Rowing Club",
            "Polyteknisk Roklub-1",
            "Kristiania Roklub-1",
            "Ormsund Roklub-2",
            "Roddklubben af 1912-1",
            "Sans Atout-1",
            "Great Britain-2",
            "Kerstin-1",
            "Nurdug II",
            "Mac Miche",
            "Great Britain-1",
            "Greece",
            "Sweden-3",
            "Sweden-1",
            "Sweden-2",
            "Switzerland",
            "England"
           ],
           "xaxis": "x",
           "y": [
            153,
            128,
            107,
            74,
            55,
            52,
            39,
            30,
            26,
            25,
            23,
            19,
            14,
            12,
            10,
            10,
            10,
            9,
            9,
            9,
            8,
            8,
            7,
            7,
            7,
            7,
            7,
            5,
            5,
            5,
            5,
            5,
            5,
            5,
            5,
            5,
            5,
            4,
            3,
            3,
            3,
            2,
            2,
            2,
            2,
            2,
            2,
            1
           ],
           "yaxis": "y"
          }
         ],
         "name": "1912"
        },
        {
         "data": [
          {
           "alignmentgroup": "True",
           "hovertemplate": "Year=1908<br>Team=%{x}<br>Medals=%{marker.color}<extra></extra>",
           "ids": [
            "Great Britain",
            "Sweden",
            "United States",
            "Norway",
            "Canada",
            "France",
            "Finland",
            "Belgium",
            "Hungary",
            "Germany",
            "Australasia",
            "Denmark",
            "Cornwall",
            "Great Britain-1",
            "Great Britain-2",
            "Ireland-2",
            "Netherlands",
            "England-1",
            "Scotland-3",
            "Wales-4",
            "Hera-1",
            "Mouchette-2",
            "Toronto Argonauts",
            "Cambridge University Boat Club-2",
            "Leander Club-1",
            "Royal Club Nautique de Gand",
            "Italy",
            "London City Police-1",
            "Liverpool Police Team-2",
            "K Division Metropolitan Police Team-3",
            "Argonaut Rowing Club",
            "Bohemia",
            "Gyrinus-1",
            "Cobweb-1",
            "Vinga-1",
            "Sorais-2",
            "Greece",
            "Leander Club-2",
            "Heroine",
            "Hurlingham-2",
            "Amstel Amsterdam",
            "Great Britain-3",
            "Magdalen College Boat Club-1",
            "Ireland-3",
            "Roehampton-1",
            "Guyoni",
            "Dormy-1",
            "Russia",
            "Zut",
            "South Africa",
            "Berliner Ruderclub",
            "Leander Club #2-2",
            "Leander Club #1-1",
            "Austria",
            "Camille"
           ],
           "legendgroup": "",
           "marker": {
            "color": [
             167,
             79,
             65,
             42,
             37,
             36,
             30,
             21,
             20,
             19,
             19,
             17,
             15,
             14,
             14,
             12,
             12,
             11,
             11,
             11,
             10,
             10,
             9,
             9,
             9,
             9,
             8,
             8,
             8,
             8,
             6,
             6,
             6,
             5,
             5,
             5,
             4,
             4,
             4,
             4,
             4,
             4,
             4,
             4,
             4,
             3,
             3,
             3,
             3,
             2,
             2,
             2,
             2,
             1,
             1
            ],
            "coloraxis": "coloraxis"
           },
           "name": "",
           "offsetgroup": "",
           "orientation": "v",
           "showlegend": false,
           "textposition": "auto",
           "type": "bar",
           "x": [
            "Great Britain",
            "Sweden",
            "United States",
            "Norway",
            "Canada",
            "France",
            "Finland",
            "Belgium",
            "Hungary",
            "Germany",
            "Australasia",
            "Denmark",
            "Cornwall",
            "Great Britain-1",
            "Great Britain-2",
            "Ireland-2",
            "Netherlands",
            "England-1",
            "Scotland-3",
            "Wales-4",
            "Hera-1",
            "Mouchette-2",
            "Toronto Argonauts",
            "Cambridge University Boat Club-2",
            "Leander Club-1",
            "Royal Club Nautique de Gand",
            "Italy",
            "London City Police-1",
            "Liverpool Police Team-2",
            "K Division Metropolitan Police Team-3",
            "Argonaut Rowing Club",
            "Bohemia",
            "Gyrinus-1",
            "Cobweb-1",
            "Vinga-1",
            "Sorais-2",
            "Greece",
            "Leander Club-2",
            "Heroine",
            "Hurlingham-2",
            "Amstel Amsterdam",
            "Great Britain-3",
            "Magdalen College Boat Club-1",
            "Ireland-3",
            "Roehampton-1",
            "Guyoni",
            "Dormy-1",
            "Russia",
            "Zut",
            "South Africa",
            "Berliner Ruderclub",
            "Leander Club #2-2",
            "Leander Club #1-1",
            "Austria",
            "Camille"
           ],
           "xaxis": "x",
           "y": [
            167,
            79,
            65,
            42,
            37,
            36,
            30,
            21,
            20,
            19,
            19,
            17,
            15,
            14,
            14,
            12,
            12,
            11,
            11,
            11,
            10,
            10,
            9,
            9,
            9,
            9,
            8,
            8,
            8,
            8,
            6,
            6,
            6,
            5,
            5,
            5,
            4,
            4,
            4,
            4,
            4,
            4,
            4,
            4,
            4,
            3,
            3,
            3,
            3,
            2,
            2,
            2,
            2,
            1,
            1
           ],
           "yaxis": "y"
          }
         ],
         "name": "1908"
        },
        {
         "data": [
          {
           "alignmentgroup": "True",
           "hovertemplate": "Year=1906<br>Team=%{x}<br>Medals=%{marker.color}<extra></extra>",
           "ids": [
            "France",
            "Denmark",
            "Great Britain",
            "Germany",
            "Greece",
            "Norway",
            "United States",
            "Marinai della nave da guerra \"Varese\"",
            "Phalainis ton Thorichtou \"Hydra\"-2",
            "Sweden",
            "Large boat, Central Naval Prep School \"Poros\"-1",
            "Hungary",
            "Switzerland",
            "Thessalonki-1",
            "Smyrna",
            "Italy",
            "Austria",
            "Pistoja/Firenze",
            "Belgium",
            "Bucintoro Venezia",
            "Socit Nautique de la Basse Seine-1",
            "Omas Helliniki P. S.",
            "Life boat naval ship \"Spetsai\"-1",
            "Netherlands",
            "Socit Nautique de Bayonne-2",
            "Finland",
            "Greece-1",
            "Australia",
            "Socit Nautique de Bayonne-1",
            "Bucintoro Venezia-1",
            "Barion/Bari-2",
            "Bohemia",
            "Royal Club Nautique de Gand",
            "Canada",
            "Greece-2"
           ],
           "legendgroup": "",
           "marker": {
            "color": [
             45,
             34,
             31,
             30,
             28,
             25,
             24,
             24,
             24,
             21,
             17,
             13,
             12,
             11,
             11,
             9,
             9,
             9,
             9,
             8,
             8,
             8,
             7,
             6,
             5,
             4,
             4,
             3,
             3,
             3,
             3,
             3,
             3,
             2,
             2
            ],
            "coloraxis": "coloraxis"
           },
           "name": "",
           "offsetgroup": "",
           "orientation": "v",
           "showlegend": false,
           "textposition": "auto",
           "type": "bar",
           "x": [
            "France",
            "Denmark",
            "Great Britain",
            "Germany",
            "Greece",
            "Norway",
            "United States",
            "Marinai della nave da guerra \"Varese\"",
            "Phalainis ton Thorichtou \"Hydra\"-2",
            "Sweden",
            "Large boat, Central Naval Prep School \"Poros\"-1",
            "Hungary",
            "Switzerland",
            "Thessalonki-1",
            "Smyrna",
            "Italy",
            "Austria",
            "Pistoja/Firenze",
            "Belgium",
            "Bucintoro Venezia",
            "Socit Nautique de la Basse Seine-1",
            "Omas Helliniki P. S.",
            "Life boat naval ship \"Spetsai\"-1",
            "Netherlands",
            "Socit Nautique de Bayonne-2",
            "Finland",
            "Greece-1",
            "Australia",
            "Socit Nautique de Bayonne-1",
            "Bucintoro Venezia-1",
            "Barion/Bari-2",
            "Bohemia",
            "Royal Club Nautique de Gand",
            "Canada",
            "Greece-2"
           ],
           "xaxis": "x",
           "y": [
            45,
            34,
            31,
            30,
            28,
            25,
            24,
            24,
            24,
            21,
            17,
            13,
            12,
            11,
            11,
            9,
            9,
            9,
            9,
            8,
            8,
            8,
            7,
            6,
            5,
            4,
            4,
            3,
            3,
            3,
            3,
            3,
            3,
            2,
            2
           ],
           "yaxis": "y"
          }
         ],
         "name": "1906"
        },
        {
         "data": [
          {
           "alignmentgroup": "True",
           "hovertemplate": "Year=1904<br>Team=%{x}<br>Medals=%{marker.color}<extra></extra>",
           "ids": [
            "United States",
            "Germany",
            "Galt Football Club",
            "Mohawk Indians-2",
            "Winnipeg Shamrocks-1",
            "St. Rose-2",
            "St. Louis Amateur Athletic Association",
            "Christian Brothers' College-1",
            "Chicago Athletic Association-2",
            "Missouri Athletic Club-3",
            "United States Golf Association-3",
            "Trans-Mississippi Golf Association-2",
            "Western Golf Association-1",
            "Vesper Boat Club",
            "Toronto Argonauts",
            "Cincinnati Archers",
            "New York Athletic Club-1",
            "New York Turnverein, New York",
            "Western Rowing Club-3",
            "Central Turnverein, Chicago",
            "Philadelphia Turngemeinde, Philadelphia",
            "St. Louis Southwest Turnverein #1-2",
            "Cuba",
            "Chicago Athletic Association",
            "Milwaukee Athletic Club-1",
            "St. Louis Southwest Turnverein #2-3",
            "New York Athletic Club",
            "Mound City Rowing Club-2",
            "Boston Archers",
            "New York Athletic Club #1-1",
            "Hungary",
            "Century Boat Club-1",
            "Australia",
            "Potomac Archers",
            "Switzerland",
            "Austria",
            "Canada",
            "United States-2",
            "Great Britain",
            "Greece",
            "Norway",
            "Seawanhaka Boat Club-1",
            "United States-4",
            "Ravenswood Boat Club-2",
            "United States-1",
            "Atalanta Boat Club-1",
            "Atalanta Boat Club-2",
            "Independent Rowing Club-3",
            "United States-3",
            "France"
           ],
           "legendgroup": "",
           "marker": {
            "color": [
             199,
             15,
             13,
             12,
             12,
             12,
             12,
             11,
             11,
             11,
             10,
             10,
             10,
             9,
             9,
             8,
             7,
             6,
             6,
             6,
             6,
             5,
             5,
             5,
             5,
             5,
             5,
             4,
             4,
             4,
             4,
             4,
             4,
             4,
             3,
             3,
             2,
             2,
             2,
             2,
             2,
             2,
             2,
             2,
             2,
             2,
             2,
             2,
             2,
             1
            ],
            "coloraxis": "coloraxis"
           },
           "name": "",
           "offsetgroup": "",
           "orientation": "v",
           "showlegend": false,
           "textposition": "auto",
           "type": "bar",
           "x": [
            "United States",
            "Germany",
            "Galt Football Club",
            "Mohawk Indians-2",
            "Winnipeg Shamrocks-1",
            "St. Rose-2",
            "St. Louis Amateur Athletic Association",
            "Christian Brothers' College-1",
            "Chicago Athletic Association-2",
            "Missouri Athletic Club-3",
            "United States Golf Association-3",
            "Trans-Mississippi Golf Association-2",
            "Western Golf Association-1",
            "Vesper Boat Club",
            "Toronto Argonauts",
            "Cincinnati Archers",
            "New York Athletic Club-1",
            "New York Turnverein, New York",
            "Western Rowing Club-3",
            "Central Turnverein, Chicago",
            "Philadelphia Turngemeinde, Philadelphia",
            "St. Louis Southwest Turnverein #1-2",
            "Cuba",
            "Chicago Athletic Association",
            "Milwaukee Athletic Club-1",
            "St. Louis Southwest Turnverein #2-3",
            "New York Athletic Club",
            "Mound City Rowing Club-2",
            "Boston Archers",
            "New York Athletic Club #1-1",
            "Hungary",
            "Century Boat Club-1",
            "Australia",
            "Potomac Archers",
            "Switzerland",
            "Austria",
            "Canada",
            "United States-2",
            "Great Britain",
            "Greece",
            "Norway",
            "Seawanhaka Boat Club-1",
            "United States-4",
            "Ravenswood Boat Club-2",
            "United States-1",
            "Atalanta Boat Club-1",
            "Atalanta Boat Club-2",
            "Independent Rowing Club-3",
            "United States-3",
            "France"
           ],
           "xaxis": "x",
           "y": [
            199,
            15,
            13,
            12,
            12,
            12,
            12,
            11,
            11,
            11,
            10,
            10,
            10,
            9,
            9,
            8,
            7,
            6,
            6,
            6,
            6,
            5,
            5,
            5,
            5,
            5,
            5,
            4,
            4,
            4,
            4,
            4,
            4,
            4,
            3,
            3,
            2,
            2,
            2,
            2,
            2,
            2,
            2,
            2,
            2,
            2,
            2,
            2,
            2,
            1
           ],
           "yaxis": "y"
          }
         ],
         "name": "1904"
        },
        {
         "data": [
          {
           "alignmentgroup": "True",
           "hovertemplate": "Year=1900<br>Team=%{x}<br>Medals=%{marker.color}<extra></extra>",
           "ids": [
            "France",
            "United States",
            "Union des Socits Franais de Sports Athletiques",
            "Great Britain",
            "Minerva Amsterdam",
            "Frankfurt Club",
            "Moseley Wanderers",
            "Switzerland",
            "Belgium",
            "USFSA",
            "Devon and Somerset Wanderers",
            "Racing Club de France",
            "Upton Park FC",
            "Univ. of Brussels",
            "Brussels Swimming and Water Polo Club",
            "Gitana-2",
            "Vesper Boat Club",
            "Norway",
            "Royal Club Nautique de Gand",
            "Quand-Mme-2",
            "Martha-1",
            "Aschenbrodel",
            "Pupilles de Neptune de Lille #2-1",
            "Favorite-1",
            "Libellule de Paris",
            "Osborne Swimming Club, Manchester",
            "Denmark/Sweden",
            "Favorite Hammonia-3",
            "Austria",
            "Denmark",
            "Olle",
            "Netherlands",
            "Scotia",
            "Lerina",
            "Italy",
            "Crabe II-1",
            "Crabe II-4",
            "Hungary",
            "Amateur Athletic Association",
            "Foxhunters Hurlingham",
            "Tritons Lillois-2",
            "Cercle de l'Aviron Roubaix-4",
            "Ludwigshafener Ruder Verein-1",
            "Germania Ruder Club, Hamburg-2",
            "Australia",
            "Nina Claire-2",
            "BLO Polo Club, Rugby",
            "France-1",
            "Bagatelle Polo Club, Paris",
            "A North American Team",
            "Deutscher Schwimm Verband Berlin",
            "Pupilles de Neptune de Lille-1",
            "Club Nautique de Lyon-2",
            "Sarcelle-3",
            "Gwendoline-2",
            "Rowing Club Castillon-3",
            "Mascotte",
            "Bona Fide",
            "Germany",
            "Esterel-1",
            "Spain",
            "United States/France",
            "United States/Great Britain",
            "Great Britain-1",
            "Bohemia",
            "Cuba",
            "Baby-1",
            "Canada",
            "France/Great Britain",
            "Great Britain-2",
            "Societ Nautique de la Marne-1",
            "Scamasaxe-2",
            "Scamasaxe-3",
            "India",
            "Bohemia/Great Britain",
            "Carabinier-15",
            "Sweden",
            "Brynhild-2",
            "Belgium-1",
            "Mignon-3",
            "Femur-1",
            "Laurea-1",
            "Frimousse",
            "Turquoise-1",
            "Cicely-1",
            "Fantlet-7",
            "Luxembourg",
            "Formosa"
           ],
           "legendgroup": "",
           "marker": {
            "color": [
             75,
             45,
             29,
             22,
             17,
             15,
             15,
             15,
             14,
             13,
             12,
             11,
             11,
             11,
             10,
             10,
             9,
             9,
             9,
             9,
             8,
             8,
             8,
             8,
             7,
             7,
             6,
             6,
             6,
             6,
             6,
             6,
             6,
             6,
             5,
             5,
             5,
             5,
             5,
             5,
             5,
             5,
             5,
             5,
             5,
             4,
             4,
             4,
             4,
             4,
             4,
             4,
             4,
             3,
             3,
             3,
             3,
             3,
             2,
             2,
             2,
             2,
             2,
             2,
             2,
             2,
             2,
             2,
             2,
             2,
             2,
             2,
             2,
             2,
             2,
             1,
             1,
             1,
             1,
             1,
             1,
             1,
             1,
             1,
             1,
             1,
             1,
             1
            ],
            "coloraxis": "coloraxis"
           },
           "name": "",
           "offsetgroup": "",
           "orientation": "v",
           "showlegend": false,
           "textposition": "auto",
           "type": "bar",
           "x": [
            "France",
            "United States",
            "Union des Socits Franais de Sports Athletiques",
            "Great Britain",
            "Minerva Amsterdam",
            "Frankfurt Club",
            "Moseley Wanderers",
            "Switzerland",
            "Belgium",
            "USFSA",
            "Devon and Somerset Wanderers",
            "Racing Club de France",
            "Upton Park FC",
            "Univ. of Brussels",
            "Brussels Swimming and Water Polo Club",
            "Gitana-2",
            "Vesper Boat Club",
            "Norway",
            "Royal Club Nautique de Gand",
            "Quand-Mme-2",
            "Martha-1",
            "Aschenbrodel",
            "Pupilles de Neptune de Lille #2-1",
            "Favorite-1",
            "Libellule de Paris",
            "Osborne Swimming Club, Manchester",
            "Denmark/Sweden",
            "Favorite Hammonia-3",
            "Austria",
            "Denmark",
            "Olle",
            "Netherlands",
            "Scotia",
            "Lerina",
            "Italy",
            "Crabe II-1",
            "Crabe II-4",
            "Hungary",
            "Amateur Athletic Association",
            "Foxhunters Hurlingham",
            "Tritons Lillois-2",
            "Cercle de l'Aviron Roubaix-4",
            "Ludwigshafener Ruder Verein-1",
            "Germania Ruder Club, Hamburg-2",
            "Australia",
            "Nina Claire-2",
            "BLO Polo Club, Rugby",
            "France-1",
            "Bagatelle Polo Club, Paris",
            "A North American Team",
            "Deutscher Schwimm Verband Berlin",
            "Pupilles de Neptune de Lille-1",
            "Club Nautique de Lyon-2",
            "Sarcelle-3",
            "Gwendoline-2",
            "Rowing Club Castillon-3",
            "Mascotte",
            "Bona Fide",
            "Germany",
            "Esterel-1",
            "Spain",
            "United States/France",
            "United States/Great Britain",
            "Great Britain-1",
            "Bohemia",
            "Cuba",
            "Baby-1",
            "Canada",
            "France/Great Britain",
            "Great Britain-2",
            "Societ Nautique de la Marne-1",
            "Scamasaxe-2",
            "Scamasaxe-3",
            "India",
            "Bohemia/Great Britain",
            "Carabinier-15",
            "Sweden",
            "Brynhild-2",
            "Belgium-1",
            "Mignon-3",
            "Femur-1",
            "Laurea-1",
            "Frimousse",
            "Turquoise-1",
            "Cicely-1",
            "Fantlet-7",
            "Luxembourg",
            "Formosa"
           ],
           "xaxis": "x",
           "y": [
            75,
            45,
            29,
            22,
            17,
            15,
            15,
            15,
            14,
            13,
            12,
            11,
            11,
            11,
            10,
            10,
            9,
            9,
            9,
            9,
            8,
            8,
            8,
            8,
            7,
            7,
            6,
            6,
            6,
            6,
            6,
            6,
            6,
            6,
            5,
            5,
            5,
            5,
            5,
            5,
            5,
            5,
            5,
            5,
            5,
            4,
            4,
            4,
            4,
            4,
            4,
            4,
            4,
            3,
            3,
            3,
            3,
            3,
            2,
            2,
            2,
            2,
            2,
            2,
            2,
            2,
            2,
            2,
            2,
            2,
            2,
            2,
            2,
            2,
            2,
            1,
            1,
            1,
            1,
            1,
            1,
            1,
            1,
            1,
            1,
            1,
            1,
            1
           ],
           "yaxis": "y"
          }
         ],
         "name": "1900"
        },
        {
         "data": [
          {
           "alignmentgroup": "True",
           "hovertemplate": "Year=1896<br>Team=%{x}<br>Medals=%{marker.color}<extra></extra>",
           "ids": [
            "Greece",
            "Germany",
            "United States",
            "France",
            "Great Britain",
            "Hungary",
            "Denmark",
            "Austria",
            "Switzerland",
            "Great Britain/Germany",
            "Greece-1",
            "Australia",
            "Australia/Great Britain",
            "Ethnikos Gymnastikos Syllogos"
           ],
           "legendgroup": "",
           "marker": {
            "color": [
             44,
             31,
             20,
             11,
             7,
             6,
             6,
             5,
             3,
             2,
             2,
             2,
             2,
             2
            ],
            "coloraxis": "coloraxis"
           },
           "name": "",
           "offsetgroup": "",
           "orientation": "v",
           "showlegend": false,
           "textposition": "auto",
           "type": "bar",
           "x": [
            "Greece",
            "Germany",
            "United States",
            "France",
            "Great Britain",
            "Hungary",
            "Denmark",
            "Austria",
            "Switzerland",
            "Great Britain/Germany",
            "Greece-1",
            "Australia",
            "Australia/Great Britain",
            "Ethnikos Gymnastikos Syllogos"
           ],
           "xaxis": "x",
           "y": [
            44,
            31,
            20,
            11,
            7,
            6,
            6,
            5,
            3,
            2,
            2,
            2,
            2,
            2
           ],
           "yaxis": "y"
          }
         ],
         "name": "1896"
        }
       ],
       "layout": {
        "barmode": "relative",
        "coloraxis": {
         "colorbar": {
          "title": {
           "text": "Medals"
          }
         },
         "colorscale": [
          [
           0,
           "#0d0887"
          ],
          [
           0.1111111111111111,
           "#46039f"
          ],
          [
           0.2222222222222222,
           "#7201a8"
          ],
          [
           0.3333333333333333,
           "#9c179e"
          ],
          [
           0.4444444444444444,
           "#bd3786"
          ],
          [
           0.5555555555555556,
           "#d8576b"
          ],
          [
           0.6666666666666666,
           "#ed7953"
          ],
          [
           0.7777777777777778,
           "#fb9f3a"
          ],
          [
           0.8888888888888888,
           "#fdca26"
          ],
          [
           1,
           "#f0f921"
          ]
         ]
        },
        "height": 400,
        "legend": {
         "tracegroupgap": 0
        },
        "margin": {
         "b": 20,
         "l": 20,
         "r": 20,
         "t": 20
        },
        "paper_bgcolor": "white",
        "sliders": [
         {
          "active": 0,
          "currentvalue": {
           "prefix": "Year="
          },
          "len": 0.9,
          "pad": {
           "b": 10,
           "t": 60
          },
          "steps": [
           {
            "args": [
             [
              "2016"
             ],
             {
              "frame": {
               "duration": 0,
               "redraw": true
              },
              "fromcurrent": true,
              "mode": "immediate",
              "transition": {
               "duration": 0,
               "easing": "linear"
              }
             }
            ],
            "label": "2016",
            "method": "animate"
           },
           {
            "args": [
             [
              "2014"
             ],
             {
              "frame": {
               "duration": 0,
               "redraw": true
              },
              "fromcurrent": true,
              "mode": "immediate",
              "transition": {
               "duration": 0,
               "easing": "linear"
              }
             }
            ],
            "label": "2014",
            "method": "animate"
           },
           {
            "args": [
             [
              "2012"
             ],
             {
              "frame": {
               "duration": 0,
               "redraw": true
              },
              "fromcurrent": true,
              "mode": "immediate",
              "transition": {
               "duration": 0,
               "easing": "linear"
              }
             }
            ],
            "label": "2012",
            "method": "animate"
           },
           {
            "args": [
             [
              "2010"
             ],
             {
              "frame": {
               "duration": 0,
               "redraw": true
              },
              "fromcurrent": true,
              "mode": "immediate",
              "transition": {
               "duration": 0,
               "easing": "linear"
              }
             }
            ],
            "label": "2010",
            "method": "animate"
           },
           {
            "args": [
             [
              "2008"
             ],
             {
              "frame": {
               "duration": 0,
               "redraw": true
              },
              "fromcurrent": true,
              "mode": "immediate",
              "transition": {
               "duration": 0,
               "easing": "linear"
              }
             }
            ],
            "label": "2008",
            "method": "animate"
           },
           {
            "args": [
             [
              "2006"
             ],
             {
              "frame": {
               "duration": 0,
               "redraw": true
              },
              "fromcurrent": true,
              "mode": "immediate",
              "transition": {
               "duration": 0,
               "easing": "linear"
              }
             }
            ],
            "label": "2006",
            "method": "animate"
           },
           {
            "args": [
             [
              "2004"
             ],
             {
              "frame": {
               "duration": 0,
               "redraw": true
              },
              "fromcurrent": true,
              "mode": "immediate",
              "transition": {
               "duration": 0,
               "easing": "linear"
              }
             }
            ],
            "label": "2004",
            "method": "animate"
           },
           {
            "args": [
             [
              "2002"
             ],
             {
              "frame": {
               "duration": 0,
               "redraw": true
              },
              "fromcurrent": true,
              "mode": "immediate",
              "transition": {
               "duration": 0,
               "easing": "linear"
              }
             }
            ],
            "label": "2002",
            "method": "animate"
           },
           {
            "args": [
             [
              "2000"
             ],
             {
              "frame": {
               "duration": 0,
               "redraw": true
              },
              "fromcurrent": true,
              "mode": "immediate",
              "transition": {
               "duration": 0,
               "easing": "linear"
              }
             }
            ],
            "label": "2000",
            "method": "animate"
           },
           {
            "args": [
             [
              "1998"
             ],
             {
              "frame": {
               "duration": 0,
               "redraw": true
              },
              "fromcurrent": true,
              "mode": "immediate",
              "transition": {
               "duration": 0,
               "easing": "linear"
              }
             }
            ],
            "label": "1998",
            "method": "animate"
           },
           {
            "args": [
             [
              "1996"
             ],
             {
              "frame": {
               "duration": 0,
               "redraw": true
              },
              "fromcurrent": true,
              "mode": "immediate",
              "transition": {
               "duration": 0,
               "easing": "linear"
              }
             }
            ],
            "label": "1996",
            "method": "animate"
           },
           {
            "args": [
             [
              "1994"
             ],
             {
              "frame": {
               "duration": 0,
               "redraw": true
              },
              "fromcurrent": true,
              "mode": "immediate",
              "transition": {
               "duration": 0,
               "easing": "linear"
              }
             }
            ],
            "label": "1994",
            "method": "animate"
           },
           {
            "args": [
             [
              "1992"
             ],
             {
              "frame": {
               "duration": 0,
               "redraw": true
              },
              "fromcurrent": true,
              "mode": "immediate",
              "transition": {
               "duration": 0,
               "easing": "linear"
              }
             }
            ],
            "label": "1992",
            "method": "animate"
           },
           {
            "args": [
             [
              "1988"
             ],
             {
              "frame": {
               "duration": 0,
               "redraw": true
              },
              "fromcurrent": true,
              "mode": "immediate",
              "transition": {
               "duration": 0,
               "easing": "linear"
              }
             }
            ],
            "label": "1988",
            "method": "animate"
           },
           {
            "args": [
             [
              "1984"
             ],
             {
              "frame": {
               "duration": 0,
               "redraw": true
              },
              "fromcurrent": true,
              "mode": "immediate",
              "transition": {
               "duration": 0,
               "easing": "linear"
              }
             }
            ],
            "label": "1984",
            "method": "animate"
           },
           {
            "args": [
             [
              "1980"
             ],
             {
              "frame": {
               "duration": 0,
               "redraw": true
              },
              "fromcurrent": true,
              "mode": "immediate",
              "transition": {
               "duration": 0,
               "easing": "linear"
              }
             }
            ],
            "label": "1980",
            "method": "animate"
           },
           {
            "args": [
             [
              "1976"
             ],
             {
              "frame": {
               "duration": 0,
               "redraw": true
              },
              "fromcurrent": true,
              "mode": "immediate",
              "transition": {
               "duration": 0,
               "easing": "linear"
              }
             }
            ],
            "label": "1976",
            "method": "animate"
           },
           {
            "args": [
             [
              "1972"
             ],
             {
              "frame": {
               "duration": 0,
               "redraw": true
              },
              "fromcurrent": true,
              "mode": "immediate",
              "transition": {
               "duration": 0,
               "easing": "linear"
              }
             }
            ],
            "label": "1972",
            "method": "animate"
           },
           {
            "args": [
             [
              "1968"
             ],
             {
              "frame": {
               "duration": 0,
               "redraw": true
              },
              "fromcurrent": true,
              "mode": "immediate",
              "transition": {
               "duration": 0,
               "easing": "linear"
              }
             }
            ],
            "label": "1968",
            "method": "animate"
           },
           {
            "args": [
             [
              "1964"
             ],
             {
              "frame": {
               "duration": 0,
               "redraw": true
              },
              "fromcurrent": true,
              "mode": "immediate",
              "transition": {
               "duration": 0,
               "easing": "linear"
              }
             }
            ],
            "label": "1964",
            "method": "animate"
           },
           {
            "args": [
             [
              "1960"
             ],
             {
              "frame": {
               "duration": 0,
               "redraw": true
              },
              "fromcurrent": true,
              "mode": "immediate",
              "transition": {
               "duration": 0,
               "easing": "linear"
              }
             }
            ],
            "label": "1960",
            "method": "animate"
           },
           {
            "args": [
             [
              "1956"
             ],
             {
              "frame": {
               "duration": 0,
               "redraw": true
              },
              "fromcurrent": true,
              "mode": "immediate",
              "transition": {
               "duration": 0,
               "easing": "linear"
              }
             }
            ],
            "label": "1956",
            "method": "animate"
           },
           {
            "args": [
             [
              "1952"
             ],
             {
              "frame": {
               "duration": 0,
               "redraw": true
              },
              "fromcurrent": true,
              "mode": "immediate",
              "transition": {
               "duration": 0,
               "easing": "linear"
              }
             }
            ],
            "label": "1952",
            "method": "animate"
           },
           {
            "args": [
             [
              "1948"
             ],
             {
              "frame": {
               "duration": 0,
               "redraw": true
              },
              "fromcurrent": true,
              "mode": "immediate",
              "transition": {
               "duration": 0,
               "easing": "linear"
              }
             }
            ],
            "label": "1948",
            "method": "animate"
           },
           {
            "args": [
             [
              "1936"
             ],
             {
              "frame": {
               "duration": 0,
               "redraw": true
              },
              "fromcurrent": true,
              "mode": "immediate",
              "transition": {
               "duration": 0,
               "easing": "linear"
              }
             }
            ],
            "label": "1936",
            "method": "animate"
           },
           {
            "args": [
             [
              "1932"
             ],
             {
              "frame": {
               "duration": 0,
               "redraw": true
              },
              "fromcurrent": true,
              "mode": "immediate",
              "transition": {
               "duration": 0,
               "easing": "linear"
              }
             }
            ],
            "label": "1932",
            "method": "animate"
           },
           {
            "args": [
             [
              "1928"
             ],
             {
              "frame": {
               "duration": 0,
               "redraw": true
              },
              "fromcurrent": true,
              "mode": "immediate",
              "transition": {
               "duration": 0,
               "easing": "linear"
              }
             }
            ],
            "label": "1928",
            "method": "animate"
           },
           {
            "args": [
             [
              "1924"
             ],
             {
              "frame": {
               "duration": 0,
               "redraw": true
              },
              "fromcurrent": true,
              "mode": "immediate",
              "transition": {
               "duration": 0,
               "easing": "linear"
              }
             }
            ],
            "label": "1924",
            "method": "animate"
           },
           {
            "args": [
             [
              "1920"
             ],
             {
              "frame": {
               "duration": 0,
               "redraw": true
              },
              "fromcurrent": true,
              "mode": "immediate",
              "transition": {
               "duration": 0,
               "easing": "linear"
              }
             }
            ],
            "label": "1920",
            "method": "animate"
           },
           {
            "args": [
             [
              "1912"
             ],
             {
              "frame": {
               "duration": 0,
               "redraw": true
              },
              "fromcurrent": true,
              "mode": "immediate",
              "transition": {
               "duration": 0,
               "easing": "linear"
              }
             }
            ],
            "label": "1912",
            "method": "animate"
           },
           {
            "args": [
             [
              "1908"
             ],
             {
              "frame": {
               "duration": 0,
               "redraw": true
              },
              "fromcurrent": true,
              "mode": "immediate",
              "transition": {
               "duration": 0,
               "easing": "linear"
              }
             }
            ],
            "label": "1908",
            "method": "animate"
           },
           {
            "args": [
             [
              "1906"
             ],
             {
              "frame": {
               "duration": 0,
               "redraw": true
              },
              "fromcurrent": true,
              "mode": "immediate",
              "transition": {
               "duration": 0,
               "easing": "linear"
              }
             }
            ],
            "label": "1906",
            "method": "animate"
           },
           {
            "args": [
             [
              "1904"
             ],
             {
              "frame": {
               "duration": 0,
               "redraw": true
              },
              "fromcurrent": true,
              "mode": "immediate",
              "transition": {
               "duration": 0,
               "easing": "linear"
              }
             }
            ],
            "label": "1904",
            "method": "animate"
           },
           {
            "args": [
             [
              "1900"
             ],
             {
              "frame": {
               "duration": 0,
               "redraw": true
              },
              "fromcurrent": true,
              "mode": "immediate",
              "transition": {
               "duration": 0,
               "easing": "linear"
              }
             }
            ],
            "label": "1900",
            "method": "animate"
           },
           {
            "args": [
             [
              "1896"
             ],
             {
              "frame": {
               "duration": 0,
               "redraw": true
              },
              "fromcurrent": true,
              "mode": "immediate",
              "transition": {
               "duration": 0,
               "easing": "linear"
              }
             }
            ],
            "label": "1896",
            "method": "animate"
           }
          ],
          "x": 0.1,
          "xanchor": "left",
          "y": 0,
          "yanchor": "top"
         }
        ],
        "template": {
         "data": {
          "bar": [
           {
            "error_x": {
             "color": "#2a3f5f"
            },
            "error_y": {
             "color": "#2a3f5f"
            },
            "marker": {
             "line": {
              "color": "#E5ECF6",
              "width": 0.5
             }
            },
            "type": "bar"
           }
          ],
          "barpolar": [
           {
            "marker": {
             "line": {
              "color": "#E5ECF6",
              "width": 0.5
             }
            },
            "type": "barpolar"
           }
          ],
          "carpet": [
           {
            "aaxis": {
             "endlinecolor": "#2a3f5f",
             "gridcolor": "white",
             "linecolor": "white",
             "minorgridcolor": "white",
             "startlinecolor": "#2a3f5f"
            },
            "baxis": {
             "endlinecolor": "#2a3f5f",
             "gridcolor": "white",
             "linecolor": "white",
             "minorgridcolor": "white",
             "startlinecolor": "#2a3f5f"
            },
            "type": "carpet"
           }
          ],
          "choropleth": [
           {
            "colorbar": {
             "outlinewidth": 0,
             "ticks": ""
            },
            "type": "choropleth"
           }
          ],
          "contour": [
           {
            "colorbar": {
             "outlinewidth": 0,
             "ticks": ""
            },
            "colorscale": [
             [
              0,
              "#0d0887"
             ],
             [
              0.1111111111111111,
              "#46039f"
             ],
             [
              0.2222222222222222,
              "#7201a8"
             ],
             [
              0.3333333333333333,
              "#9c179e"
             ],
             [
              0.4444444444444444,
              "#bd3786"
             ],
             [
              0.5555555555555556,
              "#d8576b"
             ],
             [
              0.6666666666666666,
              "#ed7953"
             ],
             [
              0.7777777777777778,
              "#fb9f3a"
             ],
             [
              0.8888888888888888,
              "#fdca26"
             ],
             [
              1,
              "#f0f921"
             ]
            ],
            "type": "contour"
           }
          ],
          "contourcarpet": [
           {
            "colorbar": {
             "outlinewidth": 0,
             "ticks": ""
            },
            "type": "contourcarpet"
           }
          ],
          "heatmap": [
           {
            "colorbar": {
             "outlinewidth": 0,
             "ticks": ""
            },
            "colorscale": [
             [
              0,
              "#0d0887"
             ],
             [
              0.1111111111111111,
              "#46039f"
             ],
             [
              0.2222222222222222,
              "#7201a8"
             ],
             [
              0.3333333333333333,
              "#9c179e"
             ],
             [
              0.4444444444444444,
              "#bd3786"
             ],
             [
              0.5555555555555556,
              "#d8576b"
             ],
             [
              0.6666666666666666,
              "#ed7953"
             ],
             [
              0.7777777777777778,
              "#fb9f3a"
             ],
             [
              0.8888888888888888,
              "#fdca26"
             ],
             [
              1,
              "#f0f921"
             ]
            ],
            "type": "heatmap"
           }
          ],
          "heatmapgl": [
           {
            "colorbar": {
             "outlinewidth": 0,
             "ticks": ""
            },
            "colorscale": [
             [
              0,
              "#0d0887"
             ],
             [
              0.1111111111111111,
              "#46039f"
             ],
             [
              0.2222222222222222,
              "#7201a8"
             ],
             [
              0.3333333333333333,
              "#9c179e"
             ],
             [
              0.4444444444444444,
              "#bd3786"
             ],
             [
              0.5555555555555556,
              "#d8576b"
             ],
             [
              0.6666666666666666,
              "#ed7953"
             ],
             [
              0.7777777777777778,
              "#fb9f3a"
             ],
             [
              0.8888888888888888,
              "#fdca26"
             ],
             [
              1,
              "#f0f921"
             ]
            ],
            "type": "heatmapgl"
           }
          ],
          "histogram": [
           {
            "marker": {
             "colorbar": {
              "outlinewidth": 0,
              "ticks": ""
             }
            },
            "type": "histogram"
           }
          ],
          "histogram2d": [
           {
            "colorbar": {
             "outlinewidth": 0,
             "ticks": ""
            },
            "colorscale": [
             [
              0,
              "#0d0887"
             ],
             [
              0.1111111111111111,
              "#46039f"
             ],
             [
              0.2222222222222222,
              "#7201a8"
             ],
             [
              0.3333333333333333,
              "#9c179e"
             ],
             [
              0.4444444444444444,
              "#bd3786"
             ],
             [
              0.5555555555555556,
              "#d8576b"
             ],
             [
              0.6666666666666666,
              "#ed7953"
             ],
             [
              0.7777777777777778,
              "#fb9f3a"
             ],
             [
              0.8888888888888888,
              "#fdca26"
             ],
             [
              1,
              "#f0f921"
             ]
            ],
            "type": "histogram2d"
           }
          ],
          "histogram2dcontour": [
           {
            "colorbar": {
             "outlinewidth": 0,
             "ticks": ""
            },
            "colorscale": [
             [
              0,
              "#0d0887"
             ],
             [
              0.1111111111111111,
              "#46039f"
             ],
             [
              0.2222222222222222,
              "#7201a8"
             ],
             [
              0.3333333333333333,
              "#9c179e"
             ],
             [
              0.4444444444444444,
              "#bd3786"
             ],
             [
              0.5555555555555556,
              "#d8576b"
             ],
             [
              0.6666666666666666,
              "#ed7953"
             ],
             [
              0.7777777777777778,
              "#fb9f3a"
             ],
             [
              0.8888888888888888,
              "#fdca26"
             ],
             [
              1,
              "#f0f921"
             ]
            ],
            "type": "histogram2dcontour"
           }
          ],
          "mesh3d": [
           {
            "colorbar": {
             "outlinewidth": 0,
             "ticks": ""
            },
            "type": "mesh3d"
           }
          ],
          "parcoords": [
           {
            "line": {
             "colorbar": {
              "outlinewidth": 0,
              "ticks": ""
             }
            },
            "type": "parcoords"
           }
          ],
          "pie": [
           {
            "automargin": true,
            "type": "pie"
           }
          ],
          "scatter": [
           {
            "marker": {
             "colorbar": {
              "outlinewidth": 0,
              "ticks": ""
             }
            },
            "type": "scatter"
           }
          ],
          "scatter3d": [
           {
            "line": {
             "colorbar": {
              "outlinewidth": 0,
              "ticks": ""
             }
            },
            "marker": {
             "colorbar": {
              "outlinewidth": 0,
              "ticks": ""
             }
            },
            "type": "scatter3d"
           }
          ],
          "scattercarpet": [
           {
            "marker": {
             "colorbar": {
              "outlinewidth": 0,
              "ticks": ""
             }
            },
            "type": "scattercarpet"
           }
          ],
          "scattergeo": [
           {
            "marker": {
             "colorbar": {
              "outlinewidth": 0,
              "ticks": ""
             }
            },
            "type": "scattergeo"
           }
          ],
          "scattergl": [
           {
            "marker": {
             "colorbar": {
              "outlinewidth": 0,
              "ticks": ""
             }
            },
            "type": "scattergl"
           }
          ],
          "scattermapbox": [
           {
            "marker": {
             "colorbar": {
              "outlinewidth": 0,
              "ticks": ""
             }
            },
            "type": "scattermapbox"
           }
          ],
          "scatterpolar": [
           {
            "marker": {
             "colorbar": {
              "outlinewidth": 0,
              "ticks": ""
             }
            },
            "type": "scatterpolar"
           }
          ],
          "scatterpolargl": [
           {
            "marker": {
             "colorbar": {
              "outlinewidth": 0,
              "ticks": ""
             }
            },
            "type": "scatterpolargl"
           }
          ],
          "scatterternary": [
           {
            "marker": {
             "colorbar": {
              "outlinewidth": 0,
              "ticks": ""
             }
            },
            "type": "scatterternary"
           }
          ],
          "surface": [
           {
            "colorbar": {
             "outlinewidth": 0,
             "ticks": ""
            },
            "colorscale": [
             [
              0,
              "#0d0887"
             ],
             [
              0.1111111111111111,
              "#46039f"
             ],
             [
              0.2222222222222222,
              "#7201a8"
             ],
             [
              0.3333333333333333,
              "#9c179e"
             ],
             [
              0.4444444444444444,
              "#bd3786"
             ],
             [
              0.5555555555555556,
              "#d8576b"
             ],
             [
              0.6666666666666666,
              "#ed7953"
             ],
             [
              0.7777777777777778,
              "#fb9f3a"
             ],
             [
              0.8888888888888888,
              "#fdca26"
             ],
             [
              1,
              "#f0f921"
             ]
            ],
            "type": "surface"
           }
          ],
          "table": [
           {
            "cells": {
             "fill": {
              "color": "#EBF0F8"
             },
             "line": {
              "color": "white"
             }
            },
            "header": {
             "fill": {
              "color": "#C8D4E3"
             },
             "line": {
              "color": "white"
             }
            },
            "type": "table"
           }
          ]
         },
         "layout": {
          "annotationdefaults": {
           "arrowcolor": "#2a3f5f",
           "arrowhead": 0,
           "arrowwidth": 1
          },
          "coloraxis": {
           "colorbar": {
            "outlinewidth": 0,
            "ticks": ""
           }
          },
          "colorscale": {
           "diverging": [
            [
             0,
             "#8e0152"
            ],
            [
             0.1,
             "#c51b7d"
            ],
            [
             0.2,
             "#de77ae"
            ],
            [
             0.3,
             "#f1b6da"
            ],
            [
             0.4,
             "#fde0ef"
            ],
            [
             0.5,
             "#f7f7f7"
            ],
            [
             0.6,
             "#e6f5d0"
            ],
            [
             0.7,
             "#b8e186"
            ],
            [
             0.8,
             "#7fbc41"
            ],
            [
             0.9,
             "#4d9221"
            ],
            [
             1,
             "#276419"
            ]
           ],
           "sequential": [
            [
             0,
             "#0d0887"
            ],
            [
             0.1111111111111111,
             "#46039f"
            ],
            [
             0.2222222222222222,
             "#7201a8"
            ],
            [
             0.3333333333333333,
             "#9c179e"
            ],
            [
             0.4444444444444444,
             "#bd3786"
            ],
            [
             0.5555555555555556,
             "#d8576b"
            ],
            [
             0.6666666666666666,
             "#ed7953"
            ],
            [
             0.7777777777777778,
             "#fb9f3a"
            ],
            [
             0.8888888888888888,
             "#fdca26"
            ],
            [
             1,
             "#f0f921"
            ]
           ],
           "sequentialminus": [
            [
             0,
             "#0d0887"
            ],
            [
             0.1111111111111111,
             "#46039f"
            ],
            [
             0.2222222222222222,
             "#7201a8"
            ],
            [
             0.3333333333333333,
             "#9c179e"
            ],
            [
             0.4444444444444444,
             "#bd3786"
            ],
            [
             0.5555555555555556,
             "#d8576b"
            ],
            [
             0.6666666666666666,
             "#ed7953"
            ],
            [
             0.7777777777777778,
             "#fb9f3a"
            ],
            [
             0.8888888888888888,
             "#fdca26"
            ],
            [
             1,
             "#f0f921"
            ]
           ]
          },
          "colorway": [
           "#636efa",
           "#EF553B",
           "#00cc96",
           "#ab63fa",
           "#FFA15A",
           "#19d3f3",
           "#FF6692",
           "#B6E880",
           "#FF97FF",
           "#FECB52"
          ],
          "font": {
           "color": "#2a3f5f"
          },
          "geo": {
           "bgcolor": "white",
           "lakecolor": "white",
           "landcolor": "#E5ECF6",
           "showlakes": true,
           "showland": true,
           "subunitcolor": "white"
          },
          "hoverlabel": {
           "align": "left"
          },
          "hovermode": "closest",
          "mapbox": {
           "style": "light"
          },
          "paper_bgcolor": "white",
          "plot_bgcolor": "#E5ECF6",
          "polar": {
           "angularaxis": {
            "gridcolor": "white",
            "linecolor": "white",
            "ticks": ""
           },
           "bgcolor": "#E5ECF6",
           "radialaxis": {
            "gridcolor": "white",
            "linecolor": "white",
            "ticks": ""
           }
          },
          "scene": {
           "xaxis": {
            "backgroundcolor": "#E5ECF6",
            "gridcolor": "white",
            "gridwidth": 2,
            "linecolor": "white",
            "showbackground": true,
            "ticks": "",
            "zerolinecolor": "white"
           },
           "yaxis": {
            "backgroundcolor": "#E5ECF6",
            "gridcolor": "white",
            "gridwidth": 2,
            "linecolor": "white",
            "showbackground": true,
            "ticks": "",
            "zerolinecolor": "white"
           },
           "zaxis": {
            "backgroundcolor": "#E5ECF6",
            "gridcolor": "white",
            "gridwidth": 2,
            "linecolor": "white",
            "showbackground": true,
            "ticks": "",
            "zerolinecolor": "white"
           }
          },
          "shapedefaults": {
           "line": {
            "color": "#2a3f5f"
           }
          },
          "ternary": {
           "aaxis": {
            "gridcolor": "white",
            "linecolor": "white",
            "ticks": ""
           },
           "baxis": {
            "gridcolor": "white",
            "linecolor": "white",
            "ticks": ""
           },
           "bgcolor": "#E5ECF6",
           "caxis": {
            "gridcolor": "white",
            "linecolor": "white",
            "ticks": ""
           }
          },
          "title": {
           "x": 0.05
          },
          "xaxis": {
           "automargin": true,
           "gridcolor": "white",
           "linecolor": "white",
           "ticks": "",
           "title": {
            "standoff": 15
           },
           "zerolinecolor": "white",
           "zerolinewidth": 2
          },
          "yaxis": {
           "automargin": true,
           "gridcolor": "white",
           "linecolor": "white",
           "ticks": "",
           "title": {
            "standoff": 15
           },
           "zerolinecolor": "white",
           "zerolinewidth": 2
          }
         }
        },
        "title": {
         "text": "Total Number of Medals Each Country Have with respect to Year"
        },
        "updatemenus": [
         {
          "buttons": [
           {
            "args": [
             null,
             {
              "frame": {
               "duration": 500,
               "redraw": true
              },
              "fromcurrent": true,
              "mode": "immediate",
              "transition": {
               "duration": 500,
               "easing": "linear"
              }
             }
            ],
            "label": "&#9654;",
            "method": "animate"
           },
           {
            "args": [
             [
              null
             ],
             {
              "frame": {
               "duration": 0,
               "redraw": true
              },
              "fromcurrent": true,
              "mode": "immediate",
              "transition": {
               "duration": 0,
               "easing": "linear"
              }
             }
            ],
            "label": "&#9724;",
            "method": "animate"
           }
          ],
          "direction": "left",
          "pad": {
           "r": 10,
           "t": 70
          },
          "showactive": false,
          "type": "buttons",
          "x": 0.1,
          "xanchor": "right",
          "y": 0,
          "yanchor": "top"
         }
        ],
        "width": 800,
        "xaxis": {
         "anchor": "y",
         "domain": [
          0,
          1
         ],
         "range": [
          0,
          11
         ],
         "title": {
          "text": "Team"
         }
        },
        "yaxis": {
         "anchor": "x",
         "domain": [
          0,
          1
         ],
         "range": [
          0,
          500
         ],
         "title": {
          "text": "Medals"
         }
        }
       }
      },
      "text/html": [
       "<div>                            <div id=\"e2ba8c89-ecd2-482d-8474-1299cdede2a6\" class=\"plotly-graph-div\" style=\"height:400px; width:800px;\"></div>            <script type=\"text/javascript\">                require([\"plotly\"], function(Plotly) {                    window.PLOTLYENV=window.PLOTLYENV || {};                                    if (document.getElementById(\"e2ba8c89-ecd2-482d-8474-1299cdede2a6\")) {                    Plotly.newPlot(                        \"e2ba8c89-ecd2-482d-8474-1299cdede2a6\",                        [{\"alignmentgroup\": \"True\", \"hovertemplate\": \"Year=2016<br>Team=%{x}<br>Medals=%{marker.color}<extra></extra>\", \"ids\": [\"United States\", \"Germany\", \"Great Britain\", \"Russia\", \"China\", \"France\", \"Australia\", \"Italy\", \"Canada\", \"Japan\", \"Serbia\", \"Brazil\", \"Netherlands\", \"Spain\", \"Denmark\", \"New Zealand\", \"Jamaica\", \"Sweden\", \"South Korea\", \"Croatia\", \"South Africa\", \"Argentina\", \"Hungary\", \"Belgium\", \"Norway\", \"Azerbaijan\", \"Kazakhstan\", \"Nigeria\", \"Romania\", \"Poland\", \"Ukraine\", \"Uzbekistan\", \"Kenya\", \"Czech Republic\", \"Fiji\", \"Belarus\", \"Switzerland\", \"Cuba\", \"Iran\", \"Ethiopia\", \"Colombia\", \"Turkey\", \"Malaysia\", \"Slovakia\", \"Georgia\", \"Lithuania\", \"Greece\", \"Bulgaria\", \"North Korea\", \"Bahamas\", \"Thailand\", \"Mexico\", \"Chinese Taipei\", \"Armenia\", \"Brazil-1\", \"Estonia\", \"United States-1\", \"Slovenia\", \"United States-2\", \"China-1\", \"Ireland\", \"Egypt\", \"Venezuela\", \"Tunisia\", \"Algeria\", \"Bahrain\", \"India\", \"Mongolia\", \"Indonesia\", \"Indonesia-1\", \"Cote d'Ivoire\", \"Individual Olympic Athletes\", \"Austria\", \"Israel\", \"Russia-2\", \"Netherlands-1\", \"Vietnam\", \"Germany-1\", \"South Korea-1\", \"Spain-2\", \"Italy-1\", \"Czech Republic-1\", \"Tajikistan\", \"Portugal\", \"Jordan\", \"Puerto Rico\", \"Trinidad and Tobago\", \"Singapore\", \"Morocco\", \"Qatar\", \"United Arab Emirates\", \"Niger\", \"Philippines\", \"Dominican Republic\", \"Finland\", \"Grenada\", \"Burundi\", \"Kosovo\"], \"legendgroup\": \"\", \"marker\": {\"color\": [256, 157, 145, 113, 109, 96, 82, 70, 69, 64, 54, 46, 45, 43, 41, 36, 30, 28, 24, 24, 23, 22, 22, 21, 19, 18, 18, 18, 16, 16, 15, 13, 13, 13, 13, 12, 11, 11, 8, 8, 8, 8, 8, 8, 7, 7, 7, 7, 7, 6, 6, 5, 5, 4, 4, 4, 4, 4, 4, 4, 3, 3, 3, 3, 2, 2, 2, 2, 2, 2, 2, 2, 2, 2, 2, 2, 2, 2, 2, 2, 2, 2, 1, 1, 1, 1, 1, 1, 1, 1, 1, 1, 1, 1, 1, 1, 1, 1], \"coloraxis\": \"coloraxis\"}, \"name\": \"\", \"offsetgroup\": \"\", \"orientation\": \"v\", \"showlegend\": false, \"textposition\": \"auto\", \"type\": \"bar\", \"x\": [\"United States\", \"Germany\", \"Great Britain\", \"Russia\", \"China\", \"France\", \"Australia\", \"Italy\", \"Canada\", \"Japan\", \"Serbia\", \"Brazil\", \"Netherlands\", \"Spain\", \"Denmark\", \"New Zealand\", \"Jamaica\", \"Sweden\", \"South Korea\", \"Croatia\", \"South Africa\", \"Argentina\", \"Hungary\", \"Belgium\", \"Norway\", \"Azerbaijan\", \"Kazakhstan\", \"Nigeria\", \"Romania\", \"Poland\", \"Ukraine\", \"Uzbekistan\", \"Kenya\", \"Czech Republic\", \"Fiji\", \"Belarus\", \"Switzerland\", \"Cuba\", \"Iran\", \"Ethiopia\", \"Colombia\", \"Turkey\", \"Malaysia\", \"Slovakia\", \"Georgia\", \"Lithuania\", \"Greece\", \"Bulgaria\", \"North Korea\", \"Bahamas\", \"Thailand\", \"Mexico\", \"Chinese Taipei\", \"Armenia\", \"Brazil-1\", \"Estonia\", \"United States-1\", \"Slovenia\", \"United States-2\", \"China-1\", \"Ireland\", \"Egypt\", \"Venezuela\", \"Tunisia\", \"Algeria\", \"Bahrain\", \"India\", \"Mongolia\", \"Indonesia\", \"Indonesia-1\", \"Cote d'Ivoire\", \"Individual Olympic Athletes\", \"Austria\", \"Israel\", \"Russia-2\", \"Netherlands-1\", \"Vietnam\", \"Germany-1\", \"South Korea-1\", \"Spain-2\", \"Italy-1\", \"Czech Republic-1\", \"Tajikistan\", \"Portugal\", \"Jordan\", \"Puerto Rico\", \"Trinidad and Tobago\", \"Singapore\", \"Morocco\", \"Qatar\", \"United Arab Emirates\", \"Niger\", \"Philippines\", \"Dominican Republic\", \"Finland\", \"Grenada\", \"Burundi\", \"Kosovo\"], \"xaxis\": \"x\", \"y\": [256, 157, 145, 113, 109, 96, 82, 70, 69, 64, 54, 46, 45, 43, 41, 36, 30, 28, 24, 24, 23, 22, 22, 21, 19, 18, 18, 18, 16, 16, 15, 13, 13, 13, 13, 12, 11, 11, 8, 8, 8, 8, 8, 8, 7, 7, 7, 7, 7, 6, 6, 5, 5, 4, 4, 4, 4, 4, 4, 4, 3, 3, 3, 3, 2, 2, 2, 2, 2, 2, 2, 2, 2, 2, 2, 2, 2, 2, 2, 2, 2, 2, 1, 1, 1, 1, 1, 1, 1, 1, 1, 1, 1, 1, 1, 1, 1, 1], \"yaxis\": \"y\"}],                        {\"barmode\": \"relative\", \"coloraxis\": {\"colorbar\": {\"title\": {\"text\": \"Medals\"}}, \"colorscale\": [[0.0, \"#0d0887\"], [0.1111111111111111, \"#46039f\"], [0.2222222222222222, \"#7201a8\"], [0.3333333333333333, \"#9c179e\"], [0.4444444444444444, \"#bd3786\"], [0.5555555555555556, \"#d8576b\"], [0.6666666666666666, \"#ed7953\"], [0.7777777777777778, \"#fb9f3a\"], [0.8888888888888888, \"#fdca26\"], [1.0, \"#f0f921\"]]}, \"height\": 400, \"legend\": {\"tracegroupgap\": 0}, \"margin\": {\"b\": 20, \"l\": 20, \"r\": 20, \"t\": 20}, \"paper_bgcolor\": \"white\", \"sliders\": [{\"active\": 0, \"currentvalue\": {\"prefix\": \"Year=\"}, \"len\": 0.9, \"pad\": {\"b\": 10, \"t\": 60}, \"steps\": [{\"args\": [[\"2016\"], {\"frame\": {\"duration\": 0, \"redraw\": true}, \"fromcurrent\": true, \"mode\": \"immediate\", \"transition\": {\"duration\": 0, \"easing\": \"linear\"}}], \"label\": \"2016\", \"method\": \"animate\"}, {\"args\": [[\"2014\"], {\"frame\": {\"duration\": 0, \"redraw\": true}, \"fromcurrent\": true, \"mode\": \"immediate\", \"transition\": {\"duration\": 0, \"easing\": \"linear\"}}], \"label\": \"2014\", \"method\": \"animate\"}, {\"args\": [[\"2012\"], {\"frame\": {\"duration\": 0, \"redraw\": true}, \"fromcurrent\": true, \"mode\": \"immediate\", \"transition\": {\"duration\": 0, \"easing\": \"linear\"}}], \"label\": \"2012\", \"method\": \"animate\"}, {\"args\": [[\"2010\"], {\"frame\": {\"duration\": 0, \"redraw\": true}, \"fromcurrent\": true, \"mode\": \"immediate\", \"transition\": {\"duration\": 0, \"easing\": \"linear\"}}], \"label\": \"2010\", \"method\": \"animate\"}, {\"args\": [[\"2008\"], {\"frame\": {\"duration\": 0, \"redraw\": true}, \"fromcurrent\": true, \"mode\": \"immediate\", \"transition\": {\"duration\": 0, \"easing\": \"linear\"}}], \"label\": \"2008\", \"method\": \"animate\"}, {\"args\": [[\"2006\"], {\"frame\": {\"duration\": 0, \"redraw\": true}, \"fromcurrent\": true, \"mode\": \"immediate\", \"transition\": {\"duration\": 0, \"easing\": \"linear\"}}], \"label\": \"2006\", \"method\": \"animate\"}, {\"args\": [[\"2004\"], {\"frame\": {\"duration\": 0, \"redraw\": true}, \"fromcurrent\": true, \"mode\": \"immediate\", \"transition\": {\"duration\": 0, \"easing\": \"linear\"}}], \"label\": \"2004\", \"method\": \"animate\"}, {\"args\": [[\"2002\"], {\"frame\": {\"duration\": 0, \"redraw\": true}, \"fromcurrent\": true, \"mode\": \"immediate\", \"transition\": {\"duration\": 0, \"easing\": \"linear\"}}], \"label\": \"2002\", \"method\": \"animate\"}, {\"args\": [[\"2000\"], {\"frame\": {\"duration\": 0, \"redraw\": true}, \"fromcurrent\": true, \"mode\": \"immediate\", \"transition\": {\"duration\": 0, \"easing\": \"linear\"}}], \"label\": \"2000\", \"method\": \"animate\"}, {\"args\": [[\"1998\"], {\"frame\": {\"duration\": 0, \"redraw\": true}, \"fromcurrent\": true, \"mode\": \"immediate\", \"transition\": {\"duration\": 0, \"easing\": \"linear\"}}], \"label\": \"1998\", \"method\": \"animate\"}, {\"args\": [[\"1996\"], {\"frame\": {\"duration\": 0, \"redraw\": true}, \"fromcurrent\": true, \"mode\": \"immediate\", \"transition\": {\"duration\": 0, \"easing\": \"linear\"}}], \"label\": \"1996\", \"method\": \"animate\"}, {\"args\": [[\"1994\"], {\"frame\": {\"duration\": 0, \"redraw\": true}, \"fromcurrent\": true, \"mode\": \"immediate\", \"transition\": {\"duration\": 0, \"easing\": \"linear\"}}], \"label\": \"1994\", \"method\": \"animate\"}, {\"args\": [[\"1992\"], {\"frame\": {\"duration\": 0, \"redraw\": true}, \"fromcurrent\": true, \"mode\": \"immediate\", \"transition\": {\"duration\": 0, \"easing\": \"linear\"}}], \"label\": \"1992\", \"method\": \"animate\"}, {\"args\": [[\"1988\"], {\"frame\": {\"duration\": 0, \"redraw\": true}, \"fromcurrent\": true, \"mode\": \"immediate\", \"transition\": {\"duration\": 0, \"easing\": \"linear\"}}], \"label\": \"1988\", \"method\": \"animate\"}, {\"args\": [[\"1984\"], {\"frame\": {\"duration\": 0, \"redraw\": true}, \"fromcurrent\": true, \"mode\": \"immediate\", \"transition\": {\"duration\": 0, \"easing\": \"linear\"}}], \"label\": \"1984\", \"method\": \"animate\"}, {\"args\": [[\"1980\"], {\"frame\": {\"duration\": 0, \"redraw\": true}, \"fromcurrent\": true, \"mode\": \"immediate\", \"transition\": {\"duration\": 0, \"easing\": \"linear\"}}], \"label\": \"1980\", \"method\": \"animate\"}, {\"args\": [[\"1976\"], {\"frame\": {\"duration\": 0, \"redraw\": true}, \"fromcurrent\": true, \"mode\": \"immediate\", \"transition\": {\"duration\": 0, \"easing\": \"linear\"}}], \"label\": \"1976\", \"method\": \"animate\"}, {\"args\": [[\"1972\"], {\"frame\": {\"duration\": 0, \"redraw\": true}, \"fromcurrent\": true, \"mode\": \"immediate\", \"transition\": {\"duration\": 0, \"easing\": \"linear\"}}], \"label\": \"1972\", \"method\": \"animate\"}, {\"args\": [[\"1968\"], {\"frame\": {\"duration\": 0, \"redraw\": true}, \"fromcurrent\": true, \"mode\": \"immediate\", \"transition\": {\"duration\": 0, \"easing\": \"linear\"}}], \"label\": \"1968\", \"method\": \"animate\"}, {\"args\": [[\"1964\"], {\"frame\": {\"duration\": 0, \"redraw\": true}, \"fromcurrent\": true, \"mode\": \"immediate\", \"transition\": {\"duration\": 0, \"easing\": \"linear\"}}], \"label\": \"1964\", \"method\": \"animate\"}, {\"args\": [[\"1960\"], {\"frame\": {\"duration\": 0, \"redraw\": true}, \"fromcurrent\": true, \"mode\": \"immediate\", \"transition\": {\"duration\": 0, \"easing\": \"linear\"}}], \"label\": \"1960\", \"method\": \"animate\"}, {\"args\": [[\"1956\"], {\"frame\": {\"duration\": 0, \"redraw\": true}, \"fromcurrent\": true, \"mode\": \"immediate\", \"transition\": {\"duration\": 0, \"easing\": \"linear\"}}], \"label\": \"1956\", \"method\": \"animate\"}, {\"args\": [[\"1952\"], {\"frame\": {\"duration\": 0, \"redraw\": true}, \"fromcurrent\": true, \"mode\": \"immediate\", \"transition\": {\"duration\": 0, \"easing\": \"linear\"}}], \"label\": \"1952\", \"method\": \"animate\"}, {\"args\": [[\"1948\"], {\"frame\": {\"duration\": 0, \"redraw\": true}, \"fromcurrent\": true, \"mode\": \"immediate\", \"transition\": {\"duration\": 0, \"easing\": \"linear\"}}], \"label\": \"1948\", \"method\": \"animate\"}, {\"args\": [[\"1936\"], {\"frame\": {\"duration\": 0, \"redraw\": true}, \"fromcurrent\": true, \"mode\": \"immediate\", \"transition\": {\"duration\": 0, \"easing\": \"linear\"}}], \"label\": \"1936\", \"method\": \"animate\"}, {\"args\": [[\"1932\"], {\"frame\": {\"duration\": 0, \"redraw\": true}, \"fromcurrent\": true, \"mode\": \"immediate\", \"transition\": {\"duration\": 0, \"easing\": \"linear\"}}], \"label\": \"1932\", \"method\": \"animate\"}, {\"args\": [[\"1928\"], {\"frame\": {\"duration\": 0, \"redraw\": true}, \"fromcurrent\": true, \"mode\": \"immediate\", \"transition\": {\"duration\": 0, \"easing\": \"linear\"}}], \"label\": \"1928\", \"method\": \"animate\"}, {\"args\": [[\"1924\"], {\"frame\": {\"duration\": 0, \"redraw\": true}, \"fromcurrent\": true, \"mode\": \"immediate\", \"transition\": {\"duration\": 0, \"easing\": \"linear\"}}], \"label\": \"1924\", \"method\": \"animate\"}, {\"args\": [[\"1920\"], {\"frame\": {\"duration\": 0, \"redraw\": true}, \"fromcurrent\": true, \"mode\": \"immediate\", \"transition\": {\"duration\": 0, \"easing\": \"linear\"}}], \"label\": \"1920\", \"method\": \"animate\"}, {\"args\": [[\"1912\"], {\"frame\": {\"duration\": 0, \"redraw\": true}, \"fromcurrent\": true, \"mode\": \"immediate\", \"transition\": {\"duration\": 0, \"easing\": \"linear\"}}], \"label\": \"1912\", \"method\": \"animate\"}, {\"args\": [[\"1908\"], {\"frame\": {\"duration\": 0, \"redraw\": true}, \"fromcurrent\": true, \"mode\": \"immediate\", \"transition\": {\"duration\": 0, \"easing\": \"linear\"}}], \"label\": \"1908\", \"method\": \"animate\"}, {\"args\": [[\"1906\"], {\"frame\": {\"duration\": 0, \"redraw\": true}, \"fromcurrent\": true, \"mode\": \"immediate\", \"transition\": {\"duration\": 0, \"easing\": \"linear\"}}], \"label\": \"1906\", \"method\": \"animate\"}, {\"args\": [[\"1904\"], {\"frame\": {\"duration\": 0, \"redraw\": true}, \"fromcurrent\": true, \"mode\": \"immediate\", \"transition\": {\"duration\": 0, \"easing\": \"linear\"}}], \"label\": \"1904\", \"method\": \"animate\"}, {\"args\": [[\"1900\"], {\"frame\": {\"duration\": 0, \"redraw\": true}, \"fromcurrent\": true, \"mode\": \"immediate\", \"transition\": {\"duration\": 0, \"easing\": \"linear\"}}], \"label\": \"1900\", \"method\": \"animate\"}, {\"args\": [[\"1896\"], {\"frame\": {\"duration\": 0, \"redraw\": true}, \"fromcurrent\": true, \"mode\": \"immediate\", \"transition\": {\"duration\": 0, \"easing\": \"linear\"}}], \"label\": \"1896\", \"method\": \"animate\"}], \"x\": 0.1, \"xanchor\": \"left\", \"y\": 0, \"yanchor\": \"top\"}], \"template\": {\"data\": {\"bar\": [{\"error_x\": {\"color\": \"#2a3f5f\"}, \"error_y\": {\"color\": \"#2a3f5f\"}, \"marker\": {\"line\": {\"color\": \"#E5ECF6\", \"width\": 0.5}}, \"type\": \"bar\"}], \"barpolar\": [{\"marker\": {\"line\": {\"color\": \"#E5ECF6\", \"width\": 0.5}}, \"type\": \"barpolar\"}], \"carpet\": [{\"aaxis\": {\"endlinecolor\": \"#2a3f5f\", \"gridcolor\": \"white\", \"linecolor\": \"white\", \"minorgridcolor\": \"white\", \"startlinecolor\": \"#2a3f5f\"}, \"baxis\": {\"endlinecolor\": \"#2a3f5f\", \"gridcolor\": \"white\", \"linecolor\": \"white\", \"minorgridcolor\": \"white\", \"startlinecolor\": \"#2a3f5f\"}, \"type\": \"carpet\"}], \"choropleth\": [{\"colorbar\": {\"outlinewidth\": 0, \"ticks\": \"\"}, \"type\": \"choropleth\"}], \"contour\": [{\"colorbar\": {\"outlinewidth\": 0, \"ticks\": \"\"}, \"colorscale\": [[0.0, \"#0d0887\"], [0.1111111111111111, \"#46039f\"], [0.2222222222222222, \"#7201a8\"], [0.3333333333333333, \"#9c179e\"], [0.4444444444444444, \"#bd3786\"], [0.5555555555555556, \"#d8576b\"], [0.6666666666666666, \"#ed7953\"], [0.7777777777777778, \"#fb9f3a\"], [0.8888888888888888, \"#fdca26\"], [1.0, \"#f0f921\"]], \"type\": \"contour\"}], \"contourcarpet\": [{\"colorbar\": {\"outlinewidth\": 0, \"ticks\": \"\"}, \"type\": \"contourcarpet\"}], \"heatmap\": [{\"colorbar\": {\"outlinewidth\": 0, \"ticks\": \"\"}, \"colorscale\": [[0.0, \"#0d0887\"], [0.1111111111111111, \"#46039f\"], [0.2222222222222222, \"#7201a8\"], [0.3333333333333333, \"#9c179e\"], [0.4444444444444444, \"#bd3786\"], [0.5555555555555556, \"#d8576b\"], [0.6666666666666666, \"#ed7953\"], [0.7777777777777778, \"#fb9f3a\"], [0.8888888888888888, \"#fdca26\"], [1.0, \"#f0f921\"]], \"type\": \"heatmap\"}], \"heatmapgl\": [{\"colorbar\": {\"outlinewidth\": 0, \"ticks\": \"\"}, \"colorscale\": [[0.0, \"#0d0887\"], [0.1111111111111111, \"#46039f\"], [0.2222222222222222, \"#7201a8\"], [0.3333333333333333, \"#9c179e\"], [0.4444444444444444, \"#bd3786\"], [0.5555555555555556, \"#d8576b\"], [0.6666666666666666, \"#ed7953\"], [0.7777777777777778, \"#fb9f3a\"], [0.8888888888888888, \"#fdca26\"], [1.0, \"#f0f921\"]], \"type\": \"heatmapgl\"}], \"histogram\": [{\"marker\": {\"colorbar\": {\"outlinewidth\": 0, \"ticks\": \"\"}}, \"type\": \"histogram\"}], \"histogram2d\": [{\"colorbar\": {\"outlinewidth\": 0, \"ticks\": \"\"}, \"colorscale\": [[0.0, \"#0d0887\"], [0.1111111111111111, \"#46039f\"], [0.2222222222222222, \"#7201a8\"], [0.3333333333333333, \"#9c179e\"], [0.4444444444444444, \"#bd3786\"], [0.5555555555555556, \"#d8576b\"], [0.6666666666666666, \"#ed7953\"], [0.7777777777777778, \"#fb9f3a\"], [0.8888888888888888, \"#fdca26\"], [1.0, \"#f0f921\"]], \"type\": \"histogram2d\"}], \"histogram2dcontour\": [{\"colorbar\": {\"outlinewidth\": 0, \"ticks\": \"\"}, \"colorscale\": [[0.0, \"#0d0887\"], [0.1111111111111111, \"#46039f\"], [0.2222222222222222, \"#7201a8\"], [0.3333333333333333, \"#9c179e\"], [0.4444444444444444, \"#bd3786\"], [0.5555555555555556, \"#d8576b\"], [0.6666666666666666, \"#ed7953\"], [0.7777777777777778, \"#fb9f3a\"], [0.8888888888888888, \"#fdca26\"], [1.0, \"#f0f921\"]], \"type\": \"histogram2dcontour\"}], \"mesh3d\": [{\"colorbar\": {\"outlinewidth\": 0, \"ticks\": \"\"}, \"type\": \"mesh3d\"}], \"parcoords\": [{\"line\": {\"colorbar\": {\"outlinewidth\": 0, \"ticks\": \"\"}}, \"type\": \"parcoords\"}], \"pie\": [{\"automargin\": true, \"type\": \"pie\"}], \"scatter\": [{\"marker\": {\"colorbar\": {\"outlinewidth\": 0, \"ticks\": \"\"}}, \"type\": \"scatter\"}], \"scatter3d\": [{\"line\": {\"colorbar\": {\"outlinewidth\": 0, \"ticks\": \"\"}}, \"marker\": {\"colorbar\": {\"outlinewidth\": 0, \"ticks\": \"\"}}, \"type\": \"scatter3d\"}], \"scattercarpet\": [{\"marker\": {\"colorbar\": {\"outlinewidth\": 0, \"ticks\": \"\"}}, \"type\": \"scattercarpet\"}], \"scattergeo\": [{\"marker\": {\"colorbar\": {\"outlinewidth\": 0, \"ticks\": \"\"}}, \"type\": \"scattergeo\"}], \"scattergl\": [{\"marker\": {\"colorbar\": {\"outlinewidth\": 0, \"ticks\": \"\"}}, \"type\": \"scattergl\"}], \"scattermapbox\": [{\"marker\": {\"colorbar\": {\"outlinewidth\": 0, \"ticks\": \"\"}}, \"type\": \"scattermapbox\"}], \"scatterpolar\": [{\"marker\": {\"colorbar\": {\"outlinewidth\": 0, \"ticks\": \"\"}}, \"type\": \"scatterpolar\"}], \"scatterpolargl\": [{\"marker\": {\"colorbar\": {\"outlinewidth\": 0, \"ticks\": \"\"}}, \"type\": \"scatterpolargl\"}], \"scatterternary\": [{\"marker\": {\"colorbar\": {\"outlinewidth\": 0, \"ticks\": \"\"}}, \"type\": \"scatterternary\"}], \"surface\": [{\"colorbar\": {\"outlinewidth\": 0, \"ticks\": \"\"}, \"colorscale\": [[0.0, \"#0d0887\"], [0.1111111111111111, \"#46039f\"], [0.2222222222222222, \"#7201a8\"], [0.3333333333333333, \"#9c179e\"], [0.4444444444444444, \"#bd3786\"], [0.5555555555555556, \"#d8576b\"], [0.6666666666666666, \"#ed7953\"], [0.7777777777777778, \"#fb9f3a\"], [0.8888888888888888, \"#fdca26\"], [1.0, \"#f0f921\"]], \"type\": \"surface\"}], \"table\": [{\"cells\": {\"fill\": {\"color\": \"#EBF0F8\"}, \"line\": {\"color\": \"white\"}}, \"header\": {\"fill\": {\"color\": \"#C8D4E3\"}, \"line\": {\"color\": \"white\"}}, \"type\": \"table\"}]}, \"layout\": {\"annotationdefaults\": {\"arrowcolor\": \"#2a3f5f\", \"arrowhead\": 0, \"arrowwidth\": 1}, \"coloraxis\": {\"colorbar\": {\"outlinewidth\": 0, \"ticks\": \"\"}}, \"colorscale\": {\"diverging\": [[0, \"#8e0152\"], [0.1, \"#c51b7d\"], [0.2, \"#de77ae\"], [0.3, \"#f1b6da\"], [0.4, \"#fde0ef\"], [0.5, \"#f7f7f7\"], [0.6, \"#e6f5d0\"], [0.7, \"#b8e186\"], [0.8, \"#7fbc41\"], [0.9, \"#4d9221\"], [1, \"#276419\"]], \"sequential\": [[0.0, \"#0d0887\"], [0.1111111111111111, \"#46039f\"], [0.2222222222222222, \"#7201a8\"], [0.3333333333333333, \"#9c179e\"], [0.4444444444444444, \"#bd3786\"], [0.5555555555555556, \"#d8576b\"], [0.6666666666666666, \"#ed7953\"], [0.7777777777777778, \"#fb9f3a\"], [0.8888888888888888, \"#fdca26\"], [1.0, \"#f0f921\"]], \"sequentialminus\": [[0.0, \"#0d0887\"], [0.1111111111111111, \"#46039f\"], [0.2222222222222222, \"#7201a8\"], [0.3333333333333333, \"#9c179e\"], [0.4444444444444444, \"#bd3786\"], [0.5555555555555556, \"#d8576b\"], [0.6666666666666666, \"#ed7953\"], [0.7777777777777778, \"#fb9f3a\"], [0.8888888888888888, \"#fdca26\"], [1.0, \"#f0f921\"]]}, \"colorway\": [\"#636efa\", \"#EF553B\", \"#00cc96\", \"#ab63fa\", \"#FFA15A\", \"#19d3f3\", \"#FF6692\", \"#B6E880\", \"#FF97FF\", \"#FECB52\"], \"font\": {\"color\": \"#2a3f5f\"}, \"geo\": {\"bgcolor\": \"white\", \"lakecolor\": \"white\", \"landcolor\": \"#E5ECF6\", \"showlakes\": true, \"showland\": true, \"subunitcolor\": \"white\"}, \"hoverlabel\": {\"align\": \"left\"}, \"hovermode\": \"closest\", \"mapbox\": {\"style\": \"light\"}, \"paper_bgcolor\": \"white\", \"plot_bgcolor\": \"#E5ECF6\", \"polar\": {\"angularaxis\": {\"gridcolor\": \"white\", \"linecolor\": \"white\", \"ticks\": \"\"}, \"bgcolor\": \"#E5ECF6\", \"radialaxis\": {\"gridcolor\": \"white\", \"linecolor\": \"white\", \"ticks\": \"\"}}, \"scene\": {\"xaxis\": {\"backgroundcolor\": \"#E5ECF6\", \"gridcolor\": \"white\", \"gridwidth\": 2, \"linecolor\": \"white\", \"showbackground\": true, \"ticks\": \"\", \"zerolinecolor\": \"white\"}, \"yaxis\": {\"backgroundcolor\": \"#E5ECF6\", \"gridcolor\": \"white\", \"gridwidth\": 2, \"linecolor\": \"white\", \"showbackground\": true, \"ticks\": \"\", \"zerolinecolor\": \"white\"}, \"zaxis\": {\"backgroundcolor\": \"#E5ECF6\", \"gridcolor\": \"white\", \"gridwidth\": 2, \"linecolor\": \"white\", \"showbackground\": true, \"ticks\": \"\", \"zerolinecolor\": \"white\"}}, \"shapedefaults\": {\"line\": {\"color\": \"#2a3f5f\"}}, \"ternary\": {\"aaxis\": {\"gridcolor\": \"white\", \"linecolor\": \"white\", \"ticks\": \"\"}, \"baxis\": {\"gridcolor\": \"white\", \"linecolor\": \"white\", \"ticks\": \"\"}, \"bgcolor\": \"#E5ECF6\", \"caxis\": {\"gridcolor\": \"white\", \"linecolor\": \"white\", \"ticks\": \"\"}}, \"title\": {\"x\": 0.05}, \"xaxis\": {\"automargin\": true, \"gridcolor\": \"white\", \"linecolor\": \"white\", \"ticks\": \"\", \"title\": {\"standoff\": 15}, \"zerolinecolor\": \"white\", \"zerolinewidth\": 2}, \"yaxis\": {\"automargin\": true, \"gridcolor\": \"white\", \"linecolor\": \"white\", \"ticks\": \"\", \"title\": {\"standoff\": 15}, \"zerolinecolor\": \"white\", \"zerolinewidth\": 2}}}, \"title\": {\"text\": \"Total Number of Medals Each Country Have with respect to Year\"}, \"updatemenus\": [{\"buttons\": [{\"args\": [null, {\"frame\": {\"duration\": 500, \"redraw\": true}, \"fromcurrent\": true, \"mode\": \"immediate\", \"transition\": {\"duration\": 500, \"easing\": \"linear\"}}], \"label\": \"&#9654;\", \"method\": \"animate\"}, {\"args\": [[null], {\"frame\": {\"duration\": 0, \"redraw\": true}, \"fromcurrent\": true, \"mode\": \"immediate\", \"transition\": {\"duration\": 0, \"easing\": \"linear\"}}], \"label\": \"&#9724;\", \"method\": \"animate\"}], \"direction\": \"left\", \"pad\": {\"r\": 10, \"t\": 70}, \"showactive\": false, \"type\": \"buttons\", \"x\": 0.1, \"xanchor\": \"right\", \"y\": 0, \"yanchor\": \"top\"}], \"width\": 800, \"xaxis\": {\"anchor\": \"y\", \"domain\": [0.0, 1.0], \"range\": [0, 11], \"title\": {\"text\": \"Team\"}}, \"yaxis\": {\"anchor\": \"x\", \"domain\": [0.0, 1.0], \"range\": [0, 500], \"title\": {\"text\": \"Medals\"}}},                        {\"responsive\": true}                    ).then(function(){\n",
       "                            Plotly.addFrames('e2ba8c89-ecd2-482d-8474-1299cdede2a6', [{\"data\": [{\"alignmentgroup\": \"True\", \"hovertemplate\": \"Year=2016<br>Team=%{x}<br>Medals=%{marker.color}<extra></extra>\", \"ids\": [\"United States\", \"Germany\", \"Great Britain\", \"Russia\", \"China\", \"France\", \"Australia\", \"Italy\", \"Canada\", \"Japan\", \"Serbia\", \"Brazil\", \"Netherlands\", \"Spain\", \"Denmark\", \"New Zealand\", \"Jamaica\", \"Sweden\", \"South Korea\", \"Croatia\", \"South Africa\", \"Argentina\", \"Hungary\", \"Belgium\", \"Norway\", \"Azerbaijan\", \"Kazakhstan\", \"Nigeria\", \"Romania\", \"Poland\", \"Ukraine\", \"Uzbekistan\", \"Kenya\", \"Czech Republic\", \"Fiji\", \"Belarus\", \"Switzerland\", \"Cuba\", \"Iran\", \"Ethiopia\", \"Colombia\", \"Turkey\", \"Malaysia\", \"Slovakia\", \"Georgia\", \"Lithuania\", \"Greece\", \"Bulgaria\", \"North Korea\", \"Bahamas\", \"Thailand\", \"Mexico\", \"Chinese Taipei\", \"Armenia\", \"Brazil-1\", \"Estonia\", \"United States-1\", \"Slovenia\", \"United States-2\", \"China-1\", \"Ireland\", \"Egypt\", \"Venezuela\", \"Tunisia\", \"Algeria\", \"Bahrain\", \"India\", \"Mongolia\", \"Indonesia\", \"Indonesia-1\", \"Cote d'Ivoire\", \"Individual Olympic Athletes\", \"Austria\", \"Israel\", \"Russia-2\", \"Netherlands-1\", \"Vietnam\", \"Germany-1\", \"South Korea-1\", \"Spain-2\", \"Italy-1\", \"Czech Republic-1\", \"Tajikistan\", \"Portugal\", \"Jordan\", \"Puerto Rico\", \"Trinidad and Tobago\", \"Singapore\", \"Morocco\", \"Qatar\", \"United Arab Emirates\", \"Niger\", \"Philippines\", \"Dominican Republic\", \"Finland\", \"Grenada\", \"Burundi\", \"Kosovo\"], \"legendgroup\": \"\", \"marker\": {\"color\": [256, 157, 145, 113, 109, 96, 82, 70, 69, 64, 54, 46, 45, 43, 41, 36, 30, 28, 24, 24, 23, 22, 22, 21, 19, 18, 18, 18, 16, 16, 15, 13, 13, 13, 13, 12, 11, 11, 8, 8, 8, 8, 8, 8, 7, 7, 7, 7, 7, 6, 6, 5, 5, 4, 4, 4, 4, 4, 4, 4, 3, 3, 3, 3, 2, 2, 2, 2, 2, 2, 2, 2, 2, 2, 2, 2, 2, 2, 2, 2, 2, 2, 1, 1, 1, 1, 1, 1, 1, 1, 1, 1, 1, 1, 1, 1, 1, 1], \"coloraxis\": \"coloraxis\"}, \"name\": \"\", \"offsetgroup\": \"\", \"orientation\": \"v\", \"showlegend\": false, \"textposition\": \"auto\", \"x\": [\"United States\", \"Germany\", \"Great Britain\", \"Russia\", \"China\", \"France\", \"Australia\", \"Italy\", \"Canada\", \"Japan\", \"Serbia\", \"Brazil\", \"Netherlands\", \"Spain\", \"Denmark\", \"New Zealand\", \"Jamaica\", \"Sweden\", \"South Korea\", \"Croatia\", \"South Africa\", \"Argentina\", \"Hungary\", \"Belgium\", \"Norway\", \"Azerbaijan\", \"Kazakhstan\", \"Nigeria\", \"Romania\", \"Poland\", \"Ukraine\", \"Uzbekistan\", \"Kenya\", \"Czech Republic\", \"Fiji\", \"Belarus\", \"Switzerland\", \"Cuba\", \"Iran\", \"Ethiopia\", \"Colombia\", \"Turkey\", \"Malaysia\", \"Slovakia\", \"Georgia\", \"Lithuania\", \"Greece\", \"Bulgaria\", \"North Korea\", \"Bahamas\", \"Thailand\", \"Mexico\", \"Chinese Taipei\", \"Armenia\", \"Brazil-1\", \"Estonia\", \"United States-1\", \"Slovenia\", \"United States-2\", \"China-1\", \"Ireland\", \"Egypt\", \"Venezuela\", \"Tunisia\", \"Algeria\", \"Bahrain\", \"India\", \"Mongolia\", \"Indonesia\", \"Indonesia-1\", \"Cote d'Ivoire\", \"Individual Olympic Athletes\", \"Austria\", \"Israel\", \"Russia-2\", \"Netherlands-1\", \"Vietnam\", \"Germany-1\", \"South Korea-1\", \"Spain-2\", \"Italy-1\", \"Czech Republic-1\", \"Tajikistan\", \"Portugal\", \"Jordan\", \"Puerto Rico\", \"Trinidad and Tobago\", \"Singapore\", \"Morocco\", \"Qatar\", \"United Arab Emirates\", \"Niger\", \"Philippines\", \"Dominican Republic\", \"Finland\", \"Grenada\", \"Burundi\", \"Kosovo\"], \"xaxis\": \"x\", \"y\": [256, 157, 145, 113, 109, 96, 82, 70, 69, 64, 54, 46, 45, 43, 41, 36, 30, 28, 24, 24, 23, 22, 22, 21, 19, 18, 18, 18, 16, 16, 15, 13, 13, 13, 13, 12, 11, 11, 8, 8, 8, 8, 8, 8, 7, 7, 7, 7, 7, 6, 6, 5, 5, 4, 4, 4, 4, 4, 4, 4, 3, 3, 3, 3, 2, 2, 2, 2, 2, 2, 2, 2, 2, 2, 2, 2, 2, 2, 2, 2, 2, 2, 1, 1, 1, 1, 1, 1, 1, 1, 1, 1, 1, 1, 1, 1, 1, 1], \"yaxis\": \"y\", \"type\": \"bar\"}], \"name\": \"2016\"}, {\"data\": [{\"alignmentgroup\": \"True\", \"hovertemplate\": \"Year=2014<br>Team=%{x}<br>Medals=%{marker.color}<extra></extra>\", \"ids\": [\"Canada\", \"Russia\", \"United States\", \"Sweden\", \"Norway\", \"Finland\", \"Germany\", \"Netherlands\", \"Switzerland\", \"Austria\", \"France\", \"Italy\", \"South Korea\", \"China\", \"Japan\", \"Poland\", \"Czech Republic\", \"Great Britain\", \"Russia-1\", \"United States-1\", \"Slovenia\", \"Belarus\", \"Latvia-1\", \"Latvia\", \"Ukraine\", \"Germany-1\", \"Canada-1\", \"Australia\", \"United States-2\", \"Switzerland-1\", \"Russia-2\", \"Austria-1\", \"Kazakhstan\", \"Slovakia\", \"Croatia\"], \"legendgroup\": \"\", \"marker\": {\"color\": [82, 56, 52, 51, 36, 33, 32, 29, 28, 25, 18, 14, 14, 12, 11, 11, 11, 10, 10, 10, 8, 6, 6, 5, 5, 4, 4, 3, 2, 2, 2, 2, 1, 1, 1], \"coloraxis\": \"coloraxis\"}, \"name\": \"\", \"offsetgroup\": \"\", \"orientation\": \"v\", \"showlegend\": false, \"textposition\": \"auto\", \"x\": [\"Canada\", \"Russia\", \"United States\", \"Sweden\", \"Norway\", \"Finland\", \"Germany\", \"Netherlands\", \"Switzerland\", \"Austria\", \"France\", \"Italy\", \"South Korea\", \"China\", \"Japan\", \"Poland\", \"Czech Republic\", \"Great Britain\", \"Russia-1\", \"United States-1\", \"Slovenia\", \"Belarus\", \"Latvia-1\", \"Latvia\", \"Ukraine\", \"Germany-1\", \"Canada-1\", \"Australia\", \"United States-2\", \"Switzerland-1\", \"Russia-2\", \"Austria-1\", \"Kazakhstan\", \"Slovakia\", \"Croatia\"], \"xaxis\": \"x\", \"y\": [82, 56, 52, 51, 36, 33, 32, 29, 28, 25, 18, 14, 14, 12, 11, 11, 11, 10, 10, 10, 8, 6, 6, 5, 5, 4, 4, 3, 2, 2, 2, 2, 1, 1, 1], \"yaxis\": \"y\", \"type\": \"bar\"}], \"name\": \"2014\"}, {\"data\": [{\"alignmentgroup\": \"True\", \"hovertemplate\": \"Year=2012<br>Team=%{x}<br>Medals=%{marker.color}<extra></extra>\", \"ids\": [\"United States\", \"Russia\", \"Great Britain\", \"China\", \"Australia\", \"Germany\", \"Japan\", \"France\", \"Netherlands\", \"Italy\", \"Spain\", \"South Korea\", \"Canada\", \"Brazil\", \"Croatia\", \"New Zealand\", \"Ukraine\", \"Hungary\", \"Jamaica\", \"Mexico\", \"Belarus\", \"Sweden\", \"Argentina\", \"Norway\", \"Romania\", \"Serbia\", \"Cuba\", \"Denmark\", \"Montenegro\", \"Kazakhstan\", \"Iran\", \"Poland\", \"Czech Republic\", \"Kenya\", \"Azerbaijan\", \"Trinidad and Tobago\", \"South Africa\", \"Colombia\", \"United States-1\", \"Ethiopia\", \"Georgia\", \"North Korea\", \"India\", \"China-1\", \"Lithuania\", \"Turkey\", \"Finland\", \"Ireland\", \"Mongolia\", \"Slovenia\", \"Slovakia\", \"Switzerland\", \"Saudi Arabia\", \"Brazil-1\", \"Bahamas\", \"Singapore\", \"Uzbekistan\", \"Tunisia\", \"Belgium\", \"Greece\", \"Armenia\", \"Thailand\", \"Egypt\", \"Portugal\", \"Malaysia\", \"Indonesia\", \"Estonia\", \"Qatar\", \"Puerto Rico\", \"Bulgaria\", \"Dominican Republic\", \"Moldova\", \"Great Britain-1\", \"France-2\", \"Germany-1\", \"United States-2\", \"China-2\", \"Chinese Taipei\", \"Great Britain-2\", \"Japan-1\", \"Czech Republic-1\", \"South Korea-1\", \"Russia-1\", \"France-1\", \"Denmark-1\", \"Latvia-1\", \"Morocco\", \"Algeria\", \"Tajikistan\", \"Uganda\", \"Venezuela\", \"Cyprus\", \"Kuwait\", \"Bahrain\", \"Guatemala\", \"Latvia\", \"Botswana\", \"Hong Kong\", \"Gabon\", \"Afghanistan\", \"Grenada\"], \"legendgroup\": \"\", \"marker\": {\"color\": [238, 138, 122, 117, 114, 92, 82, 78, 69, 68, 63, 59, 55, 55, 35, 27, 26, 26, 25, 24, 23, 22, 19, 17, 16, 16, 14, 14, 14, 13, 12, 12, 12, 11, 10, 10, 9, 8, 8, 7, 7, 6, 6, 6, 5, 5, 5, 5, 5, 5, 5, 4, 4, 4, 4, 4, 3, 3, 3, 3, 3, 3, 2, 2, 2, 2, 2, 2, 2, 2, 2, 2, 2, 2, 2, 2, 2, 2, 2, 2, 2, 2, 2, 2, 2, 2, 1, 1, 1, 1, 1, 1, 1, 1, 1, 1, 1, 1, 1, 1, 1], \"coloraxis\": \"coloraxis\"}, \"name\": \"\", \"offsetgroup\": \"\", \"orientation\": \"v\", \"showlegend\": false, \"textposition\": \"auto\", \"x\": [\"United States\", \"Russia\", \"Great Britain\", \"China\", \"Australia\", \"Germany\", \"Japan\", \"France\", \"Netherlands\", \"Italy\", \"Spain\", \"South Korea\", \"Canada\", \"Brazil\", \"Croatia\", \"New Zealand\", \"Ukraine\", \"Hungary\", \"Jamaica\", \"Mexico\", \"Belarus\", \"Sweden\", \"Argentina\", \"Norway\", \"Romania\", \"Serbia\", \"Cuba\", \"Denmark\", \"Montenegro\", \"Kazakhstan\", \"Iran\", \"Poland\", \"Czech Republic\", \"Kenya\", \"Azerbaijan\", \"Trinidad and Tobago\", \"South Africa\", \"Colombia\", \"United States-1\", \"Ethiopia\", \"Georgia\", \"North Korea\", \"India\", \"China-1\", \"Lithuania\", \"Turkey\", \"Finland\", \"Ireland\", \"Mongolia\", \"Slovenia\", \"Slovakia\", \"Switzerland\", \"Saudi Arabia\", \"Brazil-1\", \"Bahamas\", \"Singapore\", \"Uzbekistan\", \"Tunisia\", \"Belgium\", \"Greece\", \"Armenia\", \"Thailand\", \"Egypt\", \"Portugal\", \"Malaysia\", \"Indonesia\", \"Estonia\", \"Qatar\", \"Puerto Rico\", \"Bulgaria\", \"Dominican Republic\", \"Moldova\", \"Great Britain-1\", \"France-2\", \"Germany-1\", \"United States-2\", \"China-2\", \"Chinese Taipei\", \"Great Britain-2\", \"Japan-1\", \"Czech Republic-1\", \"South Korea-1\", \"Russia-1\", \"France-1\", \"Denmark-1\", \"Latvia-1\", \"Morocco\", \"Algeria\", \"Tajikistan\", \"Uganda\", \"Venezuela\", \"Cyprus\", \"Kuwait\", \"Bahrain\", \"Guatemala\", \"Latvia\", \"Botswana\", \"Hong Kong\", \"Gabon\", \"Afghanistan\", \"Grenada\"], \"xaxis\": \"x\", \"y\": [238, 138, 122, 117, 114, 92, 82, 78, 69, 68, 63, 59, 55, 55, 35, 27, 26, 26, 25, 24, 23, 22, 19, 17, 16, 16, 14, 14, 14, 13, 12, 12, 12, 11, 10, 10, 9, 8, 8, 7, 7, 6, 6, 6, 5, 5, 5, 5, 5, 5, 5, 4, 4, 4, 4, 4, 3, 3, 3, 3, 3, 3, 2, 2, 2, 2, 2, 2, 2, 2, 2, 2, 2, 2, 2, 2, 2, 2, 2, 2, 2, 2, 2, 2, 2, 2, 1, 1, 1, 1, 1, 1, 1, 1, 1, 1, 1, 1, 1, 1, 1], \"yaxis\": \"y\", \"type\": \"bar\"}], \"name\": \"2012\"}, {\"data\": [{\"alignmentgroup\": \"True\", \"hovertemplate\": \"Year=2010<br>Team=%{x}<br>Medals=%{marker.color}<extra></extra>\", \"ids\": [\"United States\", \"Canada\", \"Finland\", \"Germany\", \"Norway\", \"Austria\", \"Russia\", \"Sweden\", \"South Korea\", \"China\", \"France\", \"Switzerland\", \"Netherlands\", \"Czech Republic\", \"Poland\", \"Canada-1\", \"Germany-1\", \"Japan\", \"United States-1\", \"Italy\", \"Russia-1\", \"Germany-2\", \"Belarus\", \"Australia\", \"Slovakia\", \"Slovenia\", \"Croatia\", \"United States-2\", \"Canada-2\", \"Austria-1\", \"China-2\", \"China-1\", \"Latvia-1\", \"Great Britain\", \"Latvia\", \"Kazakhstan\", \"Estonia\"], \"legendgroup\": \"\", \"marker\": {\"color\": [89, 80, 47, 42, 39, 24, 21, 18, 18, 15, 14, 12, 11, 9, 8, 8, 8, 7, 6, 5, 4, 4, 3, 3, 3, 3, 3, 2, 2, 2, 2, 2, 2, 1, 1, 1, 1], \"coloraxis\": \"coloraxis\"}, \"name\": \"\", \"offsetgroup\": \"\", \"orientation\": \"v\", \"showlegend\": false, \"textposition\": \"auto\", \"x\": [\"United States\", \"Canada\", \"Finland\", \"Germany\", \"Norway\", \"Austria\", \"Russia\", \"Sweden\", \"South Korea\", \"China\", \"France\", \"Switzerland\", \"Netherlands\", \"Czech Republic\", \"Poland\", \"Canada-1\", \"Germany-1\", \"Japan\", \"United States-1\", \"Italy\", \"Russia-1\", \"Germany-2\", \"Belarus\", \"Australia\", \"Slovakia\", \"Slovenia\", \"Croatia\", \"United States-2\", \"Canada-2\", \"Austria-1\", \"China-2\", \"China-1\", \"Latvia-1\", \"Great Britain\", \"Latvia\", \"Kazakhstan\", \"Estonia\"], \"xaxis\": \"x\", \"y\": [89, 80, 47, 42, 39, 24, 21, 18, 18, 15, 14, 12, 11, 9, 8, 8, 8, 7, 6, 5, 4, 4, 3, 3, 3, 3, 3, 2, 2, 2, 2, 2, 2, 1, 1, 1, 1], \"yaxis\": \"y\", \"type\": \"bar\"}], \"name\": \"2010\"}, {\"data\": [{\"alignmentgroup\": \"True\", \"hovertemplate\": \"Year=2008<br>Team=%{x}<br>Medals=%{marker.color}<extra></extra>\", \"ids\": [\"United States\", \"China\", \"Australia\", \"Russia\", \"Germany\", \"Great Britain\", \"France\", \"Brazil\", \"South Korea\", \"Spain\", \"Netherlands\", \"Japan\", \"Argentina\", \"Cuba\", \"Italy\", \"Canada\", \"Ukraine\", \"Belarus\", \"Hungary\", \"Nigeria\", \"Norway\", \"Romania\", \"Poland\", \"Denmark\", \"New Zealand\", \"Kenya\", \"Serbia\", \"Jamaica\", \"Iceland\", \"Kazakhstan\", \"Switzerland\", \"Slovakia\", \"China-1\", \"Azerbaijan\", \"Turkey\", \"Ethiopia\", \"Greece\", \"Bahamas\", \"Czech Republic\", \"Armenia\", \"Uzbekistan\", \"North Korea\", \"Trinidad and Tobago\", \"Georgia\", \"United States-1\", \"South Korea-1\", \"Sweden\", \"Belgium\", \"Finland\", \"Lithuania\", \"Bulgaria\", \"Croatia\", \"Slovenia\", \"Mexico\", \"Thailand\", \"Mongolia\", \"Zimbabwe\", \"Chinese Taipei\", \"China-2\", \"Indonesia-1\", \"Estonia\", \"India\", \"Austria\", \"Latvia\", \"Ireland\", \"Singapore\", \"Indonesia\", \"Morocco\", \"Algeria\", \"Kyrgyzstan\", \"Tajikistan\", \"Portugal\", \"Iran\", \"Dominican Republic\", \"Colombia\", \"Brazil-2\", \"Sweden-2\", \"United States-2\", \"Brazil-1\", \"Spain-1\", \"South Africa\", \"Egypt\", \"Sudan\", \"Venezuela\", \"Tunisia\", \"Mauritius\", \"Cameroon\", \"Chile\", \"Malaysia\", \"Israel\", \"Afghanistan\", \"Ecuador\", \"Panama\", \"Togo\", \"Moldova\", \"Elvis Va\", \"Vietnam\", \"Don Schufro\", \"Clearwater\", \"Bonaparte\", \"Nadine\", \"Sunrise\", \"Salinero\", \"Satchmo\", \"Digby\"], \"legendgroup\": \"\", \"marker\": {\"color\": [309, 170, 149, 142, 96, 81, 77, 74, 72, 68, 58, 51, 51, 47, 42, 35, 31, 29, 27, 23, 22, 22, 20, 16, 15, 15, 15, 14, 14, 13, 11, 10, 10, 7, 7, 7, 7, 7, 7, 6, 6, 6, 6, 6, 6, 6, 5, 5, 5, 5, 5, 5, 5, 4, 4, 4, 4, 4, 4, 4, 3, 3, 3, 3, 3, 3, 3, 2, 2, 2, 2, 2, 2, 2, 2, 2, 2, 2, 2, 2, 1, 1, 1, 1, 1, 1, 1, 1, 1, 1, 1, 1, 1, 1, 1, 1, 1, 1, 1, 1, 1, 1, 1, 1, 1], \"coloraxis\": \"coloraxis\"}, \"name\": \"\", \"offsetgroup\": \"\", \"orientation\": \"v\", \"showlegend\": false, \"textposition\": \"auto\", \"x\": [\"United States\", \"China\", \"Australia\", \"Russia\", \"Germany\", \"Great Britain\", \"France\", \"Brazil\", \"South Korea\", \"Spain\", \"Netherlands\", \"Japan\", \"Argentina\", \"Cuba\", \"Italy\", \"Canada\", \"Ukraine\", \"Belarus\", \"Hungary\", \"Nigeria\", \"Norway\", \"Romania\", \"Poland\", \"Denmark\", \"New Zealand\", \"Kenya\", \"Serbia\", \"Jamaica\", \"Iceland\", \"Kazakhstan\", \"Switzerland\", \"Slovakia\", \"China-1\", \"Azerbaijan\", \"Turkey\", \"Ethiopia\", \"Greece\", \"Bahamas\", \"Czech Republic\", \"Armenia\", \"Uzbekistan\", \"North Korea\", \"Trinidad and Tobago\", \"Georgia\", \"United States-1\", \"South Korea-1\", \"Sweden\", \"Belgium\", \"Finland\", \"Lithuania\", \"Bulgaria\", \"Croatia\", \"Slovenia\", \"Mexico\", \"Thailand\", \"Mongolia\", \"Zimbabwe\", \"Chinese Taipei\", \"China-2\", \"Indonesia-1\", \"Estonia\", \"India\", \"Austria\", \"Latvia\", \"Ireland\", \"Singapore\", \"Indonesia\", \"Morocco\", \"Algeria\", \"Kyrgyzstan\", \"Tajikistan\", \"Portugal\", \"Iran\", \"Dominican Republic\", \"Colombia\", \"Brazil-2\", \"Sweden-2\", \"United States-2\", \"Brazil-1\", \"Spain-1\", \"South Africa\", \"Egypt\", \"Sudan\", \"Venezuela\", \"Tunisia\", \"Mauritius\", \"Cameroon\", \"Chile\", \"Malaysia\", \"Israel\", \"Afghanistan\", \"Ecuador\", \"Panama\", \"Togo\", \"Moldova\", \"Elvis Va\", \"Vietnam\", \"Don Schufro\", \"Clearwater\", \"Bonaparte\", \"Nadine\", \"Sunrise\", \"Salinero\", \"Satchmo\", \"Digby\"], \"xaxis\": \"x\", \"y\": [309, 170, 149, 142, 96, 81, 77, 74, 72, 68, 58, 51, 51, 47, 42, 35, 31, 29, 27, 23, 22, 22, 20, 16, 15, 15, 15, 14, 14, 13, 11, 10, 10, 7, 7, 7, 7, 7, 7, 6, 6, 6, 6, 6, 6, 6, 5, 5, 5, 5, 5, 5, 5, 4, 4, 4, 4, 4, 4, 4, 3, 3, 3, 3, 3, 3, 3, 2, 2, 2, 2, 2, 2, 2, 2, 2, 2, 2, 2, 2, 1, 1, 1, 1, 1, 1, 1, 1, 1, 1, 1, 1, 1, 1, 1, 1, 1, 1, 1, 1, 1, 1, 1, 1, 1], \"yaxis\": \"y\", \"type\": \"bar\"}], \"name\": \"2008\"}, {\"data\": [{\"alignmentgroup\": \"True\", \"hovertemplate\": \"Year=2006<br>Team=%{x}<br>Medals=%{marker.color}<extra></extra>\", \"ids\": [\"Canada\", \"Sweden\", \"United States\", \"Germany\", \"Finland\", \"Russia\", \"Austria\", \"Czech Republic\", \"Norway\", \"Italy\", \"South Korea\", \"Switzerland\", \"France\", \"Netherlands\", \"Germany-1\", \"China\", \"Russia-1\", \"Switzerland-1\", \"United States-1\", \"Italy-1\", \"Croatia\", \"Estonia\", \"Canada-1\", \"Australia\", \"Poland\", \"Ukraine-1\", \"Austria-1\", \"China-3\", \"China-1\", \"Ukraine\", \"Great Britain\", \"Belarus\", \"Japan\", \"Latvia\", \"Slovakia\", \"Bulgaria\"], \"legendgroup\": \"\", \"marker\": {\"color\": [67, 64, 48, 44, 41, 33, 28, 27, 23, 21, 19, 15, 15, 13, 10, 9, 8, 6, 4, 4, 3, 3, 2, 2, 2, 2, 2, 2, 2, 1, 1, 1, 1, 1, 1, 1], \"coloraxis\": \"coloraxis\"}, \"name\": \"\", \"offsetgroup\": \"\", \"orientation\": \"v\", \"showlegend\": false, \"textposition\": \"auto\", \"x\": [\"Canada\", \"Sweden\", \"United States\", \"Germany\", \"Finland\", \"Russia\", \"Austria\", \"Czech Republic\", \"Norway\", \"Italy\", \"South Korea\", \"Switzerland\", \"France\", \"Netherlands\", \"Germany-1\", \"China\", \"Russia-1\", \"Switzerland-1\", \"United States-1\", \"Italy-1\", \"Croatia\", \"Estonia\", \"Canada-1\", \"Australia\", \"Poland\", \"Ukraine-1\", \"Austria-1\", \"China-3\", \"China-1\", \"Ukraine\", \"Great Britain\", \"Belarus\", \"Japan\", \"Latvia\", \"Slovakia\", \"Bulgaria\"], \"xaxis\": \"x\", \"y\": [67, 64, 48, 44, 41, 33, 28, 27, 23, 21, 19, 15, 15, 13, 10, 9, 8, 6, 4, 4, 3, 3, 2, 2, 2, 2, 2, 2, 2, 1, 1, 1, 1, 1, 1, 1], \"yaxis\": \"y\", \"type\": \"bar\"}], \"name\": \"2006\"}, {\"data\": [{\"alignmentgroup\": \"True\", \"hovertemplate\": \"Year=2004<br>Team=%{x}<br>Medals=%{marker.color}<extra></extra>\", \"ids\": [\"United States\", \"Russia\", \"Australia\", \"Germany\", \"Italy\", \"Japan\", \"China\", \"Netherlands\", \"Cuba\", \"Great Britain\", \"France\", \"Argentina\", \"Ukraine\", \"South Korea\", \"Hungary\", \"Romania\", \"Brazil\", \"Greece\", \"Spain\", \"Denmark\", \"Croatia\", \"Bulgaria\", \"Canada\", \"Paraguay\", \"Belarus\", \"Jamaica\", \"Serbia and Montenegro\", \"Sweden\", \"Poland\", \"Turkey\", \"Czech Republic\", \"Slovakia\", \"South Africa\", \"Chinese Taipei\", \"Kazakhstan\", \"Nigeria\", \"Austria\", \"Thailand\", \"China-1\", \"Norway\", \"Ethiopia\", \"Kenya\", \"New Zealand\", \"Iran\", \"Egypt\", \"Azerbaijan\", \"Uzbekistan\", \"Switzerland\", \"Slovenia\", \"North Korea\", \"Mexico\", \"Chile\", \"Georgia\", \"Brazil-1\", \"China-2\", \"Latvia\", \"South Korea-1\", \"Estonia\", \"Indonesia\", \"Lithuania\", \"Morocco\", \"Portugal\", \"Zimbabwe\", \"Belgium\", \"Finland\", \"Venezuela\", \"Bahamas\", \"Colombia\", \"Israel\", \"United States-2\", \"Germany-1\", \"United States-1\", \"Czech Republic-1\", \"Great Britain-1\", \"Indonesia-1\", \"Denmark-2\", \"South Korea-2\", \"Switzerland-2\", \"Hong Kong-2\", \"Spain-2\", \"India\", \"Syria\", \"United Arab Emirates\", \"Trinidad and Tobago\", \"Mongolia\", \"Dominican Republic\", \"Cameroon\", \"Eritrea\"], \"legendgroup\": \"\", \"marker\": {\"color\": [259, 189, 157, 147, 104, 93, 82, 77, 62, 55, 53, 49, 47, 46, 40, 39, 36, 31, 28, 27, 21, 17, 17, 17, 15, 13, 13, 12, 12, 11, 11, 10, 10, 9, 8, 8, 8, 8, 8, 7, 7, 7, 6, 6, 5, 5, 5, 5, 5, 5, 4, 4, 4, 4, 4, 4, 4, 3, 3, 3, 3, 3, 3, 3, 2, 2, 2, 2, 2, 2, 2, 2, 2, 2, 2, 2, 2, 2, 2, 2, 1, 1, 1, 1, 1, 1, 1, 1], \"coloraxis\": \"coloraxis\"}, \"name\": \"\", \"offsetgroup\": \"\", \"orientation\": \"v\", \"showlegend\": false, \"textposition\": \"auto\", \"x\": [\"United States\", \"Russia\", \"Australia\", \"Germany\", \"Italy\", \"Japan\", \"China\", \"Netherlands\", \"Cuba\", \"Great Britain\", \"France\", \"Argentina\", \"Ukraine\", \"South Korea\", \"Hungary\", \"Romania\", \"Brazil\", \"Greece\", \"Spain\", \"Denmark\", \"Croatia\", \"Bulgaria\", \"Canada\", \"Paraguay\", \"Belarus\", \"Jamaica\", \"Serbia and Montenegro\", \"Sweden\", \"Poland\", \"Turkey\", \"Czech Republic\", \"Slovakia\", \"South Africa\", \"Chinese Taipei\", \"Kazakhstan\", \"Nigeria\", \"Austria\", \"Thailand\", \"China-1\", \"Norway\", \"Ethiopia\", \"Kenya\", \"New Zealand\", \"Iran\", \"Egypt\", \"Azerbaijan\", \"Uzbekistan\", \"Switzerland\", \"Slovenia\", \"North Korea\", \"Mexico\", \"Chile\", \"Georgia\", \"Brazil-1\", \"China-2\", \"Latvia\", \"South Korea-1\", \"Estonia\", \"Indonesia\", \"Lithuania\", \"Morocco\", \"Portugal\", \"Zimbabwe\", \"Belgium\", \"Finland\", \"Venezuela\", \"Bahamas\", \"Colombia\", \"Israel\", \"United States-2\", \"Germany-1\", \"United States-1\", \"Czech Republic-1\", \"Great Britain-1\", \"Indonesia-1\", \"Denmark-2\", \"South Korea-2\", \"Switzerland-2\", \"Hong Kong-2\", \"Spain-2\", \"India\", \"Syria\", \"United Arab Emirates\", \"Trinidad and Tobago\", \"Mongolia\", \"Dominican Republic\", \"Cameroon\", \"Eritrea\"], \"xaxis\": \"x\", \"y\": [259, 189, 157, 147, 104, 93, 82, 77, 62, 55, 53, 49, 47, 46, 40, 39, 36, 31, 28, 27, 21, 17, 17, 17, 15, 13, 13, 12, 12, 11, 11, 10, 10, 9, 8, 8, 8, 8, 8, 7, 7, 7, 6, 6, 5, 5, 5, 5, 5, 5, 4, 4, 4, 4, 4, 4, 4, 3, 3, 3, 3, 3, 3, 3, 2, 2, 2, 2, 2, 2, 2, 2, 2, 2, 2, 2, 2, 2, 2, 2, 1, 1, 1, 1, 1, 1, 1, 1], \"yaxis\": \"y\", \"type\": \"bar\"}], \"name\": \"2004\"}, {\"data\": [{\"alignmentgroup\": \"True\", \"hovertemplate\": \"Year=2002<br>Team=%{x}<br>Medals=%{marker.color}<extra></extra>\", \"ids\": [\"Canada\", \"United States\", \"Germany\", \"Norway\", \"Russia\", \"Sweden\", \"Switzerland\", \"Austria\", \"Italy\", \"China\", \"Finland\", \"France\", \"United States-2\", \"Netherlands\", \"Germany-2\", \"South Korea\", \"Great Britain\", \"United States-1\", \"Russia-1\", \"Germany-1\", \"Slovenia\", \"Croatia\", \"Estonia\", \"Czech Republic\", \"Bulgaria\", \"Poland\", \"Switzerland-2\", \"Switzerland-1\", \"France-1\", \"Japan\", \"Australia\", \"Canada-1\", \"Italy-1\", \"China-1\", \"Belarus\"], \"legendgroup\": \"\", \"marker\": {\"color\": [72, 70, 49, 41, 34, 26, 20, 20, 19, 14, 13, 13, 8, 8, 8, 7, 6, 6, 4, 4, 4, 4, 3, 3, 3, 2, 2, 2, 2, 2, 2, 2, 2, 2, 1], \"coloraxis\": \"coloraxis\"}, \"name\": \"\", \"offsetgroup\": \"\", \"orientation\": \"v\", \"showlegend\": false, \"textposition\": \"auto\", \"x\": [\"Canada\", \"United States\", \"Germany\", \"Norway\", \"Russia\", \"Sweden\", \"Switzerland\", \"Austria\", \"Italy\", \"China\", \"Finland\", \"France\", \"United States-2\", \"Netherlands\", \"Germany-2\", \"South Korea\", \"Great Britain\", \"United States-1\", \"Russia-1\", \"Germany-1\", \"Slovenia\", \"Croatia\", \"Estonia\", \"Czech Republic\", \"Bulgaria\", \"Poland\", \"Switzerland-2\", \"Switzerland-1\", \"France-1\", \"Japan\", \"Australia\", \"Canada-1\", \"Italy-1\", \"China-1\", \"Belarus\"], \"xaxis\": \"x\", \"y\": [72, 70, 49, 41, 34, 26, 20, 20, 19, 14, 13, 13, 8, 8, 8, 7, 6, 6, 4, 4, 4, 4, 3, 3, 3, 2, 2, 2, 2, 2, 2, 2, 2, 2, 1], \"yaxis\": \"y\", \"type\": \"bar\"}], \"name\": \"2002\"}, {\"data\": [{\"alignmentgroup\": \"True\", \"hovertemplate\": \"Year=2000<br>Team=%{x}<br>Medals=%{marker.color}<extra></extra>\", \"ids\": [\"United States\", \"Russia\", \"Australia\", \"Germany\", \"Netherlands\", \"South Korea\", \"Cuba\", \"Italy\", \"China\", \"France\", \"Hungary\", \"Great Britain\", \"Romania\", \"Japan\", \"Norway\", \"Spain\", \"Brazil\", \"Ukraine\", \"Sweden\", \"Canada\", \"Denmark\", \"Serbia and Montenegro\", \"Jamaica\", \"Belarus\", \"Poland\", \"Argentina\", \"Cameroon\", \"Greece\", \"Lithuania\", \"Chile\", \"Switzerland\", \"Bulgaria\", \"Bahamas\", \"Croatia\", \"Ethiopia\", \"Nigeria\", \"China-2\", \"Kazakhstan\", \"Czech Republic\", \"Belgium\", \"Kenya\", \"Mexico\", \"Slovakia\", \"Indonesia\", \"Georgia\", \"China-1\", \"Finland\", \"Morocco\", \"Turkey\", \"South Africa\", \"Algeria\", \"Chinese Taipei\", \"Uzbekistan\", \"Iran\", \"New Zealand\", \"Austria\", \"Brazil-1\", \"North Korea\", \"South Korea-1\", \"Azerbaijan\", \"Slovenia\", \"Estonia\", \"Latvia\", \"Thailand\", \"Germany-1\", \"Saudi Arabia\", \"Trinidad and Tobago\", \"Portugal\", \"Great Britain-2\", \"Australia-1\", \"Moldova\", \"Costa Rica\", \"United States-1\", \"Czech Republic-1\", \"France-1\", \"Brazil-2\", \"Indonesia-1\", \"South Korea-2\", \"Poland-1\", \"Kuwait\", \"Sri Lanka\", \"Kyrgyzstan\", \"Qatar\", \"Iceland\", \"Barbados\", \"Mozambique\", \"India\", \"Israel\", \"Armenia\", \"Uruguay\", \"Colombia\", \"Macedonia\", \"Ireland\", \"Vietnam\"], \"legendgroup\": \"\", \"marker\": {\"color\": [240, 187, 181, 116, 79, 67, 65, 65, 65, 64, 53, 52, 46, 44, 43, 42, 42, 35, 32, 31, 25, 25, 23, 22, 22, 20, 18, 18, 17, 17, 14, 13, 11, 10, 8, 8, 8, 7, 7, 7, 7, 6, 6, 6, 6, 6, 5, 5, 5, 5, 5, 5, 4, 4, 4, 4, 4, 4, 4, 3, 3, 3, 3, 3, 2, 2, 2, 2, 2, 2, 2, 2, 2, 2, 2, 2, 2, 2, 2, 1, 1, 1, 1, 1, 1, 1, 1, 1, 1, 1, 1, 1, 1, 1], \"coloraxis\": \"coloraxis\"}, \"name\": \"\", \"offsetgroup\": \"\", \"orientation\": \"v\", \"showlegend\": false, \"textposition\": \"auto\", \"x\": [\"United States\", \"Russia\", \"Australia\", \"Germany\", \"Netherlands\", \"South Korea\", \"Cuba\", \"Italy\", \"China\", \"France\", \"Hungary\", \"Great Britain\", \"Romania\", \"Japan\", \"Norway\", \"Spain\", \"Brazil\", \"Ukraine\", \"Sweden\", \"Canada\", \"Denmark\", \"Serbia and Montenegro\", \"Jamaica\", \"Belarus\", \"Poland\", \"Argentina\", \"Cameroon\", \"Greece\", \"Lithuania\", \"Chile\", \"Switzerland\", \"Bulgaria\", \"Bahamas\", \"Croatia\", \"Ethiopia\", \"Nigeria\", \"China-2\", \"Kazakhstan\", \"Czech Republic\", \"Belgium\", \"Kenya\", \"Mexico\", \"Slovakia\", \"Indonesia\", \"Georgia\", \"China-1\", \"Finland\", \"Morocco\", \"Turkey\", \"South Africa\", \"Algeria\", \"Chinese Taipei\", \"Uzbekistan\", \"Iran\", \"New Zealand\", \"Austria\", \"Brazil-1\", \"North Korea\", \"South Korea-1\", \"Azerbaijan\", \"Slovenia\", \"Estonia\", \"Latvia\", \"Thailand\", \"Germany-1\", \"Saudi Arabia\", \"Trinidad and Tobago\", \"Portugal\", \"Great Britain-2\", \"Australia-1\", \"Moldova\", \"Costa Rica\", \"United States-1\", \"Czech Republic-1\", \"France-1\", \"Brazil-2\", \"Indonesia-1\", \"South Korea-2\", \"Poland-1\", \"Kuwait\", \"Sri Lanka\", \"Kyrgyzstan\", \"Qatar\", \"Iceland\", \"Barbados\", \"Mozambique\", \"India\", \"Israel\", \"Armenia\", \"Uruguay\", \"Colombia\", \"Macedonia\", \"Ireland\", \"Vietnam\"], \"xaxis\": \"x\", \"y\": [240, 187, 181, 116, 79, 67, 65, 65, 65, 64, 53, 52, 46, 44, 43, 42, 42, 35, 32, 31, 25, 25, 23, 22, 22, 20, 18, 18, 17, 17, 14, 13, 11, 10, 8, 8, 8, 7, 7, 7, 7, 6, 6, 6, 6, 6, 5, 5, 5, 5, 5, 5, 4, 4, 4, 4, 4, 4, 4, 3, 3, 3, 3, 3, 2, 2, 2, 2, 2, 2, 2, 2, 2, 2, 2, 2, 2, 2, 2, 1, 1, 1, 1, 1, 1, 1, 1, 1, 1, 1, 1, 1, 1, 1], \"yaxis\": \"y\", \"type\": \"bar\"}], \"name\": \"2000\"}, {\"data\": [{\"alignmentgroup\": \"True\", \"hovertemplate\": \"Year=1998<br>Team=%{x}<br>Medals=%{marker.color}<extra></extra>\", \"ids\": [\"Finland\", \"Canada\", \"Russia\", \"Norway\", \"Germany\", \"United States\", \"Czech Republic\", \"Austria\", \"Italy\", \"China\", \"France\", \"Japan\", \"South Korea\", \"Netherlands\", \"Switzerland\", \"Sweden\", \"Germany-1\", \"Denmark\", \"Switzerland-1\", \"Great Britain\", \"Russia-2\", \"Russia-1\", \"Germany-2\", \"France-1\", \"Belarus\", \"Kazakhstan\", \"Canada-1\", \"Italy-1\", \"United States-2\", \"United States-1\", \"Ukraine\", \"Australia\", \"Bulgaria\", \"Belgium\"], \"legendgroup\": \"\", \"marker\": {\"color\": [58, 47, 44, 40, 34, 30, 23, 20, 15, 14, 13, 13, 12, 11, 10, 7, 6, 5, 4, 4, 4, 4, 4, 2, 2, 2, 2, 2, 2, 2, 1, 1, 1, 1], \"coloraxis\": \"coloraxis\"}, \"name\": \"\", \"offsetgroup\": \"\", \"orientation\": \"v\", \"showlegend\": false, \"textposition\": \"auto\", \"x\": [\"Finland\", \"Canada\", \"Russia\", \"Norway\", \"Germany\", \"United States\", \"Czech Republic\", \"Austria\", \"Italy\", \"China\", \"France\", \"Japan\", \"South Korea\", \"Netherlands\", \"Switzerland\", \"Sweden\", \"Germany-1\", \"Denmark\", \"Switzerland-1\", \"Great Britain\", \"Russia-2\", \"Russia-1\", \"Germany-2\", \"France-1\", \"Belarus\", \"Kazakhstan\", \"Canada-1\", \"Italy-1\", \"United States-2\", \"United States-1\", \"Ukraine\", \"Australia\", \"Bulgaria\", \"Belgium\"], \"xaxis\": \"x\", \"y\": [58, 47, 44, 40, 34, 30, 23, 20, 15, 14, 13, 13, 12, 11, 10, 7, 6, 5, 4, 4, 4, 4, 4, 2, 2, 2, 2, 2, 2, 2, 1, 1, 1, 1], \"yaxis\": \"y\", \"type\": \"bar\"}], \"name\": \"1998\"}, {\"data\": [{\"alignmentgroup\": \"True\", \"hovertemplate\": \"Year=1996<br>Team=%{x}<br>Medals=%{marker.color}<extra></extra>\", \"ids\": [\"United States\", \"Australia\", \"Germany\", \"Russia\", \"China\", \"Netherlands\", \"Italy\", \"Spain\", \"Brazil\", \"South Korea\", \"Cuba\", \"France\", \"Canada\", \"Hungary\", \"Japan\", \"Romania\", \"Ukraine\", \"Sweden\", \"Croatia\", \"Great Britain\", \"Serbia and Montenegro\", \"Nigeria\", \"Norway\", \"Belarus\", \"Denmark\", \"Poland\", \"Bulgaria\", \"Argentina\", \"Jamaica\", \"Kazakhstan\", \"Lithuania\", \"Switzerland\", \"Czech Republic\", \"New Zealand\", \"Greece\", \"Kenya\", \"China-2\", \"Turkey\", \"Belgium\", \"South Korea-2\", \"South Africa\", \"North Korea\", \"Bahamas\", \"Finland\", \"Ireland\", \"Indonesia\", \"China-1\", \"South Korea-1\", \"Algeria\", \"Portugal\", \"Ethiopia\", \"Moldova\", \"Slovakia\", \"Austria\", \"Iran\", \"Uzbekistan\", \"Georgia\", \"Slovenia\", \"Morocco\", \"France-1\", \"Trinidad and Tobago\", \"Indonesia-1\", \"Armenia\", \"Namibia\", \"Thailand\", \"Malaysia-1\", \"Canada-1\", \"Australia-1\", \"United States-2\", \"Germany-1\", \"Brazil-2\", \"United States-1\", \"Brazil-1\", \"Czech Republic-1\", \"Malaysia\", \"Azerbaijan\", \"India\", \"Mexico\", \"Uganda\", \"Syria\", \"Puerto Rico\", \"Tunisia\", \"Israel\", \"Mongolia\", \"Latvia\", \"Costa Rica\", \"Philippines\", \"Ecuador\", \"Hong Kong\", \"Chinese Taipei\", \"Zambia\", \"Burundi\", \"Tonga\", \"Mozambique\"], \"legendgroup\": \"\", \"marker\": {\"color\": [255, 130, 122, 115, 94, 73, 71, 66, 59, 56, 55, 49, 48, 43, 42, 38, 34, 31, 28, 26, 26, 24, 23, 23, 23, 22, 21, 20, 16, 11, 11, 11, 11, 9, 8, 8, 8, 6, 6, 6, 5, 5, 5, 4, 4, 4, 4, 4, 3, 3, 3, 3, 3, 3, 3, 2, 2, 2, 2, 2, 2, 2, 2, 2, 2, 2, 2, 2, 2, 2, 2, 2, 2, 2, 1, 1, 1, 1, 1, 1, 1, 1, 1, 1, 1, 1, 1, 1, 1, 1, 1, 1, 1, 1], \"coloraxis\": \"coloraxis\"}, \"name\": \"\", \"offsetgroup\": \"\", \"orientation\": \"v\", \"showlegend\": false, \"textposition\": \"auto\", \"x\": [\"United States\", \"Australia\", \"Germany\", \"Russia\", \"China\", \"Netherlands\", \"Italy\", \"Spain\", \"Brazil\", \"South Korea\", \"Cuba\", \"France\", \"Canada\", \"Hungary\", \"Japan\", \"Romania\", \"Ukraine\", \"Sweden\", \"Croatia\", \"Great Britain\", \"Serbia and Montenegro\", \"Nigeria\", \"Norway\", \"Belarus\", \"Denmark\", \"Poland\", \"Bulgaria\", \"Argentina\", \"Jamaica\", \"Kazakhstan\", \"Lithuania\", \"Switzerland\", \"Czech Republic\", \"New Zealand\", \"Greece\", \"Kenya\", \"China-2\", \"Turkey\", \"Belgium\", \"South Korea-2\", \"South Africa\", \"North Korea\", \"Bahamas\", \"Finland\", \"Ireland\", \"Indonesia\", \"China-1\", \"South Korea-1\", \"Algeria\", \"Portugal\", \"Ethiopia\", \"Moldova\", \"Slovakia\", \"Austria\", \"Iran\", \"Uzbekistan\", \"Georgia\", \"Slovenia\", \"Morocco\", \"France-1\", \"Trinidad and Tobago\", \"Indonesia-1\", \"Armenia\", \"Namibia\", \"Thailand\", \"Malaysia-1\", \"Canada-1\", \"Australia-1\", \"United States-2\", \"Germany-1\", \"Brazil-2\", \"United States-1\", \"Brazil-1\", \"Czech Republic-1\", \"Malaysia\", \"Azerbaijan\", \"India\", \"Mexico\", \"Uganda\", \"Syria\", \"Puerto Rico\", \"Tunisia\", \"Israel\", \"Mongolia\", \"Latvia\", \"Costa Rica\", \"Philippines\", \"Ecuador\", \"Hong Kong\", \"Chinese Taipei\", \"Zambia\", \"Burundi\", \"Tonga\", \"Mozambique\"], \"xaxis\": \"x\", \"y\": [255, 130, 122, 115, 94, 73, 71, 66, 59, 56, 55, 49, 48, 43, 42, 38, 34, 31, 28, 26, 26, 24, 23, 23, 23, 22, 21, 20, 16, 11, 11, 11, 11, 9, 8, 8, 8, 6, 6, 6, 5, 5, 5, 4, 4, 4, 4, 4, 3, 3, 3, 3, 3, 3, 3, 2, 2, 2, 2, 2, 2, 2, 2, 2, 2, 2, 2, 2, 2, 2, 2, 2, 2, 2, 1, 1, 1, 1, 1, 1, 1, 1, 1, 1, 1, 1, 1, 1, 1, 1, 1, 1, 1, 1], \"yaxis\": \"y\", \"type\": \"bar\"}], \"name\": \"1996\"}, {\"data\": [{\"alignmentgroup\": \"True\", \"hovertemplate\": \"Year=1994<br>Team=%{x}<br>Medals=%{marker.color}<extra></extra>\", \"ids\": [\"Canada\", \"Finland\", \"Norway\", \"Germany\", \"Russia\", \"Italy\", \"Sweden\", \"United States\", \"Austria\", \"France\", \"Japan\", \"South Korea\", \"Switzerland\", \"Switzerland-1\", \"Germany-1\", \"Netherlands\", \"Australia\", \"Russia-2\", \"Germany-2\", \"Italy-1\", \"Russia-1\", \"Kazakhstan\", \"Great Britain\", \"China\", \"Slovenia\", \"Switzerland-2\", \"Ukraine\", \"Canada-1\", \"Belarus\", \"Italy-2\", \"Uzbekistan\"], \"legendgroup\": \"\", \"marker\": {\"color\": [35, 30, 30, 30, 28, 26, 24, 19, 12, 11, 10, 9, 8, 6, 6, 4, 4, 4, 4, 4, 4, 3, 3, 3, 3, 2, 2, 2, 2, 2, 1], \"coloraxis\": \"coloraxis\"}, \"name\": \"\", \"offsetgroup\": \"\", \"orientation\": \"v\", \"showlegend\": false, \"textposition\": \"auto\", \"x\": [\"Canada\", \"Finland\", \"Norway\", \"Germany\", \"Russia\", \"Italy\", \"Sweden\", \"United States\", \"Austria\", \"France\", \"Japan\", \"South Korea\", \"Switzerland\", \"Switzerland-1\", \"Germany-1\", \"Netherlands\", \"Australia\", \"Russia-2\", \"Germany-2\", \"Italy-1\", \"Russia-1\", \"Kazakhstan\", \"Great Britain\", \"China\", \"Slovenia\", \"Switzerland-2\", \"Ukraine\", \"Canada-1\", \"Belarus\", \"Italy-2\", \"Uzbekistan\"], \"xaxis\": \"x\", \"y\": [35, 30, 30, 30, 28, 26, 24, 19, 12, 11, 10, 9, 8, 6, 6, 4, 4, 4, 4, 4, 4, 3, 3, 3, 3, 2, 2, 2, 2, 2, 1], \"yaxis\": \"y\", \"type\": \"bar\"}], \"name\": \"1994\"}, {\"data\": [{\"alignmentgroup\": \"True\", \"hovertemplate\": \"Year=1992<br>Team=%{x}<br>Medals=%{marker.color}<extra></extra>\", \"ids\": [\"Unified Team\", \"United States\", \"Germany\", \"Canada\", \"China\", \"Spain\", \"Cuba\", \"France\", \"Italy\", \"Japan\", \"Australia\", \"Romania\", \"Great Britain\", \"Norway\", \"Poland\", \"Hungary\", \"South Korea\", \"Sweden\", \"Netherlands\", \"Czechoslovakia\", \"Austria\", \"Finland\", \"Ghana\", \"Chinese Taipei\", \"Bulgaria\", \"Pakistan\", \"New Zealand\", \"Croatia\", \"Brazil\", \"Denmark\", \"Lithuania\", \"Nigeria\", \"North Korea\", \"Kenya\", \"Germany-1\", \"South Korea-1\", \"Switzerland-1\", \"Turkey\", \"Slovenia\", \"China-1\", \"China-2\", \"France-1\", \"Indonesia\", \"Austria-1\", \"Unified Team-2\", \"Jamaica\", \"Germany-2\", \"Unified Team-1\", \"South Korea-2\", \"Estonia\", \"Ethiopia\", \"Morocco\", \"South Africa\", \"Iran\", \"Individual Olympic Athletes\", \"Latvia\", \"Belgium\", \"Algeria\", \"Switzerland\", \"Argentina\", \"Mongolia\", \"Israel\", \"Greece\", \"Ireland\", \"Canada-1\", \"Italy-1\", \"North Korea-1\", \"Luxembourg\", \"United States-1\", \"Namibia\", \"Czechoslovakia-1\", \"Indonesia-1\", \"Malaysia-2\", \"Qatar\", \"Puerto Rico\", \"Colombia\", \"Mexico\", \"Philippines\", \"Peru\", \"Suriname\", \"Thailand\", \"Bahamas\"], \"legendgroup\": \"\", \"marker\": {\"color\": [271, 236, 224, 78, 73, 70, 69, 65, 64, 59, 57, 53, 50, 47, 46, 45, 44, 42, 37, 33, 31, 20, 20, 20, 17, 16, 16, 15, 14, 14, 13, 11, 9, 8, 8, 8, 6, 6, 6, 6, 6, 4, 4, 4, 4, 4, 4, 4, 4, 3, 3, 3, 3, 3, 3, 3, 3, 2, 2, 2, 2, 2, 2, 2, 2, 2, 2, 2, 2, 2, 2, 2, 2, 1, 1, 1, 1, 1, 1, 1, 1, 1], \"coloraxis\": \"coloraxis\"}, \"name\": \"\", \"offsetgroup\": \"\", \"orientation\": \"v\", \"showlegend\": false, \"textposition\": \"auto\", \"x\": [\"Unified Team\", \"United States\", \"Germany\", \"Canada\", \"China\", \"Spain\", \"Cuba\", \"France\", \"Italy\", \"Japan\", \"Australia\", \"Romania\", \"Great Britain\", \"Norway\", \"Poland\", \"Hungary\", \"South Korea\", \"Sweden\", \"Netherlands\", \"Czechoslovakia\", \"Austria\", \"Finland\", \"Ghana\", \"Chinese Taipei\", \"Bulgaria\", \"Pakistan\", \"New Zealand\", \"Croatia\", \"Brazil\", \"Denmark\", \"Lithuania\", \"Nigeria\", \"North Korea\", \"Kenya\", \"Germany-1\", \"South Korea-1\", \"Switzerland-1\", \"Turkey\", \"Slovenia\", \"China-1\", \"China-2\", \"France-1\", \"Indonesia\", \"Austria-1\", \"Unified Team-2\", \"Jamaica\", \"Germany-2\", \"Unified Team-1\", \"South Korea-2\", \"Estonia\", \"Ethiopia\", \"Morocco\", \"South Africa\", \"Iran\", \"Individual Olympic Athletes\", \"Latvia\", \"Belgium\", \"Algeria\", \"Switzerland\", \"Argentina\", \"Mongolia\", \"Israel\", \"Greece\", \"Ireland\", \"Canada-1\", \"Italy-1\", \"North Korea-1\", \"Luxembourg\", \"United States-1\", \"Namibia\", \"Czechoslovakia-1\", \"Indonesia-1\", \"Malaysia-2\", \"Qatar\", \"Puerto Rico\", \"Colombia\", \"Mexico\", \"Philippines\", \"Peru\", \"Suriname\", \"Thailand\", \"Bahamas\"], \"xaxis\": \"x\", \"y\": [271, 236, 224, 78, 73, 70, 69, 65, 64, 59, 57, 53, 50, 47, 46, 45, 44, 42, 37, 33, 31, 20, 20, 20, 17, 16, 16, 15, 14, 14, 13, 11, 9, 8, 8, 8, 6, 6, 6, 6, 6, 4, 4, 4, 4, 4, 4, 4, 4, 3, 3, 3, 3, 3, 3, 3, 3, 2, 2, 2, 2, 2, 2, 2, 2, 2, 2, 2, 2, 2, 2, 2, 2, 1, 1, 1, 1, 1, 1, 1, 1, 1], \"yaxis\": \"y\", \"type\": \"bar\"}], \"name\": \"1992\"}, {\"data\": [{\"alignmentgroup\": \"True\", \"hovertemplate\": \"Year=1988<br>Team=%{x}<br>Medals=%{marker.color}<extra></extra>\", \"ids\": [\"Soviet Union\", \"United States\", \"East Germany\", \"West Germany\", \"South Korea\", \"Yugoslavia\", \"Romania\", \"Great Britain\", \"Netherlands\", \"China\", \"Sweden\", \"Hungary\", \"Bulgaria\", \"Finland\", \"Italy\", \"Australia\", \"Norway\", \"France\", \"Canada\", \"Switzerland\", \"New Zealand\", \"Brazil\", \"Japan\", \"Poland\", \"Czechoslovakia\", \"Argentina\", \"Austria\", \"Peru\", \"Kenya\", \"Soviet Union-2\", \"East Germany-1\", \"Jamaica\", \"Denmark\", \"Soviet Union-1\", \"Spain\", \"East Germany-2\", \"Switzerland-1\", \"Morocco\", \"Indonesia\", \"Mexico\", \"Turkey\", \"United States-1\", \"South Korea-2\", \"Belgium\", \"Canada-1\", \"West Germany-1\", \"China-1\", \"Djibouti\", \"United States Virgin Islands\", \"Portugal\", \"Philippines\", \"Iran\", \"Pakistan\", \"Costa Rica\", \"Chile\", \"Colombia\", \"Greece\", \"Suriname\", \"Senegal\", \"Mongolia\", \"Liechtenstein\", \"Netherlands Antilles\", \"Thailand\"], \"legendgroup\": \"\", \"marker\": {\"color\": [352, 212, 201, 127, 75, 69, 58, 54, 52, 50, 46, 44, 41, 38, 37, 35, 33, 31, 27, 24, 24, 23, 21, 21, 16, 13, 13, 12, 9, 8, 8, 7, 7, 6, 5, 4, 4, 3, 3, 2, 2, 2, 2, 2, 2, 2, 2, 1, 1, 1, 1, 1, 1, 1, 1, 1, 1, 1, 1, 1, 1, 1, 1], \"coloraxis\": \"coloraxis\"}, \"name\": \"\", \"offsetgroup\": \"\", \"orientation\": \"v\", \"showlegend\": false, \"textposition\": \"auto\", \"x\": [\"Soviet Union\", \"United States\", \"East Germany\", \"West Germany\", \"South Korea\", \"Yugoslavia\", \"Romania\", \"Great Britain\", \"Netherlands\", \"China\", \"Sweden\", \"Hungary\", \"Bulgaria\", \"Finland\", \"Italy\", \"Australia\", \"Norway\", \"France\", \"Canada\", \"Switzerland\", \"New Zealand\", \"Brazil\", \"Japan\", \"Poland\", \"Czechoslovakia\", \"Argentina\", \"Austria\", \"Peru\", \"Kenya\", \"Soviet Union-2\", \"East Germany-1\", \"Jamaica\", \"Denmark\", \"Soviet Union-1\", \"Spain\", \"East Germany-2\", \"Switzerland-1\", \"Morocco\", \"Indonesia\", \"Mexico\", \"Turkey\", \"United States-1\", \"South Korea-2\", \"Belgium\", \"Canada-1\", \"West Germany-1\", \"China-1\", \"Djibouti\", \"United States Virgin Islands\", \"Portugal\", \"Philippines\", \"Iran\", \"Pakistan\", \"Costa Rica\", \"Chile\", \"Colombia\", \"Greece\", \"Suriname\", \"Senegal\", \"Mongolia\", \"Liechtenstein\", \"Netherlands Antilles\", \"Thailand\"], \"xaxis\": \"x\", \"y\": [352, 212, 201, 127, 75, 69, 58, 54, 52, 50, 46, 44, 41, 38, 37, 35, 33, 31, 27, 24, 24, 23, 21, 21, 16, 13, 13, 12, 9, 8, 8, 7, 7, 6, 5, 4, 4, 3, 3, 2, 2, 2, 2, 2, 2, 2, 2, 1, 1, 1, 1, 1, 1, 1, 1, 1, 1, 1, 1, 1, 1, 1, 1], \"yaxis\": \"y\", \"type\": \"bar\"}], \"name\": \"1988\"}, {\"data\": [{\"alignmentgroup\": \"True\", \"hovertemplate\": \"Year=1984<br>Team=%{x}<br>Medals=%{marker.color}<extra></extra>\", \"ids\": [\"United States\", \"West Germany\", \"Romania\", \"Canada\", \"Yugoslavia\", \"China\", \"Great Britain\", \"France\", \"Italy\", \"Sweden\", \"Australia\", \"Japan\", \"Soviet Union\", \"Netherlands\", \"South Korea\", \"Brazil\", \"Finland\", \"Czechoslovakia\", \"New Zealand\", \"Norway\", \"Spain\", \"East Germany\", \"Switzerland\", \"Pakistan\", \"Denmark\", \"East Germany-1\", \"Jamaica\", \"Mexico\", \"Soviet Union-2\", \"Soviet Union-1\", \"East Germany-2\", \"Nigeria\", \"Belgium\", \"Austria\", \"Switzerland-1\", \"Kenya\", \"Turkey\", \"Venezuela\", \"Portugal\", \"Algeria\", \"Morocco\", \"Puerto Rico\", \"Greece\", \"United States-1\", \"Great Britain-1\", \"Liechtenstein\", \"West Germany-1\", \"Egypt\", \"Cameroon\", \"Dominican Republic\", \"Cote d'Ivoire\", \"Iceland\", \"Syria\", \"Peru\", \"Thailand\", \"Colombia\", \"Ireland\", \"Chinese Taipei\", \"Zambia\"], \"legendgroup\": \"\", \"marker\": {\"color\": [359, 164, 106, 91, 88, 74, 71, 70, 65, 64, 52, 50, 44, 41, 41, 36, 31, 28, 23, 19, 19, 19, 17, 16, 13, 8, 7, 6, 6, 6, 6, 5, 5, 4, 4, 3, 3, 3, 3, 2, 2, 2, 2, 2, 2, 2, 2, 1, 1, 1, 1, 1, 1, 1, 1, 1, 1, 1, 1], \"coloraxis\": \"coloraxis\"}, \"name\": \"\", \"offsetgroup\": \"\", \"orientation\": \"v\", \"showlegend\": false, \"textposition\": \"auto\", \"x\": [\"United States\", \"West Germany\", \"Romania\", \"Canada\", \"Yugoslavia\", \"China\", \"Great Britain\", \"France\", \"Italy\", \"Sweden\", \"Australia\", \"Japan\", \"Soviet Union\", \"Netherlands\", \"South Korea\", \"Brazil\", \"Finland\", \"Czechoslovakia\", \"New Zealand\", \"Norway\", \"Spain\", \"East Germany\", \"Switzerland\", \"Pakistan\", \"Denmark\", \"East Germany-1\", \"Jamaica\", \"Mexico\", \"Soviet Union-2\", \"Soviet Union-1\", \"East Germany-2\", \"Nigeria\", \"Belgium\", \"Austria\", \"Switzerland-1\", \"Kenya\", \"Turkey\", \"Venezuela\", \"Portugal\", \"Algeria\", \"Morocco\", \"Puerto Rico\", \"Greece\", \"United States-1\", \"Great Britain-1\", \"Liechtenstein\", \"West Germany-1\", \"Egypt\", \"Cameroon\", \"Dominican Republic\", \"Cote d'Ivoire\", \"Iceland\", \"Syria\", \"Peru\", \"Thailand\", \"Colombia\", \"Ireland\", \"Chinese Taipei\", \"Zambia\"], \"xaxis\": \"x\", \"y\": [359, 164, 106, 91, 88, 74, 71, 70, 65, 64, 52, 50, 44, 41, 41, 36, 31, 28, 23, 19, 19, 19, 17, 16, 13, 8, 7, 6, 6, 6, 6, 5, 5, 4, 4, 3, 3, 3, 3, 2, 2, 2, 2, 2, 2, 2, 2, 1, 1, 1, 1, 1, 1, 1, 1, 1, 1, 1, 1], \"yaxis\": \"y\", \"type\": \"bar\"}], \"name\": \"1984\"}, {\"data\": [{\"alignmentgroup\": \"True\", \"hovertemplate\": \"Year=1980<br>Team=%{x}<br>Medals=%{marker.color}<extra></extra>\", \"ids\": [\"Soviet Union\", \"East Germany\", \"Bulgaria\", \"Romania\", \"Hungary\", \"Yugoslavia\", \"Czechoslovakia\", \"Poland\", \"Great Britain\", \"Sweden\", \"Italy\", \"United States\", \"France\", \"Spain\", \"Finland\", \"Cuba\", \"India\", \"Norway\", \"Zimbabwe\", \"Australia\", \"Austria\", \"Netherlands\", \"Mexico\", \"East Germany-1\", \"Brazil\", \"West Germany\", \"Denmark\", \"East Germany-2\", \"Switzerland\", \"Greece\", \"North Korea\", \"Mongolia\", \"Ethiopia\", \"Switzerland-1\", \"Soviet Union-1\", \"Soviet Union-2\", \"Liechtenstein\", \"Jamaica\", \"Ireland\", \"Tanzania\", \"Canada\", \"Switzerland-2\", \"Austria-1\", \"Italy-1\", \"Venezuela\", \"Japan\", \"Uganda\", \"Lebanon\", \"Belgium\", \"Guyana\"], \"legendgroup\": \"\", \"marker\": {\"color\": [488, 287, 91, 68, 63, 57, 52, 50, 48, 43, 38, 30, 30, 24, 21, 20, 16, 15, 15, 13, 11, 10, 10, 10, 9, 8, 8, 6, 5, 5, 5, 4, 4, 4, 4, 4, 4, 3, 3, 2, 2, 2, 2, 2, 1, 1, 1, 1, 1, 1], \"coloraxis\": \"coloraxis\"}, \"name\": \"\", \"offsetgroup\": \"\", \"orientation\": \"v\", \"showlegend\": false, \"textposition\": \"auto\", \"x\": [\"Soviet Union\", \"East Germany\", \"Bulgaria\", \"Romania\", \"Hungary\", \"Yugoslavia\", \"Czechoslovakia\", \"Poland\", \"Great Britain\", \"Sweden\", \"Italy\", \"United States\", \"France\", \"Spain\", \"Finland\", \"Cuba\", \"India\", \"Norway\", \"Zimbabwe\", \"Australia\", \"Austria\", \"Netherlands\", \"Mexico\", \"East Germany-1\", \"Brazil\", \"West Germany\", \"Denmark\", \"East Germany-2\", \"Switzerland\", \"Greece\", \"North Korea\", \"Mongolia\", \"Ethiopia\", \"Switzerland-1\", \"Soviet Union-1\", \"Soviet Union-2\", \"Liechtenstein\", \"Jamaica\", \"Ireland\", \"Tanzania\", \"Canada\", \"Switzerland-2\", \"Austria-1\", \"Italy-1\", \"Venezuela\", \"Japan\", \"Uganda\", \"Lebanon\", \"Belgium\", \"Guyana\"], \"xaxis\": \"x\", \"y\": [488, 287, 91, 68, 63, 57, 52, 50, 48, 43, 38, 30, 30, 24, 21, 20, 16, 15, 15, 13, 11, 10, 10, 10, 9, 8, 8, 6, 5, 5, 5, 4, 4, 4, 4, 4, 4, 3, 3, 2, 2, 2, 2, 2, 1, 1, 1, 1, 1, 1], \"yaxis\": \"y\", \"type\": \"bar\"}], \"name\": \"1980\"}, {\"data\": [{\"alignmentgroup\": \"True\", \"hovertemplate\": \"Year=1976<br>Team=%{x}<br>Medals=%{marker.color}<extra></extra>\", \"ids\": [\"Soviet Union\", \"East Germany\", \"United States\", \"West Germany\", \"Poland\", \"Romania\", \"Hungary\", \"Japan\", \"Bulgaria\", \"Italy\", \"Czechoslovakia\", \"Great Britain\", \"Canada\", \"New Zealand\", \"Cuba\", \"Australia\", \"Finland\", \"France\", \"Netherlands\", \"Yugoslavia\", \"South Korea\", \"Pakistan\", \"Norway\", \"Switzerland\", \"Sweden\", \"Belgium\", \"Denmark\", \"East Germany-1\", \"West Germany-1\", \"Spain\", \"Austria\", \"Switzerland-2\", \"East Germany-2\", \"Soviet Union-1\", \"Brazil\", \"Iran\", \"Portugal\", \"Mexico\", \"Jamaica\", \"North Korea\", \"United States-1\", \"Liechtenstein\", \"Switzerland-1\", \"Austria-1\", \"Soviet Union-2\", \"Trinidad and Tobago\", \"Puerto Rico\", \"Venezuela\", \"Thailand\", \"Mongolia\", \"Bermuda\"], \"legendgroup\": \"\", \"marker\": {\"color\": [336, 215, 173, 102, 73, 55, 55, 41, 39, 35, 34, 33, 26, 25, 24, 23, 22, 21, 20, 19, 17, 16, 16, 13, 12, 9, 8, 8, 8, 6, 6, 4, 4, 4, 3, 2, 2, 2, 2, 2, 2, 2, 2, 2, 2, 1, 1, 1, 1, 1, 1], \"coloraxis\": \"coloraxis\"}, \"name\": \"\", \"offsetgroup\": \"\", \"orientation\": \"v\", \"showlegend\": false, \"textposition\": \"auto\", \"x\": [\"Soviet Union\", \"East Germany\", \"United States\", \"West Germany\", \"Poland\", \"Romania\", \"Hungary\", \"Japan\", \"Bulgaria\", \"Italy\", \"Czechoslovakia\", \"Great Britain\", \"Canada\", \"New Zealand\", \"Cuba\", \"Australia\", \"Finland\", \"France\", \"Netherlands\", \"Yugoslavia\", \"South Korea\", \"Pakistan\", \"Norway\", \"Switzerland\", \"Sweden\", \"Belgium\", \"Denmark\", \"East Germany-1\", \"West Germany-1\", \"Spain\", \"Austria\", \"Switzerland-2\", \"East Germany-2\", \"Soviet Union-1\", \"Brazil\", \"Iran\", \"Portugal\", \"Mexico\", \"Jamaica\", \"North Korea\", \"United States-1\", \"Liechtenstein\", \"Switzerland-1\", \"Austria-1\", \"Soviet Union-2\", \"Trinidad and Tobago\", \"Puerto Rico\", \"Venezuela\", \"Thailand\", \"Mongolia\", \"Bermuda\"], \"xaxis\": \"x\", \"y\": [336, 215, 173, 102, 73, 55, 55, 41, 39, 35, 34, 33, 26, 25, 24, 23, 22, 21, 20, 19, 17, 16, 16, 13, 12, 9, 8, 8, 8, 6, 6, 4, 4, 4, 3, 2, 2, 2, 2, 2, 2, 2, 2, 2, 2, 1, 1, 1, 1, 1, 1], \"yaxis\": \"y\", \"type\": \"bar\"}], \"name\": \"1976\"}, {\"data\": [{\"alignmentgroup\": \"True\", \"hovertemplate\": \"Year=1972<br>Team=%{x}<br>Medals=%{marker.color}<extra></extra>\", \"ids\": [\"Soviet Union\", \"United States\", \"East Germany\", \"West Germany\", \"Hungary\", \"Japan\", \"Czechoslovakia\", \"Poland\", \"Romania\", \"Great Britain\", \"Italy\", \"Sweden\", \"Norway\", \"France\", \"Cuba\", \"Bulgaria\", \"Finland\", \"Australia\", \"Switzerland\", \"Yugoslavia\", \"Netherlands\", \"Pakistan\", \"North Korea\", \"New Zealand\", \"India\", \"Canada\", \"Kenya\", \"Austria\", \"West Germany-1\", \"East Germany-1\", \"Italy-1\", \"Switzerland-1\", \"Colombia\", \"Iran\", \"Ethiopia\", \"Brazil\", \"Uganda\", \"Greece\", \"Spain\", \"West Germany-2\", \"Belgium\", \"East Germany-2\", \"Soviet Union-2\", \"Soviet Union-1\", \"Nigeria\", \"Argentina\", \"Lebanon\", \"Ghana\", \"Mexico\", \"Denmark\", \"Turkey\", \"Jamaica\", \"South Korea\", \"Mongolia\", \"Tunisia\", \"Niger\"], \"legendgroup\": \"\", \"marker\": {\"color\": [255, 195, 163, 102, 81, 59, 49, 47, 40, 29, 28, 26, 25, 25, 22, 22, 20, 20, 19, 18, 15, 15, 15, 14, 14, 12, 12, 8, 8, 6, 6, 6, 3, 3, 2, 2, 2, 2, 2, 2, 2, 2, 2, 2, 1, 1, 1, 1, 1, 1, 1, 1, 1, 1, 1, 1], \"coloraxis\": \"coloraxis\"}, \"name\": \"\", \"offsetgroup\": \"\", \"orientation\": \"v\", \"showlegend\": false, \"textposition\": \"auto\", \"x\": [\"Soviet Union\", \"United States\", \"East Germany\", \"West Germany\", \"Hungary\", \"Japan\", \"Czechoslovakia\", \"Poland\", \"Romania\", \"Great Britain\", \"Italy\", \"Sweden\", \"Norway\", \"France\", \"Cuba\", \"Bulgaria\", \"Finland\", \"Australia\", \"Switzerland\", \"Yugoslavia\", \"Netherlands\", \"Pakistan\", \"North Korea\", \"New Zealand\", \"India\", \"Canada\", \"Kenya\", \"Austria\", \"West Germany-1\", \"East Germany-1\", \"Italy-1\", \"Switzerland-1\", \"Colombia\", \"Iran\", \"Ethiopia\", \"Brazil\", \"Uganda\", \"Greece\", \"Spain\", \"West Germany-2\", \"Belgium\", \"East Germany-2\", \"Soviet Union-2\", \"Soviet Union-1\", \"Nigeria\", \"Argentina\", \"Lebanon\", \"Ghana\", \"Mexico\", \"Denmark\", \"Turkey\", \"Jamaica\", \"South Korea\", \"Mongolia\", \"Tunisia\", \"Niger\"], \"xaxis\": \"x\", \"y\": [255, 195, 163, 102, 81, 59, 49, 47, 40, 29, 28, 26, 25, 25, 22, 22, 20, 20, 19, 18, 15, 15, 15, 14, 14, 12, 12, 8, 8, 6, 6, 6, 3, 3, 2, 2, 2, 2, 2, 2, 2, 2, 2, 2, 1, 1, 1, 1, 1, 1, 1, 1, 1, 1, 1, 1], \"yaxis\": \"y\", \"type\": \"bar\"}], \"name\": \"1972\"}, {\"data\": [{\"alignmentgroup\": \"True\", \"hovertemplate\": \"Year=1968<br>Team=%{x}<br>Medals=%{marker.color}<extra></extra>\", \"ids\": [\"Soviet Union\", \"United States\", \"Hungary\", \"Japan\", \"East Germany\", \"West Germany\", \"Australia\", \"Czechoslovakia\", \"Poland\", \"France\", \"Italy\", \"Canada\", \"Yugoslavia\", \"Norway\", \"Bulgaria\", \"Sweden\", \"Netherlands\", \"Romania\", \"Great Britain\", \"Switzerland\", \"Denmark\", \"India\", \"Austria\", \"Pakistan\", \"Finland\", \"Kenya\", \"Cuba\", \"Mexico\", \"New Zealand\", \"Italy-1\", \"West Germany-1\", \"Austria-1\", \"Iran\", \"Brazil\", \"Mongolia\", \"Switzerland-1\", \"Belgium\", \"Argentina\", \"Turkey\", \"Ethiopia\", \"South Korea\", \"Tunisia\", \"Soviet Union-1\", \"East Germany-1\", \"Uganda\", \"Soviet Union-2\", \"Romania-1\", \"Cameroon\", \"Greece\", \"Venezuela\", \"Jamaica\", \"Chinese Taipei\"], \"legendgroup\": \"\", \"marker\": {\"color\": [225, 173, 81, 63, 56, 55, 51, 50, 37, 36, 35, 30, 29, 28, 26, 25, 23, 23, 19, 18, 17, 16, 14, 13, 12, 12, 10, 9, 7, 6, 6, 6, 5, 4, 4, 4, 3, 2, 2, 2, 2, 2, 2, 2, 2, 2, 2, 1, 1, 1, 1, 1], \"coloraxis\": \"coloraxis\"}, \"name\": \"\", \"offsetgroup\": \"\", \"orientation\": \"v\", \"showlegend\": false, \"textposition\": \"auto\", \"x\": [\"Soviet Union\", \"United States\", \"Hungary\", \"Japan\", \"East Germany\", \"West Germany\", \"Australia\", \"Czechoslovakia\", \"Poland\", \"France\", \"Italy\", \"Canada\", \"Yugoslavia\", \"Norway\", \"Bulgaria\", \"Sweden\", \"Netherlands\", \"Romania\", \"Great Britain\", \"Switzerland\", \"Denmark\", \"India\", \"Austria\", \"Pakistan\", \"Finland\", \"Kenya\", \"Cuba\", \"Mexico\", \"New Zealand\", \"Italy-1\", \"West Germany-1\", \"Austria-1\", \"Iran\", \"Brazil\", \"Mongolia\", \"Switzerland-1\", \"Belgium\", \"Argentina\", \"Turkey\", \"Ethiopia\", \"South Korea\", \"Tunisia\", \"Soviet Union-1\", \"East Germany-1\", \"Uganda\", \"Soviet Union-2\", \"Romania-1\", \"Cameroon\", \"Greece\", \"Venezuela\", \"Jamaica\", \"Chinese Taipei\"], \"xaxis\": \"x\", \"y\": [225, 173, 81, 63, 56, 55, 51, 50, 37, 36, 35, 30, 29, 28, 26, 25, 23, 23, 19, 18, 17, 16, 14, 13, 12, 12, 10, 9, 7, 6, 6, 6, 5, 4, 4, 4, 3, 2, 2, 2, 2, 2, 2, 2, 2, 2, 2, 1, 1, 1, 1, 1], \"yaxis\": \"y\", \"type\": \"bar\"}], \"name\": \"1968\"}, {\"data\": [{\"alignmentgroup\": \"True\", \"hovertemplate\": \"Year=1964<br>Team=%{x}<br>Medals=%{marker.color}<extra></extra>\", \"ids\": [\"Soviet Union\", \"United States\", \"Germany\", \"Czechoslovakia\", \"Japan\", \"Hungary\", \"Italy\", \"Poland\", \"Australia\", \"Sweden\", \"France\", \"Netherlands\", \"Great Britain\", \"Finland\", \"Pakistan\", \"Romania\", \"Norway\", \"India\", \"Yugoslavia\", \"Brazil\", \"Bulgaria\", \"Austria\", \"Denmark\", \"Switzerland\", \"Turkey\", \"Canada\", \"Italy-2\", \"Canada-1\", \"Trinidad and Tobago\", \"Austria-1\", \"New Zealand\", \"Italy-1\", \"Mutafo\", \"Belgium\", \"South Korea\", \"Bingo\", \"White Lady\", \"Aphrodite\", \"Rush VII\", \"Barrenjoey\", \"Iran\", \"Austria-2\", \"Tunisia\", \"Germany-1\", \"Soviet Union-1\", \"United States-1\", \"Widgeon\", \"Gem\", \"Great Britain-1\", \"Lady C\", \"Pandora\", \"Humbug V\", \"Glider\", \"Ghana\", \"Argentina\", \"Kenya\", \"Nigeria\", \"Mexico\", \"Ethiopia\", \"Philippines\", \"Uruguay\", \"North Korea\", \"Ireland\", \"Cuba\"], \"legendgroup\": \"\", \"marker\": {\"color\": [219, 165, 121, 71, 62, 56, 51, 46, 41, 38, 38, 33, 26, 20, 16, 16, 15, 15, 15, 12, 10, 9, 9, 6, 6, 6, 6, 6, 6, 6, 4, 4, 3, 3, 3, 3, 3, 3, 3, 3, 2, 2, 2, 2, 2, 2, 2, 2, 2, 2, 2, 2, 2, 1, 1, 1, 1, 1, 1, 1, 1, 1, 1, 1], \"coloraxis\": \"coloraxis\"}, \"name\": \"\", \"offsetgroup\": \"\", \"orientation\": \"v\", \"showlegend\": false, \"textposition\": \"auto\", \"x\": [\"Soviet Union\", \"United States\", \"Germany\", \"Czechoslovakia\", \"Japan\", \"Hungary\", \"Italy\", \"Poland\", \"Australia\", \"Sweden\", \"France\", \"Netherlands\", \"Great Britain\", \"Finland\", \"Pakistan\", \"Romania\", \"Norway\", \"India\", \"Yugoslavia\", \"Brazil\", \"Bulgaria\", \"Austria\", \"Denmark\", \"Switzerland\", \"Turkey\", \"Canada\", \"Italy-2\", \"Canada-1\", \"Trinidad and Tobago\", \"Austria-1\", \"New Zealand\", \"Italy-1\", \"Mutafo\", \"Belgium\", \"South Korea\", \"Bingo\", \"White Lady\", \"Aphrodite\", \"Rush VII\", \"Barrenjoey\", \"Iran\", \"Austria-2\", \"Tunisia\", \"Germany-1\", \"Soviet Union-1\", \"United States-1\", \"Widgeon\", \"Gem\", \"Great Britain-1\", \"Lady C\", \"Pandora\", \"Humbug V\", \"Glider\", \"Ghana\", \"Argentina\", \"Kenya\", \"Nigeria\", \"Mexico\", \"Ethiopia\", \"Philippines\", \"Uruguay\", \"North Korea\", \"Ireland\", \"Cuba\"], \"xaxis\": \"x\", \"y\": [219, 165, 121, 71, 62, 56, 51, 46, 41, 38, 38, 33, 26, 20, 16, 16, 15, 15, 15, 12, 10, 9, 9, 6, 6, 6, 6, 6, 6, 6, 4, 4, 3, 3, 3, 3, 3, 3, 3, 3, 2, 2, 2, 2, 2, 2, 2, 2, 2, 2, 2, 2, 2, 1, 1, 1, 1, 1, 1, 1, 1, 1, 1, 1], \"yaxis\": \"y\", \"type\": \"bar\"}], \"name\": \"1964\"}, {\"data\": [{\"alignmentgroup\": \"True\", \"hovertemplate\": \"Year=1960<br>Team=%{x}<br>Medals=%{marker.color}<extra></extra>\", \"ids\": [\"Soviet Union\", \"United States\", \"Germany\", \"Italy\", \"Hungary\", \"Australia\", \"Poland\", \"Japan\", \"Canada\", \"Great Britain\", \"Czechoslovakia\", \"Finland\", \"Denmark\", \"Yugoslavia\", \"Sweden\", \"France\", \"Romania\", \"Pakistan\", \"Spain\", \"Brazil\", \"India\", \"Switzerland\", \"Norway\", \"Turkey\", \"Austria\", \"Bulgaria\", \"Netherlands\", \"West Indies Federation\", \"Belgium\", \"Iran\", \"New Zealand\", \"South Africa\", \"Web II\", \"Tango\", \"Venilia\", \"Ballerina IV\", \"Nirefs\", \"Minotaur\", \"Macky VI\", \"United Arab Republic\", \"Germany-1\", \"Sirene\", \"Skum\", \"Shrew II\", \"United States-1\", \"Canada-1\", \"Tornado\", \"Ma'Lindo\", \"Iraq\", \"Argentina\", \"Mexico\", \"Ghana\", \"Ethiopia\", \"Morocco\", \"Venezuela\", \"Chinese Taipei\", \"Singapore\"], \"legendgroup\": \"\", \"marker\": {\"color\": [209, 145, 93, 86, 66, 46, 32, 31, 28, 28, 23, 19, 18, 17, 16, 15, 15, 14, 14, 13, 13, 11, 9, 9, 9, 7, 5, 5, 4, 4, 3, 3, 3, 3, 3, 3, 3, 3, 3, 2, 2, 2, 2, 2, 2, 2, 2, 2, 1, 1, 1, 1, 1, 1, 1, 1, 1], \"coloraxis\": \"coloraxis\"}, \"name\": \"\", \"offsetgroup\": \"\", \"orientation\": \"v\", \"showlegend\": false, \"textposition\": \"auto\", \"x\": [\"Soviet Union\", \"United States\", \"Germany\", \"Italy\", \"Hungary\", \"Australia\", \"Poland\", \"Japan\", \"Canada\", \"Great Britain\", \"Czechoslovakia\", \"Finland\", \"Denmark\", \"Yugoslavia\", \"Sweden\", \"France\", \"Romania\", \"Pakistan\", \"Spain\", \"Brazil\", \"India\", \"Switzerland\", \"Norway\", \"Turkey\", \"Austria\", \"Bulgaria\", \"Netherlands\", \"West Indies Federation\", \"Belgium\", \"Iran\", \"New Zealand\", \"South Africa\", \"Web II\", \"Tango\", \"Venilia\", \"Ballerina IV\", \"Nirefs\", \"Minotaur\", \"Macky VI\", \"United Arab Republic\", \"Germany-1\", \"Sirene\", \"Skum\", \"Shrew II\", \"United States-1\", \"Canada-1\", \"Tornado\", \"Ma'Lindo\", \"Iraq\", \"Argentina\", \"Mexico\", \"Ghana\", \"Ethiopia\", \"Morocco\", \"Venezuela\", \"Chinese Taipei\", \"Singapore\"], \"xaxis\": \"x\", \"y\": [209, 145, 93, 86, 66, 46, 32, 31, 28, 28, 23, 19, 18, 17, 16, 15, 15, 14, 14, 13, 13, 11, 9, 9, 9, 7, 5, 5, 4, 4, 3, 3, 3, 3, 3, 3, 3, 3, 3, 2, 2, 2, 2, 2, 2, 2, 2, 2, 1, 1, 1, 1, 1, 1, 1, 1, 1], \"yaxis\": \"y\", \"type\": \"bar\"}], \"name\": \"1960\"}, {\"data\": [{\"alignmentgroup\": \"True\", \"hovertemplate\": \"Year=1956<br>Team=%{x}<br>Medals=%{marker.color}<extra></extra>\", \"ids\": [\"Soviet Union\", \"United States\", \"Hungary\", \"Australia\", \"Germany\", \"Italy\", \"Sweden\", \"Finland\", \"Great Britain\", \"Canada\", \"France\", \"Japan\", \"Yugoslavia\", \"Poland\", \"Romania\", \"Bulgaria\", \"India\", \"Pakistan\", \"Austria\", \"Uruguay\", \"Norway\", \"South Africa\", \"Turkey\", \"Czechoslovakia\", \"Switzerland\", \"Switzerland-1\", \"Italy-2\", \"Iran\", \"Ireland\", \"Chile\", \"United States-1\", \"Vision\", \"Denmark\", \"Tip\", \"Bluebottle\", \"Slaghoken II\", \"Buraddoo\", \"Rush V\", \"Belgium\", \"Mexico\", \"South Korea\", \"Austria-1\", \"Argentina\", \"Chuckles\", \"Canada-1\", \"Italy-1\", \"Jest\", \"Gem IV\", \"Kathleen\", \"Merope III\", \"Falcon IV\", \"New Zealand\", \"Brazil\", \"Greece\", \"Iceland\"], \"legendgroup\": \"\", \"marker\": {\"color\": [206, 143, 66, 62, 54, 45, 43, 38, 37, 37, 33, 25, 23, 20, 19, 18, 17, 14, 14, 12, 7, 7, 7, 7, 7, 6, 6, 5, 5, 4, 4, 4, 3, 3, 3, 3, 3, 3, 2, 2, 2, 2, 2, 2, 2, 2, 2, 2, 2, 2, 2, 1, 1, 1, 1], \"coloraxis\": \"coloraxis\"}, \"name\": \"\", \"offsetgroup\": \"\", \"orientation\": \"v\", \"showlegend\": false, \"textposition\": \"auto\", \"x\": [\"Soviet Union\", \"United States\", \"Hungary\", \"Australia\", \"Germany\", \"Italy\", \"Sweden\", \"Finland\", \"Great Britain\", \"Canada\", \"France\", \"Japan\", \"Yugoslavia\", \"Poland\", \"Romania\", \"Bulgaria\", \"India\", \"Pakistan\", \"Austria\", \"Uruguay\", \"Norway\", \"South Africa\", \"Turkey\", \"Czechoslovakia\", \"Switzerland\", \"Switzerland-1\", \"Italy-2\", \"Iran\", \"Ireland\", \"Chile\", \"United States-1\", \"Vision\", \"Denmark\", \"Tip\", \"Bluebottle\", \"Slaghoken II\", \"Buraddoo\", \"Rush V\", \"Belgium\", \"Mexico\", \"South Korea\", \"Austria-1\", \"Argentina\", \"Chuckles\", \"Canada-1\", \"Italy-1\", \"Jest\", \"Gem IV\", \"Kathleen\", \"Merope III\", \"Falcon IV\", \"New Zealand\", \"Brazil\", \"Greece\", \"Iceland\"], \"xaxis\": \"x\", \"y\": [206, 143, 66, 62, 54, 45, 43, 38, 37, 37, 33, 25, 23, 20, 19, 18, 17, 14, 14, 12, 7, 7, 7, 7, 7, 6, 6, 5, 5, 4, 4, 4, 3, 3, 3, 3, 3, 3, 2, 2, 2, 2, 2, 2, 2, 2, 2, 2, 2, 2, 2, 1, 1, 1, 1], \"yaxis\": \"y\", \"type\": \"bar\"}], \"name\": \"1956\"}, {\"data\": [{\"alignmentgroup\": \"True\", \"hovertemplate\": \"Year=1952<br>Team=%{x}<br>Medals=%{marker.color}<extra></extra>\", \"ids\": [\"United States\", \"Soviet Union\", \"Hungary\", \"Sweden\", \"Italy\", \"Finland\", \"Germany\", \"France\", \"Switzerland\", \"Great Britain\", \"Czechoslovakia\", \"Yugoslavia\", \"Norway\", \"Canada\", \"Netherlands\", \"Australia\", \"India\", \"Uruguay\", \"South Africa\", \"Japan\", \"Austria\", \"Denmark\", \"Belgium\", \"United States-1\", \"Jamaica\", \"Iran\", \"Argentina\", \"Llanoria\", \"Switzerland-1\", \"Elisabeth X\", \"Ralia\", \"Romania\", \"Poland\", \"Chile\", \"Complex II\", \"Germany-1\", \"Turkey\", \"Brazil\", \"Tornado\", \"New Zealand\", \"Pan\", \"Encore\", \"Gustel X\", \"Hojwa\", \"Lebanon\", \"South Korea\", \"Espadarte\", \"Trinidad and Tobago\", \"Hungary-1\", \"Comanche\", \"Merope\", \"Egypt\", \"Spain\", \"Mexico\", \"Venezuela\", \"Luxembourg\", \"Bulgaria\", \"Ireland\"], \"legendgroup\": \"\", \"marker\": {\"color\": [144, 117, 102, 87, 54, 47, 45, 41, 33, 32, 25, 24, 21, 21, 21, 20, 15, 14, 14, 12, 11, 9, 8, 8, 8, 7, 6, 6, 6, 5, 5, 4, 4, 4, 4, 4, 3, 3, 3, 3, 3, 3, 3, 3, 2, 2, 2, 2, 2, 2, 2, 1, 1, 1, 1, 1, 1, 1], \"coloraxis\": \"coloraxis\"}, \"name\": \"\", \"offsetgroup\": \"\", \"orientation\": \"v\", \"showlegend\": false, \"textposition\": \"auto\", \"x\": [\"United States\", \"Soviet Union\", \"Hungary\", \"Sweden\", \"Italy\", \"Finland\", \"Germany\", \"France\", \"Switzerland\", \"Great Britain\", \"Czechoslovakia\", \"Yugoslavia\", \"Norway\", \"Canada\", \"Netherlands\", \"Australia\", \"India\", \"Uruguay\", \"South Africa\", \"Japan\", \"Austria\", \"Denmark\", \"Belgium\", \"United States-1\", \"Jamaica\", \"Iran\", \"Argentina\", \"Llanoria\", \"Switzerland-1\", \"Elisabeth X\", \"Ralia\", \"Romania\", \"Poland\", \"Chile\", \"Complex II\", \"Germany-1\", \"Turkey\", \"Brazil\", \"Tornado\", \"New Zealand\", \"Pan\", \"Encore\", \"Gustel X\", \"Hojwa\", \"Lebanon\", \"South Korea\", \"Espadarte\", \"Trinidad and Tobago\", \"Hungary-1\", \"Comanche\", \"Merope\", \"Egypt\", \"Spain\", \"Mexico\", \"Venezuela\", \"Luxembourg\", \"Bulgaria\", \"Ireland\"], \"xaxis\": \"x\", \"y\": [144, 117, 102, 87, 54, 47, 45, 41, 33, 32, 25, 24, 21, 21, 21, 20, 15, 14, 14, 12, 11, 9, 8, 8, 8, 7, 6, 6, 6, 5, 5, 4, 4, 4, 4, 4, 3, 3, 3, 3, 3, 3, 3, 3, 2, 2, 2, 2, 2, 2, 2, 1, 1, 1, 1, 1, 1, 1], \"yaxis\": \"y\", \"type\": \"bar\"}], \"name\": \"1952\"}, {\"data\": [{\"alignmentgroup\": \"True\", \"hovertemplate\": \"Year=1948<br>Team=%{x}<br>Medals=%{marker.color}<extra></extra>\", \"ids\": [\"United States\", \"Sweden\", \"France\", \"Italy\", \"Hungary\", \"Great Britain\", \"Switzerland\", \"Denmark\", \"Finland\", \"Netherlands\", \"Czechoslovakia\", \"Norway\", \"Canada\", \"Belgium\", \"India\", \"Australia\", \"Yugoslavia\", \"Austria\", \"Turkey\", \"Brazil\", \"Mexico\", \"Argentina\", \"South Africa\", \"United States-2\", \"Egypt\", \"Ali-Baba II\", \"Djinn\", \"Llanoria\", \"United States-1\", \"Uruguay\", \"Spain\", \"Snap\", \"Pan\", \"Portugal\", \"Jamaica\", \"Slaghoken\", \"Poland\", \"South Korea\", \"Switzerland-1\", \"Symphony\", \"Swift\", \"Kurush II\", \"Switzerland-2\", \"Hungary-1\", \"Panama\", \"Starita\", \"Margaret\", \"Hilarius\", \"Iran\", \"Ireland\", \"Peru\", \"Puerto Rico\", \"Sri Lanka\", \"Trinidad and Tobago\"], \"legendgroup\": \"\", \"marker\": {\"color\": [149, 80, 77, 68, 62, 61, 60, 48, 42, 40, 37, 28, 22, 21, 20, 16, 16, 16, 12, 10, 9, 6, 6, 6, 5, 5, 5, 5, 4, 3, 3, 3, 3, 3, 3, 3, 2, 2, 2, 2, 2, 2, 2, 2, 2, 2, 2, 2, 1, 1, 1, 1, 1, 1], \"coloraxis\": \"coloraxis\"}, \"name\": \"\", \"offsetgroup\": \"\", \"orientation\": \"v\", \"showlegend\": false, \"textposition\": \"auto\", \"x\": [\"United States\", \"Sweden\", \"France\", \"Italy\", \"Hungary\", \"Great Britain\", \"Switzerland\", \"Denmark\", \"Finland\", \"Netherlands\", \"Czechoslovakia\", \"Norway\", \"Canada\", \"Belgium\", \"India\", \"Australia\", \"Yugoslavia\", \"Austria\", \"Turkey\", \"Brazil\", \"Mexico\", \"Argentina\", \"South Africa\", \"United States-2\", \"Egypt\", \"Ali-Baba II\", \"Djinn\", \"Llanoria\", \"United States-1\", \"Uruguay\", \"Spain\", \"Snap\", \"Pan\", \"Portugal\", \"Jamaica\", \"Slaghoken\", \"Poland\", \"South Korea\", \"Switzerland-1\", \"Symphony\", \"Swift\", \"Kurush II\", \"Switzerland-2\", \"Hungary-1\", \"Panama\", \"Starita\", \"Margaret\", \"Hilarius\", \"Iran\", \"Ireland\", \"Peru\", \"Puerto Rico\", \"Sri Lanka\", \"Trinidad and Tobago\"], \"xaxis\": \"x\", \"y\": [149, 80, 77, 68, 62, 61, 60, 48, 42, 40, 37, 28, 22, 21, 20, 16, 16, 16, 12, 10, 9, 6, 6, 6, 5, 5, 5, 5, 4, 3, 3, 3, 3, 3, 3, 3, 2, 2, 2, 2, 2, 2, 2, 2, 2, 2, 2, 2, 1, 1, 1, 1, 1, 1], \"yaxis\": \"y\", \"type\": \"bar\"}], \"name\": \"1948\"}, {\"data\": [{\"alignmentgroup\": \"True\", \"hovertemplate\": \"Year=1936<br>Team=%{x}<br>Medals=%{marker.color}<extra></extra>\", \"ids\": [\"Germany\", \"United States\", \"Italy\", \"Austria\", \"Switzerland\", \"Great Britain\", \"France\", \"Hungary\", \"Sweden\", \"Finland\", \"Norway\", \"Canada\", \"Netherlands\", \"Japan\", \"India\", \"Czechoslovakia\", \"Mexico\", \"Belgium\", \"Poland\", \"Argentina\", \"Estonia\", \"Denmark\", \"Switzerland-2\", \"Italia\", \"Germania II\", \"Silja\", \"Egypt\", \"Lalage\", \"May Be\", \"Lully II\", \"Switzerland-1\", \"Portugal\", \"Turkey\", \"Latvia\", \"Germany-1\", \"United States-2\", \"Wannsee\", \"United States-1\", \"Bem II\", \"Austria-1\", \"Sunshine\", \"Hungary-1\", \"Romania\", \"Philippines\", \"New Zealand\", \"Australia\", \"Yugoslavia\", \"South Africa\", \"Nrnberg\", \"Rostock\", \"Potsdam\"], \"legendgroup\": \"\", \"marker\": {\"color\": [220, 108, 70, 58, 52, 47, 45, 41, 38, 36, 35, 35, 34, 23, 19, 18, 16, 14, 12, 11, 7, 6, 6, 6, 6, 6, 5, 5, 5, 5, 4, 3, 2, 2, 2, 2, 2, 2, 2, 2, 2, 2, 1, 1, 1, 1, 1, 1, 1, 1, 1], \"coloraxis\": \"coloraxis\"}, \"name\": \"\", \"offsetgroup\": \"\", \"orientation\": \"v\", \"showlegend\": false, \"textposition\": \"auto\", \"x\": [\"Germany\", \"United States\", \"Italy\", \"Austria\", \"Switzerland\", \"Great Britain\", \"France\", \"Hungary\", \"Sweden\", \"Finland\", \"Norway\", \"Canada\", \"Netherlands\", \"Japan\", \"India\", \"Czechoslovakia\", \"Mexico\", \"Belgium\", \"Poland\", \"Argentina\", \"Estonia\", \"Denmark\", \"Switzerland-2\", \"Italia\", \"Germania II\", \"Silja\", \"Egypt\", \"Lalage\", \"May Be\", \"Lully II\", \"Switzerland-1\", \"Portugal\", \"Turkey\", \"Latvia\", \"Germany-1\", \"United States-2\", \"Wannsee\", \"United States-1\", \"Bem II\", \"Austria-1\", \"Sunshine\", \"Hungary-1\", \"Romania\", \"Philippines\", \"New Zealand\", \"Australia\", \"Yugoslavia\", \"South Africa\", \"Nrnberg\", \"Rostock\", \"Potsdam\"], \"xaxis\": \"x\", \"y\": [220, 108, 70, 58, 52, 47, 45, 41, 38, 36, 35, 35, 34, 23, 19, 18, 16, 14, 12, 11, 7, 6, 6, 6, 6, 6, 5, 5, 5, 5, 4, 3, 2, 2, 2, 2, 2, 2, 2, 2, 2, 2, 1, 1, 1, 1, 1, 1, 1, 1, 1], \"yaxis\": \"y\", \"type\": \"bar\"}], \"name\": \"1936\"}, {\"data\": [{\"alignmentgroup\": \"True\", \"hovertemplate\": \"Year=1932<br>Team=%{x}<br>Medals=%{marker.color}<extra></extra>\", \"ids\": [\"United States\", \"Italy\", \"Germany\", \"Canada\", \"France\", \"Great Britain\", \"Hungary\", \"Finland\", \"Japan\", \"Sweden\", \"Poland\", \"India\", \"Netherlands\", \"Angelita\", \"Denmark\", \"Norway\", \"United States-1\", \"Austria\", \"Czechoslovakia\", \"United States-2\", \"Santa Maria\", \"Gallant\", \"South Africa\", \"Australia\", \"Bissbi\", \"Argentina\", \"Caprice\", \"Germany-1\", \"Philippines\", \"Mexico\", \"Swedish Star\", \"New Zealand\", \"Switzerland-2\", \"Ireland\", \"Jupiter\", \"Joy\", \"Hungary-1\", \"Belgium\", \"Spain\", \"Latvia\", \"Switzerland\", \"Uruguay\"], \"legendgroup\": \"\", \"marker\": {\"color\": [190, 77, 53, 49, 42, 33, 33, 32, 31, 29, 21, 15, 13, 12, 11, 10, 8, 7, 6, 6, 6, 5, 5, 5, 4, 4, 4, 4, 3, 2, 2, 2, 2, 2, 2, 2, 2, 1, 1, 1, 1, 1], \"coloraxis\": \"coloraxis\"}, \"name\": \"\", \"offsetgroup\": \"\", \"orientation\": \"v\", \"showlegend\": false, \"textposition\": \"auto\", \"x\": [\"United States\", \"Italy\", \"Germany\", \"Canada\", \"France\", \"Great Britain\", \"Hungary\", \"Finland\", \"Japan\", \"Sweden\", \"Poland\", \"India\", \"Netherlands\", \"Angelita\", \"Denmark\", \"Norway\", \"United States-1\", \"Austria\", \"Czechoslovakia\", \"United States-2\", \"Santa Maria\", \"Gallant\", \"South Africa\", \"Australia\", \"Bissbi\", \"Argentina\", \"Caprice\", \"Germany-1\", \"Philippines\", \"Mexico\", \"Swedish Star\", \"New Zealand\", \"Switzerland-2\", \"Ireland\", \"Jupiter\", \"Joy\", \"Hungary-1\", \"Belgium\", \"Spain\", \"Latvia\", \"Switzerland\", \"Uruguay\"], \"xaxis\": \"x\", \"y\": [190, 77, 53, 49, 42, 33, 33, 32, 31, 29, 21, 15, 13, 12, 11, 10, 8, 7, 6, 6, 6, 5, 5, 5, 4, 4, 4, 4, 3, 2, 2, 2, 2, 2, 2, 2, 2, 1, 1, 1, 1, 1], \"yaxis\": \"y\", \"type\": \"bar\"}], \"name\": \"1932\"}, {\"data\": [{\"alignmentgroup\": \"True\", \"hovertemplate\": \"Year=1928<br>Team=%{x}<br>Medals=%{marker.color}<extra></extra>\", \"ids\": [\"United States\", \"Germany\", \"Italy\", \"Great Britain\", \"Netherlands\", \"Sweden\", \"France\", \"Canada\", \"Switzerland\", \"Finland\", \"Argentina\", \"Hungary\", \"Norway\", \"Poland\", \"Uruguay\", \"Czechoslovakia\", \"India\", \"Yugoslavia\", \"Denmark\", \"Japan\", \"Austria\", \"Belgium\", \"Portugal\", \"South Africa\", \"L'Aile VI\", \"Hollandia\", \"Sylvia\", \"United States-1\", \"Tutti V\", \"United States-2\", \"Germany-2\", \"Egypt\", \"Norna\", \"Australia\", \"Estonia\", \"Hi-Hi\", \"Spain\", \"Austria-2\", \"Austria-1\", \"Chile\", \"Luxembourg\", \"Ireland\", \"Haiti\", \"New Zealand\", \"Philippines\"], \"legendgroup\": \"\", \"marker\": {\"color\": [92, 77, 72, 59, 51, 47, 46, 45, 42, 29, 26, 21, 20, 20, 17, 17, 14, 12, 11, 9, 7, 6, 6, 6, 6, 6, 6, 5, 5, 5, 5, 4, 4, 4, 4, 4, 3, 2, 2, 1, 1, 1, 1, 1, 1], \"coloraxis\": \"coloraxis\"}, \"name\": \"\", \"offsetgroup\": \"\", \"orientation\": \"v\", \"showlegend\": false, \"textposition\": \"auto\", \"x\": [\"United States\", \"Germany\", \"Italy\", \"Great Britain\", \"Netherlands\", \"Sweden\", \"France\", \"Canada\", \"Switzerland\", \"Finland\", \"Argentina\", \"Hungary\", \"Norway\", \"Poland\", \"Uruguay\", \"Czechoslovakia\", \"India\", \"Yugoslavia\", \"Denmark\", \"Japan\", \"Austria\", \"Belgium\", \"Portugal\", \"South Africa\", \"L'Aile VI\", \"Hollandia\", \"Sylvia\", \"United States-1\", \"Tutti V\", \"United States-2\", \"Germany-2\", \"Egypt\", \"Norna\", \"Australia\", \"Estonia\", \"Hi-Hi\", \"Spain\", \"Austria-2\", \"Austria-1\", \"Chile\", \"Luxembourg\", \"Ireland\", \"Haiti\", \"New Zealand\", \"Philippines\"], \"xaxis\": \"x\", \"y\": [92, 77, 72, 59, 51, 47, 46, 45, 42, 29, 26, 21, 20, 20, 17, 17, 14, 12, 11, 9, 7, 6, 6, 6, 6, 6, 6, 5, 5, 5, 5, 4, 4, 4, 4, 4, 3, 2, 2, 1, 1, 1, 1, 1, 1], \"yaxis\": \"y\", \"type\": \"bar\"}], \"name\": \"1928\"}, {\"data\": [{\"alignmentgroup\": \"True\", \"hovertemplate\": \"Year=1924<br>Team=%{x}<br>Medals=%{marker.color}<extra></extra>\", \"ids\": [\"United States\", \"France\", \"Great Britain\", \"Sweden\", \"Finland\", \"Switzerland\", \"Italy\", \"Belgium\", \"Norway\", \"Canada\", \"Netherlands\", \"Hungary\", \"Romania\", \"Uruguay\", \"Denmark\", \"Australia\", \"Czechoslovakia\", \"Argentina\", \"Austria\", \"India\", \"Estonia\", \"Great Britain-1\", \"Poland\", \"Haiti\", \"Bera\", \"Namoussa\", \"Belgium-1\", \"Emily\", \"Switzerland-1\", \"France-1\", \"Portugal\", \"United States-2\", \"United States-1\", \"South Africa\", \"Willem-Six\", \"Elisabeth V\", \"Bonzo\", \"Luxembourg\", \"Yugoslavia\", \"Ireland\", \"France-2\", \"Great Britain-2\", \"Monaco\", \"Greece\", \"Nepal\", \"Japan\", \"New Zealand\"], \"legendgroup\": \"\", \"marker\": {\"color\": [186, 109, 82, 81, 67, 65, 51, 39, 31, 29, 24, 22, 16, 14, 11, 11, 10, 10, 8, 7, 6, 6, 5, 5, 5, 5, 5, 5, 4, 4, 4, 4, 4, 3, 3, 3, 3, 2, 2, 2, 2, 2, 1, 1, 1, 1, 1], \"coloraxis\": \"coloraxis\"}, \"name\": \"\", \"offsetgroup\": \"\", \"orientation\": \"v\", \"showlegend\": false, \"textposition\": \"auto\", \"x\": [\"United States\", \"France\", \"Great Britain\", \"Sweden\", \"Finland\", \"Switzerland\", \"Italy\", \"Belgium\", \"Norway\", \"Canada\", \"Netherlands\", \"Hungary\", \"Romania\", \"Uruguay\", \"Denmark\", \"Australia\", \"Czechoslovakia\", \"Argentina\", \"Austria\", \"India\", \"Estonia\", \"Great Britain-1\", \"Poland\", \"Haiti\", \"Bera\", \"Namoussa\", \"Belgium-1\", \"Emily\", \"Switzerland-1\", \"France-1\", \"Portugal\", \"United States-2\", \"United States-1\", \"South Africa\", \"Willem-Six\", \"Elisabeth V\", \"Bonzo\", \"Luxembourg\", \"Yugoslavia\", \"Ireland\", \"France-2\", \"Great Britain-2\", \"Monaco\", \"Greece\", \"Nepal\", \"Japan\", \"New Zealand\"], \"xaxis\": \"x\", \"y\": [186, 109, 82, 81, 67, 65, 51, 39, 31, 29, 24, 22, 16, 14, 11, 11, 10, 10, 8, 7, 6, 6, 5, 5, 5, 5, 5, 5, 4, 4, 4, 4, 4, 3, 3, 3, 3, 2, 2, 2, 2, 2, 1, 1, 1, 1, 1], \"yaxis\": \"y\", \"type\": \"bar\"}], \"name\": \"1924\"}, {\"data\": [{\"alignmentgroup\": \"True\", \"hovertemplate\": \"Year=1920<br>Team=%{x}<br>Medals=%{marker.color}<extra></extra>\", \"ids\": [\"United States\", \"Belgium\", \"Sweden\", \"France\", \"Great Britain\", \"Italy\", \"Norway\", \"Denmark\", \"Finland\", \"Netherlands\", \"Switzerland\", \"Spain\", \"South Africa\", \"Canada\", \"Czechoslovakia\", \"Heira II\", \"Atlanta\", \"Brazil\", \"Mosk II\", \"Australia\", \"Eleda\", \"Greece\", \"Antwerpia V\", \"Irene\", \"Lyn-2\", \"Fornebo\", \"France-3\", \"Elsie\", \"Ancora\", \"Sif\", \"Sildra-1\", \"Stella-2\", \"Kullan\", \"Jo\", \"Edelweiss II-1\", \"Oranje\", \"Marmi II-1\", \"Japan\", \"Estonia\", \"Beatrijs III-1\", \"Tan-Fe-Pah\", \"Rose Pompon\", \"Great Britain-2\", \"Great Britain-1\", \"Great Britain-3\", \"Boreas-2\", \"Luxembourg\", \"New Zealand\"], \"legendgroup\": \"\", \"marker\": {\"color\": [194, 177, 143, 134, 101, 84, 78, 71, 52, 42, 29, 23, 21, 16, 10, 9, 9, 7, 7, 7, 7, 5, 5, 5, 5, 4, 4, 4, 4, 4, 4, 3, 3, 3, 3, 3, 3, 3, 3, 3, 3, 3, 2, 2, 2, 2, 1, 1], \"coloraxis\": \"coloraxis\"}, \"name\": \"\", \"offsetgroup\": \"\", \"orientation\": \"v\", \"showlegend\": false, \"textposition\": \"auto\", \"x\": [\"United States\", \"Belgium\", \"Sweden\", \"France\", \"Great Britain\", \"Italy\", \"Norway\", \"Denmark\", \"Finland\", \"Netherlands\", \"Switzerland\", \"Spain\", \"South Africa\", \"Canada\", \"Czechoslovakia\", \"Heira II\", \"Atlanta\", \"Brazil\", \"Mosk II\", \"Australia\", \"Eleda\", \"Greece\", \"Antwerpia V\", \"Irene\", \"Lyn-2\", \"Fornebo\", \"France-3\", \"Elsie\", \"Ancora\", \"Sif\", \"Sildra-1\", \"Stella-2\", \"Kullan\", \"Jo\", \"Edelweiss II-1\", \"Oranje\", \"Marmi II-1\", \"Japan\", \"Estonia\", \"Beatrijs III-1\", \"Tan-Fe-Pah\", \"Rose Pompon\", \"Great Britain-2\", \"Great Britain-1\", \"Great Britain-3\", \"Boreas-2\", \"Luxembourg\", \"New Zealand\"], \"xaxis\": \"x\", \"y\": [194, 177, 143, 134, 101, 84, 78, 71, 52, 42, 29, 23, 21, 16, 10, 9, 9, 7, 7, 7, 7, 5, 5, 5, 5, 4, 4, 4, 4, 4, 4, 3, 3, 3, 3, 3, 3, 3, 3, 3, 3, 3, 2, 2, 2, 2, 1, 1], \"yaxis\": \"y\", \"type\": \"bar\"}], \"name\": \"1920\"}, {\"data\": [{\"alignmentgroup\": \"True\", \"hovertemplate\": \"Year=1912<br>Team=%{x}<br>Medals=%{marker.color}<extra></extra>\", \"ids\": [\"Sweden\", \"Great Britain\", \"United States\", \"Denmark\", \"Norway\", \"Finland\", \"Germany\", \"Hungary\", \"Netherlands\", \"Italy\", \"France\", \"Belgium\", \"Austria\", \"England-1\", \"Magda IX\", \"Erna Signe\", \"Australasia\", \"Berliner Ruderverein von 1876-2\", \"New College, Oxford-2\", \"Leander Club-1\", \"Canada\", \"Kitty-1\", \"Russia\", \"Heatherbell\", \"Gallia II\", \"Nina\", \"South Africa\", \"Taifun\", \"Lucky Girl-1\", \"Nykjbings paa Falster\", \"Ludwigshafener Ruderverein\", \"Thames Rowing Club\", \"Polyteknisk Roklub-1\", \"Kristiania Roklub-1\", \"Ormsund Roklub-2\", \"Roddklubben af 1912-1\", \"Sans Atout-1\", \"Great Britain-2\", \"Kerstin-1\", \"Nurdug II\", \"Mac Miche\", \"Great Britain-1\", \"Greece\", \"Sweden-3\", \"Sweden-1\", \"Sweden-2\", \"Switzerland\", \"England\"], \"legendgroup\": \"\", \"marker\": {\"color\": [153, 128, 107, 74, 55, 52, 39, 30, 26, 25, 23, 19, 14, 12, 10, 10, 10, 9, 9, 9, 8, 8, 7, 7, 7, 7, 7, 5, 5, 5, 5, 5, 5, 5, 5, 5, 5, 4, 3, 3, 3, 2, 2, 2, 2, 2, 2, 1], \"coloraxis\": \"coloraxis\"}, \"name\": \"\", \"offsetgroup\": \"\", \"orientation\": \"v\", \"showlegend\": false, \"textposition\": \"auto\", \"x\": [\"Sweden\", \"Great Britain\", \"United States\", \"Denmark\", \"Norway\", \"Finland\", \"Germany\", \"Hungary\", \"Netherlands\", \"Italy\", \"France\", \"Belgium\", \"Austria\", \"England-1\", \"Magda IX\", \"Erna Signe\", \"Australasia\", \"Berliner Ruderverein von 1876-2\", \"New College, Oxford-2\", \"Leander Club-1\", \"Canada\", \"Kitty-1\", \"Russia\", \"Heatherbell\", \"Gallia II\", \"Nina\", \"South Africa\", \"Taifun\", \"Lucky Girl-1\", \"Nykjbings paa Falster\", \"Ludwigshafener Ruderverein\", \"Thames Rowing Club\", \"Polyteknisk Roklub-1\", \"Kristiania Roklub-1\", \"Ormsund Roklub-2\", \"Roddklubben af 1912-1\", \"Sans Atout-1\", \"Great Britain-2\", \"Kerstin-1\", \"Nurdug II\", \"Mac Miche\", \"Great Britain-1\", \"Greece\", \"Sweden-3\", \"Sweden-1\", \"Sweden-2\", \"Switzerland\", \"England\"], \"xaxis\": \"x\", \"y\": [153, 128, 107, 74, 55, 52, 39, 30, 26, 25, 23, 19, 14, 12, 10, 10, 10, 9, 9, 9, 8, 8, 7, 7, 7, 7, 7, 5, 5, 5, 5, 5, 5, 5, 5, 5, 5, 4, 3, 3, 3, 2, 2, 2, 2, 2, 2, 1], \"yaxis\": \"y\", \"type\": \"bar\"}], \"name\": \"1912\"}, {\"data\": [{\"alignmentgroup\": \"True\", \"hovertemplate\": \"Year=1908<br>Team=%{x}<br>Medals=%{marker.color}<extra></extra>\", \"ids\": [\"Great Britain\", \"Sweden\", \"United States\", \"Norway\", \"Canada\", \"France\", \"Finland\", \"Belgium\", \"Hungary\", \"Germany\", \"Australasia\", \"Denmark\", \"Cornwall\", \"Great Britain-1\", \"Great Britain-2\", \"Ireland-2\", \"Netherlands\", \"England-1\", \"Scotland-3\", \"Wales-4\", \"Hera-1\", \"Mouchette-2\", \"Toronto Argonauts\", \"Cambridge University Boat Club-2\", \"Leander Club-1\", \"Royal Club Nautique de Gand\", \"Italy\", \"London City Police-1\", \"Liverpool Police Team-2\", \"K Division Metropolitan Police Team-3\", \"Argonaut Rowing Club\", \"Bohemia\", \"Gyrinus-1\", \"Cobweb-1\", \"Vinga-1\", \"Sorais-2\", \"Greece\", \"Leander Club-2\", \"Heroine\", \"Hurlingham-2\", \"Amstel Amsterdam\", \"Great Britain-3\", \"Magdalen College Boat Club-1\", \"Ireland-3\", \"Roehampton-1\", \"Guyoni\", \"Dormy-1\", \"Russia\", \"Zut\", \"South Africa\", \"Berliner Ruderclub\", \"Leander Club #2-2\", \"Leander Club #1-1\", \"Austria\", \"Camille\"], \"legendgroup\": \"\", \"marker\": {\"color\": [167, 79, 65, 42, 37, 36, 30, 21, 20, 19, 19, 17, 15, 14, 14, 12, 12, 11, 11, 11, 10, 10, 9, 9, 9, 9, 8, 8, 8, 8, 6, 6, 6, 5, 5, 5, 4, 4, 4, 4, 4, 4, 4, 4, 4, 3, 3, 3, 3, 2, 2, 2, 2, 1, 1], \"coloraxis\": \"coloraxis\"}, \"name\": \"\", \"offsetgroup\": \"\", \"orientation\": \"v\", \"showlegend\": false, \"textposition\": \"auto\", \"x\": [\"Great Britain\", \"Sweden\", \"United States\", \"Norway\", \"Canada\", \"France\", \"Finland\", \"Belgium\", \"Hungary\", \"Germany\", \"Australasia\", \"Denmark\", \"Cornwall\", \"Great Britain-1\", \"Great Britain-2\", \"Ireland-2\", \"Netherlands\", \"England-1\", \"Scotland-3\", \"Wales-4\", \"Hera-1\", \"Mouchette-2\", \"Toronto Argonauts\", \"Cambridge University Boat Club-2\", \"Leander Club-1\", \"Royal Club Nautique de Gand\", \"Italy\", \"London City Police-1\", \"Liverpool Police Team-2\", \"K Division Metropolitan Police Team-3\", \"Argonaut Rowing Club\", \"Bohemia\", \"Gyrinus-1\", \"Cobweb-1\", \"Vinga-1\", \"Sorais-2\", \"Greece\", \"Leander Club-2\", \"Heroine\", \"Hurlingham-2\", \"Amstel Amsterdam\", \"Great Britain-3\", \"Magdalen College Boat Club-1\", \"Ireland-3\", \"Roehampton-1\", \"Guyoni\", \"Dormy-1\", \"Russia\", \"Zut\", \"South Africa\", \"Berliner Ruderclub\", \"Leander Club #2-2\", \"Leander Club #1-1\", \"Austria\", \"Camille\"], \"xaxis\": \"x\", \"y\": [167, 79, 65, 42, 37, 36, 30, 21, 20, 19, 19, 17, 15, 14, 14, 12, 12, 11, 11, 11, 10, 10, 9, 9, 9, 9, 8, 8, 8, 8, 6, 6, 6, 5, 5, 5, 4, 4, 4, 4, 4, 4, 4, 4, 4, 3, 3, 3, 3, 2, 2, 2, 2, 1, 1], \"yaxis\": \"y\", \"type\": \"bar\"}], \"name\": \"1908\"}, {\"data\": [{\"alignmentgroup\": \"True\", \"hovertemplate\": \"Year=1906<br>Team=%{x}<br>Medals=%{marker.color}<extra></extra>\", \"ids\": [\"France\", \"Denmark\", \"Great Britain\", \"Germany\", \"Greece\", \"Norway\", \"United States\", \"Marinai della nave da guerra \\\"Varese\\\"\", \"Phalainis ton Thorichtou \\\"Hydra\\\"-2\", \"Sweden\", \"Large boat, Central Naval Prep School \\\"Poros\\\"-1\", \"Hungary\", \"Switzerland\", \"Thessalonki-1\", \"Smyrna\", \"Italy\", \"Austria\", \"Pistoja/Firenze\", \"Belgium\", \"Bucintoro Venezia\", \"Socit Nautique de la Basse Seine-1\", \"Omas Helliniki P. S.\", \"Life boat naval ship \\\"Spetsai\\\"-1\", \"Netherlands\", \"Socit Nautique de Bayonne-2\", \"Finland\", \"Greece-1\", \"Australia\", \"Socit Nautique de Bayonne-1\", \"Bucintoro Venezia-1\", \"Barion/Bari-2\", \"Bohemia\", \"Royal Club Nautique de Gand\", \"Canada\", \"Greece-2\"], \"legendgroup\": \"\", \"marker\": {\"color\": [45, 34, 31, 30, 28, 25, 24, 24, 24, 21, 17, 13, 12, 11, 11, 9, 9, 9, 9, 8, 8, 8, 7, 6, 5, 4, 4, 3, 3, 3, 3, 3, 3, 2, 2], \"coloraxis\": \"coloraxis\"}, \"name\": \"\", \"offsetgroup\": \"\", \"orientation\": \"v\", \"showlegend\": false, \"textposition\": \"auto\", \"x\": [\"France\", \"Denmark\", \"Great Britain\", \"Germany\", \"Greece\", \"Norway\", \"United States\", \"Marinai della nave da guerra \\\"Varese\\\"\", \"Phalainis ton Thorichtou \\\"Hydra\\\"-2\", \"Sweden\", \"Large boat, Central Naval Prep School \\\"Poros\\\"-1\", \"Hungary\", \"Switzerland\", \"Thessalonki-1\", \"Smyrna\", \"Italy\", \"Austria\", \"Pistoja/Firenze\", \"Belgium\", \"Bucintoro Venezia\", \"Socit Nautique de la Basse Seine-1\", \"Omas Helliniki P. S.\", \"Life boat naval ship \\\"Spetsai\\\"-1\", \"Netherlands\", \"Socit Nautique de Bayonne-2\", \"Finland\", \"Greece-1\", \"Australia\", \"Socit Nautique de Bayonne-1\", \"Bucintoro Venezia-1\", \"Barion/Bari-2\", \"Bohemia\", \"Royal Club Nautique de Gand\", \"Canada\", \"Greece-2\"], \"xaxis\": \"x\", \"y\": [45, 34, 31, 30, 28, 25, 24, 24, 24, 21, 17, 13, 12, 11, 11, 9, 9, 9, 9, 8, 8, 8, 7, 6, 5, 4, 4, 3, 3, 3, 3, 3, 3, 2, 2], \"yaxis\": \"y\", \"type\": \"bar\"}], \"name\": \"1906\"}, {\"data\": [{\"alignmentgroup\": \"True\", \"hovertemplate\": \"Year=1904<br>Team=%{x}<br>Medals=%{marker.color}<extra></extra>\", \"ids\": [\"United States\", \"Germany\", \"Galt Football Club\", \"Mohawk Indians-2\", \"Winnipeg Shamrocks-1\", \"St. Rose-2\", \"St. Louis Amateur Athletic Association\", \"Christian Brothers' College-1\", \"Chicago Athletic Association-2\", \"Missouri Athletic Club-3\", \"United States Golf Association-3\", \"Trans-Mississippi Golf Association-2\", \"Western Golf Association-1\", \"Vesper Boat Club\", \"Toronto Argonauts\", \"Cincinnati Archers\", \"New York Athletic Club-1\", \"New York Turnverein, New York\", \"Western Rowing Club-3\", \"Central Turnverein, Chicago\", \"Philadelphia Turngemeinde, Philadelphia\", \"St. Louis Southwest Turnverein #1-2\", \"Cuba\", \"Chicago Athletic Association\", \"Milwaukee Athletic Club-1\", \"St. Louis Southwest Turnverein #2-3\", \"New York Athletic Club\", \"Mound City Rowing Club-2\", \"Boston Archers\", \"New York Athletic Club #1-1\", \"Hungary\", \"Century Boat Club-1\", \"Australia\", \"Potomac Archers\", \"Switzerland\", \"Austria\", \"Canada\", \"United States-2\", \"Great Britain\", \"Greece\", \"Norway\", \"Seawanhaka Boat Club-1\", \"United States-4\", \"Ravenswood Boat Club-2\", \"United States-1\", \"Atalanta Boat Club-1\", \"Atalanta Boat Club-2\", \"Independent Rowing Club-3\", \"United States-3\", \"France\"], \"legendgroup\": \"\", \"marker\": {\"color\": [199, 15, 13, 12, 12, 12, 12, 11, 11, 11, 10, 10, 10, 9, 9, 8, 7, 6, 6, 6, 6, 5, 5, 5, 5, 5, 5, 4, 4, 4, 4, 4, 4, 4, 3, 3, 2, 2, 2, 2, 2, 2, 2, 2, 2, 2, 2, 2, 2, 1], \"coloraxis\": \"coloraxis\"}, \"name\": \"\", \"offsetgroup\": \"\", \"orientation\": \"v\", \"showlegend\": false, \"textposition\": \"auto\", \"x\": [\"United States\", \"Germany\", \"Galt Football Club\", \"Mohawk Indians-2\", \"Winnipeg Shamrocks-1\", \"St. Rose-2\", \"St. Louis Amateur Athletic Association\", \"Christian Brothers' College-1\", \"Chicago Athletic Association-2\", \"Missouri Athletic Club-3\", \"United States Golf Association-3\", \"Trans-Mississippi Golf Association-2\", \"Western Golf Association-1\", \"Vesper Boat Club\", \"Toronto Argonauts\", \"Cincinnati Archers\", \"New York Athletic Club-1\", \"New York Turnverein, New York\", \"Western Rowing Club-3\", \"Central Turnverein, Chicago\", \"Philadelphia Turngemeinde, Philadelphia\", \"St. Louis Southwest Turnverein #1-2\", \"Cuba\", \"Chicago Athletic Association\", \"Milwaukee Athletic Club-1\", \"St. Louis Southwest Turnverein #2-3\", \"New York Athletic Club\", \"Mound City Rowing Club-2\", \"Boston Archers\", \"New York Athletic Club #1-1\", \"Hungary\", \"Century Boat Club-1\", \"Australia\", \"Potomac Archers\", \"Switzerland\", \"Austria\", \"Canada\", \"United States-2\", \"Great Britain\", \"Greece\", \"Norway\", \"Seawanhaka Boat Club-1\", \"United States-4\", \"Ravenswood Boat Club-2\", \"United States-1\", \"Atalanta Boat Club-1\", \"Atalanta Boat Club-2\", \"Independent Rowing Club-3\", \"United States-3\", \"France\"], \"xaxis\": \"x\", \"y\": [199, 15, 13, 12, 12, 12, 12, 11, 11, 11, 10, 10, 10, 9, 9, 8, 7, 6, 6, 6, 6, 5, 5, 5, 5, 5, 5, 4, 4, 4, 4, 4, 4, 4, 3, 3, 2, 2, 2, 2, 2, 2, 2, 2, 2, 2, 2, 2, 2, 1], \"yaxis\": \"y\", \"type\": \"bar\"}], \"name\": \"1904\"}, {\"data\": [{\"alignmentgroup\": \"True\", \"hovertemplate\": \"Year=1900<br>Team=%{x}<br>Medals=%{marker.color}<extra></extra>\", \"ids\": [\"France\", \"United States\", \"Union des Socits Franais de Sports Athletiques\", \"Great Britain\", \"Minerva Amsterdam\", \"Frankfurt Club\", \"Moseley Wanderers\", \"Switzerland\", \"Belgium\", \"USFSA\", \"Devon and Somerset Wanderers\", \"Racing Club de France\", \"Upton Park FC\", \"Univ. of Brussels\", \"Brussels Swimming and Water Polo Club\", \"Gitana-2\", \"Vesper Boat Club\", \"Norway\", \"Royal Club Nautique de Gand\", \"Quand-Mme-2\", \"Martha-1\", \"Aschenbrodel\", \"Pupilles de Neptune de Lille #2-1\", \"Favorite-1\", \"Libellule de Paris\", \"Osborne Swimming Club, Manchester\", \"Denmark/Sweden\", \"Favorite Hammonia-3\", \"Austria\", \"Denmark\", \"Olle\", \"Netherlands\", \"Scotia\", \"Lerina\", \"Italy\", \"Crabe II-1\", \"Crabe II-4\", \"Hungary\", \"Amateur Athletic Association\", \"Foxhunters Hurlingham\", \"Tritons Lillois-2\", \"Cercle de l'Aviron Roubaix-4\", \"Ludwigshafener Ruder Verein-1\", \"Germania Ruder Club, Hamburg-2\", \"Australia\", \"Nina Claire-2\", \"BLO Polo Club, Rugby\", \"France-1\", \"Bagatelle Polo Club, Paris\", \"A North American Team\", \"Deutscher Schwimm Verband Berlin\", \"Pupilles de Neptune de Lille-1\", \"Club Nautique de Lyon-2\", \"Sarcelle-3\", \"Gwendoline-2\", \"Rowing Club Castillon-3\", \"Mascotte\", \"Bona Fide\", \"Germany\", \"Esterel-1\", \"Spain\", \"United States/France\", \"United States/Great Britain\", \"Great Britain-1\", \"Bohemia\", \"Cuba\", \"Baby-1\", \"Canada\", \"France/Great Britain\", \"Great Britain-2\", \"Societ Nautique de la Marne-1\", \"Scamasaxe-2\", \"Scamasaxe-3\", \"India\", \"Bohemia/Great Britain\", \"Carabinier-15\", \"Sweden\", \"Brynhild-2\", \"Belgium-1\", \"Mignon-3\", \"Femur-1\", \"Laurea-1\", \"Frimousse\", \"Turquoise-1\", \"Cicely-1\", \"Fantlet-7\", \"Luxembourg\", \"Formosa\"], \"legendgroup\": \"\", \"marker\": {\"color\": [75, 45, 29, 22, 17, 15, 15, 15, 14, 13, 12, 11, 11, 11, 10, 10, 9, 9, 9, 9, 8, 8, 8, 8, 7, 7, 6, 6, 6, 6, 6, 6, 6, 6, 5, 5, 5, 5, 5, 5, 5, 5, 5, 5, 5, 4, 4, 4, 4, 4, 4, 4, 4, 3, 3, 3, 3, 3, 2, 2, 2, 2, 2, 2, 2, 2, 2, 2, 2, 2, 2, 2, 2, 2, 2, 1, 1, 1, 1, 1, 1, 1, 1, 1, 1, 1, 1, 1], \"coloraxis\": \"coloraxis\"}, \"name\": \"\", \"offsetgroup\": \"\", \"orientation\": \"v\", \"showlegend\": false, \"textposition\": \"auto\", \"x\": [\"France\", \"United States\", \"Union des Socits Franais de Sports Athletiques\", \"Great Britain\", \"Minerva Amsterdam\", \"Frankfurt Club\", \"Moseley Wanderers\", \"Switzerland\", \"Belgium\", \"USFSA\", \"Devon and Somerset Wanderers\", \"Racing Club de France\", \"Upton Park FC\", \"Univ. of Brussels\", \"Brussels Swimming and Water Polo Club\", \"Gitana-2\", \"Vesper Boat Club\", \"Norway\", \"Royal Club Nautique de Gand\", \"Quand-Mme-2\", \"Martha-1\", \"Aschenbrodel\", \"Pupilles de Neptune de Lille #2-1\", \"Favorite-1\", \"Libellule de Paris\", \"Osborne Swimming Club, Manchester\", \"Denmark/Sweden\", \"Favorite Hammonia-3\", \"Austria\", \"Denmark\", \"Olle\", \"Netherlands\", \"Scotia\", \"Lerina\", \"Italy\", \"Crabe II-1\", \"Crabe II-4\", \"Hungary\", \"Amateur Athletic Association\", \"Foxhunters Hurlingham\", \"Tritons Lillois-2\", \"Cercle de l'Aviron Roubaix-4\", \"Ludwigshafener Ruder Verein-1\", \"Germania Ruder Club, Hamburg-2\", \"Australia\", \"Nina Claire-2\", \"BLO Polo Club, Rugby\", \"France-1\", \"Bagatelle Polo Club, Paris\", \"A North American Team\", \"Deutscher Schwimm Verband Berlin\", \"Pupilles de Neptune de Lille-1\", \"Club Nautique de Lyon-2\", \"Sarcelle-3\", \"Gwendoline-2\", \"Rowing Club Castillon-3\", \"Mascotte\", \"Bona Fide\", \"Germany\", \"Esterel-1\", \"Spain\", \"United States/France\", \"United States/Great Britain\", \"Great Britain-1\", \"Bohemia\", \"Cuba\", \"Baby-1\", \"Canada\", \"France/Great Britain\", \"Great Britain-2\", \"Societ Nautique de la Marne-1\", \"Scamasaxe-2\", \"Scamasaxe-3\", \"India\", \"Bohemia/Great Britain\", \"Carabinier-15\", \"Sweden\", \"Brynhild-2\", \"Belgium-1\", \"Mignon-3\", \"Femur-1\", \"Laurea-1\", \"Frimousse\", \"Turquoise-1\", \"Cicely-1\", \"Fantlet-7\", \"Luxembourg\", \"Formosa\"], \"xaxis\": \"x\", \"y\": [75, 45, 29, 22, 17, 15, 15, 15, 14, 13, 12, 11, 11, 11, 10, 10, 9, 9, 9, 9, 8, 8, 8, 8, 7, 7, 6, 6, 6, 6, 6, 6, 6, 6, 5, 5, 5, 5, 5, 5, 5, 5, 5, 5, 5, 4, 4, 4, 4, 4, 4, 4, 4, 3, 3, 3, 3, 3, 2, 2, 2, 2, 2, 2, 2, 2, 2, 2, 2, 2, 2, 2, 2, 2, 2, 1, 1, 1, 1, 1, 1, 1, 1, 1, 1, 1, 1, 1], \"yaxis\": \"y\", \"type\": \"bar\"}], \"name\": \"1900\"}, {\"data\": [{\"alignmentgroup\": \"True\", \"hovertemplate\": \"Year=1896<br>Team=%{x}<br>Medals=%{marker.color}<extra></extra>\", \"ids\": [\"Greece\", \"Germany\", \"United States\", \"France\", \"Great Britain\", \"Hungary\", \"Denmark\", \"Austria\", \"Switzerland\", \"Great Britain/Germany\", \"Greece-1\", \"Australia\", \"Australia/Great Britain\", \"Ethnikos Gymnastikos Syllogos\"], \"legendgroup\": \"\", \"marker\": {\"color\": [44, 31, 20, 11, 7, 6, 6, 5, 3, 2, 2, 2, 2, 2], \"coloraxis\": \"coloraxis\"}, \"name\": \"\", \"offsetgroup\": \"\", \"orientation\": \"v\", \"showlegend\": false, \"textposition\": \"auto\", \"x\": [\"Greece\", \"Germany\", \"United States\", \"France\", \"Great Britain\", \"Hungary\", \"Denmark\", \"Austria\", \"Switzerland\", \"Great Britain/Germany\", \"Greece-1\", \"Australia\", \"Australia/Great Britain\", \"Ethnikos Gymnastikos Syllogos\"], \"xaxis\": \"x\", \"y\": [44, 31, 20, 11, 7, 6, 6, 5, 3, 2, 2, 2, 2, 2], \"yaxis\": \"y\", \"type\": \"bar\"}], \"name\": \"1896\"}]);\n",
       "                        }).then(function(){\n",
       "                            \n",
       "var gd = document.getElementById('e2ba8c89-ecd2-482d-8474-1299cdede2a6');\n",
       "var x = new MutationObserver(function (mutations, observer) {{\n",
       "        var display = window.getComputedStyle(gd).display;\n",
       "        if (!display || display === 'none') {{\n",
       "            console.log([gd, 'removed!']);\n",
       "            Plotly.purge(gd);\n",
       "            observer.disconnect();\n",
       "        }}\n",
       "}});\n",
       "\n",
       "// Listen for the removal of the full notebook cells\n",
       "var notebookContainer = gd.closest('#notebook-container');\n",
       "if (notebookContainer) {{\n",
       "    x.observe(notebookContainer, {childList: true});\n",
       "}}\n",
       "\n",
       "// Listen for the clearing of the current output cell\n",
       "var outputEl = gd.closest('.output');\n",
       "if (outputEl) {{\n",
       "    x.observe(outputEl, {childList: true});\n",
       "}}\n",
       "\n",
       "                        })                };                });            </script>        </div>"
      ]
     },
     "metadata": {},
     "output_type": "display_data"
    }
   ],
   "source": [
    "#Visualisation by plotly\n",
    "medals_countries=pd.DataFrame(zip(date,teams,medals),columns=[\"Year\",\"Team\",\"Medals\"])\n",
    "medals_countries.drop(medals_countries[medals_countries[\"Medals\"]==0].index,inplace=True,axis=0)#Dropping countries which have 0 medals\n",
    "medals_countries.sort_values(by=[\"Year\",\"Medals\"],inplace=True,axis=0,ascending=False)\n",
    "import plotly.express as px\n",
    "\n",
    "fig = px.bar(medals_countries, x=\"Team\", y=\"Medals\", color=\"Medals\",\n",
    "  animation_frame=\"Year\", animation_group=\"Team\", range_y=[0,500],width=800,height=400,range_x=[0,11])\n",
    "\n",
    "fig.update_layout(\n",
    "    margin=dict(l=20, r=20, t=20, b=20),\n",
    "    paper_bgcolor=\"white\",title=\"Total Number of Medals Each Country Have with respect to Year\"\n",
    ")\n",
    "fig.show()"
   ]
  },
  {
   "cell_type": "markdown",
   "metadata": {},
   "source": [
    "#### We can see total number of medals that countries won in each year from 2016 to 1896"
   ]
  },
  {
   "cell_type": "markdown",
   "metadata": {},
   "source": [
    "# Number of olympics that organized in each country"
   ]
  },
  {
   "cell_type": "code",
   "execution_count": 26,
   "metadata": {},
   "outputs": [],
   "source": [
    "#Prepare data\n",
    "cities=list(df[\"City\"].unique())\n",
    "number=[]\n",
    "for c in cities:\n",
    "    num=len(df[df[\"City\"]==c])\n",
    "    number.append(num)\n",
    "olympics=pd.DataFrame(zip(cities,number),columns=[\"Cities\",\"Total_Number_of_Olympics\"])\n",
    "#We need locations of cities to plot in map\n",
    "locations=[[41.385063,2.173404],[51.507351,-0.121350],[51.219448,4.402464],[48.856613,2.352222],[51.040460,-114.064167],[45.670448,6.396301],[61.115244,10.466263],[34.075611,-118.297007],[40.754621,-111.902293],[60.169846,24.938383],[44.277978,-73.983374],[-33.877757,151.210423],[33.761983,-84.394615],[59.329344,18.068761],[43.586784,39.721302],[36.639257,138.139658],[45.069010,7.680472],[39.912139,116.410544],[-22.933838,-43.203143],[37.986588,23.727988],[39.197519,-120.235418],[47.287108,11.365400],[43.871561,18.415122],[19.404394,-99.160998],[48.155810,11.538132],[37.551010,126.986137],[52.513924,13.374411],[59.913654,10.752023],[46.536867,12.138926],[-37.815708,144.962830],[41.889501,12.495944],[52.368971,4.870650],[45.536212,-73.629094],[55.745989,37.621592],[35.676647,139.656742],[49.244280,-123.115610],[45.182241,5.724209],[42.974103,141.310834],[45.927709,6.890412],[47.602718,7.542398],[46.500265,9.816901],[47.489244,11.093460]]#Start with mexico city   \n",
    "olympics[\"lat\"]=[locations[i][0] for i in range(len(locations))]\n",
    "olympics[\"lon\"]=[locations[i][1] for i in range(len(locations))]"
   ]
  },
  {
   "cell_type": "code",
   "execution_count": 27,
   "metadata": {},
   "outputs": [
    {
     "data": {
      "application/vnd.plotly.v1+json": {
       "config": {
        "plotlyServerURL": "https://plot.ly"
       },
       "data": [
        {
         "geo": "geo",
         "hovertemplate": "<b>%{hovertext}</b><br><br>Cities=Barcelona<br>Total_Number_of_Olympics=%{marker.size}<br>lat=%{lat}<br>lon=%{lon}<extra></extra>",
         "hovertext": [
          "Barcelona"
         ],
         "lat": [
          41.385063
         ],
         "legendgroup": "Barcelona",
         "lon": [
          2.173404
         ],
         "marker": {
          "color": "#636efa",
          "size": [
           12977
          ],
          "sizemode": "area",
          "sizeref": 56.065
         },
         "name": "Barcelona",
         "showlegend": true,
         "type": "scattergeo"
        },
        {
         "geo": "geo",
         "hovertemplate": "<b>%{hovertext}</b><br><br>Cities=London<br>Total_Number_of_Olympics=%{marker.size}<br>lat=%{lat}<br>lon=%{lon}<extra></extra>",
         "hovertext": [
          "London"
         ],
         "lat": [
          51.507351
         ],
         "legendgroup": "London",
         "lon": [
          -0.12135
         ],
         "marker": {
          "color": "#EF553B",
          "size": [
           22426
          ],
          "sizemode": "area",
          "sizeref": 56.065
         },
         "name": "London",
         "showlegend": true,
         "type": "scattergeo"
        },
        {
         "geo": "geo",
         "hovertemplate": "<b>%{hovertext}</b><br><br>Cities=Antwerpen<br>Total_Number_of_Olympics=%{marker.size}<br>lat=%{lat}<br>lon=%{lon}<extra></extra>",
         "hovertext": [
          "Antwerpen"
         ],
         "lat": [
          51.219448
         ],
         "legendgroup": "Antwerpen",
         "lon": [
          4.402464
         ],
         "marker": {
          "color": "#00cc96",
          "size": [
           4292
          ],
          "sizemode": "area",
          "sizeref": 56.065
         },
         "name": "Antwerpen",
         "showlegend": true,
         "type": "scattergeo"
        },
        {
         "geo": "geo",
         "hovertemplate": "<b>%{hovertext}</b><br><br>Cities=Paris<br>Total_Number_of_Olympics=%{marker.size}<br>lat=%{lat}<br>lon=%{lon}<extra></extra>",
         "hovertext": [
          "Paris"
         ],
         "lat": [
          48.856613
         ],
         "legendgroup": "Paris",
         "lon": [
          2.352222
         ],
         "marker": {
          "color": "#ab63fa",
          "size": [
           7169
          ],
          "sizemode": "area",
          "sizeref": 56.065
         },
         "name": "Paris",
         "showlegend": true,
         "type": "scattergeo"
        },
        {
         "geo": "geo",
         "hovertemplate": "<b>%{hovertext}</b><br><br>Cities=Calgary<br>Total_Number_of_Olympics=%{marker.size}<br>lat=%{lat}<br>lon=%{lon}<extra></extra>",
         "hovertext": [
          "Calgary"
         ],
         "lat": [
          51.04046
         ],
         "legendgroup": "Calgary",
         "lon": [
          -114.064167
         ],
         "marker": {
          "color": "#FFA15A",
          "size": [
           2639
          ],
          "sizemode": "area",
          "sizeref": 56.065
         },
         "name": "Calgary",
         "showlegend": true,
         "type": "scattergeo"
        },
        {
         "geo": "geo",
         "hovertemplate": "<b>%{hovertext}</b><br><br>Cities=Albertville<br>Total_Number_of_Olympics=%{marker.size}<br>lat=%{lat}<br>lon=%{lon}<extra></extra>",
         "hovertext": [
          "Albertville"
         ],
         "lat": [
          45.670448
         ],
         "legendgroup": "Albertville",
         "lon": [
          6.396301
         ],
         "marker": {
          "color": "#19d3f3",
          "size": [
           3436
          ],
          "sizemode": "area",
          "sizeref": 56.065
         },
         "name": "Albertville",
         "showlegend": true,
         "type": "scattergeo"
        },
        {
         "geo": "geo",
         "hovertemplate": "<b>%{hovertext}</b><br><br>Cities=Lillehammer<br>Total_Number_of_Olympics=%{marker.size}<br>lat=%{lat}<br>lon=%{lon}<extra></extra>",
         "hovertext": [
          "Lillehammer"
         ],
         "lat": [
          61.115244
         ],
         "legendgroup": "Lillehammer",
         "lon": [
          10.466263
         ],
         "marker": {
          "color": "#FF6692",
          "size": [
           3160
          ],
          "sizemode": "area",
          "sizeref": 56.065
         },
         "name": "Lillehammer",
         "showlegend": true,
         "type": "scattergeo"
        },
        {
         "geo": "geo",
         "hovertemplate": "<b>%{hovertext}</b><br><br>Cities=Los Angeles<br>Total_Number_of_Olympics=%{marker.size}<br>lat=%{lat}<br>lon=%{lon}<extra></extra>",
         "hovertext": [
          "Los Angeles"
         ],
         "lat": [
          34.075611
         ],
         "legendgroup": "Los Angeles",
         "lon": [
          -118.297007
         ],
         "marker": {
          "color": "#B6E880",
          "size": [
           12423
          ],
          "sizemode": "area",
          "sizeref": 56.065
         },
         "name": "Los Angeles",
         "showlegend": true,
         "type": "scattergeo"
        },
        {
         "geo": "geo",
         "hovertemplate": "<b>%{hovertext}</b><br><br>Cities=Salt Lake City<br>Total_Number_of_Olympics=%{marker.size}<br>lat=%{lat}<br>lon=%{lon}<extra></extra>",
         "hovertext": [
          "Salt Lake City"
         ],
         "lat": [
          40.754621
         ],
         "legendgroup": "Salt Lake City",
         "lon": [
          -111.902293
         ],
         "marker": {
          "color": "#FF97FF",
          "size": [
           4109
          ],
          "sizemode": "area",
          "sizeref": 56.065
         },
         "name": "Salt Lake City",
         "showlegend": true,
         "type": "scattergeo"
        },
        {
         "geo": "geo",
         "hovertemplate": "<b>%{hovertext}</b><br><br>Cities=Helsinki<br>Total_Number_of_Olympics=%{marker.size}<br>lat=%{lat}<br>lon=%{lon}<extra></extra>",
         "hovertext": [
          "Helsinki"
         ],
         "lat": [
          60.169846
         ],
         "legendgroup": "Helsinki",
         "lon": [
          24.938383
         ],
         "marker": {
          "color": "#FECB52",
          "size": [
           8270
          ],
          "sizemode": "area",
          "sizeref": 56.065
         },
         "name": "Helsinki",
         "showlegend": true,
         "type": "scattergeo"
        },
        {
         "geo": "geo",
         "hovertemplate": "<b>%{hovertext}</b><br><br>Cities=Lake Placid<br>Total_Number_of_Olympics=%{marker.size}<br>lat=%{lat}<br>lon=%{lon}<extra></extra>",
         "hovertext": [
          "Lake Placid"
         ],
         "lat": [
          44.277978
         ],
         "legendgroup": "Lake Placid",
         "lon": [
          -73.983374
         ],
         "marker": {
          "color": "#636efa",
          "size": [
           2098
          ],
          "sizemode": "area",
          "sizeref": 56.065
         },
         "name": "Lake Placid",
         "showlegend": true,
         "type": "scattergeo"
        },
        {
         "geo": "geo",
         "hovertemplate": "<b>%{hovertext}</b><br><br>Cities=Sydney<br>Total_Number_of_Olympics=%{marker.size}<br>lat=%{lat}<br>lon=%{lon}<extra></extra>",
         "hovertext": [
          "Sydney"
         ],
         "lat": [
          -33.877757
         ],
         "legendgroup": "Sydney",
         "lon": [
          151.210423
         ],
         "marker": {
          "color": "#EF553B",
          "size": [
           13821
          ],
          "sizemode": "area",
          "sizeref": 56.065
         },
         "name": "Sydney",
         "showlegend": true,
         "type": "scattergeo"
        },
        {
         "geo": "geo",
         "hovertemplate": "<b>%{hovertext}</b><br><br>Cities=Atlanta<br>Total_Number_of_Olympics=%{marker.size}<br>lat=%{lat}<br>lon=%{lon}<extra></extra>",
         "hovertext": [
          "Atlanta"
         ],
         "lat": [
          33.761983
         ],
         "legendgroup": "Atlanta",
         "lon": [
          -84.394615
         ],
         "marker": {
          "color": "#00cc96",
          "size": [
           13780
          ],
          "sizemode": "area",
          "sizeref": 56.065
         },
         "name": "Atlanta",
         "showlegend": true,
         "type": "scattergeo"
        },
        {
         "geo": "geo",
         "hovertemplate": "<b>%{hovertext}</b><br><br>Cities=Stockholm<br>Total_Number_of_Olympics=%{marker.size}<br>lat=%{lat}<br>lon=%{lon}<extra></extra>",
         "hovertext": [
          "Stockholm"
         ],
         "lat": [
          59.329344
         ],
         "legendgroup": "Stockholm",
         "lon": [
          18.068761
         ],
         "marker": {
          "color": "#ab63fa",
          "size": [
           4338
          ],
          "sizemode": "area",
          "sizeref": 56.065
         },
         "name": "Stockholm",
         "showlegend": true,
         "type": "scattergeo"
        },
        {
         "geo": "geo",
         "hovertemplate": "<b>%{hovertext}</b><br><br>Cities=Sochi<br>Total_Number_of_Olympics=%{marker.size}<br>lat=%{lat}<br>lon=%{lon}<extra></extra>",
         "hovertext": [
          "Sochi"
         ],
         "lat": [
          43.586784
         ],
         "legendgroup": "Sochi",
         "lon": [
          39.721302
         ],
         "marker": {
          "color": "#FFA15A",
          "size": [
           4891
          ],
          "sizemode": "area",
          "sizeref": 56.065
         },
         "name": "Sochi",
         "showlegend": true,
         "type": "scattergeo"
        },
        {
         "geo": "geo",
         "hovertemplate": "<b>%{hovertext}</b><br><br>Cities=Nagano<br>Total_Number_of_Olympics=%{marker.size}<br>lat=%{lat}<br>lon=%{lon}<extra></extra>",
         "hovertext": [
          "Nagano"
         ],
         "lat": [
          36.639257
         ],
         "legendgroup": "Nagano",
         "lon": [
          138.139658
         ],
         "marker": {
          "color": "#19d3f3",
          "size": [
           3605
          ],
          "sizemode": "area",
          "sizeref": 56.065
         },
         "name": "Nagano",
         "showlegend": true,
         "type": "scattergeo"
        },
        {
         "geo": "geo",
         "hovertemplate": "<b>%{hovertext}</b><br><br>Cities=Torino<br>Total_Number_of_Olympics=%{marker.size}<br>lat=%{lat}<br>lon=%{lon}<extra></extra>",
         "hovertext": [
          "Torino"
         ],
         "lat": [
          45.06901
         ],
         "legendgroup": "Torino",
         "lon": [
          7.680472
         ],
         "marker": {
          "color": "#FF6692",
          "size": [
           4382
          ],
          "sizemode": "area",
          "sizeref": 56.065
         },
         "name": "Torino",
         "showlegend": true,
         "type": "scattergeo"
        },
        {
         "geo": "geo",
         "hovertemplate": "<b>%{hovertext}</b><br><br>Cities=Beijing<br>Total_Number_of_Olympics=%{marker.size}<br>lat=%{lat}<br>lon=%{lon}<extra></extra>",
         "hovertext": [
          "Beijing"
         ],
         "lat": [
          39.912139
         ],
         "legendgroup": "Beijing",
         "lon": [
          116.410544
         ],
         "marker": {
          "color": "#B6E880",
          "size": [
           13602
          ],
          "sizemode": "area",
          "sizeref": 56.065
         },
         "name": "Beijing",
         "showlegend": true,
         "type": "scattergeo"
        },
        {
         "geo": "geo",
         "hovertemplate": "<b>%{hovertext}</b><br><br>Cities=Rio de Janeiro<br>Total_Number_of_Olympics=%{marker.size}<br>lat=%{lat}<br>lon=%{lon}<extra></extra>",
         "hovertext": [
          "Rio de Janeiro"
         ],
         "lat": [
          -22.933838
         ],
         "legendgroup": "Rio de Janeiro",
         "lon": [
          -43.203143
         ],
         "marker": {
          "color": "#FF97FF",
          "size": [
           13688
          ],
          "sizemode": "area",
          "sizeref": 56.065
         },
         "name": "Rio de Janeiro",
         "showlegend": true,
         "type": "scattergeo"
        },
        {
         "geo": "geo",
         "hovertemplate": "<b>%{hovertext}</b><br><br>Cities=Athina<br>Total_Number_of_Olympics=%{marker.size}<br>lat=%{lat}<br>lon=%{lon}<extra></extra>",
         "hovertext": [
          "Athina"
         ],
         "lat": [
          37.986588
         ],
         "legendgroup": "Athina",
         "lon": [
          23.727988
         ],
         "marker": {
          "color": "#FECB52",
          "size": [
           15556
          ],
          "sizemode": "area",
          "sizeref": 56.065
         },
         "name": "Athina",
         "showlegend": true,
         "type": "scattergeo"
        },
        {
         "geo": "geo",
         "hovertemplate": "<b>%{hovertext}</b><br><br>Cities=Squaw Valley<br>Total_Number_of_Olympics=%{marker.size}<br>lat=%{lat}<br>lon=%{lon}<extra></extra>",
         "hovertext": [
          "Squaw Valley"
         ],
         "lat": [
          39.197519
         ],
         "legendgroup": "Squaw Valley",
         "lon": [
          -120.235418
         ],
         "marker": {
          "color": "#636efa",
          "size": [
           1116
          ],
          "sizemode": "area",
          "sizeref": 56.065
         },
         "name": "Squaw Valley",
         "showlegend": true,
         "type": "scattergeo"
        },
        {
         "geo": "geo",
         "hovertemplate": "<b>%{hovertext}</b><br><br>Cities=Innsbruck<br>Total_Number_of_Olympics=%{marker.size}<br>lat=%{lat}<br>lon=%{lon}<extra></extra>",
         "hovertext": [
          "Innsbruck"
         ],
         "lat": [
          47.287108
         ],
         "legendgroup": "Innsbruck",
         "lon": [
          11.3654
         ],
         "marker": {
          "color": "#EF553B",
          "size": [
           3639
          ],
          "sizemode": "area",
          "sizeref": 56.065
         },
         "name": "Innsbruck",
         "showlegend": true,
         "type": "scattergeo"
        },
        {
         "geo": "geo",
         "hovertemplate": "<b>%{hovertext}</b><br><br>Cities=Sarajevo<br>Total_Number_of_Olympics=%{marker.size}<br>lat=%{lat}<br>lon=%{lon}<extra></extra>",
         "hovertext": [
          "Sarajevo"
         ],
         "lat": [
          43.871561
         ],
         "legendgroup": "Sarajevo",
         "lon": [
          18.415122
         ],
         "marker": {
          "color": "#00cc96",
          "size": [
           2134
          ],
          "sizemode": "area",
          "sizeref": 56.065
         },
         "name": "Sarajevo",
         "showlegend": true,
         "type": "scattergeo"
        },
        {
         "geo": "geo",
         "hovertemplate": "<b>%{hovertext}</b><br><br>Cities=Mexico City<br>Total_Number_of_Olympics=%{marker.size}<br>lat=%{lat}<br>lon=%{lon}<extra></extra>",
         "hovertext": [
          "Mexico City"
         ],
         "lat": [
          19.404394
         ],
         "legendgroup": "Mexico City",
         "lon": [
          -99.160998
         ],
         "marker": {
          "color": "#ab63fa",
          "size": [
           8588
          ],
          "sizemode": "area",
          "sizeref": 56.065
         },
         "name": "Mexico City",
         "showlegend": true,
         "type": "scattergeo"
        },
        {
         "geo": "geo",
         "hovertemplate": "<b>%{hovertext}</b><br><br>Cities=Munich<br>Total_Number_of_Olympics=%{marker.size}<br>lat=%{lat}<br>lon=%{lon}<extra></extra>",
         "hovertext": [
          "Munich"
         ],
         "lat": [
          48.15581
         ],
         "legendgroup": "Munich",
         "lon": [
          11.538132
         ],
         "marker": {
          "color": "#FFA15A",
          "size": [
           10304
          ],
          "sizemode": "area",
          "sizeref": 56.065
         },
         "name": "Munich",
         "showlegend": true,
         "type": "scattergeo"
        },
        {
         "geo": "geo",
         "hovertemplate": "<b>%{hovertext}</b><br><br>Cities=Seoul<br>Total_Number_of_Olympics=%{marker.size}<br>lat=%{lat}<br>lon=%{lon}<extra></extra>",
         "hovertext": [
          "Seoul"
         ],
         "lat": [
          37.55101
         ],
         "legendgroup": "Seoul",
         "lon": [
          126.986137
         ],
         "marker": {
          "color": "#19d3f3",
          "size": [
           12037
          ],
          "sizemode": "area",
          "sizeref": 56.065
         },
         "name": "Seoul",
         "showlegend": true,
         "type": "scattergeo"
        },
        {
         "geo": "geo",
         "hovertemplate": "<b>%{hovertext}</b><br><br>Cities=Berlin<br>Total_Number_of_Olympics=%{marker.size}<br>lat=%{lat}<br>lon=%{lon}<extra></extra>",
         "hovertext": [
          "Berlin"
         ],
         "lat": [
          52.513924
         ],
         "legendgroup": "Berlin",
         "lon": [
          13.374411
         ],
         "marker": {
          "color": "#FF6692",
          "size": [
           6506
          ],
          "sizemode": "area",
          "sizeref": 56.065
         },
         "name": "Berlin",
         "showlegend": true,
         "type": "scattergeo"
        },
        {
         "geo": "geo",
         "hovertemplate": "<b>%{hovertext}</b><br><br>Cities=Oslo<br>Total_Number_of_Olympics=%{marker.size}<br>lat=%{lat}<br>lon=%{lon}<extra></extra>",
         "hovertext": [
          "Oslo"
         ],
         "lat": [
          59.913654
         ],
         "legendgroup": "Oslo",
         "lon": [
          10.752023
         ],
         "marker": {
          "color": "#B6E880",
          "size": [
           1088
          ],
          "sizemode": "area",
          "sizeref": 56.065
         },
         "name": "Oslo",
         "showlegend": true,
         "type": "scattergeo"
        },
        {
         "geo": "geo",
         "hovertemplate": "<b>%{hovertext}</b><br><br>Cities=Cortina d'Ampezzo<br>Total_Number_of_Olympics=%{marker.size}<br>lat=%{lat}<br>lon=%{lon}<extra></extra>",
         "hovertext": [
          "Cortina d'Ampezzo"
         ],
         "lat": [
          46.536867
         ],
         "legendgroup": "Cortina d'Ampezzo",
         "lon": [
          12.138926
         ],
         "marker": {
          "color": "#FF97FF",
          "size": [
           1307
          ],
          "sizemode": "area",
          "sizeref": 56.065
         },
         "name": "Cortina d'Ampezzo",
         "showlegend": true,
         "type": "scattergeo"
        },
        {
         "geo": "geo",
         "hovertemplate": "<b>%{hovertext}</b><br><br>Cities=Melbourne<br>Total_Number_of_Olympics=%{marker.size}<br>lat=%{lat}<br>lon=%{lon}<extra></extra>",
         "hovertext": [
          "Melbourne"
         ],
         "lat": [
          -37.815708
         ],
         "legendgroup": "Melbourne",
         "lon": [
          144.96283
         ],
         "marker": {
          "color": "#FECB52",
          "size": [
           4829
          ],
          "sizemode": "area",
          "sizeref": 56.065
         },
         "name": "Melbourne",
         "showlegend": true,
         "type": "scattergeo"
        },
        {
         "geo": "geo",
         "hovertemplate": "<b>%{hovertext}</b><br><br>Cities=Roma<br>Total_Number_of_Olympics=%{marker.size}<br>lat=%{lat}<br>lon=%{lon}<extra></extra>",
         "hovertext": [
          "Roma"
         ],
         "lat": [
          41.889501
         ],
         "legendgroup": "Roma",
         "lon": [
          12.495944
         ],
         "marker": {
          "color": "#636efa",
          "size": [
           8119
          ],
          "sizemode": "area",
          "sizeref": 56.065
         },
         "name": "Roma",
         "showlegend": true,
         "type": "scattergeo"
        },
        {
         "geo": "geo",
         "hovertemplate": "<b>%{hovertext}</b><br><br>Cities=Amsterdam<br>Total_Number_of_Olympics=%{marker.size}<br>lat=%{lat}<br>lon=%{lon}<extra></extra>",
         "hovertext": [
          "Amsterdam"
         ],
         "lat": [
          52.368971
         ],
         "legendgroup": "Amsterdam",
         "lon": [
          4.87065
         ],
         "marker": {
          "color": "#EF553B",
          "size": [
           4992
          ],
          "sizemode": "area",
          "sizeref": 56.065
         },
         "name": "Amsterdam",
         "showlegend": true,
         "type": "scattergeo"
        },
        {
         "geo": "geo",
         "hovertemplate": "<b>%{hovertext}</b><br><br>Cities=Montreal<br>Total_Number_of_Olympics=%{marker.size}<br>lat=%{lat}<br>lon=%{lon}<extra></extra>",
         "hovertext": [
          "Montreal"
         ],
         "lat": [
          45.536212
         ],
         "legendgroup": "Montreal",
         "lon": [
          -73.629094
         ],
         "marker": {
          "color": "#00cc96",
          "size": [
           8641
          ],
          "sizemode": "area",
          "sizeref": 56.065
         },
         "name": "Montreal",
         "showlegend": true,
         "type": "scattergeo"
        },
        {
         "geo": "geo",
         "hovertemplate": "<b>%{hovertext}</b><br><br>Cities=Moskva<br>Total_Number_of_Olympics=%{marker.size}<br>lat=%{lat}<br>lon=%{lon}<extra></extra>",
         "hovertext": [
          "Moskva"
         ],
         "lat": [
          55.745989
         ],
         "legendgroup": "Moskva",
         "lon": [
          37.621592
         ],
         "marker": {
          "color": "#ab63fa",
          "size": [
           7191
          ],
          "sizemode": "area",
          "sizeref": 56.065
         },
         "name": "Moskva",
         "showlegend": true,
         "type": "scattergeo"
        },
        {
         "geo": "geo",
         "hovertemplate": "<b>%{hovertext}</b><br><br>Cities=Tokyo<br>Total_Number_of_Olympics=%{marker.size}<br>lat=%{lat}<br>lon=%{lon}<extra></extra>",
         "hovertext": [
          "Tokyo"
         ],
         "lat": [
          35.676647
         ],
         "legendgroup": "Tokyo",
         "lon": [
          139.656742
         ],
         "marker": {
          "color": "#FFA15A",
          "size": [
           7702
          ],
          "sizemode": "area",
          "sizeref": 56.065
         },
         "name": "Tokyo",
         "showlegend": true,
         "type": "scattergeo"
        },
        {
         "geo": "geo",
         "hovertemplate": "<b>%{hovertext}</b><br><br>Cities=Vancouver<br>Total_Number_of_Olympics=%{marker.size}<br>lat=%{lat}<br>lon=%{lon}<extra></extra>",
         "hovertext": [
          "Vancouver"
         ],
         "lat": [
          49.24428
         ],
         "legendgroup": "Vancouver",
         "lon": [
          -123.11561
         ],
         "marker": {
          "color": "#19d3f3",
          "size": [
           4402
          ],
          "sizemode": "area",
          "sizeref": 56.065
         },
         "name": "Vancouver",
         "showlegend": true,
         "type": "scattergeo"
        },
        {
         "geo": "geo",
         "hovertemplate": "<b>%{hovertext}</b><br><br>Cities=Grenoble<br>Total_Number_of_Olympics=%{marker.size}<br>lat=%{lat}<br>lon=%{lon}<extra></extra>",
         "hovertext": [
          "Grenoble"
         ],
         "lat": [
          45.182241
         ],
         "legendgroup": "Grenoble",
         "lon": [
          5.724209
         ],
         "marker": {
          "color": "#FF6692",
          "size": [
           1891
          ],
          "sizemode": "area",
          "sizeref": 56.065
         },
         "name": "Grenoble",
         "showlegend": true,
         "type": "scattergeo"
        },
        {
         "geo": "geo",
         "hovertemplate": "<b>%{hovertext}</b><br><br>Cities=Sapporo<br>Total_Number_of_Olympics=%{marker.size}<br>lat=%{lat}<br>lon=%{lon}<extra></extra>",
         "hovertext": [
          "Sapporo"
         ],
         "lat": [
          42.974103
         ],
         "legendgroup": "Sapporo",
         "lon": [
          141.310834
         ],
         "marker": {
          "color": "#B6E880",
          "size": [
           1655
          ],
          "sizemode": "area",
          "sizeref": 56.065
         },
         "name": "Sapporo",
         "showlegend": true,
         "type": "scattergeo"
        },
        {
         "geo": "geo",
         "hovertemplate": "<b>%{hovertext}</b><br><br>Cities=Chamonix<br>Total_Number_of_Olympics=%{marker.size}<br>lat=%{lat}<br>lon=%{lon}<extra></extra>",
         "hovertext": [
          "Chamonix"
         ],
         "lat": [
          45.927709
         ],
         "legendgroup": "Chamonix",
         "lon": [
          6.890412
         ],
         "marker": {
          "color": "#FF97FF",
          "size": [
           460
          ],
          "sizemode": "area",
          "sizeref": 56.065
         },
         "name": "Chamonix",
         "showlegend": true,
         "type": "scattergeo"
        },
        {
         "geo": "geo",
         "hovertemplate": "<b>%{hovertext}</b><br><br>Cities=St. Louis<br>Total_Number_of_Olympics=%{marker.size}<br>lat=%{lat}<br>lon=%{lon}<extra></extra>",
         "hovertext": [
          "St. Louis"
         ],
         "lat": [
          47.602718
         ],
         "legendgroup": "St. Louis",
         "lon": [
          7.542398
         ],
         "marker": {
          "color": "#FECB52",
          "size": [
           1301
          ],
          "sizemode": "area",
          "sizeref": 56.065
         },
         "name": "St. Louis",
         "showlegend": true,
         "type": "scattergeo"
        },
        {
         "geo": "geo",
         "hovertemplate": "<b>%{hovertext}</b><br><br>Cities=Sankt Moritz<br>Total_Number_of_Olympics=%{marker.size}<br>lat=%{lat}<br>lon=%{lon}<extra></extra>",
         "hovertext": [
          "Sankt Moritz"
         ],
         "lat": [
          46.500265
         ],
         "legendgroup": "Sankt Moritz",
         "lon": [
          9.816901
         ],
         "marker": {
          "color": "#636efa",
          "size": [
           1657
          ],
          "sizemode": "area",
          "sizeref": 56.065
         },
         "name": "Sankt Moritz",
         "showlegend": true,
         "type": "scattergeo"
        },
        {
         "geo": "geo",
         "hovertemplate": "<b>%{hovertext}</b><br><br>Cities=Garmisch-Partenkirchen<br>Total_Number_of_Olympics=%{marker.size}<br>lat=%{lat}<br>lon=%{lon}<extra></extra>",
         "hovertext": [
          "Garmisch-Partenkirchen"
         ],
         "lat": [
          47.489244
         ],
         "legendgroup": "Garmisch-Partenkirchen",
         "lon": [
          11.09346
         ],
         "marker": {
          "color": "#EF553B",
          "size": [
           895
          ],
          "sizemode": "area",
          "sizeref": 56.065
         },
         "name": "Garmisch-Partenkirchen",
         "showlegend": true,
         "type": "scattergeo"
        }
       ],
       "layout": {
        "geo": {
         "center": {},
         "domain": {
          "x": [
           0,
           1
          ],
          "y": [
           0,
           1
          ]
         },
         "projection": {
          "type": "natural earth"
         }
        },
        "legend": {
         "itemsizing": "constant",
         "title": {
          "text": "Cities"
         },
         "tracegroupgap": 0
        },
        "margin": {
         "t": 60
        },
        "template": {
         "data": {
          "bar": [
           {
            "error_x": {
             "color": "#2a3f5f"
            },
            "error_y": {
             "color": "#2a3f5f"
            },
            "marker": {
             "line": {
              "color": "#E5ECF6",
              "width": 0.5
             }
            },
            "type": "bar"
           }
          ],
          "barpolar": [
           {
            "marker": {
             "line": {
              "color": "#E5ECF6",
              "width": 0.5
             }
            },
            "type": "barpolar"
           }
          ],
          "carpet": [
           {
            "aaxis": {
             "endlinecolor": "#2a3f5f",
             "gridcolor": "white",
             "linecolor": "white",
             "minorgridcolor": "white",
             "startlinecolor": "#2a3f5f"
            },
            "baxis": {
             "endlinecolor": "#2a3f5f",
             "gridcolor": "white",
             "linecolor": "white",
             "minorgridcolor": "white",
             "startlinecolor": "#2a3f5f"
            },
            "type": "carpet"
           }
          ],
          "choropleth": [
           {
            "colorbar": {
             "outlinewidth": 0,
             "ticks": ""
            },
            "type": "choropleth"
           }
          ],
          "contour": [
           {
            "colorbar": {
             "outlinewidth": 0,
             "ticks": ""
            },
            "colorscale": [
             [
              0,
              "#0d0887"
             ],
             [
              0.1111111111111111,
              "#46039f"
             ],
             [
              0.2222222222222222,
              "#7201a8"
             ],
             [
              0.3333333333333333,
              "#9c179e"
             ],
             [
              0.4444444444444444,
              "#bd3786"
             ],
             [
              0.5555555555555556,
              "#d8576b"
             ],
             [
              0.6666666666666666,
              "#ed7953"
             ],
             [
              0.7777777777777778,
              "#fb9f3a"
             ],
             [
              0.8888888888888888,
              "#fdca26"
             ],
             [
              1,
              "#f0f921"
             ]
            ],
            "type": "contour"
           }
          ],
          "contourcarpet": [
           {
            "colorbar": {
             "outlinewidth": 0,
             "ticks": ""
            },
            "type": "contourcarpet"
           }
          ],
          "heatmap": [
           {
            "colorbar": {
             "outlinewidth": 0,
             "ticks": ""
            },
            "colorscale": [
             [
              0,
              "#0d0887"
             ],
             [
              0.1111111111111111,
              "#46039f"
             ],
             [
              0.2222222222222222,
              "#7201a8"
             ],
             [
              0.3333333333333333,
              "#9c179e"
             ],
             [
              0.4444444444444444,
              "#bd3786"
             ],
             [
              0.5555555555555556,
              "#d8576b"
             ],
             [
              0.6666666666666666,
              "#ed7953"
             ],
             [
              0.7777777777777778,
              "#fb9f3a"
             ],
             [
              0.8888888888888888,
              "#fdca26"
             ],
             [
              1,
              "#f0f921"
             ]
            ],
            "type": "heatmap"
           }
          ],
          "heatmapgl": [
           {
            "colorbar": {
             "outlinewidth": 0,
             "ticks": ""
            },
            "colorscale": [
             [
              0,
              "#0d0887"
             ],
             [
              0.1111111111111111,
              "#46039f"
             ],
             [
              0.2222222222222222,
              "#7201a8"
             ],
             [
              0.3333333333333333,
              "#9c179e"
             ],
             [
              0.4444444444444444,
              "#bd3786"
             ],
             [
              0.5555555555555556,
              "#d8576b"
             ],
             [
              0.6666666666666666,
              "#ed7953"
             ],
             [
              0.7777777777777778,
              "#fb9f3a"
             ],
             [
              0.8888888888888888,
              "#fdca26"
             ],
             [
              1,
              "#f0f921"
             ]
            ],
            "type": "heatmapgl"
           }
          ],
          "histogram": [
           {
            "marker": {
             "colorbar": {
              "outlinewidth": 0,
              "ticks": ""
             }
            },
            "type": "histogram"
           }
          ],
          "histogram2d": [
           {
            "colorbar": {
             "outlinewidth": 0,
             "ticks": ""
            },
            "colorscale": [
             [
              0,
              "#0d0887"
             ],
             [
              0.1111111111111111,
              "#46039f"
             ],
             [
              0.2222222222222222,
              "#7201a8"
             ],
             [
              0.3333333333333333,
              "#9c179e"
             ],
             [
              0.4444444444444444,
              "#bd3786"
             ],
             [
              0.5555555555555556,
              "#d8576b"
             ],
             [
              0.6666666666666666,
              "#ed7953"
             ],
             [
              0.7777777777777778,
              "#fb9f3a"
             ],
             [
              0.8888888888888888,
              "#fdca26"
             ],
             [
              1,
              "#f0f921"
             ]
            ],
            "type": "histogram2d"
           }
          ],
          "histogram2dcontour": [
           {
            "colorbar": {
             "outlinewidth": 0,
             "ticks": ""
            },
            "colorscale": [
             [
              0,
              "#0d0887"
             ],
             [
              0.1111111111111111,
              "#46039f"
             ],
             [
              0.2222222222222222,
              "#7201a8"
             ],
             [
              0.3333333333333333,
              "#9c179e"
             ],
             [
              0.4444444444444444,
              "#bd3786"
             ],
             [
              0.5555555555555556,
              "#d8576b"
             ],
             [
              0.6666666666666666,
              "#ed7953"
             ],
             [
              0.7777777777777778,
              "#fb9f3a"
             ],
             [
              0.8888888888888888,
              "#fdca26"
             ],
             [
              1,
              "#f0f921"
             ]
            ],
            "type": "histogram2dcontour"
           }
          ],
          "mesh3d": [
           {
            "colorbar": {
             "outlinewidth": 0,
             "ticks": ""
            },
            "type": "mesh3d"
           }
          ],
          "parcoords": [
           {
            "line": {
             "colorbar": {
              "outlinewidth": 0,
              "ticks": ""
             }
            },
            "type": "parcoords"
           }
          ],
          "pie": [
           {
            "automargin": true,
            "type": "pie"
           }
          ],
          "scatter": [
           {
            "marker": {
             "colorbar": {
              "outlinewidth": 0,
              "ticks": ""
             }
            },
            "type": "scatter"
           }
          ],
          "scatter3d": [
           {
            "line": {
             "colorbar": {
              "outlinewidth": 0,
              "ticks": ""
             }
            },
            "marker": {
             "colorbar": {
              "outlinewidth": 0,
              "ticks": ""
             }
            },
            "type": "scatter3d"
           }
          ],
          "scattercarpet": [
           {
            "marker": {
             "colorbar": {
              "outlinewidth": 0,
              "ticks": ""
             }
            },
            "type": "scattercarpet"
           }
          ],
          "scattergeo": [
           {
            "marker": {
             "colorbar": {
              "outlinewidth": 0,
              "ticks": ""
             }
            },
            "type": "scattergeo"
           }
          ],
          "scattergl": [
           {
            "marker": {
             "colorbar": {
              "outlinewidth": 0,
              "ticks": ""
             }
            },
            "type": "scattergl"
           }
          ],
          "scattermapbox": [
           {
            "marker": {
             "colorbar": {
              "outlinewidth": 0,
              "ticks": ""
             }
            },
            "type": "scattermapbox"
           }
          ],
          "scatterpolar": [
           {
            "marker": {
             "colorbar": {
              "outlinewidth": 0,
              "ticks": ""
             }
            },
            "type": "scatterpolar"
           }
          ],
          "scatterpolargl": [
           {
            "marker": {
             "colorbar": {
              "outlinewidth": 0,
              "ticks": ""
             }
            },
            "type": "scatterpolargl"
           }
          ],
          "scatterternary": [
           {
            "marker": {
             "colorbar": {
              "outlinewidth": 0,
              "ticks": ""
             }
            },
            "type": "scatterternary"
           }
          ],
          "surface": [
           {
            "colorbar": {
             "outlinewidth": 0,
             "ticks": ""
            },
            "colorscale": [
             [
              0,
              "#0d0887"
             ],
             [
              0.1111111111111111,
              "#46039f"
             ],
             [
              0.2222222222222222,
              "#7201a8"
             ],
             [
              0.3333333333333333,
              "#9c179e"
             ],
             [
              0.4444444444444444,
              "#bd3786"
             ],
             [
              0.5555555555555556,
              "#d8576b"
             ],
             [
              0.6666666666666666,
              "#ed7953"
             ],
             [
              0.7777777777777778,
              "#fb9f3a"
             ],
             [
              0.8888888888888888,
              "#fdca26"
             ],
             [
              1,
              "#f0f921"
             ]
            ],
            "type": "surface"
           }
          ],
          "table": [
           {
            "cells": {
             "fill": {
              "color": "#EBF0F8"
             },
             "line": {
              "color": "white"
             }
            },
            "header": {
             "fill": {
              "color": "#C8D4E3"
             },
             "line": {
              "color": "white"
             }
            },
            "type": "table"
           }
          ]
         },
         "layout": {
          "annotationdefaults": {
           "arrowcolor": "#2a3f5f",
           "arrowhead": 0,
           "arrowwidth": 1
          },
          "coloraxis": {
           "colorbar": {
            "outlinewidth": 0,
            "ticks": ""
           }
          },
          "colorscale": {
           "diverging": [
            [
             0,
             "#8e0152"
            ],
            [
             0.1,
             "#c51b7d"
            ],
            [
             0.2,
             "#de77ae"
            ],
            [
             0.3,
             "#f1b6da"
            ],
            [
             0.4,
             "#fde0ef"
            ],
            [
             0.5,
             "#f7f7f7"
            ],
            [
             0.6,
             "#e6f5d0"
            ],
            [
             0.7,
             "#b8e186"
            ],
            [
             0.8,
             "#7fbc41"
            ],
            [
             0.9,
             "#4d9221"
            ],
            [
             1,
             "#276419"
            ]
           ],
           "sequential": [
            [
             0,
             "#0d0887"
            ],
            [
             0.1111111111111111,
             "#46039f"
            ],
            [
             0.2222222222222222,
             "#7201a8"
            ],
            [
             0.3333333333333333,
             "#9c179e"
            ],
            [
             0.4444444444444444,
             "#bd3786"
            ],
            [
             0.5555555555555556,
             "#d8576b"
            ],
            [
             0.6666666666666666,
             "#ed7953"
            ],
            [
             0.7777777777777778,
             "#fb9f3a"
            ],
            [
             0.8888888888888888,
             "#fdca26"
            ],
            [
             1,
             "#f0f921"
            ]
           ],
           "sequentialminus": [
            [
             0,
             "#0d0887"
            ],
            [
             0.1111111111111111,
             "#46039f"
            ],
            [
             0.2222222222222222,
             "#7201a8"
            ],
            [
             0.3333333333333333,
             "#9c179e"
            ],
            [
             0.4444444444444444,
             "#bd3786"
            ],
            [
             0.5555555555555556,
             "#d8576b"
            ],
            [
             0.6666666666666666,
             "#ed7953"
            ],
            [
             0.7777777777777778,
             "#fb9f3a"
            ],
            [
             0.8888888888888888,
             "#fdca26"
            ],
            [
             1,
             "#f0f921"
            ]
           ]
          },
          "colorway": [
           "#636efa",
           "#EF553B",
           "#00cc96",
           "#ab63fa",
           "#FFA15A",
           "#19d3f3",
           "#FF6692",
           "#B6E880",
           "#FF97FF",
           "#FECB52"
          ],
          "font": {
           "color": "#2a3f5f"
          },
          "geo": {
           "bgcolor": "white",
           "lakecolor": "white",
           "landcolor": "#E5ECF6",
           "showlakes": true,
           "showland": true,
           "subunitcolor": "white"
          },
          "hoverlabel": {
           "align": "left"
          },
          "hovermode": "closest",
          "mapbox": {
           "style": "light"
          },
          "paper_bgcolor": "white",
          "plot_bgcolor": "#E5ECF6",
          "polar": {
           "angularaxis": {
            "gridcolor": "white",
            "linecolor": "white",
            "ticks": ""
           },
           "bgcolor": "#E5ECF6",
           "radialaxis": {
            "gridcolor": "white",
            "linecolor": "white",
            "ticks": ""
           }
          },
          "scene": {
           "xaxis": {
            "backgroundcolor": "#E5ECF6",
            "gridcolor": "white",
            "gridwidth": 2,
            "linecolor": "white",
            "showbackground": true,
            "ticks": "",
            "zerolinecolor": "white"
           },
           "yaxis": {
            "backgroundcolor": "#E5ECF6",
            "gridcolor": "white",
            "gridwidth": 2,
            "linecolor": "white",
            "showbackground": true,
            "ticks": "",
            "zerolinecolor": "white"
           },
           "zaxis": {
            "backgroundcolor": "#E5ECF6",
            "gridcolor": "white",
            "gridwidth": 2,
            "linecolor": "white",
            "showbackground": true,
            "ticks": "",
            "zerolinecolor": "white"
           }
          },
          "shapedefaults": {
           "line": {
            "color": "#2a3f5f"
           }
          },
          "ternary": {
           "aaxis": {
            "gridcolor": "white",
            "linecolor": "white",
            "ticks": ""
           },
           "baxis": {
            "gridcolor": "white",
            "linecolor": "white",
            "ticks": ""
           },
           "bgcolor": "#E5ECF6",
           "caxis": {
            "gridcolor": "white",
            "linecolor": "white",
            "ticks": ""
           }
          },
          "title": {
           "x": 0.05
          },
          "xaxis": {
           "automargin": true,
           "gridcolor": "white",
           "linecolor": "white",
           "ticks": "",
           "title": {
            "standoff": 15
           },
           "zerolinecolor": "white",
           "zerolinewidth": 2
          },
          "yaxis": {
           "automargin": true,
           "gridcolor": "white",
           "linecolor": "white",
           "ticks": "",
           "title": {
            "standoff": 15
           },
           "zerolinecolor": "white",
           "zerolinewidth": 2
          }
         }
        },
        "title": {
         "text": "Number of Olympics which are Hosted by Each Cities",
         "x": 0.45,
         "xanchor": "center",
         "y": 0.95,
         "yanchor": "top"
        }
       }
      },
      "text/html": [
       "<div>                            <div id=\"8ec336c7-12e6-4f1a-8394-502853d38366\" class=\"plotly-graph-div\" style=\"height:525px; width:100%;\"></div>            <script type=\"text/javascript\">                require([\"plotly\"], function(Plotly) {                    window.PLOTLYENV=window.PLOTLYENV || {};                                    if (document.getElementById(\"8ec336c7-12e6-4f1a-8394-502853d38366\")) {                    Plotly.newPlot(                        \"8ec336c7-12e6-4f1a-8394-502853d38366\",                        [{\"geo\": \"geo\", \"hovertemplate\": \"<b>%{hovertext}</b><br><br>Cities=Barcelona<br>Total_Number_of_Olympics=%{marker.size}<br>lat=%{lat}<br>lon=%{lon}<extra></extra>\", \"hovertext\": [\"Barcelona\"], \"lat\": [41.385063], \"legendgroup\": \"Barcelona\", \"lon\": [2.173404], \"marker\": {\"color\": \"#636efa\", \"size\": [12977], \"sizemode\": \"area\", \"sizeref\": 56.065}, \"name\": \"Barcelona\", \"showlegend\": true, \"type\": \"scattergeo\"}, {\"geo\": \"geo\", \"hovertemplate\": \"<b>%{hovertext}</b><br><br>Cities=London<br>Total_Number_of_Olympics=%{marker.size}<br>lat=%{lat}<br>lon=%{lon}<extra></extra>\", \"hovertext\": [\"London\"], \"lat\": [51.507351], \"legendgroup\": \"London\", \"lon\": [-0.12135], \"marker\": {\"color\": \"#EF553B\", \"size\": [22426], \"sizemode\": \"area\", \"sizeref\": 56.065}, \"name\": \"London\", \"showlegend\": true, \"type\": \"scattergeo\"}, {\"geo\": \"geo\", \"hovertemplate\": \"<b>%{hovertext}</b><br><br>Cities=Antwerpen<br>Total_Number_of_Olympics=%{marker.size}<br>lat=%{lat}<br>lon=%{lon}<extra></extra>\", \"hovertext\": [\"Antwerpen\"], \"lat\": [51.219448], \"legendgroup\": \"Antwerpen\", \"lon\": [4.402464], \"marker\": {\"color\": \"#00cc96\", \"size\": [4292], \"sizemode\": \"area\", \"sizeref\": 56.065}, \"name\": \"Antwerpen\", \"showlegend\": true, \"type\": \"scattergeo\"}, {\"geo\": \"geo\", \"hovertemplate\": \"<b>%{hovertext}</b><br><br>Cities=Paris<br>Total_Number_of_Olympics=%{marker.size}<br>lat=%{lat}<br>lon=%{lon}<extra></extra>\", \"hovertext\": [\"Paris\"], \"lat\": [48.856613], \"legendgroup\": \"Paris\", \"lon\": [2.352222], \"marker\": {\"color\": \"#ab63fa\", \"size\": [7169], \"sizemode\": \"area\", \"sizeref\": 56.065}, \"name\": \"Paris\", \"showlegend\": true, \"type\": \"scattergeo\"}, {\"geo\": \"geo\", \"hovertemplate\": \"<b>%{hovertext}</b><br><br>Cities=Calgary<br>Total_Number_of_Olympics=%{marker.size}<br>lat=%{lat}<br>lon=%{lon}<extra></extra>\", \"hovertext\": [\"Calgary\"], \"lat\": [51.04046], \"legendgroup\": \"Calgary\", \"lon\": [-114.064167], \"marker\": {\"color\": \"#FFA15A\", \"size\": [2639], \"sizemode\": \"area\", \"sizeref\": 56.065}, \"name\": \"Calgary\", \"showlegend\": true, \"type\": \"scattergeo\"}, {\"geo\": \"geo\", \"hovertemplate\": \"<b>%{hovertext}</b><br><br>Cities=Albertville<br>Total_Number_of_Olympics=%{marker.size}<br>lat=%{lat}<br>lon=%{lon}<extra></extra>\", \"hovertext\": [\"Albertville\"], \"lat\": [45.670448], \"legendgroup\": \"Albertville\", \"lon\": [6.396301], \"marker\": {\"color\": \"#19d3f3\", \"size\": [3436], \"sizemode\": \"area\", \"sizeref\": 56.065}, \"name\": \"Albertville\", \"showlegend\": true, \"type\": \"scattergeo\"}, {\"geo\": \"geo\", \"hovertemplate\": \"<b>%{hovertext}</b><br><br>Cities=Lillehammer<br>Total_Number_of_Olympics=%{marker.size}<br>lat=%{lat}<br>lon=%{lon}<extra></extra>\", \"hovertext\": [\"Lillehammer\"], \"lat\": [61.115244], \"legendgroup\": \"Lillehammer\", \"lon\": [10.466263], \"marker\": {\"color\": \"#FF6692\", \"size\": [3160], \"sizemode\": \"area\", \"sizeref\": 56.065}, \"name\": \"Lillehammer\", \"showlegend\": true, \"type\": \"scattergeo\"}, {\"geo\": \"geo\", \"hovertemplate\": \"<b>%{hovertext}</b><br><br>Cities=Los Angeles<br>Total_Number_of_Olympics=%{marker.size}<br>lat=%{lat}<br>lon=%{lon}<extra></extra>\", \"hovertext\": [\"Los Angeles\"], \"lat\": [34.075611], \"legendgroup\": \"Los Angeles\", \"lon\": [-118.297007], \"marker\": {\"color\": \"#B6E880\", \"size\": [12423], \"sizemode\": \"area\", \"sizeref\": 56.065}, \"name\": \"Los Angeles\", \"showlegend\": true, \"type\": \"scattergeo\"}, {\"geo\": \"geo\", \"hovertemplate\": \"<b>%{hovertext}</b><br><br>Cities=Salt Lake City<br>Total_Number_of_Olympics=%{marker.size}<br>lat=%{lat}<br>lon=%{lon}<extra></extra>\", \"hovertext\": [\"Salt Lake City\"], \"lat\": [40.754621], \"legendgroup\": \"Salt Lake City\", \"lon\": [-111.902293], \"marker\": {\"color\": \"#FF97FF\", \"size\": [4109], \"sizemode\": \"area\", \"sizeref\": 56.065}, \"name\": \"Salt Lake City\", \"showlegend\": true, \"type\": \"scattergeo\"}, {\"geo\": \"geo\", \"hovertemplate\": \"<b>%{hovertext}</b><br><br>Cities=Helsinki<br>Total_Number_of_Olympics=%{marker.size}<br>lat=%{lat}<br>lon=%{lon}<extra></extra>\", \"hovertext\": [\"Helsinki\"], \"lat\": [60.169846], \"legendgroup\": \"Helsinki\", \"lon\": [24.938383], \"marker\": {\"color\": \"#FECB52\", \"size\": [8270], \"sizemode\": \"area\", \"sizeref\": 56.065}, \"name\": \"Helsinki\", \"showlegend\": true, \"type\": \"scattergeo\"}, {\"geo\": \"geo\", \"hovertemplate\": \"<b>%{hovertext}</b><br><br>Cities=Lake Placid<br>Total_Number_of_Olympics=%{marker.size}<br>lat=%{lat}<br>lon=%{lon}<extra></extra>\", \"hovertext\": [\"Lake Placid\"], \"lat\": [44.277978], \"legendgroup\": \"Lake Placid\", \"lon\": [-73.983374], \"marker\": {\"color\": \"#636efa\", \"size\": [2098], \"sizemode\": \"area\", \"sizeref\": 56.065}, \"name\": \"Lake Placid\", \"showlegend\": true, \"type\": \"scattergeo\"}, {\"geo\": \"geo\", \"hovertemplate\": \"<b>%{hovertext}</b><br><br>Cities=Sydney<br>Total_Number_of_Olympics=%{marker.size}<br>lat=%{lat}<br>lon=%{lon}<extra></extra>\", \"hovertext\": [\"Sydney\"], \"lat\": [-33.877757], \"legendgroup\": \"Sydney\", \"lon\": [151.210423], \"marker\": {\"color\": \"#EF553B\", \"size\": [13821], \"sizemode\": \"area\", \"sizeref\": 56.065}, \"name\": \"Sydney\", \"showlegend\": true, \"type\": \"scattergeo\"}, {\"geo\": \"geo\", \"hovertemplate\": \"<b>%{hovertext}</b><br><br>Cities=Atlanta<br>Total_Number_of_Olympics=%{marker.size}<br>lat=%{lat}<br>lon=%{lon}<extra></extra>\", \"hovertext\": [\"Atlanta\"], \"lat\": [33.761983], \"legendgroup\": \"Atlanta\", \"lon\": [-84.394615], \"marker\": {\"color\": \"#00cc96\", \"size\": [13780], \"sizemode\": \"area\", \"sizeref\": 56.065}, \"name\": \"Atlanta\", \"showlegend\": true, \"type\": \"scattergeo\"}, {\"geo\": \"geo\", \"hovertemplate\": \"<b>%{hovertext}</b><br><br>Cities=Stockholm<br>Total_Number_of_Olympics=%{marker.size}<br>lat=%{lat}<br>lon=%{lon}<extra></extra>\", \"hovertext\": [\"Stockholm\"], \"lat\": [59.329344], \"legendgroup\": \"Stockholm\", \"lon\": [18.068761], \"marker\": {\"color\": \"#ab63fa\", \"size\": [4338], \"sizemode\": \"area\", \"sizeref\": 56.065}, \"name\": \"Stockholm\", \"showlegend\": true, \"type\": \"scattergeo\"}, {\"geo\": \"geo\", \"hovertemplate\": \"<b>%{hovertext}</b><br><br>Cities=Sochi<br>Total_Number_of_Olympics=%{marker.size}<br>lat=%{lat}<br>lon=%{lon}<extra></extra>\", \"hovertext\": [\"Sochi\"], \"lat\": [43.586784], \"legendgroup\": \"Sochi\", \"lon\": [39.721302], \"marker\": {\"color\": \"#FFA15A\", \"size\": [4891], \"sizemode\": \"area\", \"sizeref\": 56.065}, \"name\": \"Sochi\", \"showlegend\": true, \"type\": \"scattergeo\"}, {\"geo\": \"geo\", \"hovertemplate\": \"<b>%{hovertext}</b><br><br>Cities=Nagano<br>Total_Number_of_Olympics=%{marker.size}<br>lat=%{lat}<br>lon=%{lon}<extra></extra>\", \"hovertext\": [\"Nagano\"], \"lat\": [36.639257], \"legendgroup\": \"Nagano\", \"lon\": [138.139658], \"marker\": {\"color\": \"#19d3f3\", \"size\": [3605], \"sizemode\": \"area\", \"sizeref\": 56.065}, \"name\": \"Nagano\", \"showlegend\": true, \"type\": \"scattergeo\"}, {\"geo\": \"geo\", \"hovertemplate\": \"<b>%{hovertext}</b><br><br>Cities=Torino<br>Total_Number_of_Olympics=%{marker.size}<br>lat=%{lat}<br>lon=%{lon}<extra></extra>\", \"hovertext\": [\"Torino\"], \"lat\": [45.06901], \"legendgroup\": \"Torino\", \"lon\": [7.680472], \"marker\": {\"color\": \"#FF6692\", \"size\": [4382], \"sizemode\": \"area\", \"sizeref\": 56.065}, \"name\": \"Torino\", \"showlegend\": true, \"type\": \"scattergeo\"}, {\"geo\": \"geo\", \"hovertemplate\": \"<b>%{hovertext}</b><br><br>Cities=Beijing<br>Total_Number_of_Olympics=%{marker.size}<br>lat=%{lat}<br>lon=%{lon}<extra></extra>\", \"hovertext\": [\"Beijing\"], \"lat\": [39.912139], \"legendgroup\": \"Beijing\", \"lon\": [116.410544], \"marker\": {\"color\": \"#B6E880\", \"size\": [13602], \"sizemode\": \"area\", \"sizeref\": 56.065}, \"name\": \"Beijing\", \"showlegend\": true, \"type\": \"scattergeo\"}, {\"geo\": \"geo\", \"hovertemplate\": \"<b>%{hovertext}</b><br><br>Cities=Rio de Janeiro<br>Total_Number_of_Olympics=%{marker.size}<br>lat=%{lat}<br>lon=%{lon}<extra></extra>\", \"hovertext\": [\"Rio de Janeiro\"], \"lat\": [-22.933838], \"legendgroup\": \"Rio de Janeiro\", \"lon\": [-43.203143], \"marker\": {\"color\": \"#FF97FF\", \"size\": [13688], \"sizemode\": \"area\", \"sizeref\": 56.065}, \"name\": \"Rio de Janeiro\", \"showlegend\": true, \"type\": \"scattergeo\"}, {\"geo\": \"geo\", \"hovertemplate\": \"<b>%{hovertext}</b><br><br>Cities=Athina<br>Total_Number_of_Olympics=%{marker.size}<br>lat=%{lat}<br>lon=%{lon}<extra></extra>\", \"hovertext\": [\"Athina\"], \"lat\": [37.986588], \"legendgroup\": \"Athina\", \"lon\": [23.727988], \"marker\": {\"color\": \"#FECB52\", \"size\": [15556], \"sizemode\": \"area\", \"sizeref\": 56.065}, \"name\": \"Athina\", \"showlegend\": true, \"type\": \"scattergeo\"}, {\"geo\": \"geo\", \"hovertemplate\": \"<b>%{hovertext}</b><br><br>Cities=Squaw Valley<br>Total_Number_of_Olympics=%{marker.size}<br>lat=%{lat}<br>lon=%{lon}<extra></extra>\", \"hovertext\": [\"Squaw Valley\"], \"lat\": [39.197519], \"legendgroup\": \"Squaw Valley\", \"lon\": [-120.235418], \"marker\": {\"color\": \"#636efa\", \"size\": [1116], \"sizemode\": \"area\", \"sizeref\": 56.065}, \"name\": \"Squaw Valley\", \"showlegend\": true, \"type\": \"scattergeo\"}, {\"geo\": \"geo\", \"hovertemplate\": \"<b>%{hovertext}</b><br><br>Cities=Innsbruck<br>Total_Number_of_Olympics=%{marker.size}<br>lat=%{lat}<br>lon=%{lon}<extra></extra>\", \"hovertext\": [\"Innsbruck\"], \"lat\": [47.287108], \"legendgroup\": \"Innsbruck\", \"lon\": [11.3654], \"marker\": {\"color\": \"#EF553B\", \"size\": [3639], \"sizemode\": \"area\", \"sizeref\": 56.065}, \"name\": \"Innsbruck\", \"showlegend\": true, \"type\": \"scattergeo\"}, {\"geo\": \"geo\", \"hovertemplate\": \"<b>%{hovertext}</b><br><br>Cities=Sarajevo<br>Total_Number_of_Olympics=%{marker.size}<br>lat=%{lat}<br>lon=%{lon}<extra></extra>\", \"hovertext\": [\"Sarajevo\"], \"lat\": [43.871561], \"legendgroup\": \"Sarajevo\", \"lon\": [18.415122], \"marker\": {\"color\": \"#00cc96\", \"size\": [2134], \"sizemode\": \"area\", \"sizeref\": 56.065}, \"name\": \"Sarajevo\", \"showlegend\": true, \"type\": \"scattergeo\"}, {\"geo\": \"geo\", \"hovertemplate\": \"<b>%{hovertext}</b><br><br>Cities=Mexico City<br>Total_Number_of_Olympics=%{marker.size}<br>lat=%{lat}<br>lon=%{lon}<extra></extra>\", \"hovertext\": [\"Mexico City\"], \"lat\": [19.404394], \"legendgroup\": \"Mexico City\", \"lon\": [-99.160998], \"marker\": {\"color\": \"#ab63fa\", \"size\": [8588], \"sizemode\": \"area\", \"sizeref\": 56.065}, \"name\": \"Mexico City\", \"showlegend\": true, \"type\": \"scattergeo\"}, {\"geo\": \"geo\", \"hovertemplate\": \"<b>%{hovertext}</b><br><br>Cities=Munich<br>Total_Number_of_Olympics=%{marker.size}<br>lat=%{lat}<br>lon=%{lon}<extra></extra>\", \"hovertext\": [\"Munich\"], \"lat\": [48.15581], \"legendgroup\": \"Munich\", \"lon\": [11.538132], \"marker\": {\"color\": \"#FFA15A\", \"size\": [10304], \"sizemode\": \"area\", \"sizeref\": 56.065}, \"name\": \"Munich\", \"showlegend\": true, \"type\": \"scattergeo\"}, {\"geo\": \"geo\", \"hovertemplate\": \"<b>%{hovertext}</b><br><br>Cities=Seoul<br>Total_Number_of_Olympics=%{marker.size}<br>lat=%{lat}<br>lon=%{lon}<extra></extra>\", \"hovertext\": [\"Seoul\"], \"lat\": [37.55101], \"legendgroup\": \"Seoul\", \"lon\": [126.986137], \"marker\": {\"color\": \"#19d3f3\", \"size\": [12037], \"sizemode\": \"area\", \"sizeref\": 56.065}, \"name\": \"Seoul\", \"showlegend\": true, \"type\": \"scattergeo\"}, {\"geo\": \"geo\", \"hovertemplate\": \"<b>%{hovertext}</b><br><br>Cities=Berlin<br>Total_Number_of_Olympics=%{marker.size}<br>lat=%{lat}<br>lon=%{lon}<extra></extra>\", \"hovertext\": [\"Berlin\"], \"lat\": [52.513924], \"legendgroup\": \"Berlin\", \"lon\": [13.374411], \"marker\": {\"color\": \"#FF6692\", \"size\": [6506], \"sizemode\": \"area\", \"sizeref\": 56.065}, \"name\": \"Berlin\", \"showlegend\": true, \"type\": \"scattergeo\"}, {\"geo\": \"geo\", \"hovertemplate\": \"<b>%{hovertext}</b><br><br>Cities=Oslo<br>Total_Number_of_Olympics=%{marker.size}<br>lat=%{lat}<br>lon=%{lon}<extra></extra>\", \"hovertext\": [\"Oslo\"], \"lat\": [59.913654], \"legendgroup\": \"Oslo\", \"lon\": [10.752023], \"marker\": {\"color\": \"#B6E880\", \"size\": [1088], \"sizemode\": \"area\", \"sizeref\": 56.065}, \"name\": \"Oslo\", \"showlegend\": true, \"type\": \"scattergeo\"}, {\"geo\": \"geo\", \"hovertemplate\": \"<b>%{hovertext}</b><br><br>Cities=Cortina d'Ampezzo<br>Total_Number_of_Olympics=%{marker.size}<br>lat=%{lat}<br>lon=%{lon}<extra></extra>\", \"hovertext\": [\"Cortina d'Ampezzo\"], \"lat\": [46.536867], \"legendgroup\": \"Cortina d'Ampezzo\", \"lon\": [12.138926], \"marker\": {\"color\": \"#FF97FF\", \"size\": [1307], \"sizemode\": \"area\", \"sizeref\": 56.065}, \"name\": \"Cortina d'Ampezzo\", \"showlegend\": true, \"type\": \"scattergeo\"}, {\"geo\": \"geo\", \"hovertemplate\": \"<b>%{hovertext}</b><br><br>Cities=Melbourne<br>Total_Number_of_Olympics=%{marker.size}<br>lat=%{lat}<br>lon=%{lon}<extra></extra>\", \"hovertext\": [\"Melbourne\"], \"lat\": [-37.815708], \"legendgroup\": \"Melbourne\", \"lon\": [144.96283], \"marker\": {\"color\": \"#FECB52\", \"size\": [4829], \"sizemode\": \"area\", \"sizeref\": 56.065}, \"name\": \"Melbourne\", \"showlegend\": true, \"type\": \"scattergeo\"}, {\"geo\": \"geo\", \"hovertemplate\": \"<b>%{hovertext}</b><br><br>Cities=Roma<br>Total_Number_of_Olympics=%{marker.size}<br>lat=%{lat}<br>lon=%{lon}<extra></extra>\", \"hovertext\": [\"Roma\"], \"lat\": [41.889501], \"legendgroup\": \"Roma\", \"lon\": [12.495944], \"marker\": {\"color\": \"#636efa\", \"size\": [8119], \"sizemode\": \"area\", \"sizeref\": 56.065}, \"name\": \"Roma\", \"showlegend\": true, \"type\": \"scattergeo\"}, {\"geo\": \"geo\", \"hovertemplate\": \"<b>%{hovertext}</b><br><br>Cities=Amsterdam<br>Total_Number_of_Olympics=%{marker.size}<br>lat=%{lat}<br>lon=%{lon}<extra></extra>\", \"hovertext\": [\"Amsterdam\"], \"lat\": [52.368971], \"legendgroup\": \"Amsterdam\", \"lon\": [4.87065], \"marker\": {\"color\": \"#EF553B\", \"size\": [4992], \"sizemode\": \"area\", \"sizeref\": 56.065}, \"name\": \"Amsterdam\", \"showlegend\": true, \"type\": \"scattergeo\"}, {\"geo\": \"geo\", \"hovertemplate\": \"<b>%{hovertext}</b><br><br>Cities=Montreal<br>Total_Number_of_Olympics=%{marker.size}<br>lat=%{lat}<br>lon=%{lon}<extra></extra>\", \"hovertext\": [\"Montreal\"], \"lat\": [45.536212], \"legendgroup\": \"Montreal\", \"lon\": [-73.629094], \"marker\": {\"color\": \"#00cc96\", \"size\": [8641], \"sizemode\": \"area\", \"sizeref\": 56.065}, \"name\": \"Montreal\", \"showlegend\": true, \"type\": \"scattergeo\"}, {\"geo\": \"geo\", \"hovertemplate\": \"<b>%{hovertext}</b><br><br>Cities=Moskva<br>Total_Number_of_Olympics=%{marker.size}<br>lat=%{lat}<br>lon=%{lon}<extra></extra>\", \"hovertext\": [\"Moskva\"], \"lat\": [55.745989], \"legendgroup\": \"Moskva\", \"lon\": [37.621592], \"marker\": {\"color\": \"#ab63fa\", \"size\": [7191], \"sizemode\": \"area\", \"sizeref\": 56.065}, \"name\": \"Moskva\", \"showlegend\": true, \"type\": \"scattergeo\"}, {\"geo\": \"geo\", \"hovertemplate\": \"<b>%{hovertext}</b><br><br>Cities=Tokyo<br>Total_Number_of_Olympics=%{marker.size}<br>lat=%{lat}<br>lon=%{lon}<extra></extra>\", \"hovertext\": [\"Tokyo\"], \"lat\": [35.676647], \"legendgroup\": \"Tokyo\", \"lon\": [139.656742], \"marker\": {\"color\": \"#FFA15A\", \"size\": [7702], \"sizemode\": \"area\", \"sizeref\": 56.065}, \"name\": \"Tokyo\", \"showlegend\": true, \"type\": \"scattergeo\"}, {\"geo\": \"geo\", \"hovertemplate\": \"<b>%{hovertext}</b><br><br>Cities=Vancouver<br>Total_Number_of_Olympics=%{marker.size}<br>lat=%{lat}<br>lon=%{lon}<extra></extra>\", \"hovertext\": [\"Vancouver\"], \"lat\": [49.24428], \"legendgroup\": \"Vancouver\", \"lon\": [-123.11561], \"marker\": {\"color\": \"#19d3f3\", \"size\": [4402], \"sizemode\": \"area\", \"sizeref\": 56.065}, \"name\": \"Vancouver\", \"showlegend\": true, \"type\": \"scattergeo\"}, {\"geo\": \"geo\", \"hovertemplate\": \"<b>%{hovertext}</b><br><br>Cities=Grenoble<br>Total_Number_of_Olympics=%{marker.size}<br>lat=%{lat}<br>lon=%{lon}<extra></extra>\", \"hovertext\": [\"Grenoble\"], \"lat\": [45.182241], \"legendgroup\": \"Grenoble\", \"lon\": [5.724209], \"marker\": {\"color\": \"#FF6692\", \"size\": [1891], \"sizemode\": \"area\", \"sizeref\": 56.065}, \"name\": \"Grenoble\", \"showlegend\": true, \"type\": \"scattergeo\"}, {\"geo\": \"geo\", \"hovertemplate\": \"<b>%{hovertext}</b><br><br>Cities=Sapporo<br>Total_Number_of_Olympics=%{marker.size}<br>lat=%{lat}<br>lon=%{lon}<extra></extra>\", \"hovertext\": [\"Sapporo\"], \"lat\": [42.974103], \"legendgroup\": \"Sapporo\", \"lon\": [141.310834], \"marker\": {\"color\": \"#B6E880\", \"size\": [1655], \"sizemode\": \"area\", \"sizeref\": 56.065}, \"name\": \"Sapporo\", \"showlegend\": true, \"type\": \"scattergeo\"}, {\"geo\": \"geo\", \"hovertemplate\": \"<b>%{hovertext}</b><br><br>Cities=Chamonix<br>Total_Number_of_Olympics=%{marker.size}<br>lat=%{lat}<br>lon=%{lon}<extra></extra>\", \"hovertext\": [\"Chamonix\"], \"lat\": [45.927709], \"legendgroup\": \"Chamonix\", \"lon\": [6.890412], \"marker\": {\"color\": \"#FF97FF\", \"size\": [460], \"sizemode\": \"area\", \"sizeref\": 56.065}, \"name\": \"Chamonix\", \"showlegend\": true, \"type\": \"scattergeo\"}, {\"geo\": \"geo\", \"hovertemplate\": \"<b>%{hovertext}</b><br><br>Cities=St. Louis<br>Total_Number_of_Olympics=%{marker.size}<br>lat=%{lat}<br>lon=%{lon}<extra></extra>\", \"hovertext\": [\"St. Louis\"], \"lat\": [47.602718], \"legendgroup\": \"St. Louis\", \"lon\": [7.542398], \"marker\": {\"color\": \"#FECB52\", \"size\": [1301], \"sizemode\": \"area\", \"sizeref\": 56.065}, \"name\": \"St. Louis\", \"showlegend\": true, \"type\": \"scattergeo\"}, {\"geo\": \"geo\", \"hovertemplate\": \"<b>%{hovertext}</b><br><br>Cities=Sankt Moritz<br>Total_Number_of_Olympics=%{marker.size}<br>lat=%{lat}<br>lon=%{lon}<extra></extra>\", \"hovertext\": [\"Sankt Moritz\"], \"lat\": [46.500265], \"legendgroup\": \"Sankt Moritz\", \"lon\": [9.816901], \"marker\": {\"color\": \"#636efa\", \"size\": [1657], \"sizemode\": \"area\", \"sizeref\": 56.065}, \"name\": \"Sankt Moritz\", \"showlegend\": true, \"type\": \"scattergeo\"}, {\"geo\": \"geo\", \"hovertemplate\": \"<b>%{hovertext}</b><br><br>Cities=Garmisch-Partenkirchen<br>Total_Number_of_Olympics=%{marker.size}<br>lat=%{lat}<br>lon=%{lon}<extra></extra>\", \"hovertext\": [\"Garmisch-Partenkirchen\"], \"lat\": [47.489244], \"legendgroup\": \"Garmisch-Partenkirchen\", \"lon\": [11.09346], \"marker\": {\"color\": \"#EF553B\", \"size\": [895], \"sizemode\": \"area\", \"sizeref\": 56.065}, \"name\": \"Garmisch-Partenkirchen\", \"showlegend\": true, \"type\": \"scattergeo\"}],                        {\"geo\": {\"center\": {}, \"domain\": {\"x\": [0.0, 1.0], \"y\": [0.0, 1.0]}, \"projection\": {\"type\": \"natural earth\"}}, \"legend\": {\"itemsizing\": \"constant\", \"title\": {\"text\": \"Cities\"}, \"tracegroupgap\": 0}, \"margin\": {\"t\": 60}, \"template\": {\"data\": {\"bar\": [{\"error_x\": {\"color\": \"#2a3f5f\"}, \"error_y\": {\"color\": \"#2a3f5f\"}, \"marker\": {\"line\": {\"color\": \"#E5ECF6\", \"width\": 0.5}}, \"type\": \"bar\"}], \"barpolar\": [{\"marker\": {\"line\": {\"color\": \"#E5ECF6\", \"width\": 0.5}}, \"type\": \"barpolar\"}], \"carpet\": [{\"aaxis\": {\"endlinecolor\": \"#2a3f5f\", \"gridcolor\": \"white\", \"linecolor\": \"white\", \"minorgridcolor\": \"white\", \"startlinecolor\": \"#2a3f5f\"}, \"baxis\": {\"endlinecolor\": \"#2a3f5f\", \"gridcolor\": \"white\", \"linecolor\": \"white\", \"minorgridcolor\": \"white\", \"startlinecolor\": \"#2a3f5f\"}, \"type\": \"carpet\"}], \"choropleth\": [{\"colorbar\": {\"outlinewidth\": 0, \"ticks\": \"\"}, \"type\": \"choropleth\"}], \"contour\": [{\"colorbar\": {\"outlinewidth\": 0, \"ticks\": \"\"}, \"colorscale\": [[0.0, \"#0d0887\"], [0.1111111111111111, \"#46039f\"], [0.2222222222222222, \"#7201a8\"], [0.3333333333333333, \"#9c179e\"], [0.4444444444444444, \"#bd3786\"], [0.5555555555555556, \"#d8576b\"], [0.6666666666666666, \"#ed7953\"], [0.7777777777777778, \"#fb9f3a\"], [0.8888888888888888, \"#fdca26\"], [1.0, \"#f0f921\"]], \"type\": \"contour\"}], \"contourcarpet\": [{\"colorbar\": {\"outlinewidth\": 0, \"ticks\": \"\"}, \"type\": \"contourcarpet\"}], \"heatmap\": [{\"colorbar\": {\"outlinewidth\": 0, \"ticks\": \"\"}, \"colorscale\": [[0.0, \"#0d0887\"], [0.1111111111111111, \"#46039f\"], [0.2222222222222222, \"#7201a8\"], [0.3333333333333333, \"#9c179e\"], [0.4444444444444444, \"#bd3786\"], [0.5555555555555556, \"#d8576b\"], [0.6666666666666666, \"#ed7953\"], [0.7777777777777778, \"#fb9f3a\"], [0.8888888888888888, \"#fdca26\"], [1.0, \"#f0f921\"]], \"type\": \"heatmap\"}], \"heatmapgl\": [{\"colorbar\": {\"outlinewidth\": 0, \"ticks\": \"\"}, \"colorscale\": [[0.0, \"#0d0887\"], [0.1111111111111111, \"#46039f\"], [0.2222222222222222, \"#7201a8\"], [0.3333333333333333, \"#9c179e\"], [0.4444444444444444, \"#bd3786\"], [0.5555555555555556, \"#d8576b\"], [0.6666666666666666, \"#ed7953\"], [0.7777777777777778, \"#fb9f3a\"], [0.8888888888888888, \"#fdca26\"], [1.0, \"#f0f921\"]], \"type\": \"heatmapgl\"}], \"histogram\": [{\"marker\": {\"colorbar\": {\"outlinewidth\": 0, \"ticks\": \"\"}}, \"type\": \"histogram\"}], \"histogram2d\": [{\"colorbar\": {\"outlinewidth\": 0, \"ticks\": \"\"}, \"colorscale\": [[0.0, \"#0d0887\"], [0.1111111111111111, \"#46039f\"], [0.2222222222222222, \"#7201a8\"], [0.3333333333333333, \"#9c179e\"], [0.4444444444444444, \"#bd3786\"], [0.5555555555555556, \"#d8576b\"], [0.6666666666666666, \"#ed7953\"], [0.7777777777777778, \"#fb9f3a\"], [0.8888888888888888, \"#fdca26\"], [1.0, \"#f0f921\"]], \"type\": \"histogram2d\"}], \"histogram2dcontour\": [{\"colorbar\": {\"outlinewidth\": 0, \"ticks\": \"\"}, \"colorscale\": [[0.0, \"#0d0887\"], [0.1111111111111111, \"#46039f\"], [0.2222222222222222, \"#7201a8\"], [0.3333333333333333, \"#9c179e\"], [0.4444444444444444, \"#bd3786\"], [0.5555555555555556, \"#d8576b\"], [0.6666666666666666, \"#ed7953\"], [0.7777777777777778, \"#fb9f3a\"], [0.8888888888888888, \"#fdca26\"], [1.0, \"#f0f921\"]], \"type\": \"histogram2dcontour\"}], \"mesh3d\": [{\"colorbar\": {\"outlinewidth\": 0, \"ticks\": \"\"}, \"type\": \"mesh3d\"}], \"parcoords\": [{\"line\": {\"colorbar\": {\"outlinewidth\": 0, \"ticks\": \"\"}}, \"type\": \"parcoords\"}], \"pie\": [{\"automargin\": true, \"type\": \"pie\"}], \"scatter\": [{\"marker\": {\"colorbar\": {\"outlinewidth\": 0, \"ticks\": \"\"}}, \"type\": \"scatter\"}], \"scatter3d\": [{\"line\": {\"colorbar\": {\"outlinewidth\": 0, \"ticks\": \"\"}}, \"marker\": {\"colorbar\": {\"outlinewidth\": 0, \"ticks\": \"\"}}, \"type\": \"scatter3d\"}], \"scattercarpet\": [{\"marker\": {\"colorbar\": {\"outlinewidth\": 0, \"ticks\": \"\"}}, \"type\": \"scattercarpet\"}], \"scattergeo\": [{\"marker\": {\"colorbar\": {\"outlinewidth\": 0, \"ticks\": \"\"}}, \"type\": \"scattergeo\"}], \"scattergl\": [{\"marker\": {\"colorbar\": {\"outlinewidth\": 0, \"ticks\": \"\"}}, \"type\": \"scattergl\"}], \"scattermapbox\": [{\"marker\": {\"colorbar\": {\"outlinewidth\": 0, \"ticks\": \"\"}}, \"type\": \"scattermapbox\"}], \"scatterpolar\": [{\"marker\": {\"colorbar\": {\"outlinewidth\": 0, \"ticks\": \"\"}}, \"type\": \"scatterpolar\"}], \"scatterpolargl\": [{\"marker\": {\"colorbar\": {\"outlinewidth\": 0, \"ticks\": \"\"}}, \"type\": \"scatterpolargl\"}], \"scatterternary\": [{\"marker\": {\"colorbar\": {\"outlinewidth\": 0, \"ticks\": \"\"}}, \"type\": \"scatterternary\"}], \"surface\": [{\"colorbar\": {\"outlinewidth\": 0, \"ticks\": \"\"}, \"colorscale\": [[0.0, \"#0d0887\"], [0.1111111111111111, \"#46039f\"], [0.2222222222222222, \"#7201a8\"], [0.3333333333333333, \"#9c179e\"], [0.4444444444444444, \"#bd3786\"], [0.5555555555555556, \"#d8576b\"], [0.6666666666666666, \"#ed7953\"], [0.7777777777777778, \"#fb9f3a\"], [0.8888888888888888, \"#fdca26\"], [1.0, \"#f0f921\"]], \"type\": \"surface\"}], \"table\": [{\"cells\": {\"fill\": {\"color\": \"#EBF0F8\"}, \"line\": {\"color\": \"white\"}}, \"header\": {\"fill\": {\"color\": \"#C8D4E3\"}, \"line\": {\"color\": \"white\"}}, \"type\": \"table\"}]}, \"layout\": {\"annotationdefaults\": {\"arrowcolor\": \"#2a3f5f\", \"arrowhead\": 0, \"arrowwidth\": 1}, \"coloraxis\": {\"colorbar\": {\"outlinewidth\": 0, \"ticks\": \"\"}}, \"colorscale\": {\"diverging\": [[0, \"#8e0152\"], [0.1, \"#c51b7d\"], [0.2, \"#de77ae\"], [0.3, \"#f1b6da\"], [0.4, \"#fde0ef\"], [0.5, \"#f7f7f7\"], [0.6, \"#e6f5d0\"], [0.7, \"#b8e186\"], [0.8, \"#7fbc41\"], [0.9, \"#4d9221\"], [1, \"#276419\"]], \"sequential\": [[0.0, \"#0d0887\"], [0.1111111111111111, \"#46039f\"], [0.2222222222222222, \"#7201a8\"], [0.3333333333333333, \"#9c179e\"], [0.4444444444444444, \"#bd3786\"], [0.5555555555555556, \"#d8576b\"], [0.6666666666666666, \"#ed7953\"], [0.7777777777777778, \"#fb9f3a\"], [0.8888888888888888, \"#fdca26\"], [1.0, \"#f0f921\"]], \"sequentialminus\": [[0.0, \"#0d0887\"], [0.1111111111111111, \"#46039f\"], [0.2222222222222222, \"#7201a8\"], [0.3333333333333333, \"#9c179e\"], [0.4444444444444444, \"#bd3786\"], [0.5555555555555556, \"#d8576b\"], [0.6666666666666666, \"#ed7953\"], [0.7777777777777778, \"#fb9f3a\"], [0.8888888888888888, \"#fdca26\"], [1.0, \"#f0f921\"]]}, \"colorway\": [\"#636efa\", \"#EF553B\", \"#00cc96\", \"#ab63fa\", \"#FFA15A\", \"#19d3f3\", \"#FF6692\", \"#B6E880\", \"#FF97FF\", \"#FECB52\"], \"font\": {\"color\": \"#2a3f5f\"}, \"geo\": {\"bgcolor\": \"white\", \"lakecolor\": \"white\", \"landcolor\": \"#E5ECF6\", \"showlakes\": true, \"showland\": true, \"subunitcolor\": \"white\"}, \"hoverlabel\": {\"align\": \"left\"}, \"hovermode\": \"closest\", \"mapbox\": {\"style\": \"light\"}, \"paper_bgcolor\": \"white\", \"plot_bgcolor\": \"#E5ECF6\", \"polar\": {\"angularaxis\": {\"gridcolor\": \"white\", \"linecolor\": \"white\", \"ticks\": \"\"}, \"bgcolor\": \"#E5ECF6\", \"radialaxis\": {\"gridcolor\": \"white\", \"linecolor\": \"white\", \"ticks\": \"\"}}, \"scene\": {\"xaxis\": {\"backgroundcolor\": \"#E5ECF6\", \"gridcolor\": \"white\", \"gridwidth\": 2, \"linecolor\": \"white\", \"showbackground\": true, \"ticks\": \"\", \"zerolinecolor\": \"white\"}, \"yaxis\": {\"backgroundcolor\": \"#E5ECF6\", \"gridcolor\": \"white\", \"gridwidth\": 2, \"linecolor\": \"white\", \"showbackground\": true, \"ticks\": \"\", \"zerolinecolor\": \"white\"}, \"zaxis\": {\"backgroundcolor\": \"#E5ECF6\", \"gridcolor\": \"white\", \"gridwidth\": 2, \"linecolor\": \"white\", \"showbackground\": true, \"ticks\": \"\", \"zerolinecolor\": \"white\"}}, \"shapedefaults\": {\"line\": {\"color\": \"#2a3f5f\"}}, \"ternary\": {\"aaxis\": {\"gridcolor\": \"white\", \"linecolor\": \"white\", \"ticks\": \"\"}, \"baxis\": {\"gridcolor\": \"white\", \"linecolor\": \"white\", \"ticks\": \"\"}, \"bgcolor\": \"#E5ECF6\", \"caxis\": {\"gridcolor\": \"white\", \"linecolor\": \"white\", \"ticks\": \"\"}}, \"title\": {\"x\": 0.05}, \"xaxis\": {\"automargin\": true, \"gridcolor\": \"white\", \"linecolor\": \"white\", \"ticks\": \"\", \"title\": {\"standoff\": 15}, \"zerolinecolor\": \"white\", \"zerolinewidth\": 2}, \"yaxis\": {\"automargin\": true, \"gridcolor\": \"white\", \"linecolor\": \"white\", \"ticks\": \"\", \"title\": {\"standoff\": 15}, \"zerolinecolor\": \"white\", \"zerolinewidth\": 2}}}, \"title\": {\"text\": \"Number of Olympics which are Hosted by Each Cities\", \"x\": 0.45, \"xanchor\": \"center\", \"y\": 0.95, \"yanchor\": \"top\"}},                        {\"responsive\": true}                    ).then(function(){\n",
       "                            \n",
       "var gd = document.getElementById('8ec336c7-12e6-4f1a-8394-502853d38366');\n",
       "var x = new MutationObserver(function (mutations, observer) {{\n",
       "        var display = window.getComputedStyle(gd).display;\n",
       "        if (!display || display === 'none') {{\n",
       "            console.log([gd, 'removed!']);\n",
       "            Plotly.purge(gd);\n",
       "            observer.disconnect();\n",
       "        }}\n",
       "}});\n",
       "\n",
       "// Listen for the removal of the full notebook cells\n",
       "var notebookContainer = gd.closest('#notebook-container');\n",
       "if (notebookContainer) {{\n",
       "    x.observe(notebookContainer, {childList: true});\n",
       "}}\n",
       "\n",
       "// Listen for the clearing of the current output cell\n",
       "var outputEl = gd.closest('.output');\n",
       "if (outputEl) {{\n",
       "    x.observe(outputEl, {childList: true});\n",
       "}}\n",
       "\n",
       "                        })                };                });            </script>        </div>"
      ]
     },
     "metadata": {},
     "output_type": "display_data"
    },
    {
     "data": {
      "text/plain": [
       "<Figure size 432x288 with 0 Axes>"
      ]
     },
     "metadata": {},
     "output_type": "display_data"
    }
   ],
   "source": [
    "#Visualisation by Bubble Plot\n",
    "fig = px.scatter_geo(olympics, lat=\"lat\",lon=\"lon\", color=\"Cities\",\n",
    "                     hover_name=\"Cities\", size=\"Total_Number_of_Olympics\",\n",
    "                     projection=\"natural earth\")\n",
    "fig.update_layout(\n",
    "    title={\n",
    "        'text':\"Number of Olympics which are Hosted by Each Cities\",\n",
    "        'y':0.95,\n",
    "        'x':0.45,\n",
    "        'xanchor': 'center',\n",
    "        'yanchor': 'top'})\n",
    "\n",
    "fig.show()\n",
    "plt.savefig(\"picture1.png\")"
   ]
  },
  {
   "cell_type": "markdown",
   "metadata": {},
   "source": [
    "# Percentage of Athletes from each sport category"
   ]
  },
  {
   "cell_type": "code",
   "execution_count": 28,
   "metadata": {},
   "outputs": [],
   "source": [
    "number=[]\n",
    "sports=list(df[\"Sport\"].unique())\n",
    "for s in sports:\n",
    "    number.append(len(df[df[\"Sport\"]==s]))\n",
    "df_copy=pd.DataFrame(zip(sports,number),columns=[\"Sport\",\"Number\"])"
   ]
  },
  {
   "cell_type": "code",
   "execution_count": 29,
   "metadata": {},
   "outputs": [
    {
     "data": {
      "application/vnd.plotly.v1+json": {
       "config": {
        "plotlyServerURL": "https://plot.ly"
       },
       "data": [
        {
         "domain": {
          "x": [
           0,
           1
          ],
          "y": [
           0,
           1
          ]
         },
         "hovertemplate": "Sport=%{label}<br>Number=%{value}<extra></extra>",
         "labels": [
          "Basketball",
          "Judo",
          "Football",
          "Tug-Of-War",
          "Speed Skating",
          "Cross Country Skiing",
          "Athletics",
          "Ice Hockey",
          "Swimming",
          "Badminton",
          "Sailing",
          "Biathlon",
          "Gymnastics",
          "Art Competitions",
          "Alpine Skiing",
          "Handball",
          "Weightlifting",
          "Wrestling",
          "Luge",
          "Water Polo",
          "Hockey",
          "Rowing",
          "Bobsleigh",
          "Fencing",
          "Equestrianism",
          "Shooting",
          "Boxing",
          "Taekwondo",
          "Cycling",
          "Diving",
          "Canoeing",
          "Tennis",
          "Modern Pentathlon",
          "Figure Skating",
          "Golf",
          "Softball",
          "Archery",
          "Volleyball",
          "Synchronized Swimming",
          "Table Tennis",
          "Nordic Combined",
          "Baseball",
          "Rhythmic Gymnastics",
          "Freestyle Skiing",
          "Rugby Sevens",
          "Trampolining",
          "Beach Volleyball",
          "Triathlon",
          "Ski Jumping",
          "Curling",
          "Snowboarding",
          "Rugby",
          "Short Track Speed Skating",
          "Skeleton",
          "Lacrosse",
          "Polo",
          "Cricket",
          "Racquets",
          "Motorboating",
          "Military Ski Patrol",
          "Croquet",
          "Jeu De Paume",
          "Roque",
          "Alpinism",
          "Basque Pelota",
          "Aeronautics"
         ],
         "legendgroup": "",
         "name": "",
         "showlegend": true,
         "type": "pie",
         "values": [
          4536,
          3801,
          6745,
          170,
          5613,
          9133,
          38624,
          5516,
          23195,
          1457,
          6586,
          4893,
          26707,
          3578,
          8829,
          3665,
          3937,
          7154,
          1479,
          3846,
          5417,
          10595,
          3058,
          10735,
          6344,
          11448,
          6047,
          606,
          10859,
          2842,
          6171,
          2862,
          1677,
          2298,
          247,
          478,
          2334,
          3404,
          909,
          1955,
          1344,
          894,
          658,
          937,
          299,
          152,
          564,
          529,
          2401,
          463,
          936,
          162,
          1534,
          199,
          60,
          95,
          24,
          12,
          17,
          24,
          19,
          11,
          4,
          25,
          2,
          1
         ]
        }
       ],
       "layout": {
        "legend": {
         "tracegroupgap": 0
        },
        "template": {
         "data": {
          "bar": [
           {
            "error_x": {
             "color": "#2a3f5f"
            },
            "error_y": {
             "color": "#2a3f5f"
            },
            "marker": {
             "line": {
              "color": "#E5ECF6",
              "width": 0.5
             }
            },
            "type": "bar"
           }
          ],
          "barpolar": [
           {
            "marker": {
             "line": {
              "color": "#E5ECF6",
              "width": 0.5
             }
            },
            "type": "barpolar"
           }
          ],
          "carpet": [
           {
            "aaxis": {
             "endlinecolor": "#2a3f5f",
             "gridcolor": "white",
             "linecolor": "white",
             "minorgridcolor": "white",
             "startlinecolor": "#2a3f5f"
            },
            "baxis": {
             "endlinecolor": "#2a3f5f",
             "gridcolor": "white",
             "linecolor": "white",
             "minorgridcolor": "white",
             "startlinecolor": "#2a3f5f"
            },
            "type": "carpet"
           }
          ],
          "choropleth": [
           {
            "colorbar": {
             "outlinewidth": 0,
             "ticks": ""
            },
            "type": "choropleth"
           }
          ],
          "contour": [
           {
            "colorbar": {
             "outlinewidth": 0,
             "ticks": ""
            },
            "colorscale": [
             [
              0,
              "#0d0887"
             ],
             [
              0.1111111111111111,
              "#46039f"
             ],
             [
              0.2222222222222222,
              "#7201a8"
             ],
             [
              0.3333333333333333,
              "#9c179e"
             ],
             [
              0.4444444444444444,
              "#bd3786"
             ],
             [
              0.5555555555555556,
              "#d8576b"
             ],
             [
              0.6666666666666666,
              "#ed7953"
             ],
             [
              0.7777777777777778,
              "#fb9f3a"
             ],
             [
              0.8888888888888888,
              "#fdca26"
             ],
             [
              1,
              "#f0f921"
             ]
            ],
            "type": "contour"
           }
          ],
          "contourcarpet": [
           {
            "colorbar": {
             "outlinewidth": 0,
             "ticks": ""
            },
            "type": "contourcarpet"
           }
          ],
          "heatmap": [
           {
            "colorbar": {
             "outlinewidth": 0,
             "ticks": ""
            },
            "colorscale": [
             [
              0,
              "#0d0887"
             ],
             [
              0.1111111111111111,
              "#46039f"
             ],
             [
              0.2222222222222222,
              "#7201a8"
             ],
             [
              0.3333333333333333,
              "#9c179e"
             ],
             [
              0.4444444444444444,
              "#bd3786"
             ],
             [
              0.5555555555555556,
              "#d8576b"
             ],
             [
              0.6666666666666666,
              "#ed7953"
             ],
             [
              0.7777777777777778,
              "#fb9f3a"
             ],
             [
              0.8888888888888888,
              "#fdca26"
             ],
             [
              1,
              "#f0f921"
             ]
            ],
            "type": "heatmap"
           }
          ],
          "heatmapgl": [
           {
            "colorbar": {
             "outlinewidth": 0,
             "ticks": ""
            },
            "colorscale": [
             [
              0,
              "#0d0887"
             ],
             [
              0.1111111111111111,
              "#46039f"
             ],
             [
              0.2222222222222222,
              "#7201a8"
             ],
             [
              0.3333333333333333,
              "#9c179e"
             ],
             [
              0.4444444444444444,
              "#bd3786"
             ],
             [
              0.5555555555555556,
              "#d8576b"
             ],
             [
              0.6666666666666666,
              "#ed7953"
             ],
             [
              0.7777777777777778,
              "#fb9f3a"
             ],
             [
              0.8888888888888888,
              "#fdca26"
             ],
             [
              1,
              "#f0f921"
             ]
            ],
            "type": "heatmapgl"
           }
          ],
          "histogram": [
           {
            "marker": {
             "colorbar": {
              "outlinewidth": 0,
              "ticks": ""
             }
            },
            "type": "histogram"
           }
          ],
          "histogram2d": [
           {
            "colorbar": {
             "outlinewidth": 0,
             "ticks": ""
            },
            "colorscale": [
             [
              0,
              "#0d0887"
             ],
             [
              0.1111111111111111,
              "#46039f"
             ],
             [
              0.2222222222222222,
              "#7201a8"
             ],
             [
              0.3333333333333333,
              "#9c179e"
             ],
             [
              0.4444444444444444,
              "#bd3786"
             ],
             [
              0.5555555555555556,
              "#d8576b"
             ],
             [
              0.6666666666666666,
              "#ed7953"
             ],
             [
              0.7777777777777778,
              "#fb9f3a"
             ],
             [
              0.8888888888888888,
              "#fdca26"
             ],
             [
              1,
              "#f0f921"
             ]
            ],
            "type": "histogram2d"
           }
          ],
          "histogram2dcontour": [
           {
            "colorbar": {
             "outlinewidth": 0,
             "ticks": ""
            },
            "colorscale": [
             [
              0,
              "#0d0887"
             ],
             [
              0.1111111111111111,
              "#46039f"
             ],
             [
              0.2222222222222222,
              "#7201a8"
             ],
             [
              0.3333333333333333,
              "#9c179e"
             ],
             [
              0.4444444444444444,
              "#bd3786"
             ],
             [
              0.5555555555555556,
              "#d8576b"
             ],
             [
              0.6666666666666666,
              "#ed7953"
             ],
             [
              0.7777777777777778,
              "#fb9f3a"
             ],
             [
              0.8888888888888888,
              "#fdca26"
             ],
             [
              1,
              "#f0f921"
             ]
            ],
            "type": "histogram2dcontour"
           }
          ],
          "mesh3d": [
           {
            "colorbar": {
             "outlinewidth": 0,
             "ticks": ""
            },
            "type": "mesh3d"
           }
          ],
          "parcoords": [
           {
            "line": {
             "colorbar": {
              "outlinewidth": 0,
              "ticks": ""
             }
            },
            "type": "parcoords"
           }
          ],
          "pie": [
           {
            "automargin": true,
            "type": "pie"
           }
          ],
          "scatter": [
           {
            "marker": {
             "colorbar": {
              "outlinewidth": 0,
              "ticks": ""
             }
            },
            "type": "scatter"
           }
          ],
          "scatter3d": [
           {
            "line": {
             "colorbar": {
              "outlinewidth": 0,
              "ticks": ""
             }
            },
            "marker": {
             "colorbar": {
              "outlinewidth": 0,
              "ticks": ""
             }
            },
            "type": "scatter3d"
           }
          ],
          "scattercarpet": [
           {
            "marker": {
             "colorbar": {
              "outlinewidth": 0,
              "ticks": ""
             }
            },
            "type": "scattercarpet"
           }
          ],
          "scattergeo": [
           {
            "marker": {
             "colorbar": {
              "outlinewidth": 0,
              "ticks": ""
             }
            },
            "type": "scattergeo"
           }
          ],
          "scattergl": [
           {
            "marker": {
             "colorbar": {
              "outlinewidth": 0,
              "ticks": ""
             }
            },
            "type": "scattergl"
           }
          ],
          "scattermapbox": [
           {
            "marker": {
             "colorbar": {
              "outlinewidth": 0,
              "ticks": ""
             }
            },
            "type": "scattermapbox"
           }
          ],
          "scatterpolar": [
           {
            "marker": {
             "colorbar": {
              "outlinewidth": 0,
              "ticks": ""
             }
            },
            "type": "scatterpolar"
           }
          ],
          "scatterpolargl": [
           {
            "marker": {
             "colorbar": {
              "outlinewidth": 0,
              "ticks": ""
             }
            },
            "type": "scatterpolargl"
           }
          ],
          "scatterternary": [
           {
            "marker": {
             "colorbar": {
              "outlinewidth": 0,
              "ticks": ""
             }
            },
            "type": "scatterternary"
           }
          ],
          "surface": [
           {
            "colorbar": {
             "outlinewidth": 0,
             "ticks": ""
            },
            "colorscale": [
             [
              0,
              "#0d0887"
             ],
             [
              0.1111111111111111,
              "#46039f"
             ],
             [
              0.2222222222222222,
              "#7201a8"
             ],
             [
              0.3333333333333333,
              "#9c179e"
             ],
             [
              0.4444444444444444,
              "#bd3786"
             ],
             [
              0.5555555555555556,
              "#d8576b"
             ],
             [
              0.6666666666666666,
              "#ed7953"
             ],
             [
              0.7777777777777778,
              "#fb9f3a"
             ],
             [
              0.8888888888888888,
              "#fdca26"
             ],
             [
              1,
              "#f0f921"
             ]
            ],
            "type": "surface"
           }
          ],
          "table": [
           {
            "cells": {
             "fill": {
              "color": "#EBF0F8"
             },
             "line": {
              "color": "white"
             }
            },
            "header": {
             "fill": {
              "color": "#C8D4E3"
             },
             "line": {
              "color": "white"
             }
            },
            "type": "table"
           }
          ]
         },
         "layout": {
          "annotationdefaults": {
           "arrowcolor": "#2a3f5f",
           "arrowhead": 0,
           "arrowwidth": 1
          },
          "coloraxis": {
           "colorbar": {
            "outlinewidth": 0,
            "ticks": ""
           }
          },
          "colorscale": {
           "diverging": [
            [
             0,
             "#8e0152"
            ],
            [
             0.1,
             "#c51b7d"
            ],
            [
             0.2,
             "#de77ae"
            ],
            [
             0.3,
             "#f1b6da"
            ],
            [
             0.4,
             "#fde0ef"
            ],
            [
             0.5,
             "#f7f7f7"
            ],
            [
             0.6,
             "#e6f5d0"
            ],
            [
             0.7,
             "#b8e186"
            ],
            [
             0.8,
             "#7fbc41"
            ],
            [
             0.9,
             "#4d9221"
            ],
            [
             1,
             "#276419"
            ]
           ],
           "sequential": [
            [
             0,
             "#0d0887"
            ],
            [
             0.1111111111111111,
             "#46039f"
            ],
            [
             0.2222222222222222,
             "#7201a8"
            ],
            [
             0.3333333333333333,
             "#9c179e"
            ],
            [
             0.4444444444444444,
             "#bd3786"
            ],
            [
             0.5555555555555556,
             "#d8576b"
            ],
            [
             0.6666666666666666,
             "#ed7953"
            ],
            [
             0.7777777777777778,
             "#fb9f3a"
            ],
            [
             0.8888888888888888,
             "#fdca26"
            ],
            [
             1,
             "#f0f921"
            ]
           ],
           "sequentialminus": [
            [
             0,
             "#0d0887"
            ],
            [
             0.1111111111111111,
             "#46039f"
            ],
            [
             0.2222222222222222,
             "#7201a8"
            ],
            [
             0.3333333333333333,
             "#9c179e"
            ],
            [
             0.4444444444444444,
             "#bd3786"
            ],
            [
             0.5555555555555556,
             "#d8576b"
            ],
            [
             0.6666666666666666,
             "#ed7953"
            ],
            [
             0.7777777777777778,
             "#fb9f3a"
            ],
            [
             0.8888888888888888,
             "#fdca26"
            ],
            [
             1,
             "#f0f921"
            ]
           ]
          },
          "colorway": [
           "#636efa",
           "#EF553B",
           "#00cc96",
           "#ab63fa",
           "#FFA15A",
           "#19d3f3",
           "#FF6692",
           "#B6E880",
           "#FF97FF",
           "#FECB52"
          ],
          "font": {
           "color": "#2a3f5f"
          },
          "geo": {
           "bgcolor": "white",
           "lakecolor": "white",
           "landcolor": "#E5ECF6",
           "showlakes": true,
           "showland": true,
           "subunitcolor": "white"
          },
          "hoverlabel": {
           "align": "left"
          },
          "hovermode": "closest",
          "mapbox": {
           "style": "light"
          },
          "paper_bgcolor": "white",
          "plot_bgcolor": "#E5ECF6",
          "polar": {
           "angularaxis": {
            "gridcolor": "white",
            "linecolor": "white",
            "ticks": ""
           },
           "bgcolor": "#E5ECF6",
           "radialaxis": {
            "gridcolor": "white",
            "linecolor": "white",
            "ticks": ""
           }
          },
          "scene": {
           "xaxis": {
            "backgroundcolor": "#E5ECF6",
            "gridcolor": "white",
            "gridwidth": 2,
            "linecolor": "white",
            "showbackground": true,
            "ticks": "",
            "zerolinecolor": "white"
           },
           "yaxis": {
            "backgroundcolor": "#E5ECF6",
            "gridcolor": "white",
            "gridwidth": 2,
            "linecolor": "white",
            "showbackground": true,
            "ticks": "",
            "zerolinecolor": "white"
           },
           "zaxis": {
            "backgroundcolor": "#E5ECF6",
            "gridcolor": "white",
            "gridwidth": 2,
            "linecolor": "white",
            "showbackground": true,
            "ticks": "",
            "zerolinecolor": "white"
           }
          },
          "shapedefaults": {
           "line": {
            "color": "#2a3f5f"
           }
          },
          "ternary": {
           "aaxis": {
            "gridcolor": "white",
            "linecolor": "white",
            "ticks": ""
           },
           "baxis": {
            "gridcolor": "white",
            "linecolor": "white",
            "ticks": ""
           },
           "bgcolor": "#E5ECF6",
           "caxis": {
            "gridcolor": "white",
            "linecolor": "white",
            "ticks": ""
           }
          },
          "title": {
           "x": 0.05
          },
          "xaxis": {
           "automargin": true,
           "gridcolor": "white",
           "linecolor": "white",
           "ticks": "",
           "title": {
            "standoff": 15
           },
           "zerolinecolor": "white",
           "zerolinewidth": 2
          },
          "yaxis": {
           "automargin": true,
           "gridcolor": "white",
           "linecolor": "white",
           "ticks": "",
           "title": {
            "standoff": 15
           },
           "zerolinecolor": "white",
           "zerolinewidth": 2
          }
         }
        },
        "title": {
         "text": "Population of European continent"
        }
       }
      },
      "text/html": [
       "<div>                            <div id=\"cf482855-ab8c-4c4b-9fd6-73acb37e2793\" class=\"plotly-graph-div\" style=\"height:525px; width:100%;\"></div>            <script type=\"text/javascript\">                require([\"plotly\"], function(Plotly) {                    window.PLOTLYENV=window.PLOTLYENV || {};                                    if (document.getElementById(\"cf482855-ab8c-4c4b-9fd6-73acb37e2793\")) {                    Plotly.newPlot(                        \"cf482855-ab8c-4c4b-9fd6-73acb37e2793\",                        [{\"domain\": {\"x\": [0.0, 1.0], \"y\": [0.0, 1.0]}, \"hovertemplate\": \"Sport=%{label}<br>Number=%{value}<extra></extra>\", \"labels\": [\"Basketball\", \"Judo\", \"Football\", \"Tug-Of-War\", \"Speed Skating\", \"Cross Country Skiing\", \"Athletics\", \"Ice Hockey\", \"Swimming\", \"Badminton\", \"Sailing\", \"Biathlon\", \"Gymnastics\", \"Art Competitions\", \"Alpine Skiing\", \"Handball\", \"Weightlifting\", \"Wrestling\", \"Luge\", \"Water Polo\", \"Hockey\", \"Rowing\", \"Bobsleigh\", \"Fencing\", \"Equestrianism\", \"Shooting\", \"Boxing\", \"Taekwondo\", \"Cycling\", \"Diving\", \"Canoeing\", \"Tennis\", \"Modern Pentathlon\", \"Figure Skating\", \"Golf\", \"Softball\", \"Archery\", \"Volleyball\", \"Synchronized Swimming\", \"Table Tennis\", \"Nordic Combined\", \"Baseball\", \"Rhythmic Gymnastics\", \"Freestyle Skiing\", \"Rugby Sevens\", \"Trampolining\", \"Beach Volleyball\", \"Triathlon\", \"Ski Jumping\", \"Curling\", \"Snowboarding\", \"Rugby\", \"Short Track Speed Skating\", \"Skeleton\", \"Lacrosse\", \"Polo\", \"Cricket\", \"Racquets\", \"Motorboating\", \"Military Ski Patrol\", \"Croquet\", \"Jeu De Paume\", \"Roque\", \"Alpinism\", \"Basque Pelota\", \"Aeronautics\"], \"legendgroup\": \"\", \"name\": \"\", \"showlegend\": true, \"type\": \"pie\", \"values\": [4536, 3801, 6745, 170, 5613, 9133, 38624, 5516, 23195, 1457, 6586, 4893, 26707, 3578, 8829, 3665, 3937, 7154, 1479, 3846, 5417, 10595, 3058, 10735, 6344, 11448, 6047, 606, 10859, 2842, 6171, 2862, 1677, 2298, 247, 478, 2334, 3404, 909, 1955, 1344, 894, 658, 937, 299, 152, 564, 529, 2401, 463, 936, 162, 1534, 199, 60, 95, 24, 12, 17, 24, 19, 11, 4, 25, 2, 1]}],                        {\"legend\": {\"tracegroupgap\": 0}, \"template\": {\"data\": {\"bar\": [{\"error_x\": {\"color\": \"#2a3f5f\"}, \"error_y\": {\"color\": \"#2a3f5f\"}, \"marker\": {\"line\": {\"color\": \"#E5ECF6\", \"width\": 0.5}}, \"type\": \"bar\"}], \"barpolar\": [{\"marker\": {\"line\": {\"color\": \"#E5ECF6\", \"width\": 0.5}}, \"type\": \"barpolar\"}], \"carpet\": [{\"aaxis\": {\"endlinecolor\": \"#2a3f5f\", \"gridcolor\": \"white\", \"linecolor\": \"white\", \"minorgridcolor\": \"white\", \"startlinecolor\": \"#2a3f5f\"}, \"baxis\": {\"endlinecolor\": \"#2a3f5f\", \"gridcolor\": \"white\", \"linecolor\": \"white\", \"minorgridcolor\": \"white\", \"startlinecolor\": \"#2a3f5f\"}, \"type\": \"carpet\"}], \"choropleth\": [{\"colorbar\": {\"outlinewidth\": 0, \"ticks\": \"\"}, \"type\": \"choropleth\"}], \"contour\": [{\"colorbar\": {\"outlinewidth\": 0, \"ticks\": \"\"}, \"colorscale\": [[0.0, \"#0d0887\"], [0.1111111111111111, \"#46039f\"], [0.2222222222222222, \"#7201a8\"], [0.3333333333333333, \"#9c179e\"], [0.4444444444444444, \"#bd3786\"], [0.5555555555555556, \"#d8576b\"], [0.6666666666666666, \"#ed7953\"], [0.7777777777777778, \"#fb9f3a\"], [0.8888888888888888, \"#fdca26\"], [1.0, \"#f0f921\"]], \"type\": \"contour\"}], \"contourcarpet\": [{\"colorbar\": {\"outlinewidth\": 0, \"ticks\": \"\"}, \"type\": \"contourcarpet\"}], \"heatmap\": [{\"colorbar\": {\"outlinewidth\": 0, \"ticks\": \"\"}, \"colorscale\": [[0.0, \"#0d0887\"], [0.1111111111111111, \"#46039f\"], [0.2222222222222222, \"#7201a8\"], [0.3333333333333333, \"#9c179e\"], [0.4444444444444444, \"#bd3786\"], [0.5555555555555556, \"#d8576b\"], [0.6666666666666666, \"#ed7953\"], [0.7777777777777778, \"#fb9f3a\"], [0.8888888888888888, \"#fdca26\"], [1.0, \"#f0f921\"]], \"type\": \"heatmap\"}], \"heatmapgl\": [{\"colorbar\": {\"outlinewidth\": 0, \"ticks\": \"\"}, \"colorscale\": [[0.0, \"#0d0887\"], [0.1111111111111111, \"#46039f\"], [0.2222222222222222, \"#7201a8\"], [0.3333333333333333, \"#9c179e\"], [0.4444444444444444, \"#bd3786\"], [0.5555555555555556, \"#d8576b\"], [0.6666666666666666, \"#ed7953\"], [0.7777777777777778, \"#fb9f3a\"], [0.8888888888888888, \"#fdca26\"], [1.0, \"#f0f921\"]], \"type\": \"heatmapgl\"}], \"histogram\": [{\"marker\": {\"colorbar\": {\"outlinewidth\": 0, \"ticks\": \"\"}}, \"type\": \"histogram\"}], \"histogram2d\": [{\"colorbar\": {\"outlinewidth\": 0, \"ticks\": \"\"}, \"colorscale\": [[0.0, \"#0d0887\"], [0.1111111111111111, \"#46039f\"], [0.2222222222222222, \"#7201a8\"], [0.3333333333333333, \"#9c179e\"], [0.4444444444444444, \"#bd3786\"], [0.5555555555555556, \"#d8576b\"], [0.6666666666666666, \"#ed7953\"], [0.7777777777777778, \"#fb9f3a\"], [0.8888888888888888, \"#fdca26\"], [1.0, \"#f0f921\"]], \"type\": \"histogram2d\"}], \"histogram2dcontour\": [{\"colorbar\": {\"outlinewidth\": 0, \"ticks\": \"\"}, \"colorscale\": [[0.0, \"#0d0887\"], [0.1111111111111111, \"#46039f\"], [0.2222222222222222, \"#7201a8\"], [0.3333333333333333, \"#9c179e\"], [0.4444444444444444, \"#bd3786\"], [0.5555555555555556, \"#d8576b\"], [0.6666666666666666, \"#ed7953\"], [0.7777777777777778, \"#fb9f3a\"], [0.8888888888888888, \"#fdca26\"], [1.0, \"#f0f921\"]], \"type\": \"histogram2dcontour\"}], \"mesh3d\": [{\"colorbar\": {\"outlinewidth\": 0, \"ticks\": \"\"}, \"type\": \"mesh3d\"}], \"parcoords\": [{\"line\": {\"colorbar\": {\"outlinewidth\": 0, \"ticks\": \"\"}}, \"type\": \"parcoords\"}], \"pie\": [{\"automargin\": true, \"type\": \"pie\"}], \"scatter\": [{\"marker\": {\"colorbar\": {\"outlinewidth\": 0, \"ticks\": \"\"}}, \"type\": \"scatter\"}], \"scatter3d\": [{\"line\": {\"colorbar\": {\"outlinewidth\": 0, \"ticks\": \"\"}}, \"marker\": {\"colorbar\": {\"outlinewidth\": 0, \"ticks\": \"\"}}, \"type\": \"scatter3d\"}], \"scattercarpet\": [{\"marker\": {\"colorbar\": {\"outlinewidth\": 0, \"ticks\": \"\"}}, \"type\": \"scattercarpet\"}], \"scattergeo\": [{\"marker\": {\"colorbar\": {\"outlinewidth\": 0, \"ticks\": \"\"}}, \"type\": \"scattergeo\"}], \"scattergl\": [{\"marker\": {\"colorbar\": {\"outlinewidth\": 0, \"ticks\": \"\"}}, \"type\": \"scattergl\"}], \"scattermapbox\": [{\"marker\": {\"colorbar\": {\"outlinewidth\": 0, \"ticks\": \"\"}}, \"type\": \"scattermapbox\"}], \"scatterpolar\": [{\"marker\": {\"colorbar\": {\"outlinewidth\": 0, \"ticks\": \"\"}}, \"type\": \"scatterpolar\"}], \"scatterpolargl\": [{\"marker\": {\"colorbar\": {\"outlinewidth\": 0, \"ticks\": \"\"}}, \"type\": \"scatterpolargl\"}], \"scatterternary\": [{\"marker\": {\"colorbar\": {\"outlinewidth\": 0, \"ticks\": \"\"}}, \"type\": \"scatterternary\"}], \"surface\": [{\"colorbar\": {\"outlinewidth\": 0, \"ticks\": \"\"}, \"colorscale\": [[0.0, \"#0d0887\"], [0.1111111111111111, \"#46039f\"], [0.2222222222222222, \"#7201a8\"], [0.3333333333333333, \"#9c179e\"], [0.4444444444444444, \"#bd3786\"], [0.5555555555555556, \"#d8576b\"], [0.6666666666666666, \"#ed7953\"], [0.7777777777777778, \"#fb9f3a\"], [0.8888888888888888, \"#fdca26\"], [1.0, \"#f0f921\"]], \"type\": \"surface\"}], \"table\": [{\"cells\": {\"fill\": {\"color\": \"#EBF0F8\"}, \"line\": {\"color\": \"white\"}}, \"header\": {\"fill\": {\"color\": \"#C8D4E3\"}, \"line\": {\"color\": \"white\"}}, \"type\": \"table\"}]}, \"layout\": {\"annotationdefaults\": {\"arrowcolor\": \"#2a3f5f\", \"arrowhead\": 0, \"arrowwidth\": 1}, \"coloraxis\": {\"colorbar\": {\"outlinewidth\": 0, \"ticks\": \"\"}}, \"colorscale\": {\"diverging\": [[0, \"#8e0152\"], [0.1, \"#c51b7d\"], [0.2, \"#de77ae\"], [0.3, \"#f1b6da\"], [0.4, \"#fde0ef\"], [0.5, \"#f7f7f7\"], [0.6, \"#e6f5d0\"], [0.7, \"#b8e186\"], [0.8, \"#7fbc41\"], [0.9, \"#4d9221\"], [1, \"#276419\"]], \"sequential\": [[0.0, \"#0d0887\"], [0.1111111111111111, \"#46039f\"], [0.2222222222222222, \"#7201a8\"], [0.3333333333333333, \"#9c179e\"], [0.4444444444444444, \"#bd3786\"], [0.5555555555555556, \"#d8576b\"], [0.6666666666666666, \"#ed7953\"], [0.7777777777777778, \"#fb9f3a\"], [0.8888888888888888, \"#fdca26\"], [1.0, \"#f0f921\"]], \"sequentialminus\": [[0.0, \"#0d0887\"], [0.1111111111111111, \"#46039f\"], [0.2222222222222222, \"#7201a8\"], [0.3333333333333333, \"#9c179e\"], [0.4444444444444444, \"#bd3786\"], [0.5555555555555556, \"#d8576b\"], [0.6666666666666666, \"#ed7953\"], [0.7777777777777778, \"#fb9f3a\"], [0.8888888888888888, \"#fdca26\"], [1.0, \"#f0f921\"]]}, \"colorway\": [\"#636efa\", \"#EF553B\", \"#00cc96\", \"#ab63fa\", \"#FFA15A\", \"#19d3f3\", \"#FF6692\", \"#B6E880\", \"#FF97FF\", \"#FECB52\"], \"font\": {\"color\": \"#2a3f5f\"}, \"geo\": {\"bgcolor\": \"white\", \"lakecolor\": \"white\", \"landcolor\": \"#E5ECF6\", \"showlakes\": true, \"showland\": true, \"subunitcolor\": \"white\"}, \"hoverlabel\": {\"align\": \"left\"}, \"hovermode\": \"closest\", \"mapbox\": {\"style\": \"light\"}, \"paper_bgcolor\": \"white\", \"plot_bgcolor\": \"#E5ECF6\", \"polar\": {\"angularaxis\": {\"gridcolor\": \"white\", \"linecolor\": \"white\", \"ticks\": \"\"}, \"bgcolor\": \"#E5ECF6\", \"radialaxis\": {\"gridcolor\": \"white\", \"linecolor\": \"white\", \"ticks\": \"\"}}, \"scene\": {\"xaxis\": {\"backgroundcolor\": \"#E5ECF6\", \"gridcolor\": \"white\", \"gridwidth\": 2, \"linecolor\": \"white\", \"showbackground\": true, \"ticks\": \"\", \"zerolinecolor\": \"white\"}, \"yaxis\": {\"backgroundcolor\": \"#E5ECF6\", \"gridcolor\": \"white\", \"gridwidth\": 2, \"linecolor\": \"white\", \"showbackground\": true, \"ticks\": \"\", \"zerolinecolor\": \"white\"}, \"zaxis\": {\"backgroundcolor\": \"#E5ECF6\", \"gridcolor\": \"white\", \"gridwidth\": 2, \"linecolor\": \"white\", \"showbackground\": true, \"ticks\": \"\", \"zerolinecolor\": \"white\"}}, \"shapedefaults\": {\"line\": {\"color\": \"#2a3f5f\"}}, \"ternary\": {\"aaxis\": {\"gridcolor\": \"white\", \"linecolor\": \"white\", \"ticks\": \"\"}, \"baxis\": {\"gridcolor\": \"white\", \"linecolor\": \"white\", \"ticks\": \"\"}, \"bgcolor\": \"#E5ECF6\", \"caxis\": {\"gridcolor\": \"white\", \"linecolor\": \"white\", \"ticks\": \"\"}}, \"title\": {\"x\": 0.05}, \"xaxis\": {\"automargin\": true, \"gridcolor\": \"white\", \"linecolor\": \"white\", \"ticks\": \"\", \"title\": {\"standoff\": 15}, \"zerolinecolor\": \"white\", \"zerolinewidth\": 2}, \"yaxis\": {\"automargin\": true, \"gridcolor\": \"white\", \"linecolor\": \"white\", \"ticks\": \"\", \"title\": {\"standoff\": 15}, \"zerolinecolor\": \"white\", \"zerolinewidth\": 2}}}, \"title\": {\"text\": \"Population of European continent\"}},                        {\"responsive\": true}                    ).then(function(){\n",
       "                            \n",
       "var gd = document.getElementById('cf482855-ab8c-4c4b-9fd6-73acb37e2793');\n",
       "var x = new MutationObserver(function (mutations, observer) {{\n",
       "        var display = window.getComputedStyle(gd).display;\n",
       "        if (!display || display === 'none') {{\n",
       "            console.log([gd, 'removed!']);\n",
       "            Plotly.purge(gd);\n",
       "            observer.disconnect();\n",
       "        }}\n",
       "}});\n",
       "\n",
       "// Listen for the removal of the full notebook cells\n",
       "var notebookContainer = gd.closest('#notebook-container');\n",
       "if (notebookContainer) {{\n",
       "    x.observe(notebookContainer, {childList: true});\n",
       "}}\n",
       "\n",
       "// Listen for the clearing of the current output cell\n",
       "var outputEl = gd.closest('.output');\n",
       "if (outputEl) {{\n",
       "    x.observe(outputEl, {childList: true});\n",
       "}}\n",
       "\n",
       "                        })                };                });            </script>        </div>"
      ]
     },
     "metadata": {},
     "output_type": "display_data"
    },
    {
     "data": {
      "text/plain": [
       "<Figure size 432x288 with 0 Axes>"
      ]
     },
     "metadata": {},
     "output_type": "display_data"
    }
   ],
   "source": [
    "fig = px.pie(df_copy, values='Number', names='Sport', title='Population of European continent')\n",
    "fig.show()\n",
    "plt.savefig(\"picture2.png\")"
   ]
  },
  {
   "cell_type": "markdown",
   "metadata": {},
   "source": [
    "#### We can see percentage of each sports with respect to number of athletes. Athletics, Gymnastics, swimming are sports which have most number of athletes"
   ]
  },
  {
   "cell_type": "code",
   "execution_count": null,
   "metadata": {},
   "outputs": [],
   "source": []
  }
 ],
 "metadata": {
  "kernelspec": {
   "display_name": "Python 3",
   "language": "python",
   "name": "python3"
  },
  "language_info": {
   "codemirror_mode": {
    "name": "ipython",
    "version": 3
   },
   "file_extension": ".py",
   "mimetype": "text/x-python",
   "name": "python",
   "nbconvert_exporter": "python",
   "pygments_lexer": "ipython3",
   "version": "3.8.3"
  }
 },
 "nbformat": 4,
 "nbformat_minor": 4
}
